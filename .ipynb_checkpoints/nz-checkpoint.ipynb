{
 "cells": [
  {
   "cell_type": "code",
   "execution_count": 2,
   "metadata": {},
   "outputs": [],
   "source": [
    "%matplotlib inline"
   ]
  },
  {
   "cell_type": "code",
   "execution_count": 3,
   "metadata": {},
   "outputs": [],
   "source": [
    "import  os\n",
    "import  sys\n",
    "import  glob\n",
    "import  pdfkit\n",
    "import  fitsio\n",
    "import  redrock\n",
    "import  datetime\n",
    "import  redrock.templates\n",
    "import  fitsio \n",
    "\n",
    "import  healpy \n",
    "import  requests\n",
    "import  pandas                      as      pd\n",
    "import  pylab                       as      pl\n",
    "import  numpy                       as      np\n",
    "import  matplotlib.pyplot           as      plt\n",
    "import  astropy.io.fits             as      fits\n",
    "import  skyfactor_v2\n",
    "import  skyfactor_v3\n",
    "\n",
    "from    astropy.table               import  Table, join, vstack, unique\n",
    "from    astropy.coordinates         import  SkyCoord\n",
    "from    astropy                     import  units as u\n",
    "from    desitarget.cmx              import  cmx_targetmask\n",
    "from    desitarget.targets          import  desi_mask, bgs_mask, mws_mask\n",
    "from    desispec.interpolation      import  resample_flux\n",
    "from    desispec.resolution         import  Resolution\n",
    "from    desispec.specscore          import  compute_frame_scores\n",
    "from    collections                 import  OrderedDict\n",
    "from    mpl_toolkits.axes_grid1     import  make_axes_locatable\n",
    "from    itertools                   import  combinations\n",
    "from    desisurvey.utils            import  get_date\n",
    "from    PIL                         import  Image\n",
    "from    io                          import  BytesIO\n",
    "from    desitarget.sv1              import  sv1_cuts \n",
    "from    desiutil                    import  dust"
   ]
  },
  {
   "cell_type": "code",
   "execution_count": 73,
   "metadata": {},
   "outputs": [],
   "source": [
    "# Prospect\n",
    "sys.path.append(\"/global/homes/m/mjwilson/BGS/MINISV/prospect/py/\")\n",
    "\n",
    "import desispec\n",
    "import prospect\n",
    "\n",
    "from   prospect                import utils_specviewer, plotframes"
   ]
  },
  {
   "cell_type": "code",
   "execution_count": 6,
   "metadata": {},
   "outputs": [],
   "source": [
    "def flux2mag(flux) :\n",
    "    mag = -2.5*np.log10(flux*(flux>0) + 0.001*(flux<=0)) + 22.5\n",
    "    mag[(flux<=0)] = 0.\n",
    "    \n",
    "    return  mag"
   ]
  },
  {
   "cell_type": "markdown",
   "metadata": {},
   "source": [
    "##  Night log.\n",
    "http://desi-www.kpno.noao.edu:8090/nightsum/nightsum-2020-02-25/nightsum.html"
   ]
  },
  {
   "cell_type": "markdown",
   "metadata": {},
   "source": [
    "##  Mini SV page.\n",
    "https://desi.lbl.gov/trac/wiki/TargetSelectionWG/miniSV2"
   ]
  },
  {
   "cell_type": "code",
   "execution_count": 7,
   "metadata": {},
   "outputs": [],
   "source": [
    "GAMA  = {} \n",
    "LGAMA = {}\n",
    "\n",
    "for hsphere in ['north', 'south']:\n",
    "  try:  \n",
    "    GAMA[hsphere]  = fitsio.read('/project/projectdirs/desi/target/analysis/truth/dr8.0/{}/matched/GAMA-DR3-SpecObj-match.fits'.format(hsphere))\n",
    "    LGAMA[hsphere] = fitsio.read('/project/projectdirs/desi/target/analysis/truth/dr8.0/{}/matched/ls-dr8.0-GAMA-DR3-SpecObj-match.fits'.format(hsphere))  \n",
    "\n",
    "  except:\n",
    "    GAMA[hsphere]  = None\n",
    "    LGAMA[hsphere] = None"
   ]
  },
  {
   "cell_type": "code",
   "execution_count": 8,
   "metadata": {},
   "outputs": [],
   "source": [
    "SDSS  = {}\n",
    "LSDSS = {}\n",
    "\n",
    "for hsphere in ['north', 'south']:\n",
    "  try: \n",
    "    SDSS[hsphere]  = fitsio.read('/project/projectdirs/desi/target/analysis/truth/dr8.0/{}/matched/sdss-specObj-dr16-unique-trimmed-match.fits'.format(hsphere))\n",
    "    LSDSS[hsphere] = fitsio.read('/project/projectdirs/desi/target/analysis/truth/dr8.0/{}/matched/ls-dr8.0-sdss-specObj-dr16-unique-trimmed-match.fits'.format(hsphere))\n",
    "    \n",
    "  except:\n",
    "    SDSS[hsphere]  = None\n",
    "    LSDSS[hsphere] = None"
   ]
  },
  {
   "cell_type": "markdown",
   "metadata": {},
   "source": [
    "##  Truth table "
   ]
  },
  {
   "cell_type": "markdown",
   "metadata": {},
   "source": [
    "There are some caveats as Prospect behaviour changed midway, \n",
    "and it’s making it hard to combine everything in a sensible way. \n",
    "\n",
    "I only noticed this yesterday. If you follow these rules, you should \n",
    "end up with a reasonable truth table:\n",
    " \n",
    "* Vi_combined_flag > 2.5\n",
    "* Vi_diff < 2\n",
    "\n",
    "If “VI z” and “Redrock z” differ by more than 0.01, take the “VI z” provided \n",
    "the above conditions are met.  If “VI spectype” and “Redrock spectype” differ, \n",
    "take the “VI spectype provided the above conditions are met.\n",
    " \n",
    "More caveats:\n",
    "* These are on the old reductions – many borderline cases will be resolved with the new reductions.\n",
    "* In some instances, the inspector’s spectral classification was lost. It’s possible some objects with the wrong spec class slipped through – but they will be a handful, I think.\n",
    "* The VI_combined_flag is a simple arithmetic mean between all VIs for a given object. There were 3 people providing VIs for this tile. There will be better ways to combine flags, this is just a first go. VI_diff is the maximal difference between classifications in a given object."
   ]
  },
  {
   "cell_type": "code",
   "execution_count": 9,
   "metadata": {},
   "outputs": [],
   "source": [
    "truth         = pd.read_csv('/global/homes/m/mjwilson/BGS/MINISV/truth_table_BGS_70502_v0.2.txt')\n",
    "truth         = Table(np.array(truth), names=truth.columns)\n",
    "\n",
    "truth['VI z'] = [x.replace('\\n', '').strip() for x in truth['VI z']]\n",
    "\n",
    "_             = [x != '--'   for x in truth['VI z']]  \n",
    "truth         = truth[_]\n",
    "\n",
    "truth['VI z'] = [np.float(x) for x in truth['VI z']]"
   ]
  },
  {
   "cell_type": "code",
   "execution_count": 10,
   "metadata": {},
   "outputs": [
    {
     "name": "stdout",
     "output_type": "stream",
     "text": [
      "TargetID\n",
      "Redrock spectype\n",
      "Redrock z\n",
      "VI z\n",
      "VI spectype\n",
      "vi_combined_flag\n",
      "vi_diff\n",
      "VI issue\n"
     ]
    }
   ],
   "source": [
    "for x in truth.columns:\n",
    "    print(x)"
   ]
  },
  {
   "cell_type": "code",
   "execution_count": 11,
   "metadata": {},
   "outputs": [
    {
     "data": {
      "text/html": [
       "&lt;Table length=493&gt;\n",
       "<table id=\"table46913452156464\" class=\"table-striped table-bordered table-condensed\">\n",
       "<thead><tr><th>TargetID</th><th>Redrock spectype</th><th>Redrock z</th><th>VI z</th><th>VI spectype</th><th>vi_combined_flag</th><th>vi_diff</th><th>VI issue</th></tr></thead>\n",
       "<thead><tr><th>object</th><th>object</th><th>object</th><th>float64</th><th>object</th><th>object</th><th>object</th><th>object</th></tr></thead>\n",
       "<tr><td>35185730586152802</td><td>GALAXY</td><td>0.541</td><td>0.5415</td><td>GALAXY</td><td>3.0</td><td>0</td><td>--</td></tr>\n",
       "<tr><td>35185724546353053</td><td>GALAXY</td><td>0.326</td><td>0.3257</td><td>GALAXY</td><td>3.0</td><td>0</td><td>--</td></tr>\n",
       "<tr><td>35185718489776718</td><td>GALAXY</td><td>0.311</td><td>0.3114</td><td>GALAXY</td><td>3.0</td><td>0</td><td>--</td></tr>\n",
       "<tr><td>35185724550548779</td><td>GALAXY</td><td>0.221</td><td>0.2211</td><td>GALAXY</td><td>3.0</td><td>0</td><td>--</td></tr>\n",
       "<tr><td>35185760772556026</td><td>GALAXY</td><td>0.094</td><td>0.0934</td><td>--</td><td>3.0</td><td>0</td><td>R</td></tr>\n",
       "<tr><td>35185718489776458</td><td>GALAXY</td><td>0.484</td><td>0.484</td><td>GALAXY</td><td>3.0</td><td>0</td><td>--</td></tr>\n",
       "<tr><td>35185724550549879</td><td>GALAXY</td><td>0.545</td><td>0.5449</td><td>GALAXY</td><td>3.0</td><td>0</td><td>--</td></tr>\n",
       "<tr><td>35185718506553564</td><td>GALAXY</td><td>0.845</td><td>0.8452</td><td>GALAXY</td><td>3.0</td><td>0</td><td>--</td></tr>\n",
       "<tr><td>35185760751583534</td><td>GALAXY</td><td>1.324</td><td>0.2845</td><td>--</td><td>3.0</td><td>0</td><td>R</td></tr>\n",
       "<tr><td>35185724533771926</td><td>GALAXY</td><td>0.26899999999999996</td><td>0.269</td><td>GALAXY</td><td>3.0</td><td>0</td><td>--</td></tr>\n",
       "<tr><td>...</td><td>...</td><td>...</td><td>...</td><td>...</td><td>...</td><td>...</td><td>...</td></tr>\n",
       "<tr><td>35185724537965510</td><td>GALAXY</td><td>0.42100000000000004</td><td>0.4209</td><td>GALAXY</td><td>4.0</td><td>0</td><td>--</td></tr>\n",
       "<tr><td>35185724537965326</td><td>GALAXY</td><td>0.147</td><td>0.1466</td><td>GALAXY</td><td>4.0</td><td>0</td><td>--</td></tr>\n",
       "<tr><td>35185724537965312</td><td>GALAXY</td><td>0.488</td><td>0.4882</td><td>GALAXY</td><td>4.0</td><td>0</td><td>--</td></tr>\n",
       "<tr><td>35185724537965289</td><td>GALAXY</td><td>0.266</td><td>0.2568</td><td>GALAXY</td><td>4.0</td><td>0</td><td>--</td></tr>\n",
       "<tr><td>35185724537964947</td><td>GALAXY</td><td>0.268</td><td>0.2683</td><td>GALAXY</td><td>4.0</td><td>0</td><td>--</td></tr>\n",
       "<tr><td>35185724537964854</td><td>GALAXY</td><td>0.151</td><td>0.1514</td><td>GALAXY</td><td>4.0</td><td>0</td><td>--</td></tr>\n",
       "<tr><td>35185724537964747</td><td>GALAXY</td><td>0.20600000000000002</td><td>0.2065</td><td>GALAXY</td><td>4.0</td><td>0</td><td>--</td></tr>\n",
       "<tr><td>35185724537964224</td><td>GALAXY</td><td>0.26899999999999996</td><td>0.2695</td><td>GALAXY</td><td>4.0</td><td>0</td><td>--</td></tr>\n",
       "<tr><td>35185724537964107</td><td>GALAXY</td><td>0.36200000000000004</td><td>0.3616</td><td>GALAXY</td><td>4.0</td><td>0</td><td>--</td></tr>\n",
       "<tr><td>35185784944329326</td><td>GALAXY</td><td>0.078</td><td>0.0784</td><td>GALAXY</td><td>4.0</td><td>0</td><td>--</td></tr>\n",
       "</table>"
      ],
      "text/plain": [
       "<Table length=493>\n",
       "     TargetID     Redrock spectype      Redrock z      ... vi_diff VI issue\n",
       "      object           object             object       ...  object  object \n",
       "----------------- ---------------- ------------------- ... ------- --------\n",
       "35185730586152802           GALAXY               0.541 ...       0       --\n",
       "35185724546353053           GALAXY               0.326 ...       0       --\n",
       "35185718489776718           GALAXY               0.311 ...       0       --\n",
       "35185724550548779           GALAXY               0.221 ...       0       --\n",
       "35185760772556026           GALAXY               0.094 ...       0        R\n",
       "35185718489776458           GALAXY               0.484 ...       0       --\n",
       "35185724550549879           GALAXY               0.545 ...       0       --\n",
       "35185718506553564           GALAXY               0.845 ...       0       --\n",
       "35185760751583534           GALAXY               1.324 ...       0        R\n",
       "35185724533771926           GALAXY 0.26899999999999996 ...       0       --\n",
       "              ...              ...                 ... ...     ...      ...\n",
       "35185724537965510           GALAXY 0.42100000000000004 ...       0       --\n",
       "35185724537965326           GALAXY               0.147 ...       0       --\n",
       "35185724537965312           GALAXY               0.488 ...       0       --\n",
       "35185724537965289           GALAXY               0.266 ...       0       --\n",
       "35185724537964947           GALAXY               0.268 ...       0       --\n",
       "35185724537964854           GALAXY               0.151 ...       0       --\n",
       "35185724537964747           GALAXY 0.20600000000000002 ...       0       --\n",
       "35185724537964224           GALAXY 0.26899999999999996 ...       0       --\n",
       "35185724537964107           GALAXY 0.36200000000000004 ...       0       --\n",
       "35185784944329326           GALAXY               0.078 ...       0       --"
      ]
     },
     "execution_count": 11,
     "metadata": {},
     "output_type": "execute_result"
    }
   ],
   "source": [
    "truth = truth[(truth['vi_combined_flag'] > 2.5) & (truth['vi_diff'] < 2.0)]\n",
    "truth.sort('vi_combined_flag')\n",
    "truth"
   ]
  },
  {
   "cell_type": "code",
   "execution_count": 12,
   "metadata": {},
   "outputs": [
    {
     "data": {
      "text/plain": [
       "493"
      ]
     },
     "execution_count": 12,
     "metadata": {},
     "output_type": "execute_result"
    },
    {
     "data": {
      "image/png": "[encoded data removed]",
      "text/plain": [
       "<matplotlib.figure.Figure at 0x2aaae721fb38>"
      ]
     },
     "metadata": {
      "needs_background": "light"
     },
     "output_type": "display_data"
    }
   ],
   "source": [
    "fig, axes   = plt.subplots(1, figsize=(5, 5))\n",
    "\n",
    "pl.plot(truth['VI z'], truth['Redrock z'], marker='.', lw=0.0, c='k', markersize=2)\n",
    "\n",
    "pl.xlabel('VI redshift')\n",
    "pl.ylabel('rr redshift')\n",
    "\n",
    "len(truth['VI z'])"
   ]
  },
  {
   "cell_type": "code",
   "execution_count": 13,
   "metadata": {},
   "outputs": [],
   "source": [
    "# _ = pl.hist(truth['VI z'], bins=np.arange(0.0, 1.1, 0.025))\n",
    "# pl.xlabel('VI z')"
   ]
  },
  {
   "cell_type": "code",
   "execution_count": 45,
   "metadata": {},
   "outputs": [],
   "source": [
    "# Matching\n",
    "def matches(bgs_acoadds, bgs_azbests, spec, _RA='RA', _DEC='DEC'):\n",
    "  c              = SkyCoord(ra=bgs_acoadds['TARGET_RA']*u.degree, dec=bgs_acoadds['TARGET_DEC']*u.degree)\n",
    "  catalog        = SkyCoord(ra=spec[_RA]*u.degree, dec=spec[_DEC]*u.degree)\n",
    "\n",
    "  idx, d2d, d3d  = c.match_to_catalog_sky(catalog)\n",
    "\n",
    "  max_sep        = 1.0 * u.arcsec\n",
    "\n",
    "  sep_constraint = d2d < max_sep\n",
    "\n",
    "  c              = c[sep_constraint]\n",
    "\n",
    "  _matches       = catalog[idx[sep_constraint]]\n",
    "\n",
    "  coadd_matches  = bgs_acoadds[sep_constraint]\n",
    "  zbest_matches  = bgs_azbests[sep_constraint] \n",
    "  spec_matches   =    spec[idx[sep_constraint]]\n",
    "    \n",
    "  dv             = 3.e5 * (zbest_matches['Z'] - spec_matches['Z']) / (1. + spec_matches['Z'])\n",
    "  cat_fail       = np.abs(dv) > 1000.  \n",
    "  cat_failids    = zbest_matches['TARGETID'][cat_fail]\n",
    "    \n",
    "  return  coadd_matches, zbest_matches, spec_matches, cat_fail, cat_failids"
   ]
  },
  {
   "cell_type": "code",
   "execution_count": 46,
   "metadata": {},
   "outputs": [],
   "source": [
    "root          = '/global/cfs/cdirs/desi/spectro/redux/minisv2/tiles/'"
   ]
  },
  {
   "cell_type": "code",
   "execution_count": 47,
   "metadata": {},
   "outputs": [],
   "source": [
    "night_tiles   = [('20200225', 70502),\n",
    "                 ('20200227', 70502),\n",
    "                 ('20200228', 70500),\n",
    "                 ('20200303', 70500)]"
   ]
  },
  {
   "cell_type": "code",
   "execution_count": 48,
   "metadata": {},
   "outputs": [],
   "source": [
    "sample        = Table()\n",
    "row           = Table()"
   ]
  },
  {
   "cell_type": "code",
   "execution_count": 116,
   "metadata": {},
   "outputs": [],
   "source": [
    "plot          = False\n",
    "\n",
    "acoadds       = Table()\n",
    "azbests       = Table()\n",
    "acoadds_paths = []\n",
    "\n",
    "for night, tile in night_tiles:\n",
    "  for petal in [0,3,6,7,9]: \n",
    "    specfile                  = root + '{}/{}/coadd-{}-{}-{}.fits'.format(tile, night, petal, tile, night)\n",
    "\n",
    "    coadds                    = Table(fits.open(specfile)[1].data)\n",
    "    zbest                     = Table(fits.open(root + '/{}/{}/zbest-{}-{}-{}.fits'.format(tile, night, petal, tile, night))[1].data)\n",
    "    \n",
    "    acoadds_paths.append(specfile)\n",
    "    \n",
    "    targetids                 = zbest['TARGETID']\n",
    "    fibstatus                 = fitsio.read(specfile, ext=1)['FIBERSTATUS']\n",
    "    \n",
    "    # No fiber reach flags available.\n",
    "    isgood                    = fibstatus == 0\n",
    "            \n",
    "    IS_SV0                    = (coadds['CMX_TARGET'] & cmx_targetmask.cmx_mask.mask('SV0_BGS')) != 0\n",
    "\n",
    "    IS_GOOD_BGS               = IS_SV0 & isgood\n",
    "    IS_MAIN                   = IS_GOOD_BGS & ((coadds['CMX_TARGET'] & cmx_targetmask.cmx_mask.mask('MINI_SV_BGS_BRIGHT')) != 0)\n",
    "    \n",
    "    # Exclude QSOs (lack of redshift precision for small scales).\n",
    "    IS_ZGOOD_BGS              = IS_GOOD_BGS  & (zbest['ZWARN'] == 0) & (zbest['SPECTYPE'] == 'GALAXY') \n",
    "    IS_ZGOOD_BGS              = IS_ZGOOD_BGS & (zbest['ZERR'] < 0.0005 * (1. + zbest['Z']))\n",
    "    IS_ZGOOD_BGS              = IS_ZGOOD_BGS & (zbest['Z'] <= 0.5)\n",
    "    \n",
    "    IS_ZGOOD_MAIN             = IS_ZGOOD_BGS & ((coadds['CMX_TARGET'] & cmx_targetmask.cmx_mask.mask('MINI_SV_BGS_BRIGHT')) != 0)\n",
    "\n",
    "    coadds['NIGHT']           = [night] * len(coadds)\n",
    "    coadds['TILEID']          = [tile] * len(coadds)\n",
    "    \n",
    "    zbest['NIGHT']            = [night] * len(coadds)\n",
    "    zbest['TILEID']           = [tile] * len(coadds)\n",
    "\n",
    "    acoadds                   = vstack((acoadds, coadds[IS_ZGOOD_BGS]))\n",
    "    azbests                   = vstack((azbests,  zbest[IS_ZGOOD_BGS]))\n",
    "    \n",
    "gcoadd_matches,  gzbest_matches,  gspec_matches,   gcat_fail, gcat_failids  = matches(acoadds, azbests, GAMA['south'], _RA='RA',      _DEC='DEC')\n",
    "\n",
    "sncoadd_matches, snzbest_matches, snspec_matches, sncat_fail, sncat_failids = matches(acoadds, azbests, SDSS['north'], _RA='PLUG_RA', _DEC='PLUG_DEC')\n",
    "sscoadd_matches, sszbest_matches, ssspec_matches, sscat_fail, sscat_failids = matches(acoadds, azbests, SDSS['south'], _RA='PLUG_RA', _DEC='PLUG_DEC')"
   ]
  },
  {
   "cell_type": "code",
   "execution_count": 81,
   "metadata": {},
   "outputs": [
    {
     "data": {
      "text/plain": [
       "(<MaskedColumn dtype='int64' length=1>\n",
       " 0, array([207]))"
      ]
     },
     "execution_count": 81,
     "metadata": {},
     "output_type": "execute_result"
    }
   ],
   "source": [
    "np.unique(sszbest_matches['ZWARN'], return_counts=True)"
   ]
  },
  {
   "cell_type": "code",
   "execution_count": 82,
   "metadata": {},
   "outputs": [
    {
     "data": {
      "text/plain": [
       "721"
      ]
     },
     "execution_count": 82,
     "metadata": {},
     "output_type": "execute_result"
    },
    {
     "data": {
      "image/png": "[encoded data removed]",
      "text/plain": [
       "<matplotlib.figure.Figure at 0x2aabb30cd128>"
      ]
     },
     "metadata": {
      "needs_background": "light"
     },
     "output_type": "display_data"
    }
   ],
   "source": [
    "fig, axes   = plt.subplots(1, figsize=(5, 5))\n",
    "\n",
    "pl.plot(gspec_matches['Z'],            gzbest_matches['Z'], lw=0, marker='.', markersize=2, c='k')\n",
    "pl.plot(gspec_matches['Z'][gcat_fail], gzbest_matches['Z'][gcat_fail], lw=0, marker='.', markersize=2, c='r')\n",
    "\n",
    "pl.xlabel(r'G12 redshift')\n",
    "pl.ylabel(r'rr redshift')\n",
    "\n",
    "len(gspec_matches)"
   ]
  },
  {
   "cell_type": "code",
   "execution_count": 83,
   "metadata": {},
   "outputs": [
    {
     "data": {
      "text/plain": [
       "207"
      ]
     },
     "execution_count": 83,
     "metadata": {},
     "output_type": "execute_result"
    },
    {
     "data": {
      "image/png": "[encoded data removed]",
      "text/plain": [
       "<matplotlib.figure.Figure at 0x2aabb36fee10>"
      ]
     },
     "metadata": {
      "needs_background": "light"
     },
     "output_type": "display_data"
    }
   ],
   "source": [
    "fig, axes   = plt.subplots(1, figsize=(5, 5))\n",
    "\n",
    "pl.plot(ssspec_matches['Z'],             sszbest_matches['Z'], lw=0, marker='.', markersize=2, c='k')\n",
    "pl.plot(ssspec_matches['Z'][sscat_fail], sszbest_matches['Z'][sscat_fail], lw=0, marker='.', markersize=2, c='r')\n",
    "\n",
    "pl.xlabel(r'SDSS South redshift')\n",
    "pl.ylabel(r'rr redshift')\n",
    "\n",
    "len(ssspec_matches)"
   ]
  },
  {
   "cell_type": "code",
   "execution_count": 84,
   "metadata": {},
   "outputs": [
    {
     "data": {
      "text/plain": [
       "174"
      ]
     },
     "execution_count": 84,
     "metadata": {},
     "output_type": "execute_result"
    },
    {
     "data": {
      "image/png": "[encoded data removed]",
      "text/plain": [
       "<matplotlib.figure.Figure at 0x2aabb48bef60>"
      ]
     },
     "metadata": {
      "needs_background": "light"
     },
     "output_type": "display_data"
    }
   ],
   "source": [
    "fig, axes   = plt.subplots(1, figsize=(5, 5))\n",
    "\n",
    "pl.plot(snspec_matches['Z'],             snzbest_matches['Z'], lw=0, marker='.', markersize=2, c='k')\n",
    "pl.plot(snspec_matches['Z'][sncat_fail], snzbest_matches['Z'][sncat_fail], lw=0, marker='.', markersize=2, c='r')\n",
    "\n",
    "pl.xlabel(r'SDSS North redshift')\n",
    "pl.ylabel(r'rr redshift')\n",
    "\n",
    "len(snspec_matches)"
   ]
  },
  {
   "cell_type": "code",
   "execution_count": 85,
   "metadata": {},
   "outputs": [],
   "source": [
    "aszbest_matches = np.concatenate([sszbest_matches['Z'], snzbest_matches['Z']])\n",
    "asspec_matches  = np.concatenate([ssspec_matches['Z'],  snspec_matches['Z']])"
   ]
  },
  {
   "cell_type": "code",
   "execution_count": 86,
   "metadata": {},
   "outputs": [
    {
     "data": {
      "text/plain": [
       "<matplotlib.legend.Legend at 0x2aabb3f78ef0>"
      ]
     },
     "execution_count": 86,
     "metadata": {},
     "output_type": "execute_result"
    },
    {
     "data": {
      "image/png": "[encoded data removed]",
      "text/plain": [
       "<matplotlib.figure.Figure at 0x2aabb4356e10>"
      ]
     },
     "metadata": {
      "needs_background": "light"
     },
     "output_type": "display_data"
    }
   ],
   "source": [
    "dv  = 3.e5 * (aszbest_matches - asspec_matches) / (1. + asspec_matches)\n",
    "\n",
    "stp = 10.\n",
    "_   = pl.hist(dv, bins=np.arange(-100., 100., stp), histtype='step', color='k', label='SDSS/(e)BOSS matches')\n",
    "\n",
    "pl.xlim(-120., 100.)\n",
    "\n",
    "pl.xlabel(r'$\\Delta$ v [km/s]')\n",
    "pl.ylabel(r'$\\Delta N$ per $\\Delta v$ of {} km/s.'.format(stp))\n",
    "\n",
    "pl.legend(loc=2, frameon=False)"
   ]
  },
  {
   "cell_type": "code",
   "execution_count": 128,
   "metadata": {},
   "outputs": [
    {
     "data": {
      "text/plain": [
       "<matplotlib.legend.Legend at 0x2aabb393b710>"
      ]
     },
     "execution_count": 128,
     "metadata": {},
     "output_type": "execute_result"
    },
    {
     "data": {
      "image/png": "[encoded data removed]",
      "text/plain": [
       "<matplotlib.figure.Figure at 0x2aabb393b240>"
      ]
     },
     "metadata": {
      "needs_background": "light"
     },
     "output_type": "display_data"
    }
   ],
   "source": [
    "nights = list(np.unique(azbests['NIGHT']))\n",
    "\n",
    "nights.remove('20200227')\n",
    "nights.remove('20200228')\n",
    "\n",
    "for night in nights:  \n",
    "  _ = pl.hist(azbests['Z'][azbests['NIGHT'] == night], bins=np.arange(0.0, 1.2, 0.025), histtype='step', label=night)\n",
    "\n",
    "pl.xlabel('rr z')\n",
    "pl.ylabel(r'$\\Delta N$ per $\\Delta z$ of {}'.format(0.025))\n",
    "\n",
    "pl.xlim(0.0, 0.5)\n",
    "\n",
    "pl.legend(frameon=False, loc=1)"
   ]
  },
  {
   "cell_type": "markdown",
   "metadata": {},
   "source": [
    "##  Prospect for the differences."
   ]
  },
  {
   "cell_type": "code",
   "execution_count": 38,
   "metadata": {},
   "outputs": [
    {
     "data": {
      "text/plain": [
       "20"
      ]
     },
     "execution_count": 38,
     "metadata": {},
     "output_type": "execute_result"
    }
   ],
   "source": [
    "len(acoadds_paths)"
   ]
  },
  {
   "cell_type": "code",
   "execution_count": 67,
   "metadata": {},
   "outputs": [
    {
     "data": {
      "text/plain": [
       "array([35185766787188134, 35185754724368479, 35185754745340561,\n",
       "       35185730586151652, 35191204677158635, 35191204677160299,\n",
       "       35191212587616629, 35191196670232919, 35191212583423743,\n",
       "       35191220435160546, 35191204672966163, 35191204685546429,\n",
       "       35185754749535144, 35185754745340561, 35185754749535144])"
      ]
     },
     "execution_count": 67,
     "metadata": {},
     "output_type": "execute_result"
    }
   ],
   "source": [
    "fail_ids                      = np.concatenate([gcat_failids.data, sncat_failids.data, sscat_failids.data])\n",
    "fail_ids                      = fail_ids.data\n",
    "fail_ids"
   ]
  },
  {
   "cell_type": "code",
   "execution_count": 93,
   "metadata": {},
   "outputs": [
    {
     "data": {
      "text/html": [
       "&lt;Table masked=True length=19&gt;\n",
       "<table id=\"table46916953726872\" class=\"table-striped table-bordered table-condensed\">\n",
       "<thead><tr><th>TARGETID</th><th>CHI2</th><th>COEFF [10]</th><th>Z</th><th>ZERR</th><th>ZWARN</th><th>NPIXELS</th><th>SPECTYPE</th><th>SUBTYPE</th><th>NCOEFF</th><th>DELTACHI2</th><th>NUMEXP</th><th>NUMTILE</th></tr></thead>\n",
       "<thead><tr><th>int64</th><th>float64</th><th>float64</th><th>float64</th><th>float64</th><th>int64</th><th>int64</th><th>str6</th><th>str20</th><th>int64</th><th>float64</th><th>int32</th><th>int32</th></tr></thead>\n",
       "<tr><td>35185754724368479</td><td>11928.362674295902</td><td>1098.9938096537435 .. 38.11416777120257</td><td>0.18474233460771822</td><td>1.12565496150381e-05</td><td>0</td><td>7732</td><td>GALAXY</td><td></td><td>10</td><td>2480.28952537477</td><td>0</td><td>0</td></tr>\n",
       "<tr><td>35185766787188134</td><td>10239.828133173287</td><td>-53.71784865938137 .. 22.73593872007464</td><td>0.27333088724885773</td><td>4.538422529297212e-05</td><td>0</td><td>7746</td><td>GALAXY</td><td></td><td>10</td><td>10.612046241760254</td><td>0</td><td>0</td></tr>\n",
       "<tr><td>35185754745340561</td><td>10478.632955322042</td><td>1149.7414695127038 .. -22.351124104987488</td><td>0.020410460429866217</td><td>6.548514437804251e-06</td><td>0</td><td>7755</td><td>GALAXY</td><td></td><td>10</td><td>1189.894606900365</td><td>0</td><td>0</td></tr>\n",
       "<tr><td>35185754749535144</td><td>24538.739020109177</td><td>29267.912419386717 .. 1299.6770157662377</td><td>0.09354696691384304</td><td>6.409148657217593e-06</td><td>0</td><td>7749</td><td>GALAXY</td><td></td><td>10</td><td>104608.92371099535</td><td>0</td><td>0</td></tr>\n",
       "<tr><td>35185730586151652</td><td>10272.156889796257</td><td>1125.3077742731666 .. 49.320092412728386</td><td>0.11638065581870449</td><td>6.941500414945081e-06</td><td>0</td><td>7744</td><td>GALAXY</td><td></td><td>10</td><td>2775.914508700371</td><td>0</td><td>0</td></tr>\n",
       "<tr><td>35185754724368479</td><td>8804.233318284154</td><td>-697.6697325891325 .. -106.31587553057538</td><td>0.4594884377030813</td><td>4.392955278048388e-05</td><td>0</td><td>7729</td><td>GALAXY</td><td></td><td>10</td><td>17.54369793832302</td><td>0</td><td>0</td></tr>\n",
       "<tr><td>35185754745340561</td><td>8464.665983838902</td><td>1286.8593886776198 .. -9.249577611075122</td><td>0.025378924156213848</td><td>5.095259935963981e-05</td><td>0</td><td>7744</td><td>GALAXY</td><td></td><td>10</td><td>9.86935939086834</td><td>0</td><td>0</td></tr>\n",
       "<tr><td>35185754749535144</td><td>10192.58093899116</td><td>18194.63545618367 .. 971.3857372164686</td><td>0.09351834859281392</td><td>2.65757614406501e-05</td><td>0</td><td>7738</td><td>GALAXY</td><td></td><td>10</td><td>6998.758367679082</td><td>0</td><td>0</td></tr>\n",
       "<tr><td>35185730586151652</td><td>8779.78275193274</td><td>933.2324617326572 .. 31.926374139550603</td><td>0.4633665999222232</td><td>5.507481554351813e-05</td><td>0</td><td>7743</td><td>GALAXY</td><td></td><td>10</td><td>14.441826459020376</td><td>0</td><td>0</td></tr>\n",
       "<tr><td>35191204677158635</td><td>8067.648524076678</td><td>1752.864149327542 .. -73.65608808797822</td><td>0.2702697589521401</td><td>0.00016909240343292498</td><td>0</td><td>7673</td><td>GALAXY</td><td></td><td>10</td><td>44.55772256013006</td><td>0</td><td>0</td></tr>\n",
       "<tr><td>35191204677160299</td><td>8093.59620340541</td><td>2354.791201528422 .. -24.359019407590765</td><td>0.2600137571481383</td><td>4.489129920247603e-05</td><td>0</td><td>7679</td><td>GALAXY</td><td></td><td>10</td><td>20.633110161870718</td><td>0</td><td>0</td></tr>\n",
       "<tr><td>35191212587616629</td><td>7655.932731613517</td><td>-1413.6438130306726 .. -159.49615570403063</td><td>0.20889867874477802</td><td>8.89895326735547e-05</td><td>0</td><td>7673</td><td>GALAXY</td><td></td><td>10</td><td>9.5099645126611</td><td>0</td><td>0</td></tr>\n",
       "<tr><td>35191196670232919</td><td>15572.020328758284</td><td>-483.2135914703474 .. -73.37880253995768</td><td>0.16891749706126302</td><td>4.803364529088598e-05</td><td>0</td><td>7759</td><td>GALAXY</td><td></td><td>10</td><td>79.75768160633743</td><td>0</td><td>0</td></tr>\n",
       "<tr><td>35191212583423743</td><td>10583.074621155858</td><td>235.0700203155487 .. 14.822809718773756</td><td>0.46871018013741067</td><td>6.899139029992414e-05</td><td>0</td><td>7760</td><td>GALAXY</td><td></td><td>10</td><td>391.22508203424513</td><td>0</td><td>0</td></tr>\n",
       "<tr><td>35191220435160546</td><td>21946.85559476912</td><td>-1170.4550333251054 .. -120.1897362558091</td><td>0.16917394452815243</td><td>1.9938310056236366e-05</td><td>0</td><td>7760</td><td>GALAXY</td><td></td><td>10</td><td>903.1920091956854</td><td>0</td><td>0</td></tr>\n",
       "<tr><td>35191204672966163</td><td>18772.64013654366</td><td>-1193.101356696265 .. -69.11137697531387</td><td>0.17318148783990817</td><td>3.9595019635534426e-05</td><td>0</td><td>7741</td><td>GALAXY</td><td></td><td>10</td><td>379.7285482957959</td><td>0</td><td>0</td></tr>\n",
       "<tr><td>35191204677158635</td><td>12085.988270834088</td><td>795.6777180953635 .. 43.67242540856846</td><td>0.48367495581432923</td><td>4.586729354367851e-05</td><td>0</td><td>7751</td><td>GALAXY</td><td></td><td>10</td><td>2004.0067168474197</td><td>0</td><td>0</td></tr>\n",
       "<tr><td>35191204685546429</td><td>14227.98161220923</td><td>-655.1312020487899 .. -73.4344861224366</td><td>0.1770940989042832</td><td>3.612675718880292e-05</td><td>0</td><td>7745</td><td>GALAXY</td><td></td><td>10</td><td>204.34690435230732</td><td>0</td><td>0</td></tr>\n",
       "<tr><td>35191212587616629</td><td>10719.554429709911</td><td>420.38757704698156 .. -2.5054783462060866</td><td>0.42436375324001563</td><td>3.533343033998628e-05</td><td>0</td><td>7751</td><td>GALAXY</td><td></td><td>10</td><td>1205.563263580203</td><td>0</td><td>0</td></tr>\n",
       "</table>"
      ],
      "text/plain": [
       "<Table masked=True length=19>\n",
       "     TARGETID            CHI2        ... NUMEXP NUMTILE\n",
       "      int64            float64       ... int32   int32 \n",
       "----------------- ------------------ ... ------ -------\n",
       "35185754724368479 11928.362674295902 ...      0       0\n",
       "35185766787188134 10239.828133173287 ...      0       0\n",
       "35185754745340561 10478.632955322042 ...      0       0\n",
       "35185754749535144 24538.739020109177 ...      0       0\n",
       "35185730586151652 10272.156889796257 ...      0       0\n",
       "35185754724368479  8804.233318284154 ...      0       0\n",
       "35185754745340561  8464.665983838902 ...      0       0\n",
       "35185754749535144  10192.58093899116 ...      0       0\n",
       "35185730586151652   8779.78275193274 ...      0       0\n",
       "35191204677158635  8067.648524076678 ...      0       0\n",
       "35191204677160299   8093.59620340541 ...      0       0\n",
       "35191212587616629  7655.932731613517 ...      0       0\n",
       "35191196670232919 15572.020328758284 ...      0       0\n",
       "35191212583423743 10583.074621155858 ...      0       0\n",
       "35191220435160546  21946.85559476912 ...      0       0\n",
       "35191204672966163  18772.64013654366 ...      0       0\n",
       "35191204677158635 12085.988270834088 ...      0       0\n",
       "35191204685546429  14227.98161220923 ...      0       0\n",
       "35191212587616629 10719.554429709911 ...      0       0"
      ]
     },
     "execution_count": 93,
     "metadata": {},
     "output_type": "execute_result"
    }
   ],
   "source": [
    "azbests[np.isin(azbests['TARGETID'].data, fail_ids)]"
   ]
  },
  {
   "cell_type": "code",
   "execution_count": 105,
   "metadata": {},
   "outputs": [
    {
     "name": "stdout",
     "output_type": "stream",
     "text": [
      "No need to plot 70502 20200225 0.\n",
      "Plotting https://portal.nersc.gov/project/desi/users/mjwilson/MINISV/specviewer_70502_20200225_3_known_catfails.html\n",
      "No need to plot 70502 20200225 6.\n",
      "Plotting https://portal.nersc.gov/project/desi/users/mjwilson/MINISV/specviewer_70502_20200225_7_known_catfails.html\n",
      "No need to plot 70502 20200225 9.\n",
      "No need to plot 70502 20200227 0.\n",
      "Plotting https://portal.nersc.gov/project/desi/users/mjwilson/MINISV/specviewer_70502_20200227_3_known_catfails.html\n",
      "No need to plot 70502 20200227 6.\n",
      "Plotting https://portal.nersc.gov/project/desi/users/mjwilson/MINISV/specviewer_70502_20200227_7_known_catfails.html\n",
      "Plotting https://portal.nersc.gov/project/desi/users/mjwilson/MINISV/specviewer_70502_20200227_9_known_catfails.html\n",
      "No need to plot 70500 20200228 0.\n",
      "No need to plot 70500 20200228 3.\n",
      "No need to plot 70500 20200228 6.\n",
      "No need to plot 70500 20200228 7.\n",
      "Plotting https://portal.nersc.gov/project/desi/users/mjwilson/MINISV/specviewer_70500_20200228_9_known_catfails.html\n",
      "Plotting https://portal.nersc.gov/project/desi/users/mjwilson/MINISV/specviewer_70500_20200303_0_known_catfails.html\n",
      "No need to plot 70500 20200303 3.\n",
      "No need to plot 70500 20200303 6.\n",
      "Plotting https://portal.nersc.gov/project/desi/users/mjwilson/MINISV/specviewer_70500_20200303_7_known_catfails.html\n",
      "Plotting https://portal.nersc.gov/project/desi/users/mjwilson/MINISV/specviewer_70500_20200303_9_known_catfails.html\n"
     ]
    }
   ],
   "source": [
    "for night, tile in night_tiles:\n",
    "  for petal in [0,3,6,7,9]: \n",
    "    specfile                    = root + '{}/{}/coadd-{}-{}-{}.fits'.format(tile, night, petal, tile, night)\n",
    "\n",
    "    zbest                       = Table(fits.open(root + '/{}/{}/zbest-{}-{}-{}.fits'.format(tile, night, petal, tile, night))[1].data)\n",
    "    coadds                      = Table(fits.open(specfile)[1].data)\n",
    "    \n",
    "    spectra                     = desispec.io.read_spectra(specfile)\n",
    "    spectra.fibermap[\"NIGHT\"]   = np.ones(len(spectra.fibermap))\n",
    "    \n",
    "    targetids                   = zbest['TARGETID']\n",
    "    fibstatus                   = fitsio.read(specfile, ext=1)['FIBERSTATUS']\n",
    "    \n",
    "    # No fiber reach flags available.\n",
    "    isgood                      = fibstatus == 0\n",
    "            \n",
    "    IS_SV0                      = (coadds['CMX_TARGET'] & cmx_targetmask.cmx_mask.mask('SV0_BGS')) != 0\n",
    "\n",
    "    IS_GOOD_BGS                 = IS_SV0 & isgood\n",
    "    IS_MAIN                     = IS_GOOD_BGS & ((coadds['CMX_TARGET'] & cmx_targetmask.cmx_mask.mask('MINI_SV_BGS_BRIGHT')) != 0)\n",
    "    \n",
    "    # Exclude QSOs (lack of redshift precision for small scales).\n",
    "    IS_ZGOOD_BGS                = IS_GOOD_BGS  & (zbest['ZWARN'] == 0) & (zbest['SPECTYPE'] == 'GALAXY') \n",
    "    IS_ZGOOD_BGS                = IS_ZGOOD_BGS & (zbest['ZERR'] < 0.0005 * (1. + zbest['Z']))\n",
    "    IS_ZGOOD_BGS                = IS_ZGOOD_BGS & (zbest['Z'] <= 0.5)\n",
    "     \n",
    "    zbest                       =  zbest[IS_ZGOOD_BGS]\n",
    "    coadds                      = coadds[IS_ZGOOD_BGS]\n",
    "        \n",
    "    gcoadd_matches,  gzbest_matches,  gspec_matches,   gcat_fail, gcat_failids  = matches(coadds, zbest, GAMA['south'], _RA='RA',      _DEC='DEC')\n",
    "\n",
    "    sncoadd_matches, snzbest_matches, snspec_matches, sncat_fail, sncat_failids = matches(coadds, zbest, SDSS['north'], _RA='PLUG_RA', _DEC='PLUG_DEC')\n",
    "    sscoadd_matches, sszbest_matches, ssspec_matches, sscat_fail, sscat_failids = matches(coadds, zbest, SDSS['south'], _RA='PLUG_RA', _DEC='PLUG_DEC')\n",
    "        \n",
    "    fail_ids                    = np.concatenate([gcat_failids.data, sncat_failids.data, sscat_failids.data])\n",
    "        \n",
    "    if len(fail_ids) > 0:        \n",
    "      sp_single_exp             = spectra.select(targets=fail_ids)\n",
    "\n",
    "      plotframes.plotspectra(sp_single_exp,\\\n",
    "                             zcatalog=zbest,\\\n",
    "                             notebook=False,\\\n",
    "                             with_coaddcam=False,\\\n",
    "                             with_thumb_tab=False,\\\n",
    "                             title='{}_{}_{}_known_catfails'.format(tile, night, petal),\\\n",
    "                             html_dir='/global/homes/m/mjwilson/www/MINISV')\n",
    "    \n",
    "      print('Plotting https://portal.nersc.gov/project/desi/users/mjwilson/MINISV/specviewer_{}_{}_{}_known_catfails.html'.format(tile, night, petal))\n",
    "    \n",
    "    else:\n",
    "      print('No need to plot {} {} {}.'.format(tile, night, petal))\n",
    "\n",
    "  _ = os.system('chmod --reference=/global/homes/m/mjwilson/www/plots/visibility-nofullmoon-26-0.pdf /global/homes/m/mjwilson/www/MINISV/*')"
   ]
  },
  {
   "cell_type": "markdown",
   "metadata": {},
   "source": [
    "##  Done."
   ]
  }
 ],
 "metadata": {
  "kernelspec": {
   "display_name": "DESI master",
   "language": "python",
   "name": "desi-master"
  },
  "language_info": {
   "codemirror_mode": {
    "name": "ipython",
    "version": 3
   },
   "file_extension": ".py",
   "mimetype": "text/x-python",
   "name": "python",
   "nbconvert_exporter": "python",
   "pygments_lexer": "ipython3",
   "version": "3.6.6"
  }
 },
 "nbformat": 4,
 "nbformat_minor": 4
}
