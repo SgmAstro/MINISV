{
 "cells": [
  {
   "cell_type": "code",
   "execution_count": 1,
   "metadata": {},
   "outputs": [],
   "source": [
    "%matplotlib inline"
   ]
  },
  {
   "cell_type": "code",
   "execution_count": 2,
   "metadata": {},
   "outputs": [],
   "source": [
    "import  os\n",
    "import  sys\n",
    "import  glob\n",
    "import  mpld3"
   ]
  },
  {
   "cell_type": "code",
   "execution_count": 3,
   "metadata": {},
   "outputs": [],
   "source": [
    "import  pdfkit\n",
    "import  fitsio\n",
    "import  redrock\n",
    "import  datetime\n",
    "import  redrock.templates\n",
    "\n",
    "import  pandas                  as      pd\n",
    "import  pylab                   as      pl\n",
    "import  numpy                   as      np\n",
    "import  matplotlib.pyplot       as      plt\n",
    "import  astropy.io.fits         as      fits\n",
    "import  matplotlib.pyplot       as      plt\n",
    "import  astropy.io.fits         as      fits\n",
    "\n",
    "from    astropy.table           import  Table, join, vstack, unique\n",
    "from    astropy.coordinates     import  SkyCoord\n",
    "from    astropy                 import  units as u\n",
    "from    desitarget.cmx          import  cmx_targetmask\n",
    "from    desitarget              import  targetmask\n",
    "from    desispec.interpolation  import  resample_flux\n",
    "from    desispec.resolution     import  Resolution\n",
    "from    desispec.specscore      import  compute_frame_scores\n",
    "from    collections             import  OrderedDict\n",
    "from    mpl_toolkits.axes_grid1 import  make_axes_locatable\n",
    "from    itertools               import  combinations\n",
    "from    desisurvey.utils        import  get_date"
   ]
  },
  {
   "cell_type": "code",
   "execution_count": 4,
   "metadata": {},
   "outputs": [],
   "source": [
    "##  DR7 cutouts\n",
    "import  requests\n",
    "\n",
    "from    PIL                     import  Image\n",
    "from    io                      import  BytesIO"
   ]
  },
  {
   "cell_type": "code",
   "execution_count": 10,
   "metadata": {},
   "outputs": [],
   "source": [
    "# Prospect\n",
    "sys.path.append(\"/global/homes/m/mjwilson/BGS/MINISV/prospect/py/\")\n",
    "\n",
    "import desispec\n",
    "import prospect\n",
    "\n",
    "from   prospect                import utils_specviewer, plotframes"
   ]
  },
  {
   "cell_type": "code",
   "execution_count": 11,
   "metadata": {},
   "outputs": [],
   "source": [
    "plt.rcParams['figure.figsize'] = [10, 10]"
   ]
  },
  {
   "cell_type": "code",
   "execution_count": 12,
   "metadata": {},
   "outputs": [],
   "source": [
    "# mpld3.enable_notebook()"
   ]
  },
  {
   "cell_type": "code",
   "execution_count": 13,
   "metadata": {},
   "outputs": [],
   "source": [
    "def flux2mag(flux) :\n",
    "    mag = -2.5*np.log10(flux*(flux>0) + 0.001*(flux<=0)) + 22.5\n",
    "    mag[(flux<=0)] = 0.\n",
    "    \n",
    "    return  mag"
   ]
  },
  {
   "cell_type": "markdown",
   "metadata": {},
   "source": [
    "##  DR7 cutouts "
   ]
  },
  {
   "cell_type": "code",
   "execution_count": 14,
   "metadata": {},
   "outputs": [],
   "source": [
    "def get_dr7cutout(ra, dec):\n",
    "  nim         = len(ra)\n",
    "  nrow        =  np.maximum(np.floor(nim / 5).astype(np.int), 1)\n",
    "\n",
    "  fig, axes   = plt.subplots(nrow, 5, figsize=(20, 5 * nrow))\n",
    "\n",
    "  row         = 0\n",
    "  col         = 0\n",
    "\n",
    "  nmax        = np.minimum(5 * nrow, nim)\n",
    "  \n",
    "  for i in range(nmax):        \n",
    "    url       = 'http://legacysurvey.org/viewer/jpeg-cutout?ra={:.4f}&dec={:.4f}&layer=decals-dr7&pixscale=0.27&bands=grz'.format(ra[i], dec[i])\n",
    "    response  = requests.get(url)\n",
    "    img       = Image.open(BytesIO(response.content))\n",
    "\n",
    "    axes[row, col].imshow(img)\n",
    "    \n",
    "    col      += 1\n",
    "    \n",
    "    if col > 4:\n",
    "        row  += 1\n",
    "        col   = 0 "
   ]
  },
  {
   "cell_type": "markdown",
   "metadata": {},
   "source": [
    "##  Night log.\n",
    "http://desi-www.kpno.noao.edu:8090/nightsum/nightsum-2020-02-25/nightsum.html"
   ]
  },
  {
   "cell_type": "markdown",
   "metadata": {},
   "source": [
    "##  Mini SV page.\n",
    "https://desi.lbl.gov/trac/wiki/TargetSelectionWG/miniSV2"
   ]
  },
  {
   "cell_type": "markdown",
   "metadata": {},
   "source": [
    "#  Summary "
   ]
  },
  {
   "cell_type": "code",
   "execution_count": 15,
   "metadata": {},
   "outputs": [],
   "source": [
    "# /global/homes/m/mjwilson/BGS/MINISV/zhou\n",
    "version = 'v2'\n",
    "root    = '/global/projecta/projectdirs/desi/spectro/redux/minisv2/exposures/20200226/'"
   ]
  },
  {
   "cell_type": "code",
   "execution_count": 16,
   "metadata": {},
   "outputs": [],
   "source": [
    "expid   = 52267"
   ]
  },
  {
   "cell_type": "code",
   "execution_count": 17,
   "metadata": {},
   "outputs": [],
   "source": [
    "def get_calibs(expid, specid=0, _type='sky'):\n",
    "  ##  sky, stdstars, fluxcalib, psf. \n",
    "  bands = ['b', 'r', 'z']   \n",
    "\n",
    "  if _type == 'stdstars':\n",
    "     return  fits.open(root + '/{:08d}/{}-{}-{:08d}.fits'.format(expid, _type, specid, expid))\n",
    "\n",
    "  else:\n",
    "     dat = [fits.open(root + '/{:08d}/{}-{}{}-{:08d}.fits'.format(expid, _type, band, specid, expid)) for band in bands]\n",
    "        \n",
    "     return   dict(zip(bands, dat))"
   ]
  },
  {
   "cell_type": "code",
   "execution_count": 24,
   "metadata": {},
   "outputs": [
    {
     "data": {
      "image/png": "[encoded data removed]",
      "text/plain": [
       "<matplotlib.figure.Figure at 0x2aaaebc14b38>"
      ]
     },
     "metadata": {
      "needs_background": "light"
     },
     "output_type": "display_data"
    }
   ],
   "source": [
    "for i, petal in enumerate([0]):\n",
    "  skies   = get_calibs(expid, specid=petal, _type='sky')\n",
    "  fcalibs = get_calibs(expid, specid=0, _type='fluxcalib')\n",
    "\n",
    "  pl.axvline(4387.0,  ymin=0, ymax=.2, c='k', alpha=0.5, lw=0.75)\n",
    "  pl.axvline(5578.5, ymin=0, ymax=.2, c='k', alpha=0.5, lw=0.75)\n",
    "  pl.axvline(5790.0,  ymin=0, ymax=.2, c='k', alpha=0.5, lw=0.75)\n",
    "  pl.axvline(7600.0,  ymin=0, ymax=.2, c='k', alpha=0.5, lw=0.75)    \n",
    "\n",
    "  # SDSS\n",
    "  pl.axvline(5894.6,  ymin=0, ymax=.2, c='b', alpha=0.5, lw=0.75)  \n",
    "  pl.axvline(6301.7,  ymin=0, ymax=.2, c='b', alpha=0.5, lw=0.75)  \n",
    "  pl.axvline(7246.0,  ymin=0, ymax=.2, c='b', alpha=0.5, lw=0.75)  \n",
    "\n",
    "  for band in skies.keys():\n",
    "    pl.semilogy(skies[band][3].data, np.mean(skies[band][0].data, axis=0), lw=0.1)\n",
    "    \n",
    "  for band in fcalibs.keys():\n",
    "    pl.semilogy(fcalibs[band][3].data, 30. * fcalibs[band][0].data[i,:] / fcalibs[band][0].data[i,:].max(), lw=0.1, c='k')\n",
    "    \n",
    "  pl.xlim(4.e3, 1.e4)\n",
    "  pl.ylim(bottom=5.)\n",
    "    \n",
    "  pl.xlabel(r'Wavelength $\\AA$')\n",
    "  pl.xlim(4000. , 4400.)"
   ]
  },
  {
   "cell_type": "code",
   "execution_count": 48,
   "metadata": {},
   "outputs": [],
   "source": [
    "# stds = get_calibs(expid, specid=0, _type='stdstars')"
   ]
  },
  {
   "cell_type": "raw",
   "metadata": {},
   "source": [
    "nstd    = 2\n",
    "f, axes = plt.subplots(nstd, sharex=True, figsize=(10, 5 * nstd))\n",
    "\n",
    "for i in range(nstd): \n",
    "  axes[i].axvline(4360., ymin=0, ymax=1, c='k', alpha=0.1)\n",
    "    \n",
    "  axes[i].loglog(stds[1].data, stds[0].data[i,:] / stds[0].data[i,:].max(), lw=0.1)\n",
    "\n",
    "  axes[i].set_xlim(4.e3, 1.e4)\n",
    "  axes[i].set_ylim(0.1, 1.1)\n",
    "    \n",
    "axes[-1].set_xlabel(r'Wavelength $\\AA$')"
   ]
  },
  {
   "cell_type": "markdown",
   "metadata": {},
   "source": [
    "##  Done. "
   ]
  }
 ],
 "metadata": {
  "kernelspec": {
   "display_name": "DESI master",
   "language": "python",
   "name": "desi-master"
  },
  "language_info": {
   "codemirror_mode": {
    "name": "ipython",
    "version": 3
   },
   "file_extension": ".py",
   "mimetype": "text/x-python",
   "name": "python",
   "nbconvert_exporter": "python",
   "pygments_lexer": "ipython3",
   "version": "3.6.6"
  }
 },
 "nbformat": 4,
 "nbformat_minor": 4
}
