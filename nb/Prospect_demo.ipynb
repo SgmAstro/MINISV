{
 "cells": [
  {
   "cell_type": "markdown",
   "metadata": {},
   "source": [
    "# Spectral viewer demo with a notebook  \n",
    "(Modified version of the notebook available on prospect's github repo)   \n",
    "All the desi packages along with bokeh and numba should be installed"
   ]
  },
  {
   "cell_type": "code",
   "execution_count": 1,
   "metadata": {},
   "outputs": [],
   "source": [
    "import desispec\n",
    "import importlib\n",
    "import prospect\n",
    "import os, sys\n",
    "import numpy         as     np\n",
    "\n",
    "from   astropy.table import Table\n",
    "from   pathlib       import Path\n",
    "\n",
    "# uncomment this and replace with proper path if the redrock template environment variable is not found\n",
    "# os.environ[\"RR_TEMPLATE_DIR\"] = \"/opt/astrosoft/redrock-templates\"\n",
    "\n",
    "# Change the path below based on where you have downloaded prospect\n",
    "sys.path.append(\"/global/homes/m/mjwilson/BGS/MINISV/prospect/py/prospect\")\n",
    "\n",
    "# importlib.reload(utils_specviewer)\n",
    "# importlib.reload(plotframes)"
   ]
  },
  {
   "cell_type": "code",
   "execution_count": 17,
   "metadata": {},
   "outputs": [
    {
     "ename": "ModuleNotFoundError",
     "evalue": "No module named 'utils_specviewer'",
     "output_type": "error",
     "traceback": [
      "\u001b[0;31m---------------------------------------------------------------------------\u001b[0m",
      "\u001b[0;31mModuleNotFoundError\u001b[0m                       Traceback (most recent call last)",
      "\u001b[0;32m<ipython-input-17-54e40102de7b>\u001b[0m in \u001b[0;36m<module>\u001b[0;34m\u001b[0m\n\u001b[0;32m----> 1\u001b[0;31m \u001b[0;32mimport\u001b[0m \u001b[0mutils_specviewer\u001b[0m\u001b[0;34m\u001b[0m\u001b[0m\n\u001b[0m",
      "\u001b[0;31mModuleNotFoundError\u001b[0m: No module named 'utils_specviewer'"
     ]
    }
   ],
   "source": [
    "import utils_specviewer"
   ]
  },
  {
   "cell_type": "code",
   "execution_count": 15,
   "metadata": {},
   "outputs": [
    {
     "data": {
      "text/plain": [
       "\u001b[0;31mType:\u001b[0m        module\n",
       "\u001b[0;31mString form:\u001b[0m <module 'prospect' (namespace)>\n",
       "\u001b[0;31mDocstring:\u001b[0m   <no docstring>\n"
      ]
     },
     "metadata": {},
     "output_type": "display_data"
    }
   ],
   "source": [
    "prospect"
   ]
  },
  {
   "cell_type": "code",
   "execution_count": 4,
   "metadata": {},
   "outputs": [],
   "source": [
    "# Path to the directory where files are saved\n",
    "data_path = Path(\"/global/cfs/cdirs/desi/spectro/redux/daily/tiles/70502/20200225/\")"
   ]
  },
  {
   "cell_type": "code",
   "execution_count": 6,
   "metadata": {},
   "outputs": [
    {
     "name": "stderr",
     "output_type": "stream",
     "text": [
      "WARNING: hdu= was not specified but multiple tables are present, reading in first available table (hdu=1) [astropy.io.fits.connect]\n"
     ]
    },
    {
     "data": {
      "text/plain": [
       "(500, 4)"
      ]
     },
     "execution_count": 6,
     "metadata": {},
     "output_type": "execute_result"
    }
   ],
   "source": [
    "petal    = 0\n",
    "\n",
    "table    = Table.read(data_path/\"zbest-{}-70502-20200225.fits\".format(petal))\n",
    "targets  = [35185754749537153, 35185760747391658, 35185760747392924, 35185766787188134]\n",
    "\n",
    "len(table), len(targets)"
   ]
  },
  {
   "cell_type": "code",
   "execution_count": 10,
   "metadata": {},
   "outputs": [
    {
     "name": "stdout",
     "output_type": "stream",
     "text": [
      "\n",
      "\n",
      "\n",
      "Found on petal 7:\n",
      "500 spectra in total\n",
      "1 spectra selected\n"
     ]
    }
   ],
   "source": [
    "# Read the files from the mini-SV.\n",
    "petals     = [0, 3, 6, 7, 9]\n",
    "petals     = [7]\n",
    "\n",
    "for petal in petals:\n",
    "  print('\\n\\n')\n",
    "    \n",
    "  zbfile   = data_path/\"zbest-{}-70502-20200225.fits\".format(petal)\n",
    "  specfile = data_path/\"coadd-{}-70502-20200225.fits\".format(petal)\n",
    "\n",
    "  spectra  = desispec.io.read_spectra(specfile)\n",
    "  zbest    = Table.read(zbfile, 'ZBEST')\n",
    "\n",
    "  spectra.fibermap[\"NIGHT\"] = np.ones(len(spectra.fibermap))\n",
    "    \n",
    "  try:\n",
    "    # Select a subset based on the target\n",
    "    sp_single_exp = spectra.select(targets=targets)\n",
    "\n",
    "  except:\n",
    "    print('None found on petal {}.'.format(petal))\n",
    "    continue\n",
    "    \n",
    "  print('Found on petal {}:'.format(petal))\n",
    "\n",
    "  print(str(spectra.num_spectra()) + \" spectra in total\")\n",
    "  print(str(sp_single_exp.num_spectra()) + \" spectra selected\")"
   ]
  },
  {
   "cell_type": "markdown",
   "metadata": {},
   "source": [
    "#### Spectral viewer  \n",
    "DO NOT load more than 100 spectra into the viewer as it might overload your web browser.\n"
   ]
  },
  {
   "cell_type": "code",
   "execution_count": 11,
   "metadata": {},
   "outputs": [
    {
     "ename": "NameError",
     "evalue": "name 'plotframes' is not defined",
     "output_type": "error",
     "traceback": [
      "\u001b[0;31m---------------------------------------------------------------------------\u001b[0m",
      "\u001b[0;31mNameError\u001b[0m                                 Traceback (most recent call last)",
      "\u001b[0;32m<ipython-input-11-469bd94953f7>\u001b[0m in \u001b[0;36m<module>\u001b[0;34m\u001b[0m\n\u001b[0;32m----> 1\u001b[0;31m \u001b[0mplotframes\u001b[0m\u001b[0;34m.\u001b[0m\u001b[0mplotspectra\u001b[0m\u001b[0;34m(\u001b[0m\u001b[0msp_single_exp\u001b[0m\u001b[0;34m,\u001b[0m \u001b[0mzcatalog\u001b[0m\u001b[0;34m=\u001b[0m\u001b[0mzbest\u001b[0m\u001b[0;34m,\u001b[0m \u001b[0mnotebook\u001b[0m\u001b[0;34m=\u001b[0m\u001b[0;32mTrue\u001b[0m\u001b[0;34m,\u001b[0m \u001b[0mwith_coaddcam\u001b[0m\u001b[0;34m=\u001b[0m\u001b[0;32mFalse\u001b[0m\u001b[0;34m,\u001b[0m \u001b[0mwith_thumb_tab\u001b[0m\u001b[0;34m=\u001b[0m\u001b[0;32mFalse\u001b[0m\u001b[0;34m)\u001b[0m\u001b[0;34m\u001b[0m\u001b[0m\n\u001b[0m",
      "\u001b[0;31mNameError\u001b[0m: name 'plotframes' is not defined"
     ]
    }
   ],
   "source": [
    "plotframes.plotspectra(sp_single_exp, zcatalog=zbest, notebook=True, with_coaddcam=False, with_thumb_tab=False)"
   ]
  },
  {
   "cell_type": "code",
   "execution_count": null,
   "metadata": {},
   "outputs": [],
   "source": []
  }
 ],
 "metadata": {
  "kernelspec": {
   "display_name": "DESI master",
   "language": "python",
   "name": "desi-master"
  },
  "language_info": {
   "codemirror_mode": {
    "name": "ipython",
    "version": 3
   },
   "file_extension": ".py",
   "mimetype": "text/x-python",
   "name": "python",
   "nbconvert_exporter": "python",
   "pygments_lexer": "ipython3",
   "version": "3.6.6"
  },
  "widgets": {
   "application/vnd.jupyter.widget-state+json": {
    "state": {},
    "version_major": 2,
    "version_minor": 0
   }
  }
 },
 "nbformat": 4,
 "nbformat_minor": 4
}
