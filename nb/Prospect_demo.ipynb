{
 "cells": [
  {
   "cell_type": "markdown",
   "metadata": {},
   "source": [
    "# Spectral viewer demo with a notebook  \n",
    "(Modified version of the notebook available on prospect's github repo)   \n",
    "All the desi packages along with bokeh and numba should be installed"
   ]
  },
  {
   "cell_type": "code",
   "execution_count": 1,
   "metadata": {},
   "outputs": [],
   "source": [
    "import os, sys\n",
    "import numpy         as     np\n",
    "\n",
    "from   astropy.table import Table\n",
    "from   pathlib       import Path\n",
    "\n",
    "# uncomment this and replace with proper path if the redrock template environment variable is not found\n",
    "# os.environ[\"RR_TEMPLATE_DIR\"] = \"/opt/astrosoft/redrock-templates\"\n",
    "\n",
    "# import importlib\n",
    "# importlib.reload(utils_specviewer)\n",
    "# importlib.reload(plotframes)"
   ]
  },
  {
   "cell_type": "code",
   "execution_count": 2,
   "metadata": {},
   "outputs": [],
   "source": [
    "# Change the path below based on where you have downloaded prospect\n",
    "sys.path.append(\"/global/homes/m/mjwilson/BGS/MINISV/prospect/py/\")\n",
    "\n",
    "import desispec\n",
    "import prospect\n",
    "\n",
    "from prospect import utils_specviewer, plotframes"
   ]
  },
  {
   "cell_type": "code",
   "execution_count": 3,
   "metadata": {},
   "outputs": [],
   "source": [
    "# Path to the directory where files are saved\n",
    "data_path = Path(\"/global/cfs/cdirs/desi/spectro/redux/daily/tiles/70502/20200225/\")"
   ]
  },
  {
   "cell_type": "code",
   "execution_count": 4,
   "metadata": {},
   "outputs": [
    {
     "name": "stderr",
     "output_type": "stream",
     "text": [
      "WARNING: hdu= was not specified but multiple tables are present, reading in first available table (hdu=1) [astropy.io.fits.connect]\n"
     ]
    },
    {
     "data": {
      "text/plain": [
       "(500, 4)"
      ]
     },
     "execution_count": 4,
     "metadata": {},
     "output_type": "execute_result"
    }
   ],
   "source": [
    "petal    = 3\n",
    "\n",
    "table    = Table.read(data_path/\"zbest-{}-70502-20200225.fits\".format(petal))\n",
    "targets  = [35185754749537153, 35185760747391658, 35185760747392924, 35185766787188134]\n",
    "\n",
    "len(table), len(targets)"
   ]
  },
  {
   "cell_type": "code",
   "execution_count": 9,
   "metadata": {},
   "outputs": [
    {
     "name": "stdout",
     "output_type": "stream",
     "text": [
      "\n",
      "\n",
      "\n",
      "Found on petal 7:\n",
      "500 spectra in total\n",
      "1 spectra selected\n"
     ]
    }
   ],
   "source": [
    "# Read the files from the mini-SV.\n",
    "petals     = [0, 3, 6, 7, 9]\n",
    "petals     = [7]\n",
    "\n",
    "for petal in petals:\n",
    "  print('\\n\\n')\n",
    "    \n",
    "  zbfile   = data_path/\"zbest-{}-70502-20200225.fits\".format(petal)\n",
    "  specfile = data_path/\"coadd-{}-70502-20200225.fits\".format(petal)\n",
    "\n",
    "  spectra  = desispec.io.read_spectra(specfile)\n",
    "  zbest    = Table.read(zbfile, 'ZBEST')\n",
    "\n",
    "  spectra.fibermap[\"NIGHT\"] = np.ones(len(spectra.fibermap))\n",
    "    \n",
    "  try:\n",
    "    # Select a subset based on the target\n",
    "    sp_single_exp = spectra.select(targets=targets)\n",
    "\n",
    "  except:\n",
    "    print('None found on petal {}.'.format(petal))\n",
    "    continue\n",
    "    \n",
    "  print('Found on petal {}:'.format(petal))\n",
    "\n",
    "  print(str(spectra.num_spectra()) + \" spectra in total\")\n",
    "  print(str(sp_single_exp.num_spectra()) + \" spectra selected\")"
   ]
  },
  {
   "cell_type": "markdown",
   "metadata": {},
   "source": [
    "#### Spectral viewer  \n",
    "DO NOT load more than 100 spectra into the viewer as it might overload your web browser.\n"
   ]
  },
  {
   "cell_type": "code",
   "execution_count": 10,
   "metadata": {},
   "outputs": [],
   "source": [
    "plotframes.plotspectra(sp_single_exp, zcatalog=zbest, notebook=False, with_coaddcam=False, with_thumb_tab=False, title='GAMA_FAIL_{}'.format(petal), html_dir='/global/homes/m/mjwilson/www/MINISV')"
   ]
  },
  {
   "cell_type": "code",
   "execution_count": 11,
   "metadata": {},
   "outputs": [
    {
     "data": {
      "text/plain": [
       "0"
      ]
     },
     "execution_count": 11,
     "metadata": {},
     "output_type": "execute_result"
    }
   ],
   "source": [
    "#  Fix permissions.\n",
    "os.system('chmod --reference=/global/homes/m/mjwilson/www/plots/visibility-nofullmoon-26-0.pdf /global/homes/m/mjwilson/www/MINISV/*')"
   ]
  },
  {
   "cell_type": "markdown",
   "metadata": {},
   "source": [
    "Done."
   ]
  }
 ],
 "metadata": {
  "kernelspec": {
   "display_name": "DESI master",
   "language": "python",
   "name": "desi-master"
  },
  "language_info": {
   "codemirror_mode": {
    "name": "ipython",
    "version": 3
   },
   "file_extension": ".py",
   "mimetype": "text/x-python",
   "name": "python",
   "nbconvert_exporter": "python",
   "pygments_lexer": "ipython3",
   "version": "3.6.6"
  },
  "widgets": {
   "application/vnd.jupyter.widget-state+json": {
    "state": {},
    "version_major": 2,
    "version_minor": 0
   }
  }
 },
 "nbformat": 4,
 "nbformat_minor": 4
}
