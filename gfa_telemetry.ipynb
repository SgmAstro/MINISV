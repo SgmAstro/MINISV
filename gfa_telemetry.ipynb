{
 "cells": [
  {
   "cell_type": "code",
   "execution_count": 1,
   "metadata": {},
   "outputs": [],
   "source": [
    "%matplotlib inline"
   ]
  },
  {
   "cell_type": "code",
   "execution_count": 2,
   "metadata": {},
   "outputs": [],
   "source": [
    "import  os\n",
    "import  sys\n",
    "import  glob"
   ]
  },
  {
   "cell_type": "code",
   "execution_count": 3,
   "metadata": {},
   "outputs": [],
   "source": [
    "import  pdfkit\n",
    "import  fitsio\n",
    "import  redrock\n",
    "import  datetime\n",
    "import  redrock.templates\n",
    "\n",
    "import  pandas                  as      pd\n",
    "import  pylab                   as      pl\n",
    "import  numpy                   as      np\n",
    "import  matplotlib.pyplot       as      plt\n",
    "import  astropy.io.fits         as      fits\n",
    "import  matplotlib.pyplot       as      plt\n",
    "import  astropy.io.fits         as      fits\n",
    "\n",
    "from    astropy.table           import  Table, join, vstack, unique\n",
    "from    astropy.coordinates     import  SkyCoord\n",
    "from    astropy                 import  units as u\n",
    "from    desitarget.cmx          import  cmx_targetmask\n",
    "from    desitarget.targets      import  desi_mask, bgs_mask, mws_mask\n",
    "from    desispec.interpolation  import  resample_flux\n",
    "from    desispec.resolution     import  Resolution\n",
    "from    desispec.specscore      import  compute_frame_scores\n",
    "from    collections             import  OrderedDict\n",
    "from    mpl_toolkits.axes_grid1 import  make_axes_locatable\n",
    "from    itertools               import  combinations\n",
    "from    desisurvey.utils        import  get_date"
   ]
  },
  {
   "cell_type": "code",
   "execution_count": 14,
   "metadata": {},
   "outputs": [],
   "source": [
    "# /global/homes/m/mjwilson/BGS/MINISV/zhou\n",
    "version = 'v2'\n",
    "root    = '/global/cscratch1/sd/mjwilson/BGS/MINISV/coadds/{}/'.format(version)"
   ]
  },
  {
   "cell_type": "markdown",
   "metadata": {},
   "source": [
    "##  Aaron's GFA Telemetry"
   ]
  },
  {
   "cell_type": "code",
   "execution_count": 4,
   "metadata": {},
   "outputs": [],
   "source": [
    "file      = fits.open('/global/cfs/cdirs/desi/users/ameisner/GFA/minisv2/gfa_reduce_ccds_minisv2-thru_20200304.fits')\n",
    "# file[1].header"
   ]
  },
  {
   "cell_type": "code",
   "execution_count": 5,
   "metadata": {},
   "outputs": [
    {
     "data": {
      "text/html": [
       "&lt;Table length=76602&gt;\n",
       "<table id=\"table46913428134656\" class=\"table-striped table-bordered table-condensed\">\n",
       "<thead><tr><th>MEDIAN</th><th>MEAN</th><th>N_NON_FINITE</th><th>MAX</th><th>MIN</th><th>SIG_ROBUST</th><th>SIG</th><th>MEDIAN_Q1</th><th>MEAN_Q1</th><th>N_NON_FINITE_Q1</th><th>MAX_Q1</th><th>MIN_Q1</th><th>SIG_ROBUST_Q1</th><th>SIG_Q1</th><th>MEDIAN_Q2</th><th>MEAN_Q2</th><th>N_NON_FINITE_Q2</th><th>MAX_Q2</th><th>MIN_Q2</th><th>SIG_ROBUST_Q2</th><th>SIG_Q2</th><th>MEDIAN_Q3</th><th>MEAN_Q3</th><th>N_NON_FINITE_Q3</th><th>MAX_Q3</th><th>MIN_Q3</th><th>SIG_ROBUST_Q3</th><th>SIG_Q3</th><th>MEDIAN_Q4</th><th>MEAN_Q4</th><th>N_NON_FINITE_Q4</th><th>MAX_Q4</th><th>MIN_Q4</th><th>SIG_ROBUST_Q4</th><th>SIG_Q4</th><th>CAMERA</th><th>SKY_MAG_AB</th><th>SKY_MAG_AB_PER_AMP [4]</th><th>PETAL_LOC</th><th>EXPID</th><th>MJD</th><th>PROGRAM</th><th>SKYRA</th><th>SKYDEC</th><th>DOMSHUTL</th><th>DOMSHUTU</th><th>PMCOVER</th><th>MOONRA</th><th>MOONDEC</th><th>T_C_FOR_DARK</th><th>T_C_FOR_DARK_IS_GUESS</th><th>TIME_S_FOR_DARK</th><th>AIRMASS</th><th>NIGHT</th><th>FOCUS</th><th>EXPTIME</th><th>CUBE_INDEX</th><th>RACEN</th><th>DECCEN</th><th>FNAME_RAW</th><th>GITREV</th><th>EXTNAME</th><th>CONTRAST</th><th>FIBER_FRACFLUX</th><th>N_SOURCES_FOR_PSF</th><th>APER_CORR_FAC</th><th>XCENTROID_PSF</th><th>YCENTROID_PSF</th><th>MOON_SEP_DEG</th><th>ZP_ADU_PER_S</th><th>TRANSPARENCY</th><th>NPIX_BAD_TOTAL</th><th>NPIX_BAD_PER_AMP [4]</th><th>OVERSCAN_MEDIANS_ADU [4]</th><th>PRESCAN_MEDIANS_ADU [4]</th><th>FWHM_MAJOR_PIX</th><th>FWHM_MINOR_PIX</th><th>FWHM_PIX</th><th>FWHM_ASEC</th><th>N_SOURCES</th><th>NAXIS [2]</th><th>CD [2,2]</th><th>CDELT [2]</th><th>CRPIX [2]</th><th>CRVAL [2]</th><th>CTYPE [2]</th><th>LONGPOLE</th><th>LATPOLE</th><th>PV2 [2]</th><th>FNAME_MASTER_DARK</th><th>DO_FIT_DARK_SCALING</th><th>MASTER_DARK_EXPTIME</th><th>MASTER_DARK_GCCDTEMP</th><th>DARK_TEMP_SCALING_FACTOR</th><th>TOTAL_DARK_SCALING_FACTOR</th><th>DARK_RESCALE_FACTORS_PER_AMP [4]</th><th>DARK_RESCALE_FACTOR_BESTFIT</th><th>DARK_RESCALE_FACTOR_ADOPTED</th><th>APPLY_DARK_RESCALE_FACTOR</th><th>DARK_RESCALE_NCALLS [4]</th><th>DARK_RESCALE_CONVERGED [4]</th></tr></thead>\n",
       "<thead><tr><th>float64</th><th>float64</th><th>int64</th><th>float64</th><th>float64</th><th>float64</th><th>float64</th><th>float64</th><th>float64</th><th>int64</th><th>float64</th><th>float64</th><th>float64</th><th>float64</th><th>float64</th><th>float64</th><th>int64</th><th>float64</th><th>float64</th><th>float64</th><th>float64</th><th>float64</th><th>float64</th><th>int64</th><th>float64</th><th>float64</th><th>float64</th><th>float64</th><th>float64</th><th>float64</th><th>int64</th><th>float64</th><th>float64</th><th>float64</th><th>float64</th><th>str6</th><th>float64</th><th>float32</th><th>uint8</th><th>int64</th><th>float64</th><th>str94</th><th>float64</th><th>float64</th><th>str8</th><th>str8</th><th>str4</th><th>float64</th><th>float64</th><th>float64</th><th>int64</th><th>float64</th><th>float64</th><th>int64</th><th>str37</th><th>float64</th><th>int64</th><th>float64</th><th>float64</th><th>str97</th><th>str7</th><th>str6</th><th>float64</th><th>float64</th><th>int64</th><th>float64</th><th>float64</th><th>float64</th><th>float64</th><th>float64</th><th>float64</th><th>int64</th><th>int64</th><th>float32</th><th>float32</th><th>float64</th><th>float64</th><th>float64</th><th>float64</th><th>int64</th><th>int64</th><th>float64</th><th>float64</th><th>float64</th><th>float64</th><th>str8</th><th>float64</th><th>float64</th><th>float64</th><th>str114</th><th>uint8</th><th>float64</th><th>float64</th><th>float64</th><th>float64</th><th>float64</th><th>float64</th><th>float64</th><th>uint8</th><th>int64</th><th>uint8</th></tr></thead>\n",
       "<tr><td>1712.0</td><td>1725.098036182019</td><td>0</td><td>40297.0</td><td>1558.0</td><td>50.40847542919047</td><td>50.40847542919047</td><td>1723.0</td><td>1738.676263853561</td><td>0</td><td>19942.0</td><td>1595.0</td><td>48.92587321068487</td><td>48.92587321068487</td><td>1670.0</td><td>1685.548578306686</td><td>0</td><td>40297.0</td><td>1558.0</td><td>37.06505546264005</td><td>37.06505546264005</td><td>1713.0</td><td>1728.5348685804263</td><td>0</td><td>36932.0</td><td>1607.0</td><td>41.51286211815686</td><td>41.51286211815686</td><td>1733.0</td><td>1747.6324339874031</td><td>0</td><td>32441.0</td><td>1616.0</td><td>44.47806655516806</td><td>44.47806655516806</td><td>GUIDE0</td><td>21.278239609429775</td><td>21.311693 .. 21.263325</td><td>0</td><td>50986</td><td>58899.13338673</td><td>system test</td><td>105.00378</td><td>38.000781</td><td>open</td><td>open</td><td>open</td><td>293.097195</td><td>-23.012979</td><td>10.805</td><td>0</td><td>15.0</td><td>1.044303</td><td>20200219</td><td>897.3,-549.8,27.5,-0.9,14.3,0.0</td><td>15.0</td><td>0</td><td>104.487796764084</td><td>36.46902917158815</td><td>/project/projectdirs/desi/spectro/data/20200219/00050986/guide-00050986.fits.fz</td><td>1f12aa8</td><td>GUIDE0</td><td>19.226427349944906</td><td>0.5688880299256625</td><td>46</td><td>0.9029743560324699</td><td>25.00828606704136</td><td>25.11117388860352</td><td>164.624366038092</td><td>25.62602948276017</td><td>0.94569036749243</td><td>0</td><td>0 .. 0</td><td>1432.0 .. 1394.0</td><td>1418.0 .. 1384.0</td><td>5.7282788968856595</td><td>4.944645517172254</td><td>5.32205867767334</td><td>1.0910220289230346</td><td>103</td><td>2048 .. 1032</td><td>-5.64158190288e-05 .. 5.1670258812e-05</td><td>1.0 .. 1.0</td><td>2488.938096826881 .. 29633.401438347595</td><td>105.00378 .. 38.000781</td><td>RA---TAN .. DEC--TAN</td><td>180.0</td><td>90.0</td><td>0.0 .. 0.0</td><td>/project/projectdirs/desi/users/ameisner/GFA/gfa_reduce_etc/master_dark_library/master_dark-00041168_00041237.fits</td><td>1</td><td>15.0</td><td>11.074</td><td>0.9409868352447903</td><td>14.400492886005727</td><td>1.0195446777343748 .. 1.0183801269531252</td><td>1.020240478515625</td><td>1.020240478515625</td><td>1</td><td>37 .. 41</td><td>1 .. 1</td></tr>\n",
       "<tr><td>1527.0</td><td>1505.677508686864</td><td>0</td><td>34146.0</td><td>1262.0</td><td>99.33434863987533</td><td>99.33434863987533</td><td>1553.0</td><td>1557.5716013353924</td><td>0</td><td>15625.0</td><td>1465.0</td><td>16.308624403561623</td><td>16.308624403561623</td><td>1487.0</td><td>1492.4405413487161</td><td>0</td><td>32814.0</td><td>1384.0</td><td>16.308624403561623</td><td>16.308624403561623</td><td>1617.0</td><td>1625.431033112282</td><td>0</td><td>34146.0</td><td>1532.0</td><td>17.791226622067224</td><td>17.791226622067224</td><td>1341.0</td><td>1347.2668589510658</td><td>0</td><td>28037.0</td><td>1262.0</td><td>17.791226622067224</td><td>17.791226622067224</td><td>GUIDE2</td><td>21.1566682535317</td><td>21.167545 .. 21.158138</td><td>2</td><td>50986</td><td>58899.13338672</td><td>system test</td><td>105.00378</td><td>38.000781</td><td>open</td><td>open</td><td>open</td><td>293.097195</td><td>-23.012979</td><td>10.767</td><td>0</td><td>15.0</td><td>1.044303</td><td>20200219</td><td>897.3,-549.8,27.5,-0.9,14.3,0.0</td><td>15.0</td><td>0</td><td>103.0030839499435</td><td>37.892308618900415</td><td>/project/projectdirs/desi/spectro/data/20200219/00050986/guide-00050986.fits.fz</td><td>1f12aa8</td><td>GUIDE2</td><td>16.400058085601966</td><td>0.5727246366725838</td><td>52</td><td>0.8958070166380436</td><td>24.956547494839022</td><td>24.9927208100597</td><td>162.78977449589493</td><td>25.614112685824765</td><td>0.9900119796663759</td><td>0</td><td>0 .. 0</td><td>1409.0 .. 1286.0</td><td>1392.0 .. 1269.0</td><td>5.578491370629829</td><td>5.295464248572551</td><td>5.435135841369629</td><td>1.114202847480774</td><td>116</td><td>2048 .. 1032</td><td>-4.46388361775e-07 .. -2.49389487994e-08</td><td>1.0 .. 1.0</td><td>2580.948270283123 .. 29524.64019120069</td><td>105.00378 .. 38.000781</td><td>RA---TAN .. DEC--TAN</td><td>180.0</td><td>90.0</td><td>0.0 .. 0.0</td><td>/project/projectdirs/desi/users/ameisner/GFA/gfa_reduce_etc/master_dark_library/master_dark-00035349_00035498.fits</td><td>1</td><td>15.0</td><td>10.487</td><td>1.0755448140352153</td><td>15.55448918778145</td><td>0.9644238281249999 .. 0.9687426757812501</td><td>0.964130859375</td><td>0.964130859375</td><td>1</td><td>37 .. 42</td><td>1 .. 1</td></tr>\n",
       "<tr><td>1648.0</td><td>1656.855261987494</td><td>0</td><td>44276.0</td><td>1380.0</td><td>161.60364181711063</td><td>161.60364181711063</td><td>1663.0</td><td>1669.7483648255813</td><td>0</td><td>31469.0</td><td>1571.0</td><td>20.75643105907843</td><td>20.75643105907843</td><td>1628.0</td><td>1638.0780587602956</td><td>0</td><td>32752.0</td><td>1532.0</td><td>22.23903327758403</td><td>22.23903327758403</td><td>1816.0</td><td>1845.276980377907</td><td>0</td><td>44276.0</td><td>1735.0</td><td>23.721635496089633</td><td>23.721635496089633</td><td>1468.0</td><td>1474.3176439861918</td><td>0</td><td>18953.0</td><td>1380.0</td><td>20.75643105907843</td><td>20.75643105907843</td><td>GUIDE3</td><td>21.208692664858454</td><td>21.227224 .. 21.22509</td><td>3</td><td>50986</td><td>58899.13338672</td><td>system test</td><td>105.00378</td><td>38.000781</td><td>open</td><td>open</td><td>open</td><td>293.097195</td><td>-23.012979</td><td>10.692</td><td>0</td><td>15.0</td><td>1.044303</td><td>20200219</td><td>897.3,-549.8,27.5,-0.9,14.3,0.0</td><td>15.0</td><td>0</td><td>103.3015377900087</td><td>38.837406452603474</td><td>/project/projectdirs/desi/spectro/data/20200219/00050986/guide-00050986.fits.fz</td><td>1f12aa8</td><td>GUIDE3</td><td>20.61116567323593</td><td>0.5804579078211793</td><td>48</td><td>0.9040456486050676</td><td>24.97348685549459</td><td>25.089596663071966</td><td>162.1102600278932</td><td>25.58450669679926</td><td>0.9571275951749922</td><td>0</td><td>0 .. 0</td><td>1606.0 .. 1425.0</td><td>1594.0 .. 1413.0</td><td>5.3618645533961</td><td>5.0696163447595195</td><td>5.213693141937256</td><td>1.0688070940971375</td><td>118</td><td>2048 .. 1032</td><td>3.47327717614e-05 .. -3.23339865093e-05</td><td>1.0 .. 1.0</td><td>2776.9158498042743 .. 29377.762902272123</td><td>105.00378 .. 38.000781</td><td>RA---TAN .. DEC--TAN</td><td>180.0</td><td>90.0</td><td>0.0 .. 0.0</td><td>/project/projectdirs/desi/users/ameisner/GFA/gfa_reduce_etc/master_dark_library/master_dark-00041168_00041237.fits</td><td>1</td><td>15.0</td><td>10.989</td><td>0.9339045950210413</td><td>14.262687990885263</td><td>1.0175305175781248 .. 1.0099218750000003</td><td>1.0181402587890624</td><td>1.0181402587890624</td><td>1</td><td>37 .. 38</td><td>1 .. 1</td></tr>\n",
       "<tr><td>1402.0</td><td>1392.3845191186713</td><td>0</td><td>32481.0</td><td>1225.0</td><td>41.51286211815686</td><td>41.51286211815686</td><td>1433.0</td><td>1441.2292896832607</td><td>0</td><td>19550.0</td><td>1358.0</td><td>16.308624403561623</td><td>16.308624403561623</td><td>1389.0</td><td>1399.9491998243702</td><td>0</td><td>32481.0</td><td>1322.0</td><td>16.308624403561623</td><td>16.308624403561623</td><td>1412.0</td><td>1419.5560520379117</td><td>0</td><td>21576.0</td><td>1343.0</td><td>14.82602218505602</td><td>14.82602218505602</td><td>1302.0</td><td>1308.8035349291424</td><td>0</td><td>32446.0</td><td>1225.0</td><td>14.82602218505602</td><td>14.82602218505602</td><td>GUIDE5</td><td>21.353773717624378</td><td>21.369112 .. 21.345005</td><td>5</td><td>50986</td><td>58899.13338675</td><td>system test</td><td>105.00378</td><td>38.000781</td><td>open</td><td>open</td><td>open</td><td>293.097195</td><td>-23.012979</td><td>10.778</td><td>0</td><td>15.0</td><td>1.044303</td><td>20200219</td><td>897.3,-549.8,27.5,-0.9,14.3,0.0</td><td>15.0</td><td>0</td><td>105.52385397031848</td><td>39.510247978344864</td><td>/project/projectdirs/desi/spectro/data/20200219/00050986/guide-00050986.fits.fz</td><td>1f12aa8</td><td>GUIDE5</td><td>18.027314375329894</td><td>0.5690304425403472</td><td>49</td><td>0.9064104728714908</td><td>24.970215043874227</td><td>24.940745988725965</td><td>162.2957545790964</td><td>25.608487353383943</td><td>0.9867506587470922</td><td>0</td><td>0 .. 0</td><td>1238.0 .. 1218.0</td><td>1228.0 .. 1208.0</td><td>5.660690525480596</td><td>5.419513125641763</td><td>5.53878927230835</td><td>1.1354518008232115</td><td>109</td><td>2048 .. 1032</td><td>5.64295454824e-05 .. -5.17064279693e-05</td><td>1.0 .. 1.0</td><td>2617.653359582884 .. 29181.933554727846</td><td>105.00378 .. 38.000781</td><td>RA---TAN .. DEC--TAN</td><td>180.0</td><td>90.0</td><td>0.0 .. 0.0</td><td>/project/projectdirs/desi/users/ameisner/GFA/gfa_reduce_etc/master_dark_library/master_dark-00041168_00041237.fits</td><td>1</td><td>15.0</td><td>11.074</td><td>0.9310571202254855</td><td>14.523911437906104</td><td>1.0348437500000003 .. 1.034730224609375</td><td>1.03995849609375</td><td>1.03995849609375</td><td>1</td><td>24 .. 39</td><td>1 .. 1</td></tr>\n",
       "<tr><td>1577.0</td><td>1610.3405648164971</td><td>0</td><td>49518.0</td><td>1456.0</td><td>65.2344976142465</td><td>65.2344976142465</td><td>1578.0</td><td>1588.7289755178053</td><td>0</td><td>27719.0</td><td>1493.0</td><td>14.82602218505602</td><td>14.82602218505602</td><td>1518.0</td><td>1533.1157624000728</td><td>0</td><td>25795.0</td><td>1456.0</td><td>25.204237714595234</td><td>25.204237714595234</td><td>1562.0</td><td>1587.2158373455668</td><td>0</td><td>43092.0</td><td>1493.0</td><td>26.686839933100835</td><td>26.686839933100835</td><td>1696.0</td><td>1732.3016840025437</td><td>0</td><td>49518.0</td><td>1619.0</td><td>19.273828840572826</td><td>19.273828840572826</td><td>GUIDE7</td><td>21.3865286777436</td><td>21.378036 .. 21.372307</td><td>7</td><td>50986</td><td>58899.13338675</td><td>system test</td><td>105.00378</td><td>38.000781</td><td>open</td><td>open</td><td>open</td><td>293.097195</td><td>-23.012979</td><td>10.789</td><td>0</td><td>15.0</td><td>1.044303</td><td>20200219</td><td>897.3,-549.8,27.5,-0.9,14.3,0.0</td><td>15.0</td><td>0</td><td>106.99172699623146</td><td>38.056655247843985</td><td>/project/projectdirs/desi/spectro/data/20200219/00050986/guide-00050986.fits.fz</td><td>1f12aa8</td><td>GUIDE7</td><td>21.3278670027376</td><td>0.5814225790308973</td><td>60</td><td>0.8897495757547378</td><td>25.052689572986722</td><td>25.192235101252788</td><td>164.07410474214248</td><td>25.49937988413756</td><td>0.9676366181830645</td><td>0</td><td>0 .. 0</td><td>1406.0 .. 1373.0</td><td>1395.0 .. 1363.0</td><td>5.341992502343184</td><td>4.83422351204398</td><td>5.081769943237305</td><td>1.0417628383636475</td><td>158</td><td>2048 .. 1032</td><td>3.87411969604e-07 .. 6.56255014282e-08</td><td>1.0 .. 1.0</td><td>2281.139128142991 .. 29266.92752788988</td><td>105.00378 .. 38.000781</td><td>RA---TAN .. DEC--TAN</td><td>180.0</td><td>90.0</td><td>0.0 .. 0.0</td><td>/project/projectdirs/desi/users/ameisner/GFA/gfa_reduce_etc/master_dark_library/master_dark-00041168_00041237.fits</td><td>1</td><td>15.0</td><td>11.072</td><td>0.9365181185656268</td><td>14.257673817613476</td><td>1.020079345703125 .. 1.02107421875</td><td>1.0149420166015624</td><td>1.0149420166015624</td><td>1</td><td>36 .. 30</td><td>1 .. 1</td></tr>\n",
       "<tr><td>1779.0</td><td>1792.0721255753392</td><td>0</td><td>46181.0</td><td>1448.0</td><td>213.49471946480668</td><td>213.49471946480668</td><td>1955.0</td><td>1986.5369712179022</td><td>0</td><td>32718.0</td><td>1840.0</td><td>68.19970205125769</td><td>68.19970205125769</td><td>1659.0</td><td>1683.9100635144137</td><td>0</td><td>30508.0</td><td>1523.0</td><td>75.6127131437857</td><td>75.6127131437857</td><td>1836.0</td><td>1886.0540970203488</td><td>0</td><td>46181.0</td><td>1665.0</td><td>80.06051979930251</td><td>80.06051979930251</td><td>1586.0</td><td>1611.7873705486918</td><td>0</td><td>13931.0</td><td>1448.0</td><td>72.6475087067745</td><td>72.6475087067745</td><td>GUIDE8</td><td>21.269454710781964</td><td>21.269157 .. 21.210005</td><td>8</td><td>50986</td><td>58899.13338674</td><td>system test</td><td>105.00378</td><td>38.000781</td><td>open</td><td>open</td><td>open</td><td>293.097195</td><td>-23.012979</td><td>10.858</td><td>0</td><td>15.0</td><td>1.044303</td><td>20200219</td><td>897.3,-549.8,27.5,-0.9,14.3,0.0</td><td>15.0</td><td>0</td><td>106.65209953034582</td><td>37.121514736066075</td><td>/project/projectdirs/desi/spectro/data/20200219/00050986/guide-00050986.fits.fz</td><td>1f12aa8</td><td>GUIDE8</td><td>10.825883351128004</td><td>0.5824807756031775</td><td>33</td><td>0.8949327342855222</td><td>24.93187459444488</td><td>25.001731680728174</td><td>164.8395766407235</td><td>25.58272520320054</td><td>0.9590985353318331</td><td>0</td><td>0 .. 0</td><td>1570.0 .. 1415.0</td><td>1562.0 .. 1406.0</td><td>5.379458533531967</td><td>4.738445412960841</td><td>5.048789024353027</td><td>1.0350017499923705</td><td>78</td><td>2048 .. 1032</td><td>-3.43493027588e-05 .. 3.18945245796e-05</td><td>1.0 .. 1.0</td><td>2147.952514640694 .. 29429.25431346307</td><td>105.00378 .. 38.000781</td><td>RA---TAN .. DEC--TAN</td><td>180.0</td><td>90.0</td><td>0.0 .. 0.0</td><td>/project/projectdirs/desi/users/ameisner/GFA/gfa_reduce_etc/master_dark_library/master_dark-00041168_00041237.fits</td><td>1</td><td>15.0</td><td>11.128</td><td>0.9486321417421167</td><td>14.295943443653474</td><td>1.0163330078125004 .. 1.0067443847656254</td><td>1.0046706771850586</td><td>1.0046706771850586</td><td>1</td><td>42 .. 42</td><td>1 .. 1</td></tr>\n",
       "<tr><td>1539.0</td><td>1541.1870831630026</td><td>0</td><td>25563.0</td><td>1436.0</td><td>29.65204437011204</td><td>29.65204437011204</td><td>1549.0</td><td>1551.9950509477956</td><td>0</td><td>9296.0</td><td>1458.0</td><td>22.23903327758403</td><td>22.23903327758403</td><td>1504.0</td><td>1508.3434926114342</td><td>0</td><td>22332.0</td><td>1436.0</td><td>17.791226622067224</td><td>17.791226622067224</td><td>1544.0</td><td>1549.6121551750243</td><td>0</td><td>25563.0</td><td>1454.0</td><td>23.721635496089633</td><td>23.721635496089633</td><td>1552.0</td><td>1554.7976339177567</td><td>0</td><td>13579.0</td><td>1468.0</td><td>23.721635496089633</td><td>23.721635496089633</td><td>GUIDE0</td><td>20.93820770103979</td><td>20.922247 .. 20.995934</td><td>0</td><td>50986</td><td>58899.13381619</td><td>system test</td><td>105.00378</td><td>38.000781</td><td>open</td><td>open</td><td>open</td><td>293.097195</td><td>-23.012979</td><td>10.735</td><td>0</td><td>5.0</td><td>1.044303</td><td>20200219</td><td>897.3,-549.8,27.5,-0.9,14.3,0.0</td><td>5.0</td><td>1</td><td>104.49401145474958</td><td>36.47778763385154</td><td>/project/projectdirs/desi/spectro/data/20200219/00050986/guide-00050986.fits.fz</td><td>1f12aa8</td><td>GUIDE0</td><td>16.950957153374954</td><td>0.6234515630290268</td><td>36</td><td>0.915951165901837</td><td>24.97416753538676</td><td>25.185678282987816</td><td>164.61947718927587</td><td>25.617214392958132</td><td>0.9380433944125975</td><td>0</td><td>0 .. 0</td><td>1432.0 .. 1394.0</td><td>1417.0 .. 1383.0</td><td>5.021142177270248</td><td>4.181897767294762</td><td>4.5823469161987305</td><td>0.9393811178207397</td><td>84</td><td>2048 .. 1032</td><td>-5.64158190288e-05 .. 5.1670258812e-05</td><td>1.0 .. 1.0</td><td>2523.499495787887 .. 29452.170765375537</td><td>105.00378 .. 38.000781</td><td>RA---TAN .. DEC--TAN</td><td>180.0</td><td>90.0</td><td>0.0 .. 0.0</td><td>/project/projectdirs/desi/users/ameisner/GFA/gfa_reduce_etc/master_dark_library/master_dark-00028420_00028519.fits</td><td>1</td><td>5.0</td><td>10.778</td><td>0.9899115617773493</td><td>4.979877777727622</td><td>1.0101913452148439 .. 0.9685742187499999</td><td>1.0061257934570311</td><td>1.0061257934570311</td><td>1</td><td>38 .. 33</td><td>1 .. 1</td></tr>\n",
       "<tr><td>1401.0</td><td>1375.8609604946403</td><td>0</td><td>17667.0</td><td>1152.0</td><td>93.40393976585293</td><td>93.40393976585293</td><td>1425.0</td><td>1426.5945354136386</td><td>0</td><td>6164.0</td><td>1351.0</td><td>11.860817748044816</td><td>11.860817748044816</td><td>1365.0</td><td>1366.8507240945978</td><td>0</td><td>17667.0</td><td>1290.0</td><td>11.860817748044816</td><td>11.860817748044816</td><td>1491.0</td><td>1492.5997683502908</td><td>0</td><td>8687.0</td><td>1424.0</td><td>14.82602218505602</td><td>14.82602218505602</td><td>1216.0</td><td>1217.3988141200339</td><td>0</td><td>10175.0</td><td>1152.0</td><td>13.343419966550417</td><td>13.343419966550417</td><td>GUIDE2</td><td>21.004558850440976</td><td>20.99756 .. 20.9793</td><td>2</td><td>50986</td><td>58899.1338162</td><td>system test</td><td>105.00378</td><td>38.000781</td><td>open</td><td>open</td><td>open</td><td>293.097195</td><td>-23.012979</td><td>10.794</td><td>0</td><td>5.0</td><td>1.044303</td><td>20200219</td><td>897.3,-549.8,27.5,-0.9,14.3,0.0</td><td>5.0</td><td>1</td><td>103.00784310217013</td><td>37.90021541935968</td><td>/project/projectdirs/desi/spectro/data/20200219/00050986/guide-00050986.fits.fz</td><td>1f12aa8</td><td>GUIDE2</td><td>10.649743763651786</td><td>0.612734874421569</td><td>46</td><td>0.9044902812029244</td><td>25.02908867496751</td><td>25.025004215707593</td><td>162.78519208144928</td><td>25.581093181034</td><td>0.9603568709196861</td><td>0</td><td>0 .. 0</td><td>1410.0 .. 1287.0</td><td>1392.0 .. 1268.0</td><td>5.040390980845532</td><td>4.695787154951094</td><td>4.865038871765137</td><td>0.997332968711853</td><td>86</td><td>2048 .. 1032</td><td>-4.46388361775e-07 .. -2.49389487994e-08</td><td>1.0 .. 1.0</td><td>2448.8664710865705 .. 29451.445285778904</td><td>105.00378 .. 38.000781</td><td>RA---TAN .. DEC--TAN</td><td>180.0</td><td>90.0</td><td>0.0 .. 0.0</td><td>/project/projectdirs/desi/users/ameisner/GFA/gfa_reduce_etc/master_dark_library/master_dark-00026584_00026684.fits</td><td>1</td><td>5.0</td><td>10.83</td><td>0.991109814423107</td><td>4.84084613787369</td><td>0.966900634765625 .. 0.9868066406249998</td><td>0.9768536376953124</td><td>0.9768536376953124</td><td>1</td><td>35 .. 32</td><td>1 .. 1</td></tr>\n",
       "<tr><td>1528.0</td><td>1523.8941674047662</td><td>0</td><td>41395.0</td><td>1267.0</td><td>191.25568618722266</td><td>191.25568618722266</td><td>1544.0</td><td>1546.5224268713662</td><td>0</td><td>25762.0</td><td>1471.0</td><td>11.860817748044816</td><td>11.860817748044816</td><td>1506.0</td><td>1507.99036117672</td><td>0</td><td>18063.0</td><td>1443.0</td><td>13.343419966550417</td><td>13.343419966550417</td><td>1691.0</td><td>1700.0259905674661</td><td>0</td><td>41395.0</td><td>1628.0</td><td>13.343419966550417</td><td>13.343419966550417</td><td>1340.0</td><td>1341.0378910035126</td><td>0</td><td>7185.0</td><td>1267.0</td><td>11.860817748044816</td><td>11.860817748044816</td><td>GUIDE3</td><td>21.076471621168476</td><td>21.024496 .. 21.135283</td><td>3</td><td>50986</td><td>58899.1338162</td><td>system test</td><td>105.00378</td><td>38.000781</td><td>open</td><td>open</td><td>open</td><td>293.097195</td><td>-23.012979</td><td>10.666</td><td>0</td><td>5.0</td><td>1.044303</td><td>20200219</td><td>897.3,-549.8,27.5,-0.9,14.3,0.0</td><td>5.0</td><td>1</td><td>103.30544555778697</td><td>38.845439327157685</td><td>/project/projectdirs/desi/spectro/data/20200219/00050986/guide-00050986.fits.fz</td><td>1f12aa8</td><td>GUIDE3</td><td>16.615911597540627</td><td>0.5932606769726034</td><td>36</td><td>0.8915898440845311</td><td>24.88252840123823</td><td>25.069732421120673</td><td>162.1048994991443</td><td>25.592237423973156</td><td>0.9639669152258955</td><td>0</td><td>0 .. 0</td><td>1604.0 .. 1424.0</td><td>1593.0 .. 1412.0</td><td>5.230255899145895</td><td>5.0017966397868845</td><td>5.114750862121582</td><td>1.0485239267349242</td><td>85</td><td>2048 .. 1032</td><td>3.47327717614e-05 .. -3.23339865093e-05</td><td>1.0 .. 1.0</td><td>2636.5988832082885 .. 29416.117633978796</td><td>105.00378 .. 38.000781</td><td>RA---TAN .. DEC--TAN</td><td>180.0</td><td>90.0</td><td>0.0 .. 0.0</td><td>/project/projectdirs/desi/users/ameisner/GFA/gfa_reduce_etc/master_dark_library/master_dark-00026730_00026829.fits</td><td>1</td><td>5.0</td><td>10.623</td><td>1.0104179171586787</td><td>5.174102606313571</td><td>1.023907470703125 .. 1.023505859375</td><td>1.0241510009765626</td><td>1.0241510009765626</td><td>1</td><td>32 .. 32</td><td>1 .. 1</td></tr>\n",
       "<tr><td>1300.0</td><td>1283.832634977592</td><td>0</td><td>16632.0</td><td>1132.0</td><td>35.58245324413445</td><td>35.58245324413445</td><td>1330.0</td><td>1332.277353212815</td><td>0</td><td>7440.0</td><td>1260.0</td><td>10.378215529539215</td><td>10.378215529539215</td><td>1289.0</td><td>1291.5044986222142</td><td>0</td><td>16632.0</td><td>1227.0</td><td>11.860817748044816</td><td>11.860817748044816</td><td>1309.0</td><td>1311.4497505601987</td><td>0</td><td>8123.0</td><td>1243.0</td><td>10.378215529539215</td><td>10.378215529539215</td><td>1198.0</td><td>1200.0989375151405</td><td>0</td><td>12072.0</td><td>1132.0</td><td>10.378215529539215</td><td>10.378215529539215</td><td>GUIDE5</td><td>21.106604232418686</td><td>21.160727 .. 21.096556</td><td>5</td><td>50986</td><td>58899.13381622</td><td>system test</td><td>105.00378</td><td>38.000781</td><td>open</td><td>open</td><td>open</td><td>293.097195</td><td>-23.012979</td><td>10.805</td><td>0</td><td>5.0</td><td>1.044303</td><td>20200219</td><td>897.3,-549.8,27.5,-0.9,14.3,0.0</td><td>5.0</td><td>1</td><td>105.5274092826785</td><td>39.519580607054586</td><td>/project/projectdirs/desi/spectro/data/20200219/00050986/guide-00050986.fits.fz</td><td>1f12aa8</td><td>GUIDE5</td><td>17.948690838637837</td><td>0.6176335833000983</td><td>34</td><td>0.9097483834751784</td><td>24.771300197255087</td><td>25.132534302474888</td><td>162.28828950666482</td><td>25.601468032375614</td><td>0.9803918596890495</td><td>0</td><td>0 .. 0</td><td>1240.0 .. 1219.0</td><td>1227.0 .. 1208.0</td><td>5.1526180025691275</td><td>4.818633219651675</td><td>4.982828140258789</td><td>1.0214797687530517</td><td>81</td><td>2048 .. 1032</td><td>5.64295454824e-05 .. -5.17064279693e-05</td><td>1.0 .. 1.0</td><td>2624.2123697725287 .. 29360.569324591845</td><td>105.00378 .. 38.000781</td><td>RA---TAN .. DEC--TAN</td><td>180.0</td><td>90.0</td><td>0.0 .. 0.0</td><td>/project/projectdirs/desi/users/ameisner/GFA/gfa_reduce_etc/master_dark_library/master_dark-00026584_00026684.fits</td><td>1</td><td>5.0</td><td>10.847</td><td>0.9896714774435817</td><td>4.99997928935556</td><td>1.0104345703125 .. 1.010435791015625</td><td>1.01043212890625</td><td>1.01043212890625</td><td>1</td><td>26 .. 30</td><td>1 .. 1</td></tr>\n",
       "<tr><td>...</td><td>...</td><td>...</td><td>...</td><td>...</td><td>...</td><td>...</td><td>...</td><td>...</td><td>...</td><td>...</td><td>...</td><td>...</td><td>...</td><td>...</td><td>...</td><td>...</td><td>...</td><td>...</td><td>...</td><td>...</td><td>...</td><td>...</td><td>...</td><td>...</td><td>...</td><td>...</td><td>...</td><td>...</td><td>...</td><td>...</td><td>...</td><td>...</td><td>...</td><td>...</td><td>...</td><td>...</td><td>...</td><td>...</td><td>...</td><td>...</td><td>...</td><td>...</td><td>...</td><td>...</td><td>...</td><td>...</td><td>...</td><td>...</td><td>...</td><td>...</td><td>...</td><td>...</td><td>...</td><td>...</td><td>...</td><td>...</td><td>...</td><td>...</td><td>...</td><td>...</td><td>...</td><td>...</td><td>...</td><td>...</td><td>...</td><td>...</td><td>...</td><td>...</td><td>...</td><td>...</td><td>...</td><td>...</td><td>...</td><td>...</td><td>...</td><td>...</td><td>...</td><td>...</td><td>...</td><td>...</td><td>...</td><td>...</td><td>...</td><td>...</td><td>...</td><td>...</td><td>...</td><td>...</td><td>...</td><td>...</td><td>...</td><td>...</td><td>...</td><td>...</td><td>...</td><td>...</td><td>...</td><td>...</td><td>...</td><td>...</td></tr>\n",
       "<tr><td>1539.0</td><td>1521.929298105166</td><td>0</td><td>15512.0</td><td>1264.0</td><td>163.08624403561623</td><td>163.08624403561623</td><td>1546.0</td><td>1546.986812621124</td><td>0</td><td>8848.0</td><td>1486.0</td><td>10.378215529539215</td><td>10.378215529539215</td><td>1532.0</td><td>1534.2324332303779</td><td>0</td><td>15512.0</td><td>1474.0</td><td>10.378215529539215</td><td>10.378215529539215</td><td>1677.0</td><td>1678.717659883721</td><td>0</td><td>9731.0</td><td>1627.0</td><td>11.860817748044816</td><td>11.860817748044816</td><td>1327.0</td><td>1327.7802866854408</td><td>0</td><td>6880.0</td><td>1264.0</td><td>11.860817748044816</td><td>11.860817748044816</td><td>GUIDE3</td><td>21.321014937929124</td><td>21.27754 .. 21.325623</td><td>3</td><td>53129</td><td>58913.51723174</td><td>ELG tile 70006</td><td>214.744692</td><td>53.40377</td><td>not open</td><td>open</td><td>open</td><td>108.949521</td><td>23.343527</td><td>9.849</td><td>0</td><td>5.0</td><td>1.106506</td><td>20200304</td><td>1384.3,-580.2,422.0,7.0,34.1,0.1</td><td>5.0</td><td>105</td><td>212.49767350571298</td><td>54.243270409421555</td><td>/project/projectdirs/desi/spectro/data/20200304/00053129/guide-00053129.fits.fz</td><td>1f12aa8</td><td>GUIDE3</td><td>5.0665601038139645</td><td>0.6424721876693498</td><td>7</td><td>0.8632652106899908</td><td>24.970776175976344</td><td>24.658068934297148</td><td>78.7045445282557</td><td>25.663130545540994</td><td>1.0357521272988255</td><td>0</td><td>0 .. 0</td><td>1604.0 .. 1463.0</td><td>1593.0 .. 1452.0</td><td>4.884314717230751</td><td>3.4604472199722385</td><td>4.111193656921387</td><td>0.8427946996688842</td><td>34</td><td>2048 .. 1032</td><td>3.47327717614e-05 .. -3.23339865093e-05</td><td>1.0 .. 1.0</td><td>2491.2321432099243 .. 29306.64179102776</td><td>214.744692 .. 53.40377</td><td>RA---TAN .. DEC--TAN</td><td>180.0</td><td>90.0</td><td>0.0 .. 0.0</td><td>/project/projectdirs/desi/users/ameisner/GFA/gfa_reduce_etc/master_dark_library/master_dark-00033669_00033718.fits</td><td>1</td><td>5.0</td><td>10.017</td><td>0.9522931179599221</td><td>4.704388451015635</td><td>0.9937597656249999 .. 1.017109375</td><td>0.9880126953124999</td><td>0.9880126953124999</td><td>1</td><td>27 .. 20</td><td>1 .. 1</td></tr>\n",
       "<tr><td>1289.0</td><td>1273.9057106195494</td><td>0</td><td>10863.0</td><td>1133.0</td><td>34.099851025628844</td><td>34.099851025628844</td><td>1319.0</td><td>1320.7442257903342</td><td>0</td><td>6578.0</td><td>1257.0</td><td>10.378215529539215</td><td>10.378215529539215</td><td>1277.0</td><td>1279.1393020984738</td><td>0</td><td>10863.0</td><td>1218.0</td><td>10.378215529539215</td><td>10.378215529539215</td><td>1298.0</td><td>1299.6895988523497</td><td>0</td><td>10790.0</td><td>1238.0</td><td>10.378215529539215</td><td>10.378215529539215</td><td>1195.0</td><td>1196.0497157370398</td><td>0</td><td>10174.0</td><td>1133.0</td><td>8.895613311033612</td><td>8.895613311033612</td><td>GUIDE5</td><td>21.355156237702644</td><td>21.321192 .. 21.40271</td><td>5</td><td>53129</td><td>58913.51723174</td><td>ELG tile 70006</td><td>214.744692</td><td>53.40377</td><td>not open</td><td>open</td><td>open</td><td>108.949521</td><td>23.343527</td><td>9.958</td><td>0</td><td>5.0</td><td>1.106506</td><td>20200304</td><td>1384.3,-580.2,422.0,7.0,34.1,0.1</td><td>5.0</td><td>105</td><td>215.47072453375753</td><td>54.916823069625835</td><td>/project/projectdirs/desi/spectro/data/20200304/00053129/guide-00053129.fits.fz</td><td>1f12aa8</td><td>GUIDE5</td><td>7.133103518246048</td><td>0.7173575198739444</td><td>15</td><td>0.9462458520643052</td><td>24.966119227205816</td><td>24.75041442915662</td><td>79.96871747475984</td><td>25.585656116468158</td><td>0.9725487657536925</td><td>0</td><td>0 .. 0</td><td>1239.0 .. 1219.0</td><td>1226.0 .. 1208.0</td><td>4.548959160567921</td><td>4.1535681586032345</td><td>4.346770286560059</td><td>0.8910879087448119</td><td>33</td><td>2048 .. 1032</td><td>5.64295454824e-05 .. -5.17064279693e-05</td><td>1.0 .. 1.0</td><td>2384.7982148181754 .. 29352.164437161682</td><td>214.744692 .. 53.40377</td><td>RA---TAN .. DEC--TAN</td><td>180.0</td><td>90.0</td><td>0.0 .. 0.0</td><td>/project/projectdirs/desi/users/ameisner/GFA/gfa_reduce_etc/master_dark_library/master_dark-00033669_00033718.fits</td><td>1</td><td>5.0</td><td>10.07</td><td>0.9659513333931938</td><td>4.697127020994208</td><td>0.9693945312500001 .. 0.97513671875</td><td>0.9725390625</td><td>0.9725390625</td><td>1</td><td>34 .. 38</td><td>1 .. 1</td></tr>\n",
       "<tr><td>1476.0</td><td>1484.6604647377665</td><td>0</td><td>9351.0</td><td>1376.0</td><td>48.92587321068487</td><td>48.92587321068487</td><td>1484.0</td><td>1486.0546553264292</td><td>0</td><td>6180.0</td><td>1426.0</td><td>8.895613311033612</td><td>8.895613311033612</td><td>1422.0</td><td>1424.8615590176842</td><td>0</td><td>7704.0</td><td>1376.0</td><td>10.378215529539215</td><td>10.378215529539215</td><td>1460.0</td><td>1463.3745949915212</td><td>0</td><td>9351.0</td><td>1405.0</td><td>11.860817748044816</td><td>11.860817748044816</td><td>1562.0</td><td>1564.3510496154313</td><td>0</td><td>6710.0</td><td>1497.0</td><td>10.378215529539215</td><td>10.378215529539215</td><td>GUIDE7</td><td>21.573655213188566</td><td>21.488577 .. 21.578041</td><td>7</td><td>53129</td><td>58913.51723181</td><td>ELG tile 70006</td><td>214.744692</td><td>53.40377</td><td>not open</td><td>open</td><td>open</td><td>108.949521</td><td>23.343527</td><td>9.918</td><td>0</td><td>5.0</td><td>1.106506</td><td>20200304</td><td>1384.3,-580.2,422.0,7.0,34.1,0.1</td><td>5.0</td><td>105</td><td>217.39074068536266</td><td>53.44703513576627</td><td>/project/projectdirs/desi/spectro/data/20200304/00053129/guide-00053129.fits.fz</td><td>1f12aa8</td><td>GUIDE7</td><td>5.267907425087207</td><td>0.6641114559301562</td><td>7</td><td>0.891409209249187</td><td>25.120655930533903</td><td>24.92081742226607</td><td>81.6436357703011</td><td>25.53203256825023</td><td>1.0037136385267857</td><td>0</td><td>0 .. 0</td><td>1405.0 .. 1372.0</td><td>1394.0 .. 1363.0</td><td>4.739289273996413</td><td>3.5581686964035044</td><td>4.106481552124023</td><td>0.8418287181854247</td><td>28</td><td>2048 .. 1032</td><td>3.87411969604e-07 .. 6.56255014282e-08</td><td>1.0 .. 1.0</td><td>2279.3980191824644 .. 29456.898083800435</td><td>214.744692 .. 53.40377</td><td>RA---TAN .. DEC--TAN</td><td>180.0</td><td>90.0</td><td>0.0 .. 0.0</td><td>/project/projectdirs/desi/users/ameisner/GFA/gfa_reduce_etc/master_dark_library/master_dark-00034296_00034345.fits</td><td>1</td><td>5.0</td><td>10.281</td><td>0.9010080519766331</td><td>4.6244634218504785</td><td>1.0422656250000002 .. 1.0693676757812502</td><td>1.0265087890625</td><td>1.0265087890625</td><td>1</td><td>30 .. 45</td><td>1 .. 1</td></tr>\n",
       "<tr><td>1618.0</td><td>1602.4383899777436</td><td>0</td><td>17541.0</td><td>1362.0</td><td>207.5643105907843</td><td>207.5643105907843</td><td>1783.0</td><td>1791.6428506540697</td><td>0</td><td>17541.0</td><td>1717.0</td><td>25.204237714595234</td><td>25.204237714595234</td><td>1496.0</td><td>1503.3852198401162</td><td>0</td><td>10780.0</td><td>1421.0</td><td>26.686839933100835</td><td>26.686839933100835</td><td>1666.0</td><td>1672.2046806867731</td><td>0</td><td>8634.0</td><td>1578.0</td><td>29.65204437011204</td><td>29.65204437011204</td><td>1434.0</td><td>1442.5208087300146</td><td>0</td><td>4370.0</td><td>1362.0</td><td>26.686839933100835</td><td>26.686839933100835</td><td>GUIDE8</td><td>21.471737785270797</td><td>21.506386 .. 21.454987</td><td>8</td><td>53129</td><td>58913.51723175</td><td>ELG tile 70006</td><td>214.744692</td><td>53.40377</td><td>not open</td><td>open</td><td>open</td><td>108.949521</td><td>23.343527</td><td>9.971</td><td>0</td><td>5.0</td><td>1.106506</td><td>20200304</td><td>1384.3,-580.2,422.0,7.0,34.1,0.1</td><td>5.0</td><td>105</td><td>216.9158690482262</td><td>52.517034614505384</td><td>/project/projectdirs/desi/spectro/data/20200304/00053129/guide-00053129.fits.fz</td><td>1f12aa8</td><td>GUIDE8</td><td>3.6222491606956</td><td>0.6968838121995186</td><td>3</td><td>0.9283536119261553</td><td>24.98221222251382</td><td>25.148582783086923</td><td>81.83106995428844</td><td>25.597431943473605</td><td>0.9785485566069281</td><td>0</td><td>0 .. 0</td><td>1572.0 .. 1413.0</td><td>1561.0 .. 1401.0</td><td>5.281865445655563</td><td>3.7340007120457273</td><td>4.441000938415527</td><td>0.910405192375183</td><td>10</td><td>2048 .. 1032</td><td>-3.43493027588e-05 .. 3.18945245796e-05</td><td>1.0 .. 1.0</td><td>2228.559797514286 .. 29520.320018757142</td><td>214.744692 .. 53.40377</td><td>RA---TAN .. DEC--TAN</td><td>180.0</td><td>90.0</td><td>0.0 .. 0.0</td><td>/project/projectdirs/desi/users/ameisner/GFA/gfa_reduce_etc/master_dark_library/master_dark-00033669_00033718.fits</td><td>1</td><td>5.0</td><td>10.041</td><td>0.9832102288451956</td><td>4.9378079111002355</td><td>1.0170764160156252 .. 0.9917749023437499</td><td>1.0044256591796876</td><td>1.0044256591796876</td><td>1</td><td>35 .. 39</td><td>1 .. 1</td></tr>\n",
       "<tr><td>1551.0</td><td>1553.2573980287063</td><td>0</td><td>41719.0</td><td>1459.0</td><td>32.61724880712325</td><td>32.61724880712325</td><td>1572.0</td><td>1573.978034914002</td><td>0</td><td>5438.0</td><td>1491.0</td><td>20.75643105907843</td><td>20.75643105907843</td><td>1528.0</td><td>1530.3764818768168</td><td>0</td><td>8420.0</td><td>1467.0</td><td>16.308624403561623</td><td>16.308624403561623</td><td>1528.0</td><td>1536.7224556383237</td><td>0</td><td>41719.0</td><td>1459.0</td><td>22.23903327758403</td><td>22.23903327758403</td><td>1569.0</td><td>1571.9526196856832</td><td>0</td><td>13076.0</td><td>1490.0</td><td>22.23903327758403</td><td>22.23903327758403</td><td>GUIDE0</td><td>21.34324406733284</td><td>21.253342 .. 21.388126</td><td>0</td><td>53129</td><td>58913.51734599</td><td>ELG tile 70006</td><td>214.744692</td><td>53.40377</td><td>not open</td><td>open</td><td>open</td><td>108.949521</td><td>23.343527</td><td>9.918</td><td>0</td><td>5.0</td><td>1.106506</td><td>20200304</td><td>1384.3,-580.2,422.0,7.0,34.1,0.1</td><td>5.0</td><td>106</td><td>214.07967123406576</td><td>51.87865458807916</td><td>/project/projectdirs/desi/spectro/data/20200304/00053129/guide-00053129.fits.fz</td><td>1f12aa8</td><td>GUIDE0</td><td>4.091981257541908</td><td>0.6495029325258769</td><td>5</td><td>0.862281801659801</td><td>24.475694712203968</td><td>25.354260052399834</td><td>80.57333279544046</td><td>25.771636652032896</td><td>1.0884996405936238</td><td>0</td><td>0 .. 0</td><td>1433.0 .. 1435.0</td><td>1417.0 .. 1425.0</td><td>4.549422473928154</td><td>3.4888189554312716</td><td>3.9839818477630615</td><td>0.8167162787914276</td><td>24</td><td>2048 .. 1032</td><td>-5.64158190288e-05 .. 5.1670258812e-05</td><td>1.0 .. 1.0</td><td>2520.391466796667 .. 29479.0531065</td><td>214.744692 .. 53.40377</td><td>RA---TAN .. DEC--TAN</td><td>180.0</td><td>90.0</td><td>0.0 .. 0.0</td><td>/project/projectdirs/desi/users/ameisner/GFA/gfa_reduce_etc/master_dark_library/master_dark-00033669_00033718.fits</td><td>1</td><td>5.0</td><td>10.116</td><td>0.9450046582999945</td><td>4.745839464667725</td><td>1.0056054687499998 .. 0.9981982421875002</td><td>1.0044055175781248</td><td>1.0044055175781248</td><td>1</td><td>29 .. 37</td><td>1 .. 1</td></tr>\n",
       "<tr><td>1385.0</td><td>1362.5756410110828</td><td>0</td><td>14470.0</td><td>1146.0</td><td>96.36914420286413</td><td>96.36914420286413</td><td>1409.0</td><td>1409.8537484102471</td><td>0</td><td>5907.0</td><td>1333.0</td><td>10.378215529539215</td><td>10.378215529539215</td><td>1351.0</td><td>1352.1376820645592</td><td>0</td><td>14470.0</td><td>1275.0</td><td>10.378215529539215</td><td>10.378215529539215</td><td>1480.0</td><td>1480.9818257176598</td><td>0</td><td>7917.0</td><td>1410.0</td><td>13.343419966550417</td><td>13.343419966550417</td><td>1206.0</td><td>1207.3293078518652</td><td>0</td><td>8935.0</td><td>1146.0</td><td>11.860817748044816</td><td>11.860817748044816</td><td>GUIDE2</td><td>21.392257514484783</td><td>21.449684 .. 21.38455</td><td>2</td><td>53129</td><td>58913.51734599</td><td>ELG tile 70006</td><td>214.744692</td><td>53.40377</td><td>not open</td><td>open</td><td>open</td><td>108.949521</td><td>23.343527</td><td>9.907</td><td>0</td><td>5.0</td><td>1.106506</td><td>20200304</td><td>1384.3,-580.2,422.0,7.0,34.1,0.1</td><td>5.0</td><td>106</td><td>212.1184914350632</td><td>53.29547706662504</td><td>/project/projectdirs/desi/spectro/data/20200304/00053129/guide-00053129.fits.fz</td><td>1f12aa8</td><td>GUIDE2</td><td>5.36659518722072</td><td>0.7501854863880945</td><td>5</td><td>0.951569124944399</td><td>24.96789823421664</td><td>24.980038952194825</td><td>78.89207003446687</td><td>25.57255520813404</td><td>0.9590779703839359</td><td>0</td><td>0 .. 0</td><td>1412.0 .. 1285.0</td><td>1393.0 .. 1266.0</td><td>4.3240422704915975</td><td>3.4568234202141235</td><td>3.8661932945251465</td><td>0.792569625377655</td><td>17</td><td>2048 .. 1032</td><td>-4.46388361775e-07 .. -2.49389487994e-08</td><td>1.0 .. 1.0</td><td>2376.9048871438463 .. 29349.03894386923</td><td>214.744692 .. 53.40377</td><td>RA---TAN .. DEC--TAN</td><td>180.0</td><td>90.0</td><td>0.0 .. 0.0</td><td>/project/projectdirs/desi/users/ameisner/GFA/gfa_reduce_etc/master_dark_library/master_dark-00033669_00033718.fits</td><td>1</td><td>5.0</td><td>10.145</td><td>0.929259498473096</td><td>4.766788146574236</td><td>0.9595703125000001 .. 1.0761328125000005</td><td>1.0259326171875003</td><td>1.0259326171875003</td><td>1</td><td>37 .. 28</td><td>1 .. 1</td></tr>\n",
       "<tr><td>1536.0</td><td>1532.2069801507994</td><td>0</td><td>15415.0</td><td>1311.0</td><td>163.08624403561623</td><td>163.08624403561623</td><td>1543.0</td><td>1544.3334431019864</td><td>0</td><td>8769.0</td><td>1487.0</td><td>10.378215529539215</td><td>10.378215529539215</td><td>1529.0</td><td>1530.427726804748</td><td>0</td><td>15415.0</td><td>1462.0</td><td>11.860817748044816</td><td>11.860817748044816</td><td>1677.0</td><td>1678.6590263898981</td><td>0</td><td>9848.0</td><td>1632.0</td><td>11.860817748044816</td><td>11.860817748044816</td><td>1374.0</td><td>1375.407724306565</td><td>0</td><td>6828.0</td><td>1311.0</td><td>10.378215529539215</td><td>10.378215529539215</td><td>GUIDE3</td><td>21.335394344248908</td><td>21.379549 .. 21.301447</td><td>3</td><td>53129</td><td>58913.51734599</td><td>ELG tile 70006</td><td>214.744692</td><td>53.40377</td><td>not open</td><td>open</td><td>open</td><td>108.949521</td><td>23.343527</td><td>9.849</td><td>0</td><td>5.0</td><td>1.106506</td><td>20200304</td><td>1384.3,-580.2,422.0,7.0,34.1,0.1</td><td>5.0</td><td>106</td><td>212.49773312972192</td><td>54.24323874575027</td><td>/project/projectdirs/desi/spectro/data/20200304/00053129/guide-00053129.fits.fz</td><td>1f12aa8</td><td>GUIDE3</td><td>4.443295526116784</td><td>0.7159035182799122</td><td>7</td><td>0.9197035573931359</td><td>25.31100252343061</td><td>24.566656775653804</td><td>78.70458935369338</td><td>25.584060753782417</td><td>0.9630036146334173</td><td>0</td><td>0 .. 0</td><td>1605.0 .. 1459.0</td><td>1593.0 .. 1448.0</td><td>4.3355670463067355</td><td>3.248913952959754</td><td>3.7531166076660156</td><td>0.7693889045715332</td><td>40</td><td>2048 .. 1032</td><td>3.47327717614e-05 .. -3.23339865093e-05</td><td>1.0 .. 1.0</td><td>2491.3381922416374 .. 29305.785739445317</td><td>214.744692 .. 53.40377</td><td>RA---TAN .. DEC--TAN</td><td>180.0</td><td>90.0</td><td>0.0 .. 0.0</td><td>/project/projectdirs/desi/users/ameisner/GFA/gfa_reduce_etc/master_dark_library/master_dark-00033669_00033718.fits</td><td>1</td><td>5.0</td><td>10.017</td><td>0.9522931179599221</td><td>4.697878634779581</td><td>0.977236328125 .. 0.9960546875</td><td>0.9866455078125</td><td>0.9866455078125</td><td>1</td><td>33 .. 21</td><td>1 .. 1</td></tr>\n",
       "<tr><td>1289.0</td><td>1273.9005742036095</td><td>0</td><td>11490.0</td><td>1136.0</td><td>34.099851025628844</td><td>34.099851025628844</td><td>1319.0</td><td>1320.759152434593</td><td>0</td><td>6523.0</td><td>1263.0</td><td>10.378215529539215</td><td>10.378215529539215</td><td>1277.0</td><td>1279.1099238432655</td><td>0</td><td>10927.0</td><td>1220.0</td><td>10.378215529539215</td><td>10.378215529539215</td><td>1298.0</td><td>1299.6959692193557</td><td>0</td><td>11490.0</td><td>1235.0</td><td>10.378215529539215</td><td>10.378215529539215</td><td>1194.0</td><td>1196.0372513172238</td><td>0</td><td>10182.0</td><td>1136.0</td><td>8.895613311033612</td><td>8.895613311033612</td><td>GUIDE5</td><td>21.393126880732055</td><td>21.35409 .. 21.439655</td><td>5</td><td>53129</td><td>58913.517346</td><td>ELG tile 70006</td><td>214.744692</td><td>53.40377</td><td>not open</td><td>open</td><td>open</td><td>108.949521</td><td>23.343527</td><td>9.958</td><td>0</td><td>5.0</td><td>1.106506</td><td>20200304</td><td>1384.3,-580.2,422.0,7.0,34.1,0.1</td><td>5.0</td><td>106</td><td>215.47076744231794</td><td>54.91679434172809</td><td>/project/projectdirs/desi/spectro/data/20200304/00053129/guide-00053129.fits.fz</td><td>1f12aa8</td><td>GUIDE5</td><td>6.554793672241729</td><td>0.7365479584702287</td><td>14</td><td>0.9562637036254453</td><td>25.057302707421364</td><td>24.746370902089726</td><td>79.96875239802992</td><td>25.54110479099616</td><td>0.9334495632612089</td><td>0</td><td>0 .. 0</td><td>1239.0 .. 1219.0</td><td>1226.0 .. 1208.0</td><td>4.27570225756742</td><td>3.538638006074521</td><td>3.8897509574890137</td><td>0.7973989462852478</td><td>33</td><td>2048 .. 1032</td><td>5.64295454824e-05 .. -5.17064279693e-05</td><td>1.0 .. 1.0</td><td>2384.2469853868006 .. 29351.806058387465</td><td>214.744692 .. 53.40377</td><td>RA---TAN .. DEC--TAN</td><td>180.0</td><td>90.0</td><td>0.0 .. 0.0</td><td>/project/projectdirs/desi/users/ameisner/GFA/gfa_reduce_etc/master_dark_library/master_dark-00033669_00033718.fits</td><td>1</td><td>5.0</td><td>10.07</td><td>0.9659513333931938</td><td>4.743632295150735</td><td>0.9701855468749998 .. 0.9871679687499999</td><td>0.9821679687499998</td><td>0.9821679687499998</td><td>1</td><td>32 .. 26</td><td>1 .. 1</td></tr>\n",
       "<tr><td>1476.0</td><td>1484.6185487259265</td><td>0</td><td>9386.0</td><td>1365.0</td><td>48.92587321068487</td><td>48.92587321068487</td><td>1484.0</td><td>1486.0113232043363</td><td>0</td><td>6154.0</td><td>1429.0</td><td>8.895613311033612</td><td>8.895613311033612</td><td>1422.0</td><td>1424.8148373152858</td><td>0</td><td>7643.0</td><td>1365.0</td><td>10.378215529539215</td><td>10.378215529539215</td><td>1460.0</td><td>1463.3395163366038</td><td>0</td><td>9386.0</td><td>1414.0</td><td>11.860817748044816</td><td>11.860817748044816</td><td>1562.0</td><td>1564.3085180474807</td><td>0</td><td>6662.0</td><td>1501.0</td><td>10.378215529539215</td><td>10.378215529539215</td><td>GUIDE7</td><td>21.592146429497173</td><td>21.506954 .. 21.59771</td><td>7</td><td>53129</td><td>58913.517346</td><td>ELG tile 70006</td><td>214.744692</td><td>53.40377</td><td>not open</td><td>open</td><td>open</td><td>108.949521</td><td>23.343527</td><td>9.918</td><td>0</td><td>5.0</td><td>1.106506</td><td>20200304</td><td>1384.3,-580.2,422.0,7.0,34.1,0.1</td><td>5.0</td><td>106</td><td>217.39082017775468</td><td>53.44700036616639</td><td>/project/projectdirs/desi/spectro/data/20200304/00053129/guide-00053129.fits.fz</td><td>1f12aa8</td><td>GUIDE7</td><td>5.696584233308998</td><td>0.7372828572680206</td><td>7</td><td>0.9478596517605222</td><td>24.83907443789665</td><td>24.65814536406165</td><td>81.64369394085858</td><td>25.468553094795592</td><td>0.946712335702304</td><td>0</td><td>0 .. 0</td><td>1405.0 .. 1372.0</td><td>1395.0 .. 1363.0</td><td>4.222294139637186</td><td>3.644422881262689</td><td>3.922731876373291</td><td>0.8041600346565246</td><td>26</td><td>2048 .. 1032</td><td>3.87411969604e-07 .. 6.56255014282e-08</td><td>1.0 .. 1.0</td><td>2278.842379853242 .. 29457.78700664352</td><td>214.744692 .. 53.40377</td><td>RA---TAN .. DEC--TAN</td><td>180.0</td><td>90.0</td><td>0.0 .. 0.0</td><td>/project/projectdirs/desi/users/ameisner/GFA/gfa_reduce_etc/master_dark_library/master_dark-00034296_00034345.fits</td><td>1</td><td>5.0</td><td>10.281</td><td>0.9010080519766331</td><td>4.640125475878978</td><td>1.02814453125 .. 1.0645214843750004</td><td>1.0299853515625</td><td>1.0299853515625</td><td>1</td><td>32 .. 33</td><td>1 .. 1</td></tr>\n",
       "<tr><td>1621.0</td><td>1620.3120462580246</td><td>0</td><td>17532.0</td><td>1372.0</td><td>188.29048175021146</td><td>188.29048175021146</td><td>1817.0</td><td>1824.9841441073158</td><td>0</td><td>17532.0</td><td>1752.0</td><td>25.204237714595234</td><td>25.204237714595234</td><td>1521.0</td><td>1527.9917995245883</td><td>0</td><td>10701.0</td><td>1448.0</td><td>26.686839933100835</td><td>26.686839933100835</td><td>1666.0</td><td>1672.2185512808867</td><td>0</td><td>8719.0</td><td>1583.0</td><td>29.65204437011204</td><td>29.65204437011204</td><td>1448.0</td><td>1456.0536901193072</td><td>0</td><td>4026.0</td><td>1372.0</td><td>26.686839933100835</td><td>26.686839933100835</td><td>GUIDE8</td><td>21.4719365218652</td><td>21.44941 .. 21.446896</td><td>8</td><td>53129</td><td>58913.51734601</td><td>ELG tile 70006</td><td>214.744692</td><td>53.40377</td><td>not open</td><td>open</td><td>open</td><td>108.949521</td><td>23.343527</td><td>9.971</td><td>0</td><td>5.0</td><td>1.106506</td><td>20200304</td><td>1384.3,-580.2,422.0,7.0,34.1,0.1</td><td>5.0</td><td>106</td><td>216.9159452131813</td><td>52.51700783338368</td><td>/project/projectdirs/desi/spectro/data/20200304/00053129/guide-00053129.fits.fz</td><td>1f12aa8</td><td>GUIDE8</td><td>3.1678660562282914</td><td>0.714031300289814</td><td>3</td><td>0.9422124016653549</td><td>24.21035964982288</td><td>24.926376955975925</td><td>81.83112345285726</td><td>25.596393696387885</td><td>0.977613256145536</td><td>0</td><td>0 .. 0</td><td>1572.0 .. 1438.0</td><td>1562.0 .. 1427.0</td><td>4.662491366773076</td><td>3.32417047331295</td><td>3.936866283416748</td><td>0.8070575881004333</td><td>9</td><td>2048 .. 1032</td><td>-3.43493027588e-05 .. 3.18945245796e-05</td><td>1.0 .. 1.0</td><td>2228.6788451333337 .. 29521.296209233333</td><td>214.744692 .. 53.40377</td><td>RA---TAN .. DEC--TAN</td><td>180.0</td><td>90.0</td><td>0.0 .. 0.0</td><td>/project/projectdirs/desi/users/ameisner/GFA/gfa_reduce_etc/master_dark_library/master_dark-00033669_00033718.fits</td><td>1</td><td>5.0</td><td>10.041</td><td>0.9832102288451956</td><td>4.901979457913946</td><td>1.0086697387695314 .. 1.0170751953125001</td><td>0.9971376037597656</td><td>0.9971376037597656</td><td>1</td><td>39 .. 31</td><td>1 .. 1</td></tr>\n",
       "</table>"
      ],
      "text/plain": [
       "<Table length=76602>\n",
       " MEDIAN        MEAN        ... DARK_RESCALE_CONVERGED [4]\n",
       "float64      float64       ...           uint8           \n",
       "------- ------------------ ... --------------------------\n",
       " 1712.0  1725.098036182019 ...                     1 .. 1\n",
       " 1527.0  1505.677508686864 ...                     1 .. 1\n",
       " 1648.0  1656.855261987494 ...                     1 .. 1\n",
       " 1402.0 1392.3845191186713 ...                     1 .. 1\n",
       " 1577.0 1610.3405648164971 ...                     1 .. 1\n",
       " 1779.0 1792.0721255753392 ...                     1 .. 1\n",
       " 1539.0 1541.1870831630026 ...                     1 .. 1\n",
       " 1401.0 1375.8609604946403 ...                     1 .. 1\n",
       " 1528.0 1523.8941674047662 ...                     1 .. 1\n",
       " 1300.0  1283.832634977592 ...                     1 .. 1\n",
       "    ...                ... ...                        ...\n",
       " 1539.0  1521.929298105166 ...                     1 .. 1\n",
       " 1289.0 1273.9057106195494 ...                     1 .. 1\n",
       " 1476.0 1484.6604647377665 ...                     1 .. 1\n",
       " 1618.0 1602.4383899777436 ...                     1 .. 1\n",
       " 1551.0 1553.2573980287063 ...                     1 .. 1\n",
       " 1385.0 1362.5756410110828 ...                     1 .. 1\n",
       " 1536.0 1532.2069801507994 ...                     1 .. 1\n",
       " 1289.0 1273.9005742036095 ...                     1 .. 1\n",
       " 1476.0 1484.6185487259265 ...                     1 .. 1\n",
       " 1621.0 1620.3120462580246 ...                     1 .. 1"
      ]
     },
     "execution_count": 5,
     "metadata": {},
     "output_type": "execute_result"
    }
   ],
   "source": [
    "# Takes a while for NIGHT computation.\n",
    "telemetry = Table(file[1].data)  \n",
    "original  = telemetry.columns\n",
    "\n",
    "keep_cols = ['CAMERA', 'EXPID', 'MJD', 'PROGRAM', 'SKY_MAG_AB', 'PETAL_LOC',\\\n",
    "             'MOONRA', 'MOONDEC', 'AIRMASS', 'FIBER_FRACFLUX',\\\n",
    "             'MOON_SEP_DEG', 'TRANSPARENCY', 'FWHM_ASEC']\n",
    "\n",
    "# telemetry = telemetry[keep_cols]\n",
    "\n",
    "# telemetry.sort('PETAL_LOC')\n",
    "telemetry"
   ]
  },
  {
   "cell_type": "code",
   "execution_count": 6,
   "metadata": {},
   "outputs": [
    {
     "name": "stdout",
     "output_type": "stream",
     "text": [
      " 0  'Commissioning                                                                                 ' 222 \t \t False\n",
      " 1  'Dither fibermode tile 63159 (106.34, 31.89)                                                   ' 144 \t \t False\n",
      " 2  'Dither fibermode tile 63160 (106.34, 31.89)                                                   ' 144 \t \t False\n",
      " 3  'Dither fibermode tile 63161 (106.34, 31.89)                                                   ' 144 \t \t False\n",
      " 4  'Dither fibermode tile 63162 (106.34, 31.89)                                                   ' 144 \t \t False\n",
      " 5  'Dither fibermode tile 63163 (106.34, 31.89)                                                   ' 144 \t \t False\n",
      " 6  'Dither fibermode tile 63164 (106.34, 31.89)                                                   ' 144 \t \t False\n",
      " 7  'Dither fibermode tile 63165 (106.34, 31.89)                                                   ' 144 \t \t False\n",
      " 8  'Dither fibermode tile 63166 (106.34, 31.89)                                                   ' 144 \t \t False\n",
      " 9  'Dither fibermode tile 63167 (106.34, 31.89)                                                   ' 270 \t \t False\n",
      "10  'Dither fibermode tile 63168 (106.34, 31.89)                                                   ' 144 \t \t False\n",
      "11  'Dither fibermode tile 63169 (106.34, 31.89)                                                   ' 144 \t \t False\n",
      "12  'Dither fibermode tile 63170 (106.34, 31.89)                                                   ' 144 \t \t False\n",
      "13  'Dither fibermode tile 63171 (106.34, 31.89)                                                   ' 144 \t \t False\n",
      "14  'ELG tile 70005                                                                                ' 4578 \t \t False\n",
      "15  'ELG tile 70005 (1 of 2)                                                                       ' 1992 \t \t False\n",
      "16  'ELG tile 70006                                                                                ' 1926 \t \t False\n",
      "17  'ELG tile 70006 (1 of 2)                                                                       ' 2544 \t \t False\n",
      "18  'M67 tile 70511                                                                                ' 744 \t \t False\n",
      "19  'M67 tile 70511 (1 of 2)                                                                       ' 2430 \t \t False\n",
      "20  'M67 tile 70511 (1 of 3)                                                                       ' 444 \t \t False\n",
      "21  'M67 tile 70513                                                                                ' 186 \t \t False\n",
      "22  'M67 tile 70513 (1 of 10)                                                                      ' 1308 \t \t False\n",
      "23  'M67 tile 70513 (8 of 10)                                                                      ' 582 \t \t False\n",
      "24  'M67 tile 70513 10 of 10                                                                       ' 210 \t \t False\n",
      "25  'M67 tile 70513 9 of 10)                                                                       ' 216 \t \t False\n",
      "26  'M67 tile 70514                                                                                ' 180 \t \t False\n",
      "27  'MW tile 70500                                                                                 ' 828 \t True\n",
      "28  'MW tile 70510                                                                                 ' 4422 \t True\n",
      "29  'MW+BGS tile 70500 (1 of 2)                                                                    ' 5226 \t True\n",
      "30  'MW/BGS tile 70502 (1 of 2)                                                                    ' 1572 \t True\n",
      "31  'MW/BGS tile 70510                                                                             ' 474 \t True\n",
      "32  'MW/BGS tile 70510 (1 of 2)                                                                    ' 1218 \t True\n",
      "33  'Mini-SV ELG tile 70005                                                                        ' 1944 \t \t False\n",
      "34  'MiniSVtile70003QSOLRG                                                                         ' 300 \t \t False\n",
      "35  'MiniSVtile70003QSo/LRG                                                                        ' 6480 \t \t False\n",
      "36  'MiniSVtile70004ELG                                                                            ' 2778 \t \t False\n",
      "37  'MiniSVtile70005ELG                                                                            ' 2292 \t \t False\n",
      "38  'QSO+LRG tile 70002 (1 of 2)                                                                   ' 1266 \t \t False\n",
      "39  'QSO/LRG tile 70002                                                                            ' 2568 \t \t False\n",
      "40  'QSO/LRG tile 70003                                                                            ' 1950 \t \t False\n",
      "41  'Repeated spectrograph sequence test (Arjun) (1 of 10)                                         ' 1644 \t \t False\n",
      "42  'Repeated spectrograph sequence test (Arjun) (1 of 3)                                          ' 744 \t \t False\n",
      "43  'SV tile 70003                                                                                 ' 7266 \t \t False\n",
      "44  'SV tile 70005                                                                                 ' 1140 \t \t False\n",
      "45  'SV tile 70502                                                                                 ' 3660 \t True\n",
      "46  'SV tile 70506 M67)                                                                            ' 852 \t \t False\n",
      "47  'SV tile 70508 M67)                                                                            ' 1692 \t \t False\n",
      "48  'SV tile 70512                                                                                 ' 2646 \t \t False\n",
      "49  'System test                                                                                   ' 426 \t \t False\n",
      "50  'Test exposure on SV tile 70003                                                                ' 288 \t \t False\n",
      "51  'Test on SV tile 70003                                                                         ' 144 \t \t False\n",
      "52  'desi with loops test                                                                          ' 462 \t \t False\n",
      "53  'system test                                                                                   ' 1326 \t \t False\n",
      "54  'test of coordinates files                                                                     ' 276 \t \t False\n",
      "55  'test of coordinates files, multiple requests 1                                                ' 696 \t \t False\n",
      "56  'test of coordinates files, multiple requests 2                                                ' 462 \t \t False\n"
     ]
    }
   ],
   "source": [
    "uprogs, cnts = np.unique(telemetry['PROGRAM'], return_counts=True)\n",
    "\n",
    "progs2keep   = ['MW tile 70500',\\\n",
    "                'MW tile 70510',\\\n",
    "                'MW+BGS tile 70500 (1 of 2)',\\\n",
    "                'MW/BGS tile 70502 (1 of 2)',\\\n",
    "                'MW/BGS tile 70510',\\\n",
    "                'MW/BGS tile 70510 (1 of 2)',\\\n",
    "                'SV tile 70502',\\\n",
    "               ]\n",
    "\n",
    "keep         = [x.strip() in progs2keep for x in telemetry['PROGRAM']]\n",
    "\n",
    "for i, x in enumerate(uprogs):\n",
    "  this       = np.array(telemetry['PROGRAM'])[keep]   \n",
    "\n",
    "  if np.any(this == x):      \n",
    "    print('{:2d}  {} {} \\t {}'.format(i, repr(x), cnts[i], np.any(this == x)))\n",
    "    \n",
    "  else:    \n",
    "    print('{:2d}  {} {} \\t \\t {}'.format(i, repr(x), cnts[i], np.any(this == x)))"
   ]
  },
  {
   "cell_type": "code",
   "execution_count": 8,
   "metadata": {},
   "outputs": [
    {
     "data": {
      "text/html": [
       "&lt;Table length=17400&gt;\n",
       "<table id=\"table46913428133256\" class=\"table-striped table-bordered table-condensed\">\n",
       "<thead><tr><th>MEDIAN</th><th>MEAN</th><th>N_NON_FINITE</th><th>MAX</th><th>MIN</th><th>SIG_ROBUST</th><th>SIG</th><th>MEDIAN_Q1</th><th>MEAN_Q1</th><th>N_NON_FINITE_Q1</th><th>MAX_Q1</th><th>MIN_Q1</th><th>SIG_ROBUST_Q1</th><th>SIG_Q1</th><th>MEDIAN_Q2</th><th>MEAN_Q2</th><th>N_NON_FINITE_Q2</th><th>MAX_Q2</th><th>MIN_Q2</th><th>SIG_ROBUST_Q2</th><th>SIG_Q2</th><th>MEDIAN_Q3</th><th>MEAN_Q3</th><th>N_NON_FINITE_Q3</th><th>MAX_Q3</th><th>MIN_Q3</th><th>SIG_ROBUST_Q3</th><th>SIG_Q3</th><th>MEDIAN_Q4</th><th>MEAN_Q4</th><th>N_NON_FINITE_Q4</th><th>MAX_Q4</th><th>MIN_Q4</th><th>SIG_ROBUST_Q4</th><th>SIG_Q4</th><th>CAMERA</th><th>SKY_MAG_AB</th><th>SKY_MAG_AB_PER_AMP [4]</th><th>PETAL_LOC</th><th>EXPID</th><th>MJD</th><th>PROGRAM</th><th>SKYRA</th><th>SKYDEC</th><th>DOMSHUTL</th><th>DOMSHUTU</th><th>PMCOVER</th><th>MOONRA</th><th>MOONDEC</th><th>T_C_FOR_DARK</th><th>T_C_FOR_DARK_IS_GUESS</th><th>TIME_S_FOR_DARK</th><th>AIRMASS</th><th>NIGHT</th><th>FOCUS</th><th>EXPTIME</th><th>CUBE_INDEX</th><th>RACEN</th><th>DECCEN</th><th>FNAME_RAW</th><th>GITREV</th><th>EXTNAME</th><th>CONTRAST</th><th>FIBER_FRACFLUX</th><th>N_SOURCES_FOR_PSF</th><th>APER_CORR_FAC</th><th>XCENTROID_PSF</th><th>YCENTROID_PSF</th><th>MOON_SEP_DEG</th><th>ZP_ADU_PER_S</th><th>TRANSPARENCY</th><th>NPIX_BAD_TOTAL</th><th>NPIX_BAD_PER_AMP [4]</th><th>OVERSCAN_MEDIANS_ADU [4]</th><th>PRESCAN_MEDIANS_ADU [4]</th><th>FWHM_MAJOR_PIX</th><th>FWHM_MINOR_PIX</th><th>FWHM_PIX</th><th>FWHM_ASEC</th><th>N_SOURCES</th><th>NAXIS [2]</th><th>CD [2,2]</th><th>CDELT [2]</th><th>CRPIX [2]</th><th>CRVAL [2]</th><th>CTYPE [2]</th><th>LONGPOLE</th><th>LATPOLE</th><th>PV2 [2]</th><th>FNAME_MASTER_DARK</th><th>DO_FIT_DARK_SCALING</th><th>MASTER_DARK_EXPTIME</th><th>MASTER_DARK_GCCDTEMP</th><th>DARK_TEMP_SCALING_FACTOR</th><th>TOTAL_DARK_SCALING_FACTOR</th><th>DARK_RESCALE_FACTORS_PER_AMP [4]</th><th>DARK_RESCALE_FACTOR_BESTFIT</th><th>DARK_RESCALE_FACTOR_ADOPTED</th><th>APPLY_DARK_RESCALE_FACTOR</th><th>DARK_RESCALE_NCALLS [4]</th><th>DARK_RESCALE_CONVERGED [4]</th></tr></thead>\n",
       "<thead><tr><th>float64</th><th>float64</th><th>int64</th><th>float64</th><th>float64</th><th>float64</th><th>float64</th><th>float64</th><th>float64</th><th>int64</th><th>float64</th><th>float64</th><th>float64</th><th>float64</th><th>float64</th><th>float64</th><th>int64</th><th>float64</th><th>float64</th><th>float64</th><th>float64</th><th>float64</th><th>float64</th><th>int64</th><th>float64</th><th>float64</th><th>float64</th><th>float64</th><th>float64</th><th>float64</th><th>int64</th><th>float64</th><th>float64</th><th>float64</th><th>float64</th><th>str6</th><th>float64</th><th>float32</th><th>uint8</th><th>int64</th><th>float64</th><th>str94</th><th>float64</th><th>float64</th><th>str8</th><th>str8</th><th>str4</th><th>float64</th><th>float64</th><th>float64</th><th>int64</th><th>float64</th><th>float64</th><th>int64</th><th>str37</th><th>float64</th><th>int64</th><th>float64</th><th>float64</th><th>str97</th><th>str7</th><th>str6</th><th>float64</th><th>float64</th><th>int64</th><th>float64</th><th>float64</th><th>float64</th><th>float64</th><th>float64</th><th>float64</th><th>int64</th><th>int64</th><th>float32</th><th>float32</th><th>float64</th><th>float64</th><th>float64</th><th>float64</th><th>int64</th><th>int64</th><th>float64</th><th>float64</th><th>float64</th><th>float64</th><th>str8</th><th>float64</th><th>float64</th><th>float64</th><th>str114</th><th>uint8</th><th>float64</th><th>float64</th><th>float64</th><th>float64</th><th>float64</th><th>float64</th><th>float64</th><th>uint8</th><th>int64</th><th>uint8</th></tr></thead>\n",
       "<tr><td>1684.0</td><td>1693.462463852047</td><td>0</td><td>32392.0</td><td>1541.0</td><td>44.47806655516806</td><td>44.47806655516806</td><td>1695.0</td><td>1706.4587875484497</td><td>0</td><td>11531.0</td><td>1574.0</td><td>42.99546433666246</td><td>42.99546433666246</td><td>1643.0</td><td>1654.2313412215358</td><td>0</td><td>22821.0</td><td>1541.0</td><td>32.61724880712325</td><td>32.61724880712325</td><td>1686.0</td><td>1698.5380178052326</td><td>0</td><td>23036.0</td><td>1582.0</td><td>37.06505546264005</td><td>37.06505546264005</td><td>1702.0</td><td>1714.62170883297</td><td>0</td><td>32392.0</td><td>1597.0</td><td>40.030259899651256</td><td>40.030259899651256</td><td>GUIDE0</td><td>21.006675233518607</td><td>21.017637 .. 21.016413</td><td>0</td><td>52090</td><td>58905.25448622</td><td>SV tile 70502</td><td>180.012</td><td>-0.510261</td><td>not open</td><td>open</td><td>open</td><td>6.887381</td><td>-2.523766</td><td>9.678</td><td>0</td><td>15.0</td><td>1.663456</td><td>20200225</td><td>617.4,-264.2,1076.3,-18.4,-2.1,0.0</td><td>15.0</td><td>0</td><td>179.58462698957734</td><td>-2.031037823124222</td><td>/project/projectdirs/desi/spectro/data/20200225/00052090/guide-00052090.fits.fz</td><td>1f12aa8</td><td>GUIDE0</td><td>3.8204875294661815</td><td>0.09543107532242492</td><td>6</td><td>0.33568707637040507</td><td>26.011779427199414</td><td>25.280014697547998</td><td>171.3949218890838</td><td>25.40374320807157</td><td>0.8223710859427306</td><td>0</td><td>0 .. 0</td><td>1434.0 .. 1395.0</td><td>1419.0 .. 1384.0</td><td>24.78859683568296</td><td>12.59709429145485</td><td>17.671001434326172</td><td>3.622555294036865</td><td>18</td><td>2048 .. 1032</td><td>-5.64158190288e-05 .. 5.1670258812e-05</td><td>1.0 .. 1.0</td><td>2241.951981159889 .. 29530.036653755775</td><td>180.012 .. -0.510261</td><td>RA---TAN .. DEC--TAN</td><td>180.0</td><td>90.0</td><td>0.0 .. 0.0</td><td>/project/projectdirs/desi/users/ameisner/GFA/gfa_reduce_etc/master_dark_library/master_dark-00034652_00034751.fits</td><td>1</td><td>15.0</td><td>9.918</td><td>0.9294595855618852</td><td>14.560446187674744</td><td>1.0384375000000001 .. 1.0432012939453128</td><td>1.0443664550781253</td><td>1.0443664550781253</td><td>1</td><td>27 .. 41</td><td>1 .. 1</td></tr>\n",
       "<tr><td>1503.0</td><td>1480.81327358512</td><td>0</td><td>32781.0</td><td>1251.0</td><td>103.78215529539214</td><td>103.78215529539214</td><td>1526.0</td><td>1528.935664213905</td><td>0</td><td>14813.0</td><td>1433.0</td><td>14.82602218505602</td><td>14.82602218505602</td><td>1463.0</td><td>1468.0797317859738</td><td>0</td><td>32781.0</td><td>1345.0</td><td>14.82602218505602</td><td>14.82602218505602</td><td>1598.0</td><td>1601.1597777374031</td><td>0</td><td>21055.0</td><td>1531.0</td><td>16.308624403561623</td><td>16.308624403561623</td><td>1321.0</td><td>1325.0779206031978</td><td>0</td><td>25193.0</td><td>1251.0</td><td>16.308624403561623</td><td>16.308624403561623</td><td>GUIDE2</td><td>21.130802625301424</td><td>21.133589 .. 21.107409</td><td>2</td><td>52090</td><td>58905.25448622</td><td>SV tile 70502</td><td>180.012</td><td>-0.510261</td><td>not open</td><td>open</td><td>open</td><td>6.887381</td><td>-2.523766</td><td>9.739</td><td>0</td><td>15.0</td><td>1.663456</td><td>20200225</td><td>617.4,-264.2,1076.3,-18.4,-2.1,0.0</td><td>15.0</td><td>0</td><td>178.4241578844143</td><td>-0.5881371589500546</td><td>/project/projectdirs/desi/spectro/data/20200225/00052090/guide-00052090.fits.fz</td><td>1f12aa8</td><td>GUIDE2</td><td>2.719621193365532</td><td>0.0785086480559817</td><td>6</td><td>0.27970163892970434</td><td>25.258256201402663</td><td>24.548399879711553</td><td>170.98490210869514</td><td>25.263525986973214</td><td>0.7649607410662762</td><td>0</td><td>0 .. 0</td><td>1411.0 .. 1283.0</td><td>1394.0 .. 1266.0</td><td>nan</td><td>nan</td><td>nan</td><td>nan</td><td>11</td><td>2048 .. 1032</td><td>-4.46388361775e-07 .. -2.49389487994e-08</td><td>1.0 .. 1.0</td><td>2354.3667737663395 .. 29688.097787722894</td><td>180.012 .. -0.510261</td><td>RA---TAN .. DEC--TAN</td><td>180.0</td><td>90.0</td><td>0.0 .. 0.0</td><td>/project/projectdirs/desi/users/ameisner/GFA/gfa_reduce_etc/master_dark_library/master_dark-00034652_00034751.fits</td><td>1</td><td>15.0</td><td>9.907</td><td>0.9462642332436749</td><td>14.81789492637311</td><td>1.0311279296875 .. 1.0567871093750003</td><td>1.0439575195312503</td><td>1.0439575195312503</td><td>1</td><td>36 .. 36</td><td>1 .. 1</td></tr>\n",
       "<tr><td>1630.0</td><td>1628.3067324143049</td><td>0</td><td>32779.0</td><td>1364.0</td><td>167.53405069113302</td><td>167.53405069113302</td><td>1645.0</td><td>1650.0913218416908</td><td>0</td><td>22854.0</td><td>1553.0</td><td>17.791226622067224</td><td>17.791226622067224</td><td>1607.0</td><td>1613.83617217781</td><td>0</td><td>32779.0</td><td>1529.0</td><td>19.273828840572826</td><td>19.273828840572826</td><td>1793.0</td><td>1800.1656125090842</td><td>0</td><td>27414.0</td><td>1720.0</td><td>19.273828840572826</td><td>19.273828840572826</td><td>1445.0</td><td>1449.1338231286338</td><td>0</td><td>19185.0</td><td>1364.0</td><td>17.791226622067224</td><td>17.791226622067224</td><td>GUIDE3</td><td>21.137734955471416</td><td>21.158705 .. 21.149782</td><td>3</td><td>52090</td><td>58905.25448621</td><td>SV tile 70502</td><td>180.012</td><td>-0.510261</td><td>not open</td><td>open</td><td>open</td><td>6.887381</td><td>-2.523766</td><td>9.565</td><td>0</td><td>15.0</td><td>1.663456</td><td>20200225</td><td>617.4,-264.2,1076.3,-18.4,-2.1,0.0</td><td>15.0</td><td>0</td><td>178.67949318765014</td><td>0.3513323505604658</td><td>/project/projectdirs/desi/spectro/data/20200225/00052090/guide-00052090.fits.fz</td><td>1f12aa8</td><td>GUIDE3</td><td>2.1369008199962667</td><td>0.0793278710970456</td><td>2</td><td>0.28849286788278583</td><td>25.007250208090742</td><td>24.941333501067792</td><td>171.51246013651857</td><td>25.246402251172967</td><td>0.748103068692754</td><td>0</td><td>0 .. 0</td><td>1607.0 .. 1426.0</td><td>1595.0 .. 1414.0</td><td>21.68802299193582</td><td>18.78979550617812</td><td>20.18696403503418</td><td>4.138327627182006</td><td>9</td><td>2048 .. 1032</td><td>3.47327717614e-05 .. -3.23339865093e-05</td><td>1.0 .. 1.0</td><td>2670.8154776525002 .. 29613.308452706446</td><td>180.012 .. -0.510261</td><td>RA---TAN .. DEC--TAN</td><td>180.0</td><td>90.0</td><td>0.0 .. 0.0</td><td>/project/projectdirs/desi/users/ameisner/GFA/gfa_reduce_etc/master_dark_library/master_dark-00034652_00034751.fits</td><td>1</td><td>15.0</td><td>9.814</td><td>0.9249662009914373</td><td>14.698714453554087</td><td>1.0376904296874998 .. 1.03361328125</td><td>1.0594055175781252</td><td>1.0594055175781252</td><td>1</td><td>35 .. 32</td><td>1 .. 1</td></tr>\n",
       "<tr><td>1385.0</td><td>1374.4077754057655</td><td>0</td><td>32508.0</td><td>1212.0</td><td>41.51286211815686</td><td>41.51286211815686</td><td>1415.0</td><td>1423.3957216721174</td><td>0</td><td>18370.0</td><td>1339.0</td><td>14.82602218505602</td><td>14.82602218505602</td><td>1369.0</td><td>1377.147703185562</td><td>0</td><td>32508.0</td><td>1305.0</td><td>14.82602218505602</td><td>14.82602218505602</td><td>1395.0</td><td>1401.4143407067588</td><td>0</td><td>20371.0</td><td>1325.0</td><td>13.343419966550417</td><td>13.343419966550417</td><td>1287.0</td><td>1295.673336058624</td><td>0</td><td>32466.0</td><td>1212.0</td><td>13.343419966550417</td><td>13.343419966550417</td><td>GUIDE5</td><td>21.17020263059734</td><td>21.189657 .. 21.184454</td><td>5</td><td>52090</td><td>58905.25448623</td><td>SV tile 70502</td><td>180.012</td><td>-0.510261</td><td>not open</td><td>open</td><td>open</td><td>6.887381</td><td>-2.523766</td><td>9.659</td><td>0</td><td>15.0</td><td>1.663456</td><td>20200225</td><td>617.4,-264.2,1076.3,-18.4,-2.1,0.0</td><td>15.0</td><td>0</td><td>180.4080033355696</td><td>1.0089039153264587</td><td>/project/projectdirs/desi/spectro/data/20200225/00052090/guide-00052090.fits.fz</td><td>1f12aa8</td><td>GUIDE5</td><td>3.753386268316033</td><td>0.07712546823535546</td><td>5</td><td>0.28317669907290227</td><td>24.90050530907271</td><td>24.86159674081735</td><td>173.34907811920257</td><td>25.27351180899739</td><td>0.7734826634742923</td><td>0</td><td>0 .. 0</td><td>1238.0 .. 1215.0</td><td>1227.0 .. 1205.0</td><td>22.16487882017884</td><td>18.80848018790057</td><td>20.417827606201172</td><td>4.18565465927124</td><td>11</td><td>2048 .. 1032</td><td>5.64295454824e-05 .. -5.17064279693e-05</td><td>1.0 .. 1.0</td><td>2748.0537780932 .. 29302.09400715045</td><td>180.012 .. -0.510261</td><td>RA---TAN .. DEC--TAN</td><td>180.0</td><td>90.0</td><td>0.0 .. 0.0</td><td>/project/projectdirs/desi/users/ameisner/GFA/gfa_reduce_etc/master_dark_library/master_dark-00034652_00034751.fits</td><td>1</td><td>15.0</td><td>9.8955</td><td>0.9240748354009947</td><td>14.713906436731666</td><td>1.0466894531250006 .. 1.0821630859375002</td><td>1.0615234375000004</td><td>1.0615234375000004</td><td>1</td><td>37 .. 36</td><td>1 .. 1</td></tr>\n",
       "<tr><td>1558.0</td><td>1576.9606214419816</td><td>0</td><td>16935.0</td><td>1447.0</td><td>56.33888430321288</td><td>56.33888430321288</td><td>1559.0</td><td>1565.7145768986193</td><td>0</td><td>15349.0</td><td>1475.0</td><td>13.343419966550417</td><td>13.343419966550417</td><td>1505.0</td><td>1518.8472247456396</td><td>0</td><td>16935.0</td><td>1447.0</td><td>22.23903327758403</td><td>22.23903327758403</td><td>1548.0</td><td>1563.0555732194769</td><td>0</td><td>16255.0</td><td>1485.0</td><td>23.721635496089633</td><td>23.721635496089633</td><td>1651.0</td><td>1660.2251109041908</td><td>0</td><td>16038.0</td><td>1577.0</td><td>16.308624403561623</td><td>16.308624403561623</td><td>GUIDE7</td><td>21.263447959439826</td><td>21.274214 .. 21.276875</td><td>7</td><td>52090</td><td>58905.25448623</td><td>SV tile 70502</td><td>180.012</td><td>-0.510261</td><td>not open</td><td>open</td><td>open</td><td>6.887381</td><td>-2.523766</td><td>9.592</td><td>0</td><td>15.0</td><td>1.663456</td><td>20200225</td><td>617.4,-264.2,1076.3,-18.4,-2.1,0.0</td><td>15.0</td><td>0</td><td>181.56950207276302</td><td>-0.431704160771748</td><td>/project/projectdirs/desi/spectro/data/20200225/00052090/guide-00052090.fits.fz</td><td>1f12aa8</td><td>GUIDE7</td><td>1.3333933147314947</td><td>0.06635420219391398</td><td>2</td><td>0.250359736117404</td><td>22.999439911101412</td><td>24.631996137958048</td><td>173.91732520192537</td><td>25.397407366625202</td><td>0.9400623618117466</td><td>0</td><td>0 .. 0</td><td>1408.0 .. 1374.0</td><td>1396.0 .. 1364.0</td><td>24.50791237878208</td><td>20.149929952838487</td><td>22.222347259521484</td><td>4.555581188201904</td><td>7</td><td>2048 .. 1032</td><td>3.87411969604e-07 .. 6.56255014282e-08</td><td>1.0 .. 1.0</td><td>2378.452474092111 .. 29125.50892448236</td><td>180.012 .. -0.510261</td><td>RA---TAN .. DEC--TAN</td><td>180.0</td><td>90.0</td><td>0.0 .. 0.0</td><td>/project/projectdirs/desi/users/ameisner/GFA/gfa_reduce_etc/master_dark_library/master_dark-00034652_00034751.fits</td><td>1</td><td>15.0</td><td>9.905</td><td>0.9048911160274014</td><td>14.356573363694924</td><td>1.0573876953124999 .. 1.0716406250000001</td><td>1.0577017211914064</td><td>1.0577017211914064</td><td>1</td><td>40 .. 35</td><td>1 .. 1</td></tr>\n",
       "<tr><td>1749.0</td><td>1736.0368500938712</td><td>0</td><td>32713.0</td><td>1418.0</td><td>198.66869727975066</td><td>198.66869727975066</td><td>1881.0</td><td>1906.473878845688</td><td>0</td><td>32713.0</td><td>1773.0</td><td>60.786690958729686</td><td>60.786690958729686</td><td>1614.0</td><td>1634.7970661488614</td><td>0</td><td>25339.0</td><td>1495.0</td><td>66.7170998327521</td><td>66.7170998327521</td><td>1809.0</td><td>1828.6933801931928</td><td>0</td><td>24399.0</td><td>1653.0</td><td>71.1649064882689</td><td>71.1649064882689</td><td>1551.0</td><td>1574.1830751877424</td><td>0</td><td>12315.0</td><td>1418.0</td><td>65.2344976142465</td><td>65.2344976142465</td><td>GUIDE8</td><td>21.052457549947455</td><td>21.063568 .. 21.06277</td><td>8</td><td>52090</td><td>58905.25448623</td><td>SV tile 70502</td><td>180.012</td><td>-0.510261</td><td>not open</td><td>open</td><td>open</td><td>6.887381</td><td>-2.523766</td><td>9.59</td><td>0</td><td>15.0</td><td>1.663456</td><td>20200225</td><td>617.4,-264.2,1076.3,-18.4,-2.1,0.0</td><td>15.0</td><td>0</td><td>181.31683709603243</td><td>-1.3720822058591913</td><td>/project/projectdirs/desi/spectro/data/20200225/00052090/guide-00052090.fits.fz</td><td>1f12aa8</td><td>GUIDE8</td><td>2.855314635888065</td><td>0.09820845133434217</td><td>6</td><td>0.33922266548605773</td><td>26.689435723541994</td><td>25.92240879045781</td><td>173.2034203463576</td><td>25.410810627190546</td><td>0.8736365077759322</td><td>0</td><td>0 .. 0</td><td>1570.0 .. 1393.0</td><td>1562.0 .. 1383.0</td><td>19.595145377924016</td><td>9.498347451856732</td><td>13.642635345458984</td><td>2.7967402458190915</td><td>24</td><td>2048 .. 1032</td><td>-3.43493027588e-05 .. 3.18945245796e-05</td><td>1.0 .. 1.0</td><td>2128.9630902589533 .. 29222.45794269503</td><td>180.012 .. -0.510261</td><td>RA---TAN .. DEC--TAN</td><td>180.0</td><td>90.0</td><td>0.0 .. 0.0</td><td>/project/projectdirs/desi/users/ameisner/GFA/gfa_reduce_etc/master_dark_library/master_dark-00034652_00034751.fits</td><td>1</td><td>15.0</td><td>9.942</td><td>0.9135178722171124</td><td>14.214890640655403</td><td>1.039410400390625 .. 1.0370886230468754</td><td>1.0373736572265626</td><td>1.0373736572265626</td><td>1</td><td>36 .. 41</td><td>1 .. 1</td></tr>\n",
       "<tr><td>1528.0</td><td>1528.2304559752</td><td>0</td><td>12864.0</td><td>1427.0</td><td>26.686839933100835</td><td>26.686839933100835</td><td>1538.0</td><td>1539.6325513263082</td><td>0</td><td>4854.0</td><td>1454.0</td><td>19.273828840572826</td><td>19.273828840572826</td><td>1493.0</td><td>1495.2319544119428</td><td>0</td><td>8553.0</td><td>1427.0</td><td>16.308624403561623</td><td>16.308624403561623</td><td>1533.0</td><td>1536.7274860707364</td><td>0</td><td>8590.0</td><td>1465.0</td><td>20.75643105907843</td><td>20.75643105907843</td><td>1539.0</td><td>1541.329832091812</td><td>0</td><td>12864.0</td><td>1465.0</td><td>20.75643105907843</td><td>20.75643105907843</td><td>GUIDE0</td><td>20.930072404546664</td><td>20.920742 .. 20.934862</td><td>0</td><td>52090</td><td>58905.25501108</td><td>SV tile 70502</td><td>180.012</td><td>-0.510261</td><td>not open</td><td>open</td><td>open</td><td>6.887381</td><td>-2.523766</td><td>9.619</td><td>0</td><td>5.0</td><td>1.663456</td><td>20200225</td><td>617.4,-264.2,1076.3,-18.4,-2.1,0.0</td><td>5.0</td><td>1</td><td>179.55401960292727</td><td>-1.9990641018829214</td><td>/project/projectdirs/desi/spectro/data/20200225/00052090/guide-00052090.fits.fz</td><td>1f12aa8</td><td>GUIDE0</td><td>1.0426276683172162</td><td>0.05830072384791839</td><td>1</td><td>0.2228521466673881</td><td>27.33435367597494</td><td>27.738184311089398</td><td>171.38576089833316</td><td>29.63891249544342</td><td>40.65702037037236</td><td>0</td><td>0 .. 0</td><td>1434.0 .. 1395.0</td><td>1418.0 .. 1384.0</td><td>28.603341724936065</td><td>16.51904192741891</td><td>21.737060546875</td><td>4.456097412109375</td><td>8</td><td>2048 .. 1032</td><td>-5.64158190288e-05 .. 5.1670258812e-05</td><td>1.0 .. 1.0</td><td>1582.0179377678278 .. 29142.30851481351</td><td>180.012 .. -0.510261</td><td>RA---TAN .. DEC--TAN</td><td>180.0</td><td>90.0</td><td>0.0 .. 0.0</td><td>/project/projectdirs/desi/users/ameisner/GFA/gfa_reduce_etc/master_dark_library/master_dark-00033669_00033718.fits</td><td>1</td><td>5.0</td><td>10.116</td><td>0.8619561372479662</td><td>4.7208617937366695</td><td>1.0716894531250005 .. 1.1021728515625004</td><td>1.0953833007812506</td><td>1.0953833007812506</td><td>1</td><td>41 .. 42</td><td>1 .. 1</td></tr>\n",
       "<tr><td>1387.0</td><td>1365.1670603197674</td><td>0</td><td>15774.0</td><td>1149.0</td><td>99.33434863987533</td><td>99.33434863987533</td><td>1411.0</td><td>1411.6850074945494</td><td>0</td><td>5778.0</td><td>1336.0</td><td>10.378215529539215</td><td>10.378215529539215</td><td>1354.0</td><td>1354.5767207182655</td><td>0</td><td>15774.0</td><td>1273.0</td><td>10.378215529539215</td><td>10.378215529539215</td><td>1484.0</td><td>1485.1863114704458</td><td>0</td><td>8079.0</td><td>1422.0</td><td>13.343419966550417</td><td>13.343419966550417</td><td>1208.0</td><td>1209.2202015958092</td><td>0</td><td>9229.0</td><td>1149.0</td><td>11.860817748044816</td><td>11.860817748044816</td><td>GUIDE2</td><td>20.92544999969874</td><td>20.914686 .. 20.911041</td><td>2</td><td>52090</td><td>58905.25501108</td><td>SV tile 70502</td><td>180.012</td><td>-0.510261</td><td>not open</td><td>open</td><td>open</td><td>6.887381</td><td>-2.523766</td><td>9.696</td><td>0</td><td>5.0</td><td>1.663456</td><td>20200225</td><td>617.4,-264.2,1076.3,-18.4,-2.1,0.0</td><td>5.0</td><td>1</td><td>178.42769441642827</td><td>-0.5780745625377235</td><td>/project/projectdirs/desi/spectro/data/20200225/00052090/guide-00052090.fits.fz</td><td>1f12aa8</td><td>GUIDE2</td><td>1.940966665821681</td><td>0.0576295459331475</td><td>2</td><td>0.21770146613018976</td><td>25.158400134558946</td><td>25.03734170804297</td><td>170.99169563956727</td><td>24.946786121625415</td><td>0.5714039009169344</td><td>0</td><td>0 .. 0</td><td>1412.0 .. 1284.0</td><td>1394.0 .. 1265.0</td><td>26.999569932885123</td><td>18.845199281529055</td><td>22.556867599487305</td><td>4.624157857894897</td><td>8</td><td>2048 .. 1032</td><td>-4.46388361775e-07 .. -2.49389487994e-08</td><td>1.0 .. 1.0</td><td>2184.499310240663 .. 29621.769529400484</td><td>180.012 .. -0.510261</td><td>RA---TAN .. DEC--TAN</td><td>180.0</td><td>90.0</td><td>0.0 .. 0.0</td><td>/project/projectdirs/desi/users/ameisner/GFA/gfa_reduce_etc/master_dark_library/master_dark-00033669_00033718.fits</td><td>1</td><td>5.0</td><td>10.145</td><td>0.8665441798925211</td><td>4.5424389769839575</td><td>0.9866650390625 .. 1.0268749999999998</td><td>1.0484033203125</td><td>1.0484033203125</td><td>1</td><td>36 .. 30</td><td>1 .. 1</td></tr>\n",
       "<tr><td>1521.0</td><td>1513.2430732194769</td><td>0</td><td>16764.0</td><td>1273.0</td><td>189.77308396871706</td><td>189.77308396871706</td><td>1538.0</td><td>1539.0801008357557</td><td>0</td><td>8650.0</td><td>1478.0</td><td>10.378215529539215</td><td>10.378215529539215</td><td>1497.0</td><td>1499.0735639232073</td><td>0</td><td>16764.0</td><td>1428.0</td><td>11.860817748044816</td><td>11.860817748044816</td><td>1681.0</td><td>1682.7514478106832</td><td>0</td><td>10263.0</td><td>1629.0</td><td>10.378215529539215</td><td>10.378215529539215</td><td>1331.0</td><td>1332.0671803082607</td><td>0</td><td>7273.0</td><td>1273.0</td><td>10.378215529539215</td><td>10.378215529539215</td><td>GUIDE3</td><td>21.13046143320308</td><td>21.166628 .. 21.133116</td><td>3</td><td>52090</td><td>58905.25501109</td><td>SV tile 70502</td><td>180.012</td><td>-0.510261</td><td>not open</td><td>open</td><td>open</td><td>6.887381</td><td>-2.523766</td><td>9.509</td><td>0</td><td>5.0</td><td>1.663456</td><td>20200225</td><td>617.4,-264.2,1076.3,-18.4,-2.1,0.0</td><td>5.0</td><td>1</td><td>178.69786825177653</td><td>0.2726845999895908</td><td>/project/projectdirs/desi/spectro/data/20200225/00052090/guide-00052090.fits.fz</td><td>1f12aa8</td><td>GUIDE3</td><td>1.287155121826182</td><td>nan</td><td>0</td><td>nan</td><td>nan</td><td>nan</td><td>171.50960283035616</td><td>nan</td><td>nan</td><td>0</td><td>0 .. 0</td><td>1606.0 .. 1425.0</td><td>1595.0 .. 1413.0</td><td>nan</td><td>nan</td><td>nan</td><td>nan</td><td>2</td><td>2048 .. 1032</td><td>3.47327717614e-05 .. -3.23339865093e-05</td><td>1.0 .. 1.0</td><td>3555.06547766 .. 28493.0584527</td><td>180.012 .. -0.510261</td><td>RA---TAN .. DEC--TAN</td><td>180.0</td><td>90.0</td><td>0.0 .. 0.0</td><td>/project/projectdirs/desi/users/ameisner/GFA/gfa_reduce_etc/master_dark_library/master_dark-00033669_00033718.fits</td><td>1</td><td>5.0</td><td>10.017</td><td>0.8557434757359547</td><td>4.811917015300753</td><td>1.1192285156250008 .. 1.0923999023437503</td><td>1.124616699218751</td><td>1.124616699218751</td><td>1</td><td>36 .. 38</td><td>1 .. 1</td></tr>\n",
       "<tr><td>1292.0</td><td>1275.1623956251515</td><td>0</td><td>14103.0</td><td>1125.0</td><td>35.58245324413445</td><td>35.58245324413445</td><td>1321.0</td><td>1322.7640106437743</td><td>0</td><td>7030.0</td><td>1256.0</td><td>10.378215529539215</td><td>10.378215529539215</td><td>1278.0</td><td>1279.3460456789003</td><td>0</td><td>14103.0</td><td>1220.0</td><td>10.378215529539215</td><td>10.378215529539215</td><td>1302.0</td><td>1303.4700142320737</td><td>0</td><td>7712.0</td><td>1237.0</td><td>10.378215529539215</td><td>10.378215529539215</td><td>1193.0</td><td>1195.0695119458576</td><td>0</td><td>12214.0</td><td>1125.0</td><td>8.895613311033612</td><td>8.895613311033612</td><td>GUIDE5</td><td>21.171496612805143</td><td>21.172798 .. 21.158443</td><td>5</td><td>52090</td><td>58905.2550111</td><td>SV tile 70502</td><td>180.012</td><td>-0.510261</td><td>not open</td><td>open</td><td>open</td><td>6.887381</td><td>-2.523766</td><td>9.632</td><td>0</td><td>5.0</td><td>1.663456</td><td>20200225</td><td>617.4,-264.2,1076.3,-18.4,-2.1,0.0</td><td>5.0</td><td>1</td><td>180.4106621566886</td><td>1.0198037483381948</td><td>/project/projectdirs/desi/spectro/data/20200225/00052090/guide-00052090.fits.fz</td><td>1f12aa8</td><td>GUIDE5</td><td>2.504184629438785</td><td>0.07068937619861994</td><td>5</td><td>0.2620299050642668</td><td>24.480068460104828</td><td>24.776089144846132</td><td>173.35415673996212</td><td>25.195697031766215</td><td>0.7199870302054515</td><td>0</td><td>0 .. 0</td><td>1240.0 .. 1215.0</td><td>1227.0 .. 1204.0</td><td>22.178647238628393</td><td>21.78721423938459</td><td>21.982059478759766</td><td>4.506322193145752</td><td>10</td><td>2048 .. 1032</td><td>5.64295454824e-05 .. -5.17064279693e-05</td><td>1.0 .. 1.0</td><td>2763.3612415073612 .. 29507.707422997486</td><td>180.012 .. -0.510261</td><td>RA---TAN .. DEC--TAN</td><td>180.0</td><td>90.0</td><td>0.0 .. 0.0</td><td>/project/projectdirs/desi/users/ameisner/GFA/gfa_reduce_etc/master_dark_library/master_dark-00033669_00033718.fits</td><td>1</td><td>5.0</td><td>10.07</td><td>0.8668453930912401</td><td>4.953830423477558</td><td>1.1535937500000009 .. 1.1536083984375005</td><td>1.1429559326171883</td><td>1.1429559326171883</td><td>1</td><td>30 .. 36</td><td>1 .. 1</td></tr>\n",
       "<tr><td>...</td><td>...</td><td>...</td><td>...</td><td>...</td><td>...</td><td>...</td><td>...</td><td>...</td><td>...</td><td>...</td><td>...</td><td>...</td><td>...</td><td>...</td><td>...</td><td>...</td><td>...</td><td>...</td><td>...</td><td>...</td><td>...</td><td>...</td><td>...</td><td>...</td><td>...</td><td>...</td><td>...</td><td>...</td><td>...</td><td>...</td><td>...</td><td>...</td><td>...</td><td>...</td><td>...</td><td>...</td><td>...</td><td>...</td><td>...</td><td>...</td><td>...</td><td>...</td><td>...</td><td>...</td><td>...</td><td>...</td><td>...</td><td>...</td><td>...</td><td>...</td><td>...</td><td>...</td><td>...</td><td>...</td><td>...</td><td>...</td><td>...</td><td>...</td><td>...</td><td>...</td><td>...</td><td>...</td><td>...</td><td>...</td><td>...</td><td>...</td><td>...</td><td>...</td><td>...</td><td>...</td><td>...</td><td>...</td><td>...</td><td>...</td><td>...</td><td>...</td><td>...</td><td>...</td><td>...</td><td>...</td><td>...</td><td>...</td><td>...</td><td>...</td><td>...</td><td>...</td><td>...</td><td>...</td><td>...</td><td>...</td><td>...</td><td>...</td><td>...</td><td>...</td><td>...</td><td>...</td><td>...</td><td>...</td><td>...</td><td>...</td></tr>\n",
       "<tr><td>1545.0</td><td>1533.2306528017502</td><td>0</td><td>15658.0</td><td>1283.0</td><td>176.42966400216665</td><td>176.42966400216665</td><td>1563.0</td><td>1564.210326202156</td><td>0</td><td>9015.0</td><td>1495.0</td><td>10.378215529539215</td><td>10.378215529539215</td><td>1519.0</td><td>1520.3913971656978</td><td>0</td><td>15658.0</td><td>1448.0</td><td>11.860817748044816</td><td>11.860817748044816</td><td>1695.0</td><td>1697.0541443344234</td><td>0</td><td>9876.0</td><td>1641.0</td><td>11.860817748044816</td><td>11.860817748044816</td><td>1350.0</td><td>1351.2667435047238</td><td>0</td><td>6786.0</td><td>1283.0</td><td>11.860817748044816</td><td>11.860817748044816</td><td>GUIDE3</td><td>20.216796487293344</td><td>20.240553 .. 20.214312</td><td>3</td><td>53090</td><td>58913.3643126</td><td>MW tile 70510</td><td>195.0025</td><td>28.99935</td><td>not open</td><td>open</td><td>open</td><td>106.745734</td><td>23.415255</td><td>9.822</td><td>0</td><td>5.0</td><td>1.026983</td><td>20200304</td><td>917.9,-359.7,490.5,-7.2,7.6,0.2</td><td>5.0</td><td>65</td><td>193.48153890896512</td><td>29.853449868248944</td><td>/project/projectdirs/desi/spectro/data/20200304/00053090/guide-00053090.fits.fz</td><td>1f12aa8</td><td>GUIDE3</td><td>3.9811201543095756</td><td>0.3674941453452097</td><td>2</td><td>0.7603072049832065</td><td>25.0542918809035</td><td>24.141555894162835</td><td>75.92849614176109</td><td>25.579847202222027</td><td>0.9512972643097236</td><td>0</td><td>0 .. 0</td><td>1605.0 .. 1431.0</td><td>1593.0 .. 1420.0</td><td>8.050079146447096</td><td>7.677490783865025</td><td>7.861577987670898</td><td>1.6116234874725341</td><td>11</td><td>2048 .. 1032</td><td>3.47327717614e-05 .. -3.23339865093e-05</td><td>1.0 .. 1.0</td><td>2521.31547766 .. 29426.1834527</td><td>195.0025 .. 28.99935</td><td>RA---TAN .. DEC--TAN</td><td>180.0</td><td>90.0</td><td>0.0 .. 0.0</td><td>/project/projectdirs/desi/users/ameisner/GFA/gfa_reduce_etc/master_dark_library/master_dark-00033669_00033718.fits</td><td>1</td><td>5.0</td><td>10.017</td><td>0.944625940489195</td><td>4.65790127484756</td><td>0.9993005371093753 .. 0.977598876953125</td><td>0.9861895751953126</td><td>0.9861895751953126</td><td>1</td><td>43 .. 37</td><td>1 .. 1</td></tr>\n",
       "<tr><td>1310.0</td><td>1296.6964764262354</td><td>0</td><td>12446.0</td><td>1155.0</td><td>34.099851025628844</td><td>34.099851025628844</td><td>1342.0</td><td>1343.4647491218507</td><td>0</td><td>6801.0</td><td>1283.0</td><td>10.378215529539215</td><td>10.378215529539215</td><td>1301.0</td><td>1302.6206225018168</td><td>0</td><td>11425.0</td><td>1241.0</td><td>10.378215529539215</td><td>10.378215529539215</td><td>1317.0</td><td>1318.5950653312743</td><td>0</td><td>8272.0</td><td>1255.0</td><td>10.378215529539215</td><td>10.378215529539215</td><td>1221.0</td><td>1222.10546875</td><td>0</td><td>12446.0</td><td>1155.0</td><td>10.378215529539215</td><td>10.378215529539215</td><td>GUIDE5</td><td>20.263516532294542</td><td>20.234303 .. 20.297468</td><td>5</td><td>53090</td><td>58913.36431262</td><td>MW tile 70510</td><td>195.0025</td><td>28.99935</td><td>not open</td><td>open</td><td>open</td><td>106.745734</td><td>23.415255</td><td>9.987</td><td>0</td><td>5.0</td><td>1.026983</td><td>20200304</td><td>917.9,-359.7,490.5,-7.2,7.6,0.2</td><td>5.0</td><td>65</td><td>195.4781040160571</td><td>30.518603657996984</td><td>/project/projectdirs/desi/spectro/data/20200304/00053090/guide-00053090.fits.fz</td><td>1f12aa8</td><td>GUIDE5</td><td>5.151746310406397</td><td>0.3758984226405502</td><td>6</td><td>0.7720987108243643</td><td>23.580956357859925</td><td>24.3139777993945</td><td>77.33258926677158</td><td>25.573816683737945</td><td>0.9540021756614725</td><td>0</td><td>0 .. 0</td><td>1239.0 .. 1224.0</td><td>1226.0 .. 1213.0</td><td>7.978555372895142</td><td>6.941996441247935</td><td>7.442251205444336</td><td>1.5256614971160887</td><td>16</td><td>2048 .. 1032</td><td>5.64295454824e-05 .. -5.17064279693e-05</td><td>1.0 .. 1.0</td><td>2532.2455942837614 .. 29395.47794414779</td><td>195.0025 .. 28.99935</td><td>RA---TAN .. DEC--TAN</td><td>180.0</td><td>90.0</td><td>0.0 .. 0.0</td><td>/project/projectdirs/desi/users/ameisner/GFA/gfa_reduce_etc/master_dark_library/master_dark-00033669_00033718.fits</td><td>1</td><td>5.0</td><td>10.07</td><td>0.9747675059967418</td><td>4.84933745314231</td><td>0.9619140625000002 .. 0.9832714843749999</td><td>0.9949731445312497</td><td>0.9949731445312497</td><td>1</td><td>25 .. 33</td><td>1 .. 1</td></tr>\n",
       "<tr><td>1492.0</td><td>1500.9419919982438</td><td>0</td><td>10117.0</td><td>1387.0</td><td>48.92587321068487</td><td>48.92587321068487</td><td>1499.0</td><td>1501.1066686349322</td><td>0</td><td>6219.0</td><td>1434.0</td><td>8.895613311033612</td><td>8.895613311033612</td><td>1437.0</td><td>1440.4287487887598</td><td>0</td><td>8192.0</td><td>1387.0</td><td>11.860817748044816</td><td>11.860817748044816</td><td>1476.0</td><td>1479.8867698492006</td><td>0</td><td>10117.0</td><td>1413.0</td><td>11.860817748044816</td><td>11.860817748044816</td><td>1580.0</td><td>1582.3457807200823</td><td>0</td><td>6717.0</td><td>1517.0</td><td>10.378215529539215</td><td>10.378215529539215</td><td>GUIDE7</td><td>20.508141688523637</td><td>20.498474 .. 20.533607</td><td>7</td><td>53090</td><td>58913.36431261</td><td>MW tile 70510</td><td>195.0025</td><td>28.99935</td><td>not open</td><td>open</td><td>open</td><td>106.745734</td><td>23.415255</td><td>10.073</td><td>0</td><td>5.0</td><td>1.026983</td><td>20200304</td><td>917.9,-359.7,490.5,-7.2,7.6,0.2</td><td>5.0</td><td>65</td><td>196.79888514506158</td><td>29.066531306123455</td><td>/project/projectdirs/desi/spectro/data/20200304/00053090/guide-00053090.fits.fz</td><td>1f12aa8</td><td>GUIDE7</td><td>2.587845405399216</td><td>0.43566943544339937</td><td>5</td><td>0.8136303454269684</td><td>24.65252421996258</td><td>24.63201699653624</td><td>78.91185170642176</td><td>25.474046863893868</td><td>0.9436029606729939</td><td>0</td><td>0 .. 0</td><td>1405.0 .. 1372.0</td><td>1394.0 .. 1363.0</td><td>7.233866786518493</td><td>5.639040057091279</td><td>6.386866569519043</td><td>1.3093076467514038</td><td>11</td><td>2048 .. 1032</td><td>3.87411969604e-07 .. 6.56255014282e-08</td><td>1.0 .. 1.0</td><td>2391.2868242933337 .. 29357.509228866667</td><td>195.0025 .. 28.99935</td><td>RA---TAN .. DEC--TAN</td><td>180.0</td><td>90.0</td><td>0.0 .. 0.0</td><td>/project/projectdirs/desi/users/ameisner/GFA/gfa_reduce_etc/master_dark_library/master_dark-00034296_00034345.fits</td><td>1</td><td>5.0</td><td>10.281</td><td>0.94327734107752</td><td>4.980894706371028</td><td>1.0048828125000004 .. 1.0601367187500004</td><td>1.0560827636718755</td><td>1.0560827636718755</td><td>1</td><td>29 .. 32</td><td>1 .. 1</td></tr>\n",
       "<tr><td>1638.0</td><td>1622.763394141382</td><td>0</td><td>18447.0</td><td>1371.0</td><td>186.80787953170585</td><td>186.80787953170585</td><td>1788.0</td><td>1796.6739151828972</td><td>0</td><td>18447.0</td><td>1717.0</td><td>26.686839933100835</td><td>26.686839933100835</td><td>1535.0</td><td>1541.977043210998</td><td>0</td><td>10284.0</td><td>1459.0</td><td>26.686839933100835</td><td>26.686839933100835</td><td>1684.0</td><td>1690.3071137657462</td><td>0</td><td>9788.0</td><td>1588.0</td><td>29.65204437011204</td><td>29.65204437011204</td><td>1454.0</td><td>1462.0955044058867</td><td>0</td><td>5787.0</td><td>1371.0</td><td>28.16944215160644</td><td>28.16944215160644</td><td>GUIDE8</td><td>20.322870009911277</td><td>20.322124 .. 20.314865</td><td>8</td><td>53090</td><td>58913.36431262</td><td>MW tile 70510</td><td>195.0025</td><td>28.99935</td><td>not open</td><td>open</td><td>open</td><td>106.745734</td><td>23.415255</td><td>10.097</td><td>0</td><td>5.0</td><td>1.026983</td><td>20200304</td><td>917.9,-359.7,490.5,-7.2,7.6,0.2</td><td>5.0</td><td>65</td><td>196.49575020582253</td><td>28.130463200028366</td><td>/project/projectdirs/desi/spectro/data/20200304/00053090/guide-00053090.fits.fz</td><td>1f12aa8</td><td>GUIDE8</td><td>4.470892481826104</td><td>0.3343364371945445</td><td>5</td><td>0.6874364962357777</td><td>24.753468740798134</td><td>25.164767193537905</td><td>78.99506128771174</td><td>25.71788736883178</td><td>1.0842721478664883</td><td>0</td><td>0 .. 0</td><td>1572.0 .. 1433.0</td><td>1561.0 .. 1422.0</td><td>7.664898194075621</td><td>6.018614147277914</td><td>6.792058944702148</td><td>1.3923720836639404</td><td>21</td><td>2048 .. 1032</td><td>-3.43493027588e-05 .. 3.18945245796e-05</td><td>1.0 .. 1.0</td><td>2270.202654657143 .. 29392.891447328573</td><td>195.0025 .. 28.99935</td><td>RA---TAN .. DEC--TAN</td><td>180.0</td><td>90.0</td><td>0.0 .. 0.0</td><td>/project/projectdirs/desi/users/ameisner/GFA/gfa_reduce_etc/master_dark_library/master_dark-00033669_00033718.fits</td><td>1</td><td>5.0</td><td>10.041</td><td>1.013431816923843</td><td>5.000006237204459</td><td>0.9867480468750001 .. 0.986746826171875</td><td>0.9867474365234375</td><td>0.9867474365234375</td><td>1</td><td>28 .. 30</td><td>1 .. 1</td></tr>\n",
       "<tr><td>1570.0</td><td>1572.1256444176963</td><td>0</td><td>19208.0</td><td>1456.0</td><td>32.61724880712325</td><td>32.61724880712325</td><td>1591.0</td><td>1594.3281704215117</td><td>0</td><td>19208.0</td><td>1502.0</td><td>20.75643105907843</td><td>20.75643105907843</td><td>1548.0</td><td>1551.2048188438712</td><td>0</td><td>15698.0</td><td>1482.0</td><td>16.308624403561623</td><td>16.308624403561623</td><td>1548.0</td><td>1551.4948446584303</td><td>0</td><td>7782.0</td><td>1456.0</td><td>22.23903327758403</td><td>22.23903327758403</td><td>1589.0</td><td>1591.4747437469719</td><td>0</td><td>12564.0</td><td>1499.0</td><td>22.23903327758403</td><td>22.23903327758403</td><td>GUIDE0</td><td>20.20838447553698</td><td>20.17586 .. 20.23088</td><td>0</td><td>53090</td><td>58913.36443014</td><td>MW tile 70510</td><td>195.0025</td><td>28.99935</td><td>not open</td><td>open</td><td>open</td><td>106.745734</td><td>23.415255</td><td>10.001</td><td>0</td><td>5.0</td><td>1.026983</td><td>20200304</td><td>917.9,-359.7,490.5,-7.2,7.6,0.2</td><td>5.0</td><td>66</td><td>194.53571904678125</td><td>27.479284998374563</td><td>/project/projectdirs/desi/spectro/data/20200304/00053090/guide-00053090.fits.fz</td><td>1f12aa8</td><td>GUIDE0</td><td>5.399836941013906</td><td>0.3060165762896325</td><td>5</td><td>0.6243232157878814</td><td>25.802681980847712</td><td>25.030234954148554</td><td>77.59842081487741</td><td>25.95409817106451</td><td>1.2769875078514268</td><td>0</td><td>0 .. 0</td><td>1433.0 .. 1435.0</td><td>1417.0 .. 1425.0</td><td>6.895142288026809</td><td>6.252387788786921</td><td>6.56590461730957</td><td>1.346010446548462</td><td>19</td><td>2048 .. 1032</td><td>-5.64158190288e-05 .. 5.1670258812e-05</td><td>1.0 .. 1.0</td><td>2441.946796650543 .. 29429.968007077878</td><td>195.0025 .. 28.99935</td><td>RA---TAN .. DEC--TAN</td><td>180.0</td><td>90.0</td><td>0.0 .. 0.0</td><td>/project/projectdirs/desi/users/ameisner/GFA/gfa_reduce_etc/master_dark_library/master_dark-00033669_00033718.fits</td><td>1</td><td>5.0</td><td>10.116</td><td>0.9680582611338352</td><td>4.755278962766384</td><td>0.9908886718750001 .. 0.9650744628906252</td><td>0.9824365234375001</td><td>0.9824365234375001</td><td>1</td><td>30 .. 35</td><td>1 .. 1</td></tr>\n",
       "<tr><td>1403.0</td><td>1380.2475869821947</td><td>0</td><td>15173.0</td><td>1155.0</td><td>97.85174642136974</td><td>97.85174642136974</td><td>1428.0</td><td>1428.2676481498304</td><td>0</td><td>5928.0</td><td>1342.0</td><td>10.378215529539215</td><td>10.378215529539215</td><td>1369.0</td><td>1370.8409035852712</td><td>0</td><td>15173.0</td><td>1278.0</td><td>10.378215529539215</td><td>10.378215529539215</td><td>1498.0</td><td>1499.0601645772772</td><td>0</td><td>7193.0</td><td>1426.0</td><td>13.343419966550417</td><td>13.343419966550417</td><td>1222.0</td><td>1222.8216316164003</td><td>0</td><td>8504.0</td><td>1155.0</td><td>11.860817748044816</td><td>11.860817748044816</td><td>GUIDE2</td><td>20.27381024503645</td><td>20.283964 .. 20.260078</td><td>2</td><td>53090</td><td>58913.36443013</td><td>MW tile 70510</td><td>195.0025</td><td>28.99935</td><td>not open</td><td>open</td><td>open</td><td>106.745734</td><td>23.415255</td><td>9.963</td><td>0</td><td>5.0</td><td>1.026983</td><td>20200304</td><td>917.9,-359.7,490.5,-7.2,7.6,0.2</td><td>5.0</td><td>66</td><td>193.20398178100308</td><td>28.910308846308155</td><td>/project/projectdirs/desi/spectro/data/20200304/00053090/guide-00053090.fits.fz</td><td>1f12aa8</td><td>GUIDE2</td><td>6.150996095958533</td><td>0.33848913537218306</td><td>8</td><td>0.6968638929702696</td><td>25.128467560941324</td><td>25.08030941067174</td><td>76.01079070469208</td><td>25.74070141531346</td><td>1.1104171216948688</td><td>0</td><td>0 .. 0</td><td>1411.0 .. 1284.0</td><td>1393.0 .. 1266.0</td><td>8.026538212851362</td><td>6.294102173725386</td><td>7.107731819152832</td><td>1.4570850229263306</td><td>27</td><td>2048 .. 1032</td><td>-4.46388361775e-07 .. -2.49389487994e-08</td><td>1.0 .. 1.0</td><td>2337.220046453046 .. 29441.05954932884</td><td>195.0025 .. 28.99935</td><td>RA---TAN .. DEC--TAN</td><td>180.0</td><td>90.0</td><td>0.0 .. 0.0</td><td>/project/projectdirs/desi/users/ameisner/GFA/gfa_reduce_etc/master_dark_library/master_dark-00033669_00033718.fits</td><td>1</td><td>5.0</td><td>10.145</td><td>0.9459043223617791</td><td>4.863278394892865</td><td>0.999375 .. 0.9505273437499997</td><td>1.02828125</td><td>1.02828125</td><td>1</td><td>27 .. 30</td><td>1 .. 1</td></tr>\n",
       "<tr><td>1545.0</td><td>1532.6536311659702</td><td>0</td><td>15685.0</td><td>1283.0</td><td>174.94706178366104</td><td>174.94706178366104</td><td>1563.0</td><td>1564.172613099564</td><td>0</td><td>8824.0</td><td>1497.0</td><td>10.378215529539215</td><td>10.378215529539215</td><td>1519.0</td><td>1520.4310974594234</td><td>0</td><td>15685.0</td><td>1446.0</td><td>11.860817748044816</td><td>11.860817748044816</td><td>1695.0</td><td>1696.9982096354167</td><td>0</td><td>9924.0</td><td>1644.0</td><td>11.860817748044816</td><td>11.860817748044816</td><td>1348.0</td><td>1349.0126044694769</td><td>0</td><td>6825.0</td><td>1283.0</td><td>11.860817748044816</td><td>11.860817748044816</td><td>GUIDE3</td><td>20.240395429664872</td><td>20.236029 .. 20.243223</td><td>3</td><td>53090</td><td>58913.36443014</td><td>MW tile 70510</td><td>195.0025</td><td>28.99935</td><td>not open</td><td>open</td><td>open</td><td>106.745734</td><td>23.415255</td><td>9.891</td><td>0</td><td>5.0</td><td>1.026983</td><td>20200304</td><td>917.9,-359.7,490.5,-7.2,7.6,0.2</td><td>5.0</td><td>66</td><td>193.48156639692849</td><td>29.853460104792344</td><td>/project/projectdirs/desi/spectro/data/20200304/00053090/guide-00053090.fits.fz</td><td>1f12aa8</td><td>GUIDE3</td><td>4.215864018745325</td><td>0.48767084983057607</td><td>2</td><td>0.8934119820385074</td><td>24.90171076817605</td><td>27.54451683247839</td><td>75.92851529623692</td><td>25.432732926821615</td><td>0.8307503590779541</td><td>0</td><td>0 .. 0</td><td>1604.0 .. 1431.0</td><td>1593.0 .. 1420.0</td><td>nan</td><td>nan</td><td>nan</td><td>nan</td><td>10</td><td>2048 .. 1032</td><td>3.47327717614e-05 .. -3.23339865093e-05</td><td>1.0 .. 1.0</td><td>2520.94047766 .. 29425.9334527</td><td>195.0025 .. 28.99935</td><td>RA---TAN .. DEC--TAN</td><td>180.0</td><td>90.0</td><td>0.0 .. 0.0</td><td>/project/projectdirs/desi/users/ameisner/GFA/gfa_reduce_etc/master_dark_library/master_dark-00033669_00033718.fits</td><td>1</td><td>5.0</td><td>10.017</td><td>0.9642198384699415</td><td>4.748620863366086</td><td>1.0161962890625 .. 0.9502343749999997</td><td>0.9849664306640624</td><td>0.9849664306640624</td><td>1</td><td>31 .. 34</td><td>1 .. 1</td></tr>\n",
       "<tr><td>1310.0</td><td>1296.7001328579215</td><td>0</td><td>12480.0</td><td>1153.0</td><td>34.099851025628844</td><td>34.099851025628844</td><td>1342.0</td><td>1343.4691058018411</td><td>0</td><td>6860.0</td><td>1279.0</td><td>10.378215529539215</td><td>10.378215529539215</td><td>1301.0</td><td>1302.6384012384933</td><td>0</td><td>11383.0</td><td>1239.0</td><td>10.378215529539215</td><td>10.378215529539215</td><td>1317.0</td><td>1318.5779433139535</td><td>0</td><td>8190.0</td><td>1249.0</td><td>10.378215529539215</td><td>10.378215529539215</td><td>1221.0</td><td>1222.1150810773981</td><td>0</td><td>12480.0</td><td>1153.0</td><td>10.378215529539215</td><td>10.378215529539215</td><td>GUIDE5</td><td>20.296558774283938</td><td>20.274792 .. 20.29949</td><td>5</td><td>53090</td><td>58913.36443015</td><td>MW tile 70510</td><td>195.0025</td><td>28.99935</td><td>not open</td><td>open</td><td>open</td><td>106.745734</td><td>23.415255</td><td>10.027</td><td>0</td><td>5.0</td><td>1.026983</td><td>20200304</td><td>917.9,-359.7,490.5,-7.2,7.6,0.2</td><td>5.0</td><td>66</td><td>195.47817080724795</td><td>30.518605797151526</td><td>/project/projectdirs/desi/spectro/data/20200304/00053090/guide-00053090.fits.fz</td><td>1f12aa8</td><td>GUIDE5</td><td>4.979547339089385</td><td>0.427640408250459</td><td>5</td><td>0.8225639738110124</td><td>24.985192088215754</td><td>25.188887789524863</td><td>77.33264264266829</td><td>25.550988753753856</td><td>0.9341533877882842</td><td>0</td><td>0 .. 0</td><td>1239.0 .. 1223.0</td><td>1226.0 .. 1213.0</td><td>7.090949286685891</td><td>5.262833477150126</td><td>6.108885765075684</td><td>1.2523215818405151</td><td>22</td><td>2048 .. 1032</td><td>5.64295454824e-05 .. -5.17064279693e-05</td><td>1.0 .. 1.0</td><td>2531.3362198953823 .. 29395.841844185456</td><td>195.0025 .. 28.99935</td><td>RA---TAN .. DEC--TAN</td><td>180.0</td><td>90.0</td><td>0.0 .. 0.0</td><td>/project/projectdirs/desi/users/ameisner/GFA/gfa_reduce_etc/master_dark_library/master_dark-00033669_00033718.fits</td><td>1</td><td>5.0</td><td>10.07</td><td>0.9869277440706008</td><td>4.999996178990493</td><td>1.0132470703125 .. 1.0132421875000004</td><td>1.0132446289062502</td><td>1.0132446289062502</td><td>1</td><td>26 .. 36</td><td>1 .. 1</td></tr>\n",
       "<tr><td>1492.0</td><td>1500.9385891699976</td><td>0</td><td>9520.0</td><td>1387.0</td><td>48.92587321068487</td><td>48.92587321068487</td><td>1499.0</td><td>1501.1280110677083</td><td>0</td><td>6219.0</td><td>1431.0</td><td>8.895613311033612</td><td>8.895613311033612</td><td>1437.0</td><td>1440.420894652374</td><td>0</td><td>8213.0</td><td>1387.0</td><td>11.860817748044816</td><td>11.860817748044816</td><td>1476.0</td><td>1479.8692182200823</td><td>0</td><td>9520.0</td><td>1420.0</td><td>11.860817748044816</td><td>11.860817748044816</td><td>1580.0</td><td>1582.3362327398256</td><td>0</td><td>6710.0</td><td>1512.0</td><td>10.378215529539215</td><td>10.378215529539215</td><td>GUIDE7</td><td>20.540253295251755</td><td>20.55458 .. 20.539278</td><td>7</td><td>53090</td><td>58913.36443016</td><td>MW tile 70510</td><td>195.0025</td><td>28.99935</td><td>not open</td><td>open</td><td>open</td><td>106.745734</td><td>23.415255</td><td>10.017</td><td>0</td><td>5.0</td><td>1.026983</td><td>20200304</td><td>917.9,-359.7,490.5,-7.2,7.6,0.2</td><td>5.0</td><td>66</td><td>196.79895494852528</td><td>29.06659287030521</td><td>/project/projectdirs/desi/spectro/data/20200304/00053090/guide-00053090.fits.fz</td><td>1f12aa8</td><td>GUIDE7</td><td>3.2234278937116545</td><td>0.38777342859673847</td><td>5</td><td>0.76429716430611</td><td>25.12471086588772</td><td>25.21281587990719</td><td>78.91188694251024</td><td>25.57234951907213</td><td>1.0330238702310246</td><td>0</td><td>0 .. 0</td><td>1406.0 .. 1372.0</td><td>1394.0 .. 1363.0</td><td>7.636488263773755</td><td>6.0410051210517</td><td>6.792058944702148</td><td>1.3923720836639404</td><td>15</td><td>2048 .. 1032</td><td>3.87411969604e-07 .. 6.56255014282e-08</td><td>1.0 .. 1.0</td><td>2392.342379848889 .. 29358.620339977777</td><td>195.0025 .. 28.99935</td><td>RA---TAN .. DEC--TAN</td><td>180.0</td><td>90.0</td><td>0.0 .. 0.0</td><td>/project/projectdirs/desi/users/ameisner/GFA/gfa_reduce_etc/master_dark_library/master_dark-00034296_00034345.fits</td><td>1</td><td>5.0</td><td>10.281</td><td>0.9280058559830059</td><td>4.999994051395937</td><td>1.0165234375 .. 1.077578125</td><td>1.077578125</td><td>1.077578125</td><td>1</td><td>29 .. 34</td><td>1 .. 1</td></tr>\n",
       "<tr><td>1641.0</td><td>1631.5257402760114</td><td>0</td><td>18384.0</td><td>1373.0</td><td>182.36007287618904</td><td>182.36007287618904</td><td>1803.0</td><td>1811.1557314377424</td><td>0</td><td>18384.0</td><td>1735.0</td><td>26.686839933100835</td><td>26.686839933100835</td><td>1549.0</td><td>1556.1137449279313</td><td>0</td><td>10317.0</td><td>1476.0</td><td>26.686839933100835</td><td>26.686839933100835</td><td>1684.0</td><td>1690.2537132085756</td><td>0</td><td>9782.0</td><td>1582.0</td><td>29.65204437011204</td><td>29.65204437011204</td><td>1461.0</td><td>1468.5797715297965</td><td>0</td><td>5801.0</td><td>1373.0</td><td>28.16944215160644</td><td>28.16944215160644</td><td>GUIDE8</td><td>20.323063222980103</td><td>20.315966 .. 20.339659</td><td>8</td><td>53090</td><td>58913.36443016</td><td>MW tile 70510</td><td>195.0025</td><td>28.99935</td><td>not open</td><td>open</td><td>open</td><td>106.745734</td><td>23.415255</td><td>10.027</td><td>0</td><td>5.0</td><td>1.026983</td><td>20200304</td><td>917.9,-359.7,490.5,-7.2,7.6,0.2</td><td>5.0</td><td>66</td><td>196.49581915155875</td><td>28.130549078336262</td><td>/project/projectdirs/desi/spectro/data/20200304/00053090/guide-00053090.fits.fz</td><td>1f12aa8</td><td>GUIDE8</td><td>5.996716095958467</td><td>0.3065500433219482</td><td>4</td><td>0.6554373517846758</td><td>24.872807568541567</td><td>24.73394858420437</td><td>78.9950876321204</td><td>25.81541651768889</td><td>1.1861782639366574</td><td>0</td><td>0 .. 0</td><td>1572.0 .. 1448.0</td><td>1561.0 .. 1437.0</td><td>8.131502703298171</td><td>6.412108239150742</td><td>7.220808506011963</td><td>1.4802657437324522</td><td>22</td><td>2048 .. 1032</td><td>-3.43493027588e-05 .. 3.18945245796e-05</td><td>1.0 .. 1.0</td><td>2271.9788451333334 .. 29392.862875900002</td><td>195.0025 .. 28.99935</td><td>RA---TAN .. DEC--TAN</td><td>180.0</td><td>90.0</td><td>0.0 .. 0.0</td><td>/project/projectdirs/desi/users/ameisner/GFA/gfa_reduce_etc/master_dark_library/master_dark-00033669_00033718.fits</td><td>1</td><td>5.0</td><td>10.041</td><td>0.9966420457690387</td><td>4.983820812007694</td><td>1.0033691406249998 .. 0.9628906249999999</td><td>1.0001225280761719</td><td>1.0001225280761719</td><td>1</td><td>30 .. 38</td><td>1 .. 1</td></tr>\n",
       "</table>"
      ],
      "text/plain": [
       "<Table length=17400>\n",
       " MEDIAN        MEAN        ... DARK_RESCALE_CONVERGED [4]\n",
       "float64      float64       ...           uint8           \n",
       "------- ------------------ ... --------------------------\n",
       " 1684.0  1693.462463852047 ...                     1 .. 1\n",
       " 1503.0   1480.81327358512 ...                     1 .. 1\n",
       " 1630.0 1628.3067324143049 ...                     1 .. 1\n",
       " 1385.0 1374.4077754057655 ...                     1 .. 1\n",
       " 1558.0 1576.9606214419816 ...                     1 .. 1\n",
       " 1749.0 1736.0368500938712 ...                     1 .. 1\n",
       " 1528.0    1528.2304559752 ...                     1 .. 1\n",
       " 1387.0 1365.1670603197674 ...                     1 .. 1\n",
       " 1521.0 1513.2430732194769 ...                     1 .. 1\n",
       " 1292.0 1275.1623956251515 ...                     1 .. 1\n",
       "    ...                ... ...                        ...\n",
       " 1545.0 1533.2306528017502 ...                     1 .. 1\n",
       " 1310.0 1296.6964764262354 ...                     1 .. 1\n",
       " 1492.0 1500.9419919982438 ...                     1 .. 1\n",
       " 1638.0  1622.763394141382 ...                     1 .. 1\n",
       " 1570.0 1572.1256444176963 ...                     1 .. 1\n",
       " 1403.0 1380.2475869821947 ...                     1 .. 1\n",
       " 1545.0 1532.6536311659702 ...                     1 .. 1\n",
       " 1310.0 1296.7001328579215 ...                     1 .. 1\n",
       " 1492.0 1500.9385891699976 ...                     1 .. 1\n",
       " 1641.0 1631.5257402760114 ...                     1 .. 1"
      ]
     },
     "execution_count": 8,
     "metadata": {},
     "output_type": "execute_result"
    }
   ],
   "source": [
    "bgs_telemetry = telemetry[keep]\n",
    "bgs_telemetry"
   ]
  },
  {
   "cell_type": "code",
   "execution_count": 9,
   "metadata": {},
   "outputs": [
    {
     "data": {
      "text/plain": [
       "(13481, 17400)"
      ]
     },
     "execution_count": 9,
     "metadata": {},
     "output_type": "execute_result"
    }
   ],
   "source": [
    "##  Basic quality cut on N source used to establish e.g. PSF\n",
    "gold_bgs_telemetry = bgs_telemetry[bgs_telemetry['N_SOURCES_FOR_PSF'] > 2]\n",
    "\n",
    "##   \n",
    "len(gold_bgs_telemetry), len(bgs_telemetry)"
   ]
  },
  {
   "cell_type": "code",
   "execution_count": 10,
   "metadata": {},
   "outputs": [
    {
     "name": "stdout",
     "output_type": "stream",
     "text": [
      "0.007681646843835425 1.9931007321734477\n"
     ]
    },
    {
     "data": {
      "image/png": "[encoded data removed]",
      "text/plain": [
       "<matplotlib.figure.Figure at 0x2aaae8ff4748>"
      ]
     },
     "metadata": {
      "needs_background": "light"
     },
     "output_type": "display_data"
    }
   ],
   "source": [
    "fig, axes   = plt.subplots(1, figsize=(5, 5))\n",
    "\n",
    "max_trans   = gold_bgs_telemetry['TRANSPARENCY'][~np.isnan(gold_bgs_telemetry['TRANSPARENCY'])].max()\n",
    "min_trans   = gold_bgs_telemetry['TRANSPARENCY'][~np.isnan(gold_bgs_telemetry['TRANSPARENCY'])].min()\n",
    "\n",
    "print(min_trans, max_trans)\n",
    "\n",
    "_           = pl.hist(gold_bgs_telemetry['TRANSPARENCY'][~np.isnan(gold_bgs_telemetry['TRANSPARENCY'])], bins=200)\n",
    "\n",
    "pl.xlabel('TRANSPARENCY')\n",
    "pl.yscale('log')"
   ]
  },
  {
   "cell_type": "code",
   "execution_count": 11,
   "metadata": {},
   "outputs": [],
   "source": [
    "uexpids   = np.unique(bgs_telemetry['EXPID'])"
   ]
  },
  {
   "cell_type": "code",
   "execution_count": 12,
   "metadata": {},
   "outputs": [
    {
     "name": "stdout",
     "output_type": "stream",
     "text": [
      "AIRMASS                   \t True\n",
      "APER_CORR_FAC             \t \t False \t \t 642\n",
      "APPLY_DARK_RESCALE_FACTOR \t True\n",
      "CAMERA                    \t \t False \t \t 6\n",
      "CD                        \t \t False \t \t 24\n",
      "CDELT                     \t True\n",
      "CONTRAST                  \t \t False \t \t 632\n",
      "CRPIX                     \t \t False \t \t 1158\n",
      "CRVAL                     \t True\n",
      "CTYPE                     \t True\n",
      "CUBE_INDEX                \t \t False \t \t 107\n",
      "DARK_RESCALE_CONVERGED    \t True\n",
      "DARK_RESCALE_FACTORS_PER_AMP \t \t False \t \t 2310\n",
      "DARK_RESCALE_FACTOR_ADOPTED \t \t False \t \t 638\n",
      "DARK_RESCALE_FACTOR_BESTFIT \t \t False \t \t 638\n",
      "DARK_RESCALE_NCALLS       \t \t False \t \t 36\n",
      "DARK_TEMP_SCALING_FACTOR  \t \t False \t \t 74\n",
      "DECCEN                    \t \t False \t \t 637\n",
      "DOMSHUTL                  \t True\n",
      "DOMSHUTU                  \t True\n",
      "DO_FIT_DARK_SCALING       \t True\n",
      "EXPID                     \t True\n",
      "EXPTIME                   \t \t False \t \t 2\n",
      "EXTNAME                   \t \t False \t \t 6\n",
      "FIBER_FRACFLUX            \t \t False \t \t 642\n",
      "FNAME_MASTER_DARK         \t \t False \t \t 4\n",
      "FNAME_RAW                 \t True\n",
      "FOCUS                     \t True\n",
      "FWHM_ASEC                 \t \t False \t \t 594\n",
      "FWHM_MAJOR_PIX            \t \t False \t \t 642\n",
      "FWHM_MINOR_PIX            \t \t False \t \t 642\n",
      "FWHM_PIX                  \t \t False \t \t 594\n",
      "GITREV                    \t True\n",
      "LATPOLE                   \t True\n",
      "LONGPOLE                  \t True\n",
      "MASTER_DARK_EXPTIME       \t \t False \t \t 2\n",
      "MASTER_DARK_GCCDTEMP      \t \t False \t \t 13\n",
      "MAX                       \t \t False \t \t 550\n",
      "MAX_Q1                    \t \t False \t \t 509\n",
      "MAX_Q2                    \t \t False \t \t 569\n",
      "MAX_Q3                    \t \t False \t \t 533\n",
      "MAX_Q4                    \t \t False \t \t 512\n",
      "MEAN                      \t \t False \t \t 642\n",
      "MEAN_Q1                   \t \t False \t \t 642\n",
      "MEAN_Q2                   \t \t False \t \t 642\n",
      "MEAN_Q3                   \t \t False \t \t 642\n",
      "MEAN_Q4                   \t \t False \t \t 642\n",
      "MEDIAN                    \t \t False \t \t 34\n",
      "MEDIAN_Q1                 \t \t False \t \t 43\n",
      "MEDIAN_Q2                 \t \t False \t \t 47\n",
      "MEDIAN_Q3                 \t \t False \t \t 26\n",
      "MEDIAN_Q4                 \t \t False \t \t 52\n",
      "MIN                       \t \t False \t \t 120\n",
      "MIN_Q1                    \t \t False \t \t 145\n",
      "MIN_Q2                    \t \t False \t \t 117\n",
      "MIN_Q3                    \t \t False \t \t 119\n",
      "MIN_Q4                    \t \t False \t \t 135\n",
      "MJD                       \t \t False \t \t 343\n",
      "MOONDEC                   \t True\n",
      "MOONRA                    \t True\n",
      "MOON_SEP_DEG              \t \t False \t \t 637\n",
      "NAXIS                     \t True\n",
      "NIGHT                     \t True\n",
      "NPIX_BAD_PER_AMP          \t True\n",
      "NPIX_BAD_TOTAL            \t True\n",
      "N_NON_FINITE              \t True\n",
      "N_NON_FINITE_Q1           \t True\n",
      "N_NON_FINITE_Q2           \t True\n",
      "N_NON_FINITE_Q3           \t True\n",
      "N_NON_FINITE_Q4           \t True\n",
      "N_SOURCES                 \t \t False \t \t 26\n",
      "N_SOURCES_FOR_PSF         \t \t False \t \t 9\n",
      "OVERSCAN_MEDIANS_ADU      \t \t False \t \t 108\n",
      "PETAL_LOC                 \t \t False \t \t 6\n",
      "PMCOVER                   \t True\n",
      "PRESCAN_MEDIANS_ADU       \t \t False \t \t 109\n",
      "PROGRAM                   \t True\n",
      "PV2                       \t True\n",
      "RACEN                     \t \t False \t \t 637\n",
      "SIG                       \t \t False \t \t 26\n",
      "SIG_Q1                    \t \t False \t \t 10\n",
      "SIG_Q2                    \t \t False \t \t 9\n",
      "SIG_Q3                    \t \t False \t \t 11\n",
      "SIG_Q4                    \t \t False \t \t 12\n",
      "SIG_ROBUST                \t \t False \t \t 26\n",
      "SIG_ROBUST_Q1             \t \t False \t \t 10\n",
      "SIG_ROBUST_Q2             \t \t False \t \t 9\n",
      "SIG_ROBUST_Q3             \t \t False \t \t 11\n",
      "SIG_ROBUST_Q4             \t \t False \t \t 12\n",
      "SKYDEC                    \t True\n",
      "SKYRA                     \t True\n",
      "SKY_MAG_AB                \t \t False \t \t 642\n",
      "SKY_MAG_AB_PER_AMP        \t \t False \t \t 2558\n",
      "TIME_S_FOR_DARK           \t \t False \t \t 2\n",
      "TOTAL_DARK_SCALING_FACTOR \t \t False \t \t 638\n",
      "TRANSPARENCY              \t \t False \t \t 642\n",
      "T_C_FOR_DARK              \t \t False \t \t 48\n",
      "T_C_FOR_DARK_IS_GUESS     \t True\n",
      "XCENTROID_PSF             \t \t False \t \t 642\n",
      "YCENTROID_PSF             \t \t False \t \t 642\n",
      "ZP_ADU_PER_S              \t \t False \t \t 642\n"
     ]
    }
   ],
   "source": [
    "#  Average over petals and available sub-exposures (MJD).\n",
    "first_exp = bgs_telemetry[(bgs_telemetry['EXPID'] == uexpids[0])]\n",
    "\n",
    "keys      = bgs_telemetry.keys()\n",
    "keys.sort()\n",
    "keys      = list(keys)\n",
    "\n",
    "for key in keys:\n",
    "  if  np.all(first_exp[key][:] == first_exp[key][0]):   \n",
    "    print('{} \\t {}'.format(key.ljust(25), True))\n",
    "    \n",
    "  else:\n",
    "    print('{} \\t \\t {} \\t \\t {}'.format(key.ljust(25), False, len(np.unique(first_exp[key][:]))))"
   ]
  },
  {
   "cell_type": "markdown",
   "metadata": {},
   "source": [
    "##  Rongpu cframe Table "
   ]
  },
  {
   "cell_type": "code",
   "execution_count": 15,
   "metadata": {},
   "outputs": [
    {
     "data": {
      "text/html": [
       "&lt;Table length=22&gt;\n",
       "<table id=\"table46913540960328\" class=\"table-striped table-bordered table-condensed\">\n",
       "<thead><tr><th>NIGHT</th><th>MJD</th><th>LAT</th><th>LON</th><th>ELV</th><th>TILEID</th><th>EXPID</th><th>EXPTIME</th><th>CAMERA</th><th>PROGRAM</th><th>PETAL_LOC</th><th>SPECGRPH</th><th>RA</th><th>DEC</th><th>MOON_ALT</th><th>MOON_RA</th><th>MOON_DEC</th><th>MOON_FRAC</th><th>MOON_SEP</th><th>SUN_ALT</th><th>SUN_RA</th><th>SUN_DEC</th><th>SUN_SEP</th><th>AIRMASS</th><th>EBV</th></tr></thead>\n",
       "<thead><tr><th>str40</th><th>float64</th><th>float64</th><th>float64</th><th>float64</th><th>int64</th><th>int64</th><th>float64</th><th>str40</th><th>str40</th><th>int32</th><th>int64</th><th>float64</th><th>float64</th><th>float64</th><th>float64</th><th>float64</th><th>float64</th><th>float64</th><th>float64</th><th>float64</th><th>float64</th><th>float64</th><th>float64</th><th>float64</th></tr></thead>\n",
       "<tr><td>20200225</td><td>58905.25690431</td><td>31.96403</td><td>-111.59989</td><td>2097.0</td><td>70502</td><td>52090</td><td>900.0</td><td>b</td><td>SV tile 70502</td><td>0</td><td>0</td><td>180.012</td><td>-0.510261</td><td>-34.718022305904064</td><td>6.5807533473741975</td><td>-2.8514428140522536</td><td>0.0627905403740725</td><td>172.62306614298288</td><td>-58.985404389203396</td><td>338.8184557889157</td><td>-8.90282836156349</td><td>156.88472549965033</td><td>1.6491293775976599</td><td>0.031056919357460633</td></tr>\n",
       "<tr><td>20200225</td><td>58905.29573492</td><td>31.96403</td><td>-111.59989</td><td>2097.0</td><td>70502</td><td>52112</td><td>900.0</td><td>b</td><td>SV tile 70502</td><td>0</td><td>0</td><td>180.006929</td><td>-0.50838</td><td>-44.78323495364497</td><td>7.13291666046073</td><td>-2.6659189741928837</td><td>0.06456711009394417</td><td>172.20097121173714</td><td>-65.64763237733636</td><td>338.8556693565404</td><td>-8.888320131591259</td><td>156.92963241839925</td><td>1.369023183589419</td><td>0.0312053262371375</td></tr>\n",
       "<tr><td>20200225</td><td>58905.31193004</td><td>31.96403</td><td>-111.59989</td><td>2097.0</td><td>70502</td><td>52113</td><td>900.0</td><td>b</td><td>SV tile 70502</td><td>0</td><td>0</td><td>180.005321</td><td>-0.50784</td><td>-48.586919491100886</td><td>7.370943062741406</td><td>-2.5891783616882074</td><td>0.06531494808352112</td><td>172.01171055181683</td><td>-66.79677755424515</td><td>338.8711961359056</td><td>-8.882273781256869</td><td>156.94780316155754</td><td>1.2994305476825312</td><td>0.031253747139170805</td></tr>\n",
       "<tr><td>20200225</td><td>58905.32773044</td><td>31.96403</td><td>-111.59989</td><td>2097.0</td><td>70502</td><td>52114</td><td>900.0</td><td>b</td><td>SV tile 70502</td><td>0</td><td>0</td><td>180.00393</td><td>-0.507439</td><td>-51.96852565860669</td><td>7.606736835371001</td><td>-2.514662250166344</td><td>0.06604845305372314</td><td>171.82047712124663</td><td>-66.72988951170322</td><td>338.8863448289446</td><td>-8.876377467093185</td><td>156.96531649871432</td><td>1.2500622958528522</td><td>0.03129685304110389</td></tr>\n",
       "<tr><td>20200225</td><td>58905.34240863</td><td>31.96403</td><td>-111.59989</td><td>2097.0</td><td>70502</td><td>52115</td><td>900.0</td><td>b</td><td>SV tile 70502</td><td>0</td><td>0</td><td>180.002758</td><td>-0.50717</td><td>-54.73305155535852</td><td>7.828428021115093</td><td>-2.4457432197366633</td><td>0.0667333011269644</td><td>171.63760278372388</td><td>-65.62130882827513</td><td>338.9004160743998</td><td>-8.870902290343162</td><td>156.9814314957455</td><td>1.2179571464987913</td><td>0.03133440790266168</td></tr>\n",
       "<tr><td>20200225</td><td>58905.35785641</td><td>31.96403</td><td>-111.59989</td><td>2097.0</td><td>70502</td><td>52116</td><td>900.0</td><td>b</td><td>SV tile 70502</td><td>0</td><td>0</td><td>180.00163</td><td>-0.506989</td><td>-57.14471621920915</td><td>8.063946719361258</td><td>-2.3735153579790715</td><td>0.06745762823660251</td><td>171.44036915108612</td><td>-63.508533242504264</td><td>338.91522163835987</td><td>-8.865142463156191</td><td>156.99824918477057</td><td>1.1967426672462942</td><td>0.03137193973175106</td></tr>\n",
       "<tr><td>20200227</td><td>58907.38710085</td><td>31.96403</td><td>-111.59989</td><td>2097.0</td><td>70502</td><td>52447</td><td>500.0</td><td>b</td><td>MW/BGS tile 70502 (1 of 2)</td><td>0</td><td>0</td><td>179.999229</td><td>-0.50693</td><td>-44.5709697497139</td><td>30.051688879907612</td><td>6.92091382538617</td><td>0.19181133310720833</td><td>149.34946356612664</td><td>-56.96464169683635</td><td>340.8290572726072</td><td>-8.103346848212203</td><td>159.04038863424637</td><td>1.1916720198371635</td><td>0.031457665975618346</td></tr>\n",
       "<tr><td>20200227</td><td>58907.39358829</td><td>31.96403</td><td>-111.59989</td><td>2097.0</td><td>70502</td><td>52448</td><td>500.0</td><td>b</td><td>MW/BGS tile 70502 (2 of 2)</td><td>0</td><td>0</td><td>179.999229</td><td>-0.50693</td><td>-45.61385767370481</td><td>30.15124505274347</td><td>6.948272228964209</td><td>0.192293202118483</td><td>149.24725982734384</td><td>-55.430239699792985</td><td>340.83523698883977</td><td>-8.10090311045813</td><td>159.04697410482876</td><td>1.1971309375018842</td><td>0.031457665975618346</td></tr>\n",
       "<tr><td>20200228</td><td>58908.18319769</td><td>31.96403</td><td>-111.59989</td><td>2097.0</td><td>70500</td><td>52630</td><td>500.0</td><td>b</td><td>MW tile 70500</td><td>0</td><td>0</td><td>119.001779</td><td>50.00322</td><td>18.89320482922571</td><td>38.5427621691043</td><td>10.533205321961276</td><td>0.2543762544024462</td><td>75.83085748577656</td><td>-38.74253368941566</td><td>341.5746822133059</td><td>-7.802289556799742</td><td>124.95588876434323</td><td>1.0553559056837631</td><td>0.050803485029043874</td></tr>\n",
       "<tr><td>20200228</td><td>58908.23572605</td><td>31.96403</td><td>-111.59989</td><td>2097.0</td><td>70500</td><td>52636</td><td>500.0</td><td>b</td><td>MW tile 70500</td><td>0</td><td>0</td><td>118.997142</td><td>50.00317</td><td>3.633334070027092</td><td>39.111225333329116</td><td>10.711252982005872</td><td>0.25873540855647126</td><td>75.32781491881846</td><td>-53.193359576802976</td><td>341.62453118517095</td><td>-7.782318842188742</td><td>124.91034342563265</td><td>1.065620022802167</td><td>0.0508401263063158</td></tr>\n",
       "<tr><td>20200303</td><td>58912.27400181</td><td>31.96403</td><td>-111.59989</td><td>2097.0</td><td>70500</td><td>52932</td><td>500.0</td><td>b</td><td>MW+BGS tile 70500 (1 of 2)</td><td>0</td><td>0</td><td>118.99215</td><td>50.00268</td><td>37.430577293261265</td><td>90.52338381999327</td><td>22.72287928202869</td><td>0.648099838719636</td><td>35.20565041844743</td><td>-60.30945022018871</td><td>345.3985096006597</td><td>-6.237399860325229</td><td>121.58827119033633</td><td>1.1399087538629604</td><td>0.050869492491527606</td></tr>\n",
       "<tr><td>20200303</td><td>58912.2806544</td><td>31.96403</td><td>-111.59989</td><td>2097.0</td><td>70500</td><td>52933</td><td>500.0</td><td>b</td><td>MW+BGS tile 70500 (2 of 2)</td><td>0</td><td>0</td><td>118.99215</td><td>50.00268</td><td>35.46929188818669</td><td>90.60025522808738</td><td>22.718790548554985</td><td>0.6487738877514724</td><td>35.17146290090875</td><td>-61.35726271057119</td><td>345.4047840305382</td><td>-6.234831480735236</td><td>121.5827116189061</td><td>1.1555901492805833</td><td>0.050869492491527606</td></tr>\n",
       "<tr><td>20200303</td><td>58912.29018334</td><td>31.96403</td><td>-111.59989</td><td>2097.0</td><td>70500</td><td>52934</td><td>500.0</td><td>b</td><td>MW+BGS tile 70500 (1 of 2)</td><td>0</td><td>0</td><td>118.990279</td><td>50.00236</td><td>32.66942659266921</td><td>90.71264202377792</td><td>22.7124141973334</td><td>0.649739147589582</td><td>35.12080975285797</td><td>-62.609516423190506</td><td>345.41377261352767</td><td>-6.231153190992448</td><td>121.5739022459887</td><td>1.1807832887512855</td><td>0.050877371252541014</td></tr>\n",
       "<tr><td>20200303</td><td>58912.29681766</td><td>31.96403</td><td>-111.59989</td><td>2097.0</td><td>70500</td><td>52935</td><td>500.0</td><td>b</td><td>MW+BGS tile 70500 (2 of 2)</td><td>0</td><td>0</td><td>118.990279</td><td>50.00236</td><td>30.727525264459135</td><td>90.79250860350197</td><td>22.70763981225982</td><td>0.6504110306990085</td><td>35.08590029332829</td><td>-63.28880605690495</td><td>345.4200314216937</td><td>-6.228592660059367</td><td>121.56835735285057</td><td>1.2003319337722815</td><td>0.050877371252541014</td></tr>\n",
       "<tr><td>20200303</td><td>58912.30648395</td><td>31.96403</td><td>-111.59989</td><td>2097.0</td><td>70500</td><td>52936</td><td>500.0</td><td>b</td><td>MW+BGS tile 70500 (1 of 2)</td><td>0</td><td>0</td><td>118.98823</td><td>50.001941</td><td>27.910606694131427</td><td>90.91130680651507</td><td>22.700236181492</td><td>0.6513897370880766</td><td>35.03308771197745</td><td>-63.966511086731956</td><td>345.4291512649558</td><td>-6.22486252505147</td><td>121.55938862595315</td><td>1.232036707942713</td><td>0.0508669597607426</td></tr>\n",
       "<tr><td>20200303</td><td>58912.31315446</td><td>31.96403</td><td>-111.59989</td><td>2097.0</td><td>70500</td><td>52937</td><td>500.0</td><td>b</td><td>MW+BGS tile 70500 (2 of 2)</td><td>0</td><td>0</td><td>118.98823</td><td>50.001941</td><td>25.976256140048797</td><td>90.99499647103356</td><td>22.69484582809428</td><td>0.6520649570564594</td><td>34.9970196732113</td><td>-64.20476174536034</td><td>345.435444936012</td><td>-6.22228884578043</td><td>121.55381338221898</td><td>1.256291600656518</td><td>0.0508669597607426</td></tr>\n",
       "<tr><td>20200303</td><td>58912.32272351</td><td>31.96403</td><td>-111.59989</td><td>2097.0</td><td>70500</td><td>52938</td><td>500.0</td><td>b</td><td>MW+BGS tile 70500 (1 of 2)</td><td>0</td><td>0</td><td>118.986008</td><td>50.00139</td><td>23.21655747949287</td><td>91.11752762465977</td><td>22.686757902612857</td><td>0.6530333414864595</td><td>34.94307925494437</td><td>-64.20749382102835</td><td>345.44447340983606</td><td>-6.218597411352541</td><td>121.54490233666499</td><td>1.2948313224090682</td><td>0.050849650727080954</td></tr>\n",
       "<tr><td>20200303</td><td>58912.32937733</td><td>31.96403</td><td>-111.59989</td><td>2097.0</td><td>70500</td><td>52939</td><td>500.0</td><td>b</td><td>MW+BGS tile 70500 (2 of 2)</td><td>0</td><td>0</td><td>118.986008</td><td>50.00139</td><td>21.309174219800745</td><td>91.20446854260608</td><td>22.68091556308338</td><td>0.6537065373476091</td><td>34.906016583516895</td><td>-63.97379889857636</td><td>345.4507511336887</td><td>-6.216030986846999</td><td>121.53934142584507</td><td>1.324423978450596</td><td>0.050849650727080954</td></tr>\n",
       "<tr><td>20200303</td><td>58912.33885457</td><td>31.96403</td><td>-111.59989</td><td>2097.0</td><td>70500</td><td>52940</td><td>500.0</td><td>b</td><td>MW+BGS tile 70500 (1 of 2)</td><td>0</td><td>0</td><td>118.983608</td><td>50.00068</td><td>18.610578431559752</td><td>91.33078862665087</td><td>22.672330263538363</td><td>0.6546651492271186</td><td>34.85077268617285</td><td>-63.31861983263206</td><td>345.4596920530943</td><td>-6.21237612339103</td><td>121.53049580349123</td><td>1.3709978364201112</td><td>0.05082788158485321</td></tr>\n",
       "<tr><td>20200303</td><td>58912.34548426</td><td>31.96403</td><td>-111.59989</td><td>2097.0</td><td>70500</td><td>52941</td><td>500.0</td><td>b</td><td>MW+BGS tile 70500 (2 of 2)</td><td>0</td><td>0</td><td>118.983608</td><td>50.00068</td><td>16.736716032766754</td><td>91.4209029452543</td><td>22.666168458096323</td><td>0.6553355638241617</td><td>34.81266472012142</td><td>-62.648223105216964</td><td>345.46594591222856</td><td>-6.209819805177102</td><td>121.52495590616786</td><td>1.4069197563910518</td><td>0.05082788158485321</td></tr>\n",
       "<tr><td>20200303</td><td>58912.35578186</td><td>31.96403</td><td>-111.59989</td><td>2097.0</td><td>70500</td><td>52942</td><td>500.0</td><td>b</td><td>MW+BGS tile 70500 (1 of 2)</td><td>0</td><td>0</td><td>118.980879</td><td>49.99973</td><td>13.850316509333448</td><td>91.56374133009503</td><td>22.65639646250205</td><td>0.6563766058472273</td><td>34.75051102660511</td><td>-61.29348923429079</td><td>345.4756582873979</td><td>-6.20584983248686</td><td>121.5153752540219</td><td>1.4689040455532176</td><td>0.050799441244055</td></tr>\n",
       "<tr><td>20200303</td><td>58912.3624604</td><td>31.96403</td><td>-111.59989</td><td>2097.0</td><td>70500</td><td>52943</td><td>500.0</td><td>b</td><td>MW+BGS tile 70500 (2 of 2)</td><td>0</td><td>0</td><td>118.980879</td><td>49.99973</td><td>11.997067621455548</td><td>91.65824833398744</td><td>22.6499591330811</td><td>0.6570515905079267</td><td>34.71077583212133</td><td>-60.232521799566854</td><td>345.4819560980801</td><td>-6.20327550616101</td><td>121.50979592441952</td><td>1.5135134367518295</td><td>0.050799441244055</td></tr>\n",
       "</table>"
      ],
      "text/plain": [
       "<Table length=22>\n",
       " NIGHT        MJD         LAT    ...      AIRMASS               EBV         \n",
       " str40      float64     float64  ...      float64             float64       \n",
       "-------- -------------- -------- ... ------------------ --------------------\n",
       "20200225 58905.25690431 31.96403 ... 1.6491293775976599 0.031056919357460633\n",
       "20200225 58905.29573492 31.96403 ...  1.369023183589419   0.0312053262371375\n",
       "20200225 58905.31193004 31.96403 ... 1.2994305476825312 0.031253747139170805\n",
       "20200225 58905.32773044 31.96403 ... 1.2500622958528522  0.03129685304110389\n",
       "20200225 58905.34240863 31.96403 ... 1.2179571464987913  0.03133440790266168\n",
       "20200225 58905.35785641 31.96403 ... 1.1967426672462942  0.03137193973175106\n",
       "20200227 58907.38710085 31.96403 ... 1.1916720198371635 0.031457665975618346\n",
       "20200227 58907.39358829 31.96403 ... 1.1971309375018842 0.031457665975618346\n",
       "20200228 58908.18319769 31.96403 ... 1.0553559056837631 0.050803485029043874\n",
       "20200228 58908.23572605 31.96403 ...  1.065620022802167   0.0508401263063158\n",
       "20200303 58912.27400181 31.96403 ... 1.1399087538629604 0.050869492491527606\n",
       "20200303  58912.2806544 31.96403 ... 1.1555901492805833 0.050869492491527606\n",
       "20200303 58912.29018334 31.96403 ... 1.1807832887512855 0.050877371252541014\n",
       "20200303 58912.29681766 31.96403 ... 1.2003319337722815 0.050877371252541014\n",
       "20200303 58912.30648395 31.96403 ...  1.232036707942713   0.0508669597607426\n",
       "20200303 58912.31315446 31.96403 ...  1.256291600656518   0.0508669597607426\n",
       "20200303 58912.32272351 31.96403 ... 1.2948313224090682 0.050849650727080954\n",
       "20200303 58912.32937733 31.96403 ...  1.324423978450596 0.050849650727080954\n",
       "20200303 58912.33885457 31.96403 ... 1.3709978364201112  0.05082788158485321\n",
       "20200303 58912.34548426 31.96403 ... 1.4069197563910518  0.05082788158485321\n",
       "20200303 58912.35578186 31.96403 ... 1.4689040455532176    0.050799441244055\n",
       "20200303  58912.3624604 31.96403 ... 1.5135134367518295    0.050799441244055"
      ]
     },
     "execution_count": 15,
     "metadata": {},
     "output_type": "execute_result"
    }
   ],
   "source": [
    "cpath      = '/global/homes/m/mjwilson/BGS/MINISV/zhou/bgs_allcframes_{}.fits'.format(version)\n",
    "cframes    = Table(fits.open(cpath)[1].data)\n",
    "\n",
    "del  cframes['cframe']\n",
    "\n",
    "cols       = list(cframes.columns)\n",
    "\n",
    "for x in cols:\n",
    "  cframes.rename_column(x, x.upper())\n",
    "\n",
    "keep       = (cframes['CAMERA'] == 'b') & (cframes['PETAL_LOC'] == 0) \n",
    "cframes    =  cframes[keep]\n",
    "\n",
    "uids, cnts =  np.unique(cframes['EXPID'], return_counts=True)\n",
    "\n",
    "assert  cnts.max() == 1\n",
    "\n",
    "cframes.sort('MJD')\n",
    "cframes"
   ]
  },
  {
   "cell_type": "code",
   "execution_count": 39,
   "metadata": {},
   "outputs": [],
   "source": [
    "# toprint = cframes['NIGHT', 'MJD', 'EXPID', 'TRANSPARENCY', 'MOON_RA', 'MOONRA', 'MOON_DEC', 'MOONDEC', 'MOON_SEP', 'MOON_SEP_DEG']\n",
    "# toprint.pprint(max_lines=-1, max_width=-1)"
   ]
  },
  {
   "cell_type": "markdown",
   "metadata": {},
   "source": [
    "##  Join with GFA."
   ]
  },
  {
   "cell_type": "code",
   "execution_count": 24,
   "metadata": {},
   "outputs": [
    {
     "name": "stdout",
     "output_type": "stream",
     "text": [
      "\tFailed to add CAMERA          \t 0.0 \t <U6.\n",
      "\tFailed to add PROGRAM         \t 0.0 \t <U94.\n",
      "\tFailed to add DOMSHUTL        \t 0.0 \t <U8.\n",
      "\tFailed to add DOMSHUTU        \t 0.0 \t <U8.\n",
      "\tFailed to add PMCOVER         \t 0.0 \t <U4.\n",
      "\tFailed to add FOCUS           \t 0.0 \t <U37.\n",
      "\tFailed to add FNAME_RAW       \t 0.0 \t <U97.\n",
      "\tFailed to add GITREV          \t 0.0 \t <U7.\n",
      "\tFailed to add EXTNAME         \t 0.0 \t <U6.\n",
      "\tFailed to add CTYPE           \t 0.0 \t <U8.\n",
      "\tFailed to add FNAME_MASTER_DARK \t 0.0 \t <U114.\n",
      "\n",
      "\n",
      "\n"
     ]
    }
   ],
   "source": [
    "mean = Table()\n",
    "row  = Table()\n",
    "\n",
    "keys = list(bgs_telemetry.columns)\n",
    "\n",
    "for i, _ in enumerate(cframes):\n",
    "  spec_start = _['MJD']\n",
    "  spec_end   = _['MJD'] + _['EXPTIME'] / 86400.\n",
    "\n",
    "  isin       = (spec_start <= bgs_telemetry['MJD']) & (bgs_telemetry['MJD'] < spec_end)\n",
    " \n",
    "  this_exp   = bgs_telemetry[isin]\n",
    "\n",
    "  for key in keys:\n",
    "    try:\n",
    "      if key in ['EXPID', 'NIGHT', 'TILE']:\n",
    "        row[key] = _[key]\n",
    "        \n",
    "      else:\n",
    "        row[key] = np.atleast_1d(np.median(this_exp[key][~np.isnan(this_exp[key])]))\n",
    "        \n",
    "    except:\n",
    "      if i == 0:\n",
    "        print('\\tFailed to add {} \\t {} \\t {}.'.format(key.ljust(15), 0.0, str(this_exp[key].dtype)))  \n",
    " \n",
    "  mean = vstack((row, mean))\n",
    "\n",
    "print('\\n\\n')\n",
    "    \n",
    "mean.sort('MJD')\n",
    "\n",
    "# toprint = mean['NIGHT', 'MJD', 'EXPID', 'TRANSPARENCY', 'AIRMASS']\n",
    "# toprint.pprint(max_lines=-1)\n",
    "\n",
    "keep = ['EXPID'] + [x for x in mean.columns if x not in cframes.columns]\n",
    "\n",
    "mean = join(cframes, mean[keep], join_type='left', keys='EXPID')"
   ]
  },
  {
   "cell_type": "code",
   "execution_count": 25,
   "metadata": {},
   "outputs": [],
   "source": [
    "mpath      = '/global/homes/m/mjwilson/BGS/MINISV/zhou/bgs_allcframes_{}_gfa.fits'.format(version)\n",
    "mean.write(mpath, format='fits', overwrite=True)"
   ]
  },
  {
   "cell_type": "markdown",
   "metadata": {},
   "source": [
    "##  Done."
   ]
  }
 ],
 "metadata": {
  "kernelspec": {
   "display_name": "DESI master",
   "language": "python",
   "name": "desi-master"
  },
  "language_info": {
   "codemirror_mode": {
    "name": "ipython",
    "version": 3
   },
   "file_extension": ".py",
   "mimetype": "text/x-python",
   "name": "python",
   "nbconvert_exporter": "python",
   "pygments_lexer": "ipython3",
   "version": "3.6.6"
  }
 },
 "nbformat": 4,
 "nbformat_minor": 4
}
