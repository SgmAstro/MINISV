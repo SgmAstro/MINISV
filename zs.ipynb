{
 "cells": [
  {
   "cell_type": "code",
   "execution_count": 98,
   "metadata": {},
   "outputs": [],
   "source": [
    "import  glob\n",
    "import  fitsio\n",
    "import  redrock\n",
    "import  redrock.templates\n",
    "\n",
    "import  desispec\n",
    "import  pandas                 as      pd\n",
    "import  pylab                  as      pl\n",
    "import  numpy                  as      np\n",
    "import  matplotlib.pyplot      as      plt\n",
    "import  astropy.io.fits        as      fits\n",
    "import  matplotlib.pyplot      as      plt\n",
    "\n",
    "from    astropy.table          import  Table, join\n",
    "from    astropy.coordinates    import  SkyCoord\n",
    "from    astropy                import  units as u\n",
    "from    desitarget.cmx         import  cmx_targetmask\n",
    "from    desitarget             import  targetmask\n",
    "from    desispec.interpolation import  resample_flux\n",
    "from    desispec.resolution    import  Resolution\n",
    "from    desispec.specscore     import  compute_coadd_scores\n",
    "from    desispec.io            import  read_spectra"
   ]
  },
  {
   "cell_type": "code",
   "execution_count": 2,
   "metadata": {},
   "outputs": [],
   "source": [
    "##  DR7 cutouts\n",
    "import  requests\n",
    "\n",
    "from    PIL                    import  Image\n",
    "from    io                     import  BytesIO"
   ]
  },
  {
   "cell_type": "code",
   "execution_count": 3,
   "metadata": {},
   "outputs": [],
   "source": [
    "plt.rcParams['figure.figsize'] = [10, 10]"
   ]
  },
  {
   "cell_type": "code",
   "execution_count": 4,
   "metadata": {},
   "outputs": [],
   "source": [
    "%matplotlib inline"
   ]
  },
  {
   "cell_type": "markdown",
   "metadata": {},
   "source": [
    "##  DR7 cutouts "
   ]
  },
  {
   "cell_type": "code",
   "execution_count": 5,
   "metadata": {},
   "outputs": [],
   "source": [
    "def get_dr7cutout(ra, dec):\n",
    "  nim         = len(ra)\n",
    "  nrow        =  np.maximum(np.floor(nim / 5).astype(np.int), 1)\n",
    "\n",
    "  fig, axes   = plt.subplots(nrow, 5, figsize=(20, 5 * nrow))\n",
    "\n",
    "  row         = 0\n",
    "  col         = 0\n",
    "\n",
    "  nmax        = np.minimum(5 * nrow, nim)\n",
    "  \n",
    "  for i in range(nmax):        \n",
    "    url       = 'http://legacysurvey.org/viewer/jpeg-cutout?ra={:.4f}&dec={:.4f}&layer=decals-dr7&pixscale=0.27&bands=grz'.format(ra[i], dec[i])\n",
    "    response  = requests.get(url)\n",
    "    img       = Image.open(BytesIO(response.content))\n",
    "\n",
    "    axes[row, col].imshow(img)\n",
    "    \n",
    "    col      += 1\n",
    "    \n",
    "    if col > 4:\n",
    "        row  += 1\n",
    "        col   = 0 "
   ]
  },
  {
   "cell_type": "markdown",
   "metadata": {},
   "source": [
    "##  Night log.\n",
    "http://desi-www.kpno.noao.edu:8090/nightsum/nightsum-2020-02-25/nightsum.html"
   ]
  },
  {
   "cell_type": "markdown",
   "metadata": {},
   "source": [
    "##  Mini SV page.\n",
    "https://desi.lbl.gov/trac/wiki/TargetSelectionWG/miniSV2"
   ]
  },
  {
   "cell_type": "markdown",
   "metadata": {},
   "source": [
    "#  Summary \n",
    "\n",
    "- 5000 targets, 3873 with no fiber reach error.  478 skies.\n",
    "- 2500 targets in coddd (with no scattered light problem, i.e. 5 petals).\n",
    "- 2126 in coadd with no fiber reach problems.\n",
    "\n",
    "- 1484 BGS targets.\n",
    "- 1273 BGS with no fiber reach problems.\n",
    "- Gold: 1242 with no fiber reach problems, ZWARN==0, SPECTYPE == GAL and FDR requirement on z stat. error.  I.e. 97.5% in 1.5hr dark time.  \n",
    "  Of these, 736 are MAIN BRIGHT and 1242 are SV0 targets.  Reminder:  redrock assumes dX2 = 9 currently.\n",
    "- Of Gold, 415 matches to GAMA; 4 erroneous redshifts, otherwise great.  2x line confusion, 2x no flux?  To be resolved.\n",
    "- Of Gold, 129 matches to SDSS; 1 erroneous redshifts, otherwise great.  Redrock was right.\n",
    "- 11 would be gold, but have stellar best-fitting spec type.  I.e. 1%\n",
    "\n",
    "- Remaining calibration problems (play spot the QSOs, re-reduction of MINISV2 today).\n",
    "- Some coordinates file are irretrievably lost."
   ]
  },
  {
   "cell_type": "code",
   "execution_count": 6,
   "metadata": {},
   "outputs": [],
   "source": [
    "root  = '/global/cfs/cdirs/desi/spectro/redux/daily/tiles/70502/20200225/'"
   ]
  },
  {
   "cell_type": "markdown",
   "metadata": {},
   "source": [
    "## Prep. redrock templates"
   ]
  },
  {
   "cell_type": "code",
   "execution_count": 7,
   "metadata": {},
   "outputs": [
    {
     "name": "stdout",
     "output_type": "stream",
     "text": [
      "DEBUG: Read templates from /global/common/software/desi/cori/desiconda/20190804-1.3.0-spec/code/redrock-templates/master\n",
      "DEBUG: Using default redshift range -0.0050-1.6997 for rrtemplate-galaxy.fits\n",
      "DEBUG: Using default redshift range 0.0500-5.9934 for rrtemplate-qso.fits\n",
      "DEBUG: Using default redshift range -0.0020-0.0020 for rrtemplate-star-A.fits\n",
      "DEBUG: Using default redshift range -0.0020-0.0020 for rrtemplate-star-B.fits\n",
      "DEBUG: Using default redshift range -0.0020-0.0020 for rrtemplate-star-CV.fits\n",
      "DEBUG: Using default redshift range -0.0020-0.0020 for rrtemplate-star-F.fits\n",
      "DEBUG: Using default redshift range -0.0020-0.0020 for rrtemplate-star-G.fits\n",
      "DEBUG: Using default redshift range -0.0020-0.0020 for rrtemplate-star-K.fits\n",
      "DEBUG: Using default redshift range -0.0020-0.0020 for rrtemplate-star-M.fits\n",
      "DEBUG: Using default redshift range -0.0020-0.0020 for rrtemplate-star-WD.fits\n"
     ]
    }
   ],
   "source": [
    "templates = dict()\n",
    "\n",
    "for filename in redrock.templates.find_templates():\n",
    "    t = redrock.templates.Template(filename)\n",
    "    templates[(t.template_type, t.sub_type)] = t"
   ]
  },
  {
   "cell_type": "markdown",
   "metadata": {},
   "source": [
    "## GET GAMA G12 TRUTH TABLES"
   ]
  },
  {
   "cell_type": "code",
   "execution_count": 8,
   "metadata": {},
   "outputs": [],
   "source": [
    "GAMA  = fitsio.read('/project/projectdirs/desi/target/analysis/truth/dr8.0/south/matched/GAMA-DR3-SpecObj-match.fits')\n",
    "LGAMA = fitsio.read('/project/projectdirs/desi/target/analysis/truth/dr8.0/south/matched/ls-dr8.0-GAMA-DR3-SpecObj-match.fits')"
   ]
  },
  {
   "cell_type": "code",
   "execution_count": 9,
   "metadata": {},
   "outputs": [],
   "source": [
    "# Table(LGAMA)"
   ]
  },
  {
   "cell_type": "code",
   "execution_count": 10,
   "metadata": {},
   "outputs": [],
   "source": [
    "# Table(GAMA)"
   ]
  },
  {
   "cell_type": "code",
   "execution_count": 11,
   "metadata": {},
   "outputs": [],
   "source": [
    "plt.rcParams['figure.figsize'] = [10, 10]\n",
    "\n",
    "# pl.plot(GAMA['RA'], GAMA['DEC'], '.')"
   ]
  },
  {
   "cell_type": "code",
   "execution_count": 12,
   "metadata": {},
   "outputs": [],
   "source": [
    "##  Restrict to G12\n",
    "isin  = (GAMA['RA'] < 200.) & (GAMA['RA'] > 150.)\n",
    "\n",
    "G12   =  GAMA[isin]\n",
    "LG12  =  LGAMA[isin]"
   ]
  },
  {
   "cell_type": "code",
   "execution_count": 13,
   "metadata": {},
   "outputs": [],
   "source": [
    "plt.rcParams['figure.figsize'] = [10, 10]\n",
    "\n",
    "# pl.plot(G12['RA'], G12['DEC'], '.')"
   ]
  },
  {
   "cell_type": "code",
   "execution_count": 14,
   "metadata": {},
   "outputs": [],
   "source": [
    "##  GET SDSS redshifts  "
   ]
  },
  {
   "cell_type": "code",
   "execution_count": 15,
   "metadata": {},
   "outputs": [],
   "source": [
    "SDSS  = fitsio.read('/project/projectdirs/desi/target/analysis/truth/dr8.0/south/matched/sdss-specObj-dr14-unique-trimmed-match.fits')\n",
    "LSDSS = fitsio.read('/project/projectdirs/desi/target/analysis/truth/dr8.0/south/matched/ls-dr8.0-sdss-specObj-dr14-unique-trimmed-match.fits')"
   ]
  },
  {
   "cell_type": "markdown",
   "metadata": {},
   "source": [
    "##  Relevant exposure IDS "
   ]
  },
  {
   "cell_type": "code",
   "execution_count": 16,
   "metadata": {},
   "outputs": [],
   "source": [
    "# ALL EXPIDS\n",
    "expids = glob.glob('/global/cfs/cdirs/desi/spectro/redux/daily/exposures/20200225/*')\n",
    "expids = [x.split('/')[-1] for x in expids]"
   ]
  },
  {
   "cell_type": "code",
   "execution_count": 17,
   "metadata": {},
   "outputs": [],
   "source": [
    "# BGS EXPIDS\n",
    "bgs_expids = ['00052112', '00052113', '00052114', '00052115', '00052116'] "
   ]
  },
  {
   "cell_type": "code",
   "execution_count": 18,
   "metadata": {},
   "outputs": [],
   "source": [
    "# E.g.  /global/cfs/cdirs/desi/spectro/redux/daily/tiles/70502/20200225/cframe-b0-00052090.fits\n",
    "cframes               = {}\n",
    "\n",
    "for expid in bgs_expids:    \n",
    "  cframes[expid]      = {}\n",
    "    \n",
    "  cframes[expid]['b'] = []\n",
    "  cframes[expid]['r'] = []\n",
    "  cframes[expid]['z'] = []\n",
    "\n",
    "  ##  Fluxes \n",
    "  cframes[expid]['b'].append(fitsio.read('/global/cfs/cdirs/desi/spectro/redux/daily/tiles/70502/20200225/cframe-b0-{}.fits'.format(expid), ext=0))\n",
    "  cframes[expid]['r'].append(fitsio.read('/global/cfs/cdirs/desi/spectro/redux/daily/tiles/70502/20200225/cframe-r0-{}.fits'.format(expid), ext=0))\n",
    "  cframes[expid]['z'].append(fitsio.read('/global/cfs/cdirs/desi/spectro/redux/daily/tiles/70502/20200225/cframe-z0-{}.fits'.format(expid), ext=0)) "
   ]
  },
  {
   "cell_type": "markdown",
   "metadata": {},
   "source": [
    "##  GET COORDINATES FILE FOR FIBER REACH ERRORS\n",
    "https://desi.lbl.gov/trac/wiki/FPS/PositionerFlags"
   ]
  },
  {
   "cell_type": "code",
   "execution_count": 19,
   "metadata": {},
   "outputs": [],
   "source": [
    "# Coordinates\n",
    "# ls /global/cfs/cdirs/desi/spectro/data/20200225/*/coordinates-*\n",
    "fp    = {}\n",
    "fas   = {}\n",
    "coors = {}\n",
    "\n",
    "for _ in bgs_expids:\n",
    "  coors[_] = fitsio.read('/global/cfs/cdirs/desi/spectro/data/20200225/{}/coordinates-{}.fits'.format(_,_))\n",
    "\n",
    "  fas[_]   = fitsio.read('/global/cfs/cdirs/desi/spectro/data/20200225/{}/fiberassign-070502.fits'.format(_))\n",
    "    \n",
    "  fp[_]    = join(Table(fas[_]), Table(coors[_]), keys=['TARGET_RA', 'TARGET_DEC'])\n",
    "  fp[_].sort('TARGETID')"
   ]
  },
  {
   "cell_type": "code",
   "execution_count": 20,
   "metadata": {},
   "outputs": [
    {
     "data": {
      "text/plain": [
       "(5000, 5126)"
      ]
     },
     "execution_count": 20,
     "metadata": {},
     "output_type": "execute_result"
    }
   ],
   "source": [
    "# Difference is the GFAs.\n",
    "len(fas['00052112']), len(coors['00052112'])"
   ]
  },
  {
   "cell_type": "code",
   "execution_count": 21,
   "metadata": {},
   "outputs": [
    {
     "data": {
      "text/html": [
       "&lt;Table length=10&gt;\n",
       "<table id=\"table46913400894520\" class=\"table-striped table-bordered table-condensed\">\n",
       "<thead><tr><th>PETAL_LOC</th><th>DEVICE_LOC</th><th>CONVERGED</th><th>TARGET_RA</th><th>TARGET_DEC</th><th>FIBERASSIGN_X</th><th>FIBERASSIGN_Y</th><th>REQ_Q</th><th>REQ_S</th><th>REQ_X</th><th>REQ_Y</th><th>EXP_Q_0</th><th>EXP_S_0</th><th>FLAGS_EXP_0</th><th>EXP_X_0</th><th>EXP_Y_0</th><th>FVC_X_0</th><th>FVC_Y_0</th><th>FLAGS_FVC_0</th><th>CNT_X_0</th><th>CNT_Y_0</th><th>FLAGS_CNT_0</th><th>CNT_MAG_0</th><th>CNT_ERR_0</th><th>DX_0</th><th>DY_0</th><th>FPA_X_0</th><th>FPA_Y_0</th><th>FLAGS_COR_0</th><th>REQ_X_0</th><th>REQ_Y_0</th><th>OFFSET_0</th><th>EXP_Q_1</th><th>EXP_S_1</th><th>FLAGS_EXP_1</th><th>EXP_X_1</th><th>EXP_Y_1</th><th>FVC_X_1</th><th>FVC_Y_1</th><th>FLAGS_FVC_1</th><th>CNT_X_1</th><th>CNT_Y_1</th><th>FLAGS_CNT_1</th><th>CNT_MAG_1</th><th>CNT_ERR_1</th><th>DX_1</th><th>DY_1</th><th>FPA_X_1</th><th>FPA_Y_1</th><th>FLAGS_COR_1</th><th>REQ_X_1</th><th>REQ_Y_1</th><th>OFFSET_1</th><th>EXP_Q_2</th><th>EXP_S_2</th><th>FLAGS_EXP_2</th><th>EXP_X_2</th><th>EXP_Y_2</th><th>FVC_X_2</th><th>FVC_Y_2</th><th>FLAGS_FVC_2</th><th>CNT_X_2</th><th>CNT_Y_2</th><th>FLAGS_CNT_2</th><th>CNT_MAG_2</th><th>CNT_ERR_2</th><th>DX_2</th><th>DY_2</th><th>FPA_X_2</th><th>FPA_Y_2</th><th>FLAGS_COR_2</th><th>REQ_X_2</th><th>REQ_Y_2</th><th>OFFSET_2</th></tr></thead>\n",
       "<thead><tr><th>int64</th><th>int64</th><th>int64</th><th>float64</th><th>float64</th><th>float32</th><th>float32</th><th>float64</th><th>float64</th><th>float64</th><th>float64</th><th>float64</th><th>float64</th><th>int64</th><th>float64</th><th>float64</th><th>float64</th><th>float64</th><th>int64</th><th>float64</th><th>float64</th><th>int64</th><th>float64</th><th>float64</th><th>float64</th><th>float64</th><th>float64</th><th>float64</th><th>int64</th><th>float64</th><th>float64</th><th>float64</th><th>float64</th><th>float64</th><th>int64</th><th>float64</th><th>float64</th><th>float64</th><th>float64</th><th>int64</th><th>float64</th><th>float64</th><th>int64</th><th>float64</th><th>float64</th><th>float64</th><th>float64</th><th>float64</th><th>float64</th><th>int64</th><th>float64</th><th>float64</th><th>float64</th><th>float64</th><th>float64</th><th>int64</th><th>float64</th><th>float64</th><th>float64</th><th>float64</th><th>int64</th><th>float64</th><th>float64</th><th>int64</th><th>float64</th><th>float64</th><th>float64</th><th>float64</th><th>float64</th><th>float64</th><th>int64</th><th>float64</th><th>float64</th><th>float64</th></tr></thead>\n",
       "<tr><td>0</td><td>0</td><td>0</td><td>180.00335405788294</td><td>-0.621495582398852</td><td>-0.8161547</td><td>-29.559782</td><td>268.433</td><td>29.5122</td><td>-0.807</td><td>-29.501</td><td>-91.56700482678802</td><td>29.51219500358265</td><td>4</td><td>-0.8070352584048036</td><td>-29.500984248411754</td><td>-32.748</td><td>-128.427</td><td>4</td><td>-59.96300000000019</td><td>-140.24800000000005</td><td>69</td><td>12.591</td><td>0.001</td><td>0.015</td><td>-0.027</td><td>-0.822</td><td>-29.506</td><td>69</td><td>-0.8069999999999999</td><td>-29.533</td><td>0.030886890422961</td><td>-91.56524613771153</td><td>29.544195983155205</td><td>4</td><td>-0.8070038284804425</td><td>-29.532997469859243</td><td>-32.75</td><td>-128.656</td><td>4</td><td>-59.88599999999997</td><td>-140.56100000000015</td><td>69</td><td>12.577</td><td>0.001</td><td>-0.012</td><td>-0.001</td><td>-0.8</td><td>-29.534</td><td>69</td><td>-0.812</td><td>-29.535</td><td>0.012041594578792296</td><td>-91.57482354534343</td><td>29.546339324256955</td><td>4</td><td>-0.8119993762986774</td><td>-29.535004653638484</td><td>-32.714</td><td>-128.671</td><td>4</td><td>-59.746999999999844</td><td>-140.4920000000002</td><td>69</td><td>12.584</td><td>0.001</td><td>0.012</td><td>0.01</td><td>-0.816</td><td>-29.535</td><td>69</td><td>-0.8039999999999999</td><td>-29.525</td><td>0.015620499351813309</td></tr>\n",
       "<tr><td>0</td><td>1</td><td>0</td><td>180.0231341950373</td><td>-0.6507315506445961</td><td>-5.6288614</td><td>-36.67601</td><td>261.285</td><td>37.0345</td><td>-5.612</td><td>-36.607</td><td>-98.7149953887083</td><td>37.034501344861596</td><td>4</td><td>-5.611397695467422</td><td>-36.6065698348362</td><td>1.273</td><td>-179.515</td><td>4</td><td>-25.923999999999978</td><td>-191.288</td><td>69</td><td>12.634</td><td>0.001</td><td>0.011</td><td>-0.03</td><td>-5.625</td><td>-36.61</td><td>69</td><td>-5.614</td><td>-36.64</td><td>0.03195309061734092</td><td>-98.71115036179455</td><td>37.06794462446719</td><td>4</td><td>-5.614006023842825</td><td>-36.64000288491379</td><td>1.29</td><td>-179.755</td><td>4</td><td>-25.824999999999818</td><td>-191.5949999999998</td><td>69</td><td>12.661</td><td>0.001</td><td>-0.012</td><td>-0.005</td><td>-5.605</td><td>-36.637</td><td>69</td><td>-5.617</td><td>-36.642</td><td>0.013000000000000001</td><td>-98.71525523655997</td><td>37.07037515938638</td><td>4</td><td>-5.616999304401997</td><td>-36.64200298650849</td><td>1.312</td><td>-179.769</td><td>4</td><td>-25.69399999999996</td><td>-191.5540000000001</td><td>69</td><td>12.639</td><td>0.001</td><td>0.011</td><td>0.009</td><td>-5.62</td><td>-36.642</td><td>69</td><td>-5.609</td><td>-36.633</td><td>0.014212670403551895</td></tr>\n",
       "<tr><td>0</td><td>2</td><td>0</td><td>179.98077758344465</td><td>-0.6404921089237555</td><td>4.6765695</td><td>-34.18345</td><td>277.805</td><td>34.438</td><td>4.677</td><td>-34.119</td><td>-82.19501441928672</td><td>34.43800188244677</td><td>4</td><td>4.676704446560656</td><td>-34.11869512226655</td><td>-72.248</td><td>-161.18</td><td>4</td><td>-99.39699999999993</td><td>-173.08199999999988</td><td>69</td><td>12.613</td><td>0.001</td><td>0.021</td><td>-0.02</td><td>4.657</td><td>-34.132</td><td>69</td><td>4.678</td><td>-34.152</td><td>0.029</td><td>-82.20039154731428</td><td>34.47117524482999</td><td>4</td><td>4.678004238925492</td><td>-34.15199951756062</td><td>-72.259</td><td>-161.419</td><td>4</td><td>-99.36400000000003</td><td>-173.3159999999998</td><td>69</td><td>12.707</td><td>0.001</td><td>-0.012</td><td>-0.005</td><td>4.686</td><td>-34.148</td><td>69</td><td>4.674</td><td>-34.153000000000006</td><td>0.013000000000000001</td><td>-82.20720975790012</td><td>34.47162141788797</td><td>4</td><td>4.674000605712774</td><td>-34.15299800079695</td><td>-72.23</td><td>-161.426</td><td>4</td><td>-99.23799999999983</td><td>-173.2779999999998</td><td>69</td><td>12.622</td><td>0.001</td><td>0.011</td><td>0.009</td><td>4.671</td><td>-34.153</td><td>69</td><td>4.682</td><td>-34.144</td><td>0.014212670403551895</td></tr>\n",
       "<tr><td>0</td><td>3</td><td>0</td><td>180.03445477650894</td><td>-0.7029945365211852</td><td>-8.385128</td><td>-49.404007</td><td>260.375</td><td>50.0225</td><td>-8.363</td><td>-49.318</td><td>-99.62499880318101</td><td>50.02250549837621</td><td>4</td><td>-8.363566359348193</td><td>-49.31750361890276</td><td>20.294</td><td>-270.542</td><td>4</td><td>-6.80600000000004</td><td>-282.3879999999999</td><td>69</td><td>12.585</td><td>0.001</td><td>0.016</td><td>-0.019</td><td>-8.382</td><td>-49.336</td><td>69</td><td>-8.366</td><td>-49.355</td><td>0.02483948469674844</td><td>-99.62056926901467</td><td>50.05988582029831</td><td>4</td><td>-8.366000374457617</td><td>-49.35500274069925</td><td>20.309</td><td>-270.81</td><td>4</td><td>-6.719000000000051</td><td>-282.6080000000002</td><td>69</td><td>12.599</td><td>0.001</td><td>-0.01</td><td>-0.006</td><td>-8.36</td><td>-49.35</td><td>69</td><td>-8.37</td><td>-49.356</td><td>0.0116619037896906</td><td>-99.62488429242188</td><td>50.061538405046655</td><td>4</td><td>-8.369993636087788</td><td>-49.356001782754184</td><td>20.337</td><td>-270.818</td><td>4</td><td>-6.617000000000189</td><td>-282.5540000000001</td><td>69</td><td>12.633</td><td>0.001</td><td>0.009</td><td>0.006</td><td>-8.37</td><td>-49.353</td><td>69</td><td>-8.360999999999999</td><td>-49.347</td><td>0.010816653826391968</td></tr>\n",
       "<tr><td>0</td><td>4</td><td>0</td><td>179.99708846392872</td><td>-0.6768359996638469</td><td>0.70821625</td><td>-43.031734</td><td>270.955</td><td>42.9608</td><td>0.716</td><td>-42.954</td><td>-89.04499624702208</td><td>42.9608000995686</td><td>4</td><td>0.7160267276269484</td><td>-42.95429215228467</td><td>-44.354</td><td>-224.586</td><td>4</td><td>-71.49800000000005</td><td>-236.42700000000013</td><td>69</td><td>12.636</td><td>0.001</td><td>0.014</td><td>-0.026</td><td>0.702</td><td>-42.964</td><td>69</td><td>0.716</td><td>-42.99</td><td>0.0295296461204668</td><td>-89.04582547400643</td><td>42.99650449362099</td><td>4</td><td>0.7159996132958559</td><td>-42.990000567467334</td><td>-44.355</td><td>-224.841</td><td>4</td><td>-71.42299999999977</td><td>-236.692</td><td>69</td><td>12.576</td><td>0.001</td><td>-0.013</td><td>-0.007</td><td>0.725</td><td>-42.984</td><td>69</td><td>0.712</td><td>-42.991</td><td>0.0147648230602334</td><td>-89.0511735203054</td><td>42.99743409557398</td><td>4</td><td>0.7120022728744466</td><td>-42.990996650714024</td><td>-44.327</td><td>-224.848</td><td>4</td><td>-71.29399999999987</td><td>-236.66499999999996</td><td>69</td><td>12.599</td><td>0.001</td><td>0.01</td><td>0.009</td><td>0.71</td><td>-42.991</td><td>69</td><td>0.72</td><td>-42.982</td><td>0.01345362404707371</td></tr>\n",
       "<tr><td>0</td><td>5</td><td>0</td><td>180.05828478547483</td><td>-0.7276211459362878</td><td>-14.186715</td><td>-55.40689</td><td>255.645</td><td>57.0969</td><td>-14.156</td><td>-55.313</td><td>-104.35499600871115</td><td>57.096901767883665</td><td>4</td><td>-14.15566164395784</td><td>-55.31299414449018</td><td>61.411</td><td>-313.668</td><td>4</td><td>34.291999999999916</td><td>-325.47699999999986</td><td>69</td><td>12.625</td><td>0.001</td><td>0.007</td><td>-0.02</td><td>-14.168</td><td>-55.332</td><td>69</td><td>-14.161</td><td>-55.352000000000004</td><td>0.02118962010041709</td><td>-104.35047869132731</td><td>57.13600959765814</td><td>4</td><td>-14.160992921569393</td><td>-55.35199500546413</td><td>61.447</td><td>-313.947</td><td>4</td><td>34.46799999999985</td><td>-325.72800000000007</td><td>69</td><td>12.645</td><td>0.001</td><td>-0.006</td><td>-0.003</td><td>-14.158</td><td>-55.35</td><td>69</td><td>-14.164</td><td>-55.353</td><td>0.00670820393249937</td><td>-104.35315277685575</td><td>57.137734848427385</td><td>4</td><td>-14.164003928642755</td><td>-55.35300531296549</td><td>61.468</td><td>-313.955</td><td>4</td><td>34.53600000000006</td><td>-325.6260000000002</td><td>69</td><td>12.639</td><td>0.001</td><td>0.008</td><td>0.002</td><td>-14.164</td><td>-55.347</td><td>69</td><td>-14.156</td><td>-55.345</td><td>0.00824621125123532</td></tr>\n",
       "<tr><td>0</td><td>6</td><td>0</td><td>180.0115741420564</td><td>-0.7372390711101038</td><td>-2.8174827</td><td>-57.748993</td><td>267.216</td><td>57.7224</td><td>-2.804</td><td>-57.653</td><td>-92.78400350382843</td><td>57.72239416902757</td><td>4</td><td>-2.8035649202896504</td><td>-57.65294482062893</td><td>-19.937</td><td>-329.809</td><td>4</td><td>-46.960000000000036</td><td>-341.6350000000002</td><td>69</td><td>12.667</td><td>0.001</td><td>0.02</td><td>-0.027</td><td>-2.824</td><td>-57.666</td><td>69</td><td>-2.804</td><td>-57.693</td><td>0.03360059523282288</td><td>-92.7825084672091</td><td>57.76242493742381</td><td>4</td><td>-2.8040037132562863</td><td>-57.69299870120553</td><td>-19.936</td><td>-330.095</td><td>4</td><td>-46.9079999999999</td><td>-341.9319999999998</td><td>69</td><td>12.675</td><td>0.001</td><td>-0.011</td><td>-0.003</td><td>-2.798</td><td>-57.69</td><td>69</td><td>-2.809</td><td>-57.693</td><td>0.011401754250991379</td><td>-92.78745967709376</td><td>57.76267147231335</td><td>4</td><td>-2.8090012267574935</td><td>-57.69300240383547</td><td>-19.9</td><td>-330.096</td><td>4</td><td>-46.797000000000025</td><td>-341.8589999999999</td><td>69</td><td>12.659</td><td>0.001</td><td>0.01</td><td>0.006</td><td>-2.81</td><td>-57.691</td><td>69</td><td>-2.8000000000000003</td><td>-57.685</td><td>0.0116619037896906</td></tr>\n",
       "<tr><td>0</td><td>7</td><td>0</td><td>179.96930303027762</td><td>-0.7241013833867259</td><td>7.4708886</td><td>-54.547237</td><td>277.81</td><td>54.9674</td><td>7.469</td><td>-54.456</td><td>-82.19000138648535</td><td>54.96740168559488</td><td>4</td><td>7.469280921240475</td><td>-54.45640259055509</td><td>-93.276</td><td>-306.435</td><td>4</td><td>-120.31399999999985</td><td>-318.30499999999984</td><td>69</td><td>12.688</td><td>0.001</td><td>0.021</td><td>-0.029</td><td>7.45</td><td>-54.467</td><td>69</td><td>7.471</td><td>-54.496</td><td>0.03580502757993632</td><td>-82.19383263937152</td><td>55.00687134059005</td><td>4</td><td>7.471000028824886</td><td>-54.49600332665559</td><td>-93.29</td><td>-306.718</td><td>4</td><td>-120.26499999999987</td><td>-318.59000000000015</td><td>69</td><td>12.63</td><td>0.001</td><td>-0.01</td><td>-0.006</td><td>7.477</td><td>-54.49</td><td>69</td><td>7.4670000000000005</td><td>-54.496</td><td>0.0116619037896906</td><td>-82.19796113749275</td><td>55.00632003362254</td><td>4</td><td>7.466998416070458</td><td>-54.49599534609137</td><td>-93.261</td><td>-306.718</td><td>4</td><td>-120.16100000000006</td><td>-318.5250000000001</td><td>69</td><td>12.611</td><td>0.001</td><td>0.01</td><td>0.003</td><td>7.466</td><td>-54.491</td><td>69</td><td>7.476</td><td>-54.488</td><td>0.01044030650891055</td></tr>\n",
       "<tr><td>0</td><td>8</td><td>0</td><td>180.06018577635248</td><td>-0.7744228082300929</td><td>-14.654159</td><td>-66.82121</td><td>257.637</td><td>68.3</td><td>-14.623</td><td>-66.714</td><td>-102.36300023447254</td><td>68.30000579619963</td><td>4</td><td>-14.622870766699208</td><td>-66.71402049164917</td><td>64.119</td><td>-395.081</td><td>4</td><td>37.11200000000008</td><td>-406.8760000000002</td><td>69</td><td>12.708</td><td>0.001</td><td>0.014</td><td>-0.023</td><td>-14.642</td><td>-66.734</td><td>69</td><td>-14.628</td><td>-66.75699999999999</td><td>0.026925824035672518</td><td>-102.35948678342106</td><td>68.34309687678133</td><td>4</td><td>-14.628002258810405</td><td>-66.7570053155351</td><td>64.153</td><td>-395.388</td><td>4</td><td>37.228000000000065</td><td>-407.163</td><td>69</td><td>12.716</td><td>0.001</td><td>-0.007</td><td>-0.0</td><td>-14.623</td><td>-66.756</td><td>69</td><td>-14.629999999999999</td><td>-66.756</td><td>0.007</td><td>-102.36130778000101</td><td>68.3425445951059</td><td>4</td><td>-14.630005729865895</td><td>-66.75600094392159</td><td>64.167</td><td>-395.381</td><td>4</td><td>37.30799999999999</td><td>-407.04100000000017</td><td>69</td><td>12.706</td><td>0.001</td><td>0.008</td><td>0.001</td><td>-14.631</td><td>-66.75</td><td>69</td><td>-14.623000000000001</td><td>-66.749</td><td>0.00806225774829855</td></tr>\n",
       "<tr><td>0</td><td>9</td><td>0</td><td>180.0188885830634</td><td>-0.7750260643476597</td><td>-4.599092</td><td>-66.9653</td><td>266.079</td><td>67.0175</td><td>-4.582</td><td>-66.859</td><td>-93.92100284023888</td><td>67.01749687121102</td><td>4</td><td>-4.5825812448069865</td><td>-66.85854706047431</td><td>-7.699</td><td>-395.613</td><td>4</td><td>-34.710000000000036</td><td>-407.4279999999999</td><td>69</td><td>12.589</td><td>0.001</td><td>0.015</td><td>-0.028</td><td>-4.598</td><td>-66.873</td><td>69</td><td>-4.583</td><td>-66.90100000000001</td><td>0.03176476034853718</td><td>-93.91887970143341</td><td>67.05988118737521</td><td>4</td><td>-4.583000186613408</td><td>-66.90099801234356</td><td>-7.698</td><td>-395.917</td><td>4</td><td>-34.61200000000008</td><td>-407.7539999999999</td><td>69</td><td>12.606</td><td>0.001</td><td>-0.009</td><td>-0.0</td><td>-4.578</td><td>-66.901</td><td>69</td><td>-4.587000000000001</td><td>-66.901</td><td>0.009</td><td>-93.92228838797978</td><td>67.06015758646193</td><td>4</td><td>-4.586999211254586</td><td>-66.90100096381632</td><td>-7.67</td><td>-395.917</td><td>4</td><td>-34.516000000000076</td><td>-407.64300000000003</td><td>69</td><td>12.587</td><td>0.001</td><td>0.009</td><td>0.003</td><td>-4.588</td><td>-66.896</td><td>69</td><td>-4.579</td><td>-66.893</td><td>0.009486832980505138</td></tr>\n",
       "</table>"
      ],
      "text/plain": [
       "<Table length=10>\n",
       "PETAL_LOC DEVICE_LOC CONVERGED ... REQ_Y_2       OFFSET_2      \n",
       "  int64     int64      int64   ... float64       float64       \n",
       "--------- ---------- --------- ... ------- --------------------\n",
       "        0          0         0 ... -29.525 0.015620499351813309\n",
       "        0          1         0 ... -36.633 0.014212670403551895\n",
       "        0          2         0 ... -34.144 0.014212670403551895\n",
       "        0          3         0 ... -49.347 0.010816653826391968\n",
       "        0          4         0 ... -42.982  0.01345362404707371\n",
       "        0          5         0 ... -55.345  0.00824621125123532\n",
       "        0          6         0 ... -57.685   0.0116619037896906\n",
       "        0          7         0 ... -54.488  0.01044030650891055\n",
       "        0          8         0 ... -66.749  0.00806225774829855\n",
       "        0          9         0 ... -66.893 0.009486832980505138"
      ]
     },
     "execution_count": 21,
     "metadata": {},
     "output_type": "execute_result"
    }
   ],
   "source": [
    "# https://desi.lbl.gov/trac/wiki/FPS/PositionerFlags\n",
    "Table(coors['00052112'])[:10]"
   ]
  },
  {
   "cell_type": "code",
   "execution_count": 22,
   "metadata": {},
   "outputs": [
    {
     "data": {
      "text/html": [
       "&lt;Table length=10&gt;\n",
       "<table id=\"table46913404475432\" class=\"table-striped table-bordered table-condensed\">\n",
       "<thead><tr><th>TARGETID</th><th>PETAL_LOC</th><th>DEVICE_LOC</th><th>LOCATION</th><th>FIBER</th><th>FIBERSTATUS</th><th>TARGET_RA</th><th>TARGET_DEC</th><th>PMRA</th><th>PMDEC</th><th>PMRA_IVAR</th><th>PMDEC_IVAR</th><th>REF_EPOCH</th><th>LAMBDA_REF</th><th>FA_TARGET</th><th>FA_TYPE</th><th>OBJTYPE</th><th>FIBERASSIGN_X</th><th>FIBERASSIGN_Y</th><th>NUMTARGET</th><th>PRIORITY</th><th>SUBPRIORITY</th><th>OBSCONDITIONS</th><th>NUMOBS_MORE</th><th>RELEASE</th><th>BRICKID</th><th>BRICKNAME</th><th>BRICK_OBJID</th><th>MORPHTYPE</th><th>TARGET_RA_IVAR</th><th>TARGET_DEC_IVAR</th><th>EBV</th><th>FLUX_G</th><th>FLUX_R</th><th>FLUX_Z</th><th>FLUX_IVAR_G</th><th>FLUX_IVAR_R</th><th>FLUX_IVAR_Z</th><th>MW_TRANSMISSION_G</th><th>MW_TRANSMISSION_R</th><th>MW_TRANSMISSION_Z</th><th>FRACFLUX_G</th><th>FRACFLUX_R</th><th>FRACFLUX_Z</th><th>FRACMASKED_G</th><th>FRACMASKED_R</th><th>FRACMASKED_Z</th><th>FRACIN_G</th><th>FRACIN_R</th><th>FRACIN_Z</th><th>NOBS_G</th><th>NOBS_R</th><th>NOBS_Z</th><th>PSFDEPTH_G</th><th>PSFDEPTH_R</th><th>PSFDEPTH_Z</th><th>GALDEPTH_G</th><th>GALDEPTH_R</th><th>GALDEPTH_Z</th><th>FLUX_W1</th><th>FLUX_W2</th><th>FLUX_W3</th><th>FLUX_W4</th><th>FLUX_IVAR_W1</th><th>FLUX_IVAR_W2</th><th>FLUX_IVAR_W3</th><th>FLUX_IVAR_W4</th><th>MW_TRANSMISSION_W1</th><th>MW_TRANSMISSION_W2</th><th>MW_TRANSMISSION_W3</th><th>MW_TRANSMISSION_W4</th><th>ALLMASK_G</th><th>ALLMASK_R</th><th>ALLMASK_Z</th><th>FIBERFLUX_G</th><th>FIBERFLUX_R</th><th>FIBERFLUX_Z</th><th>FIBERTOTFLUX_G</th><th>FIBERTOTFLUX_R</th><th>FIBERTOTFLUX_Z</th><th>WISEMASK_W1</th><th>WISEMASK_W2</th><th>MASKBITS</th><th>FRACDEV</th><th>FRACDEV_IVAR</th><th>SHAPEDEV_R</th><th>SHAPEDEV_E1</th><th>SHAPEDEV_E2</th><th>SHAPEDEV_R_IVAR</th><th>SHAPEDEV_E1_IVAR</th><th>SHAPEDEV_E2_IVAR</th><th>SHAPEEXP_R</th><th>SHAPEEXP_E1</th><th>SHAPEEXP_E2</th><th>SHAPEEXP_R_IVAR</th><th>SHAPEEXP_E1_IVAR</th><th>SHAPEEXP_E2_IVAR</th><th>REF_ID</th><th>REF_CAT</th><th>GAIA_PHOT_G_MEAN_MAG</th><th>GAIA_PHOT_G_MEAN_FLUX_OVER_ERROR</th><th>GAIA_PHOT_BP_MEAN_MAG</th><th>GAIA_PHOT_BP_MEAN_FLUX_OVER_ERROR</th><th>GAIA_PHOT_RP_MEAN_MAG</th><th>GAIA_PHOT_RP_MEAN_FLUX_OVER_ERROR</th><th>GAIA_PHOT_BP_RP_EXCESS_FACTOR</th><th>GAIA_ASTROMETRIC_EXCESS_NOISE</th><th>GAIA_DUPLICATED_SOURCE</th><th>GAIA_ASTROMETRIC_SIGMA5D_MAX</th><th>GAIA_ASTROMETRIC_PARAMS_SOLVED</th><th>PARALLAX</th><th>PARALLAX_IVAR</th><th>PHOTSYS</th><th>CMX_TARGET</th><th>PRIORITY_INIT</th><th>NUMOBS_INIT</th><th>HPXPIXEL</th><th>BLOBDIST</th><th>FIBERFLUX_IVAR_G</th><th>FIBERFLUX_IVAR_R</th><th>FIBERFLUX_IVAR_Z</th><th>DESI_TARGET</th><th>BGS_TARGET</th><th>MWS_TARGET</th></tr></thead>\n",
       "<thead><tr><th>int64</th><th>int16</th><th>int32</th><th>int32</th><th>int32</th><th>int32</th><th>float64</th><th>float64</th><th>float32</th><th>float32</th><th>float32</th><th>float32</th><th>float32</th><th>float32</th><th>int64</th><th>uint8</th><th>bytes3</th><th>float32</th><th>float32</th><th>int16</th><th>int32</th><th>float64</th><th>int32</th><th>int32</th><th>int16</th><th>int32</th><th>bytes8</th><th>int32</th><th>bytes4</th><th>float32</th><th>float32</th><th>float32</th><th>float32</th><th>float32</th><th>float32</th><th>float32</th><th>float32</th><th>float32</th><th>float32</th><th>float32</th><th>float32</th><th>float32</th><th>float32</th><th>float32</th><th>float32</th><th>float32</th><th>float32</th><th>float32</th><th>float32</th><th>float32</th><th>int16</th><th>int16</th><th>int16</th><th>float32</th><th>float32</th><th>float32</th><th>float32</th><th>float32</th><th>float32</th><th>float32</th><th>float32</th><th>float32</th><th>float32</th><th>float32</th><th>float32</th><th>float32</th><th>float32</th><th>float32</th><th>float32</th><th>float32</th><th>float32</th><th>int16</th><th>int16</th><th>int16</th><th>float32</th><th>float32</th><th>float32</th><th>float32</th><th>float32</th><th>float32</th><th>uint8</th><th>uint8</th><th>int16</th><th>float32</th><th>float32</th><th>float32</th><th>float32</th><th>float32</th><th>float32</th><th>float32</th><th>float32</th><th>float32</th><th>float32</th><th>float32</th><th>float32</th><th>float32</th><th>float32</th><th>int64</th><th>bytes2</th><th>float32</th><th>float32</th><th>float32</th><th>float32</th><th>float32</th><th>float32</th><th>float32</th><th>float32</th><th>bool</th><th>float32</th><th>bool</th><th>float32</th><th>float32</th><th>bytes1</th><th>int64</th><th>int64</th><th>int64</th><th>int64</th><th>float32</th><th>float32</th><th>float32</th><th>float32</th><th>int64</th><th>int64</th><th>int64</th></tr></thead>\n",
       "<tr><td>35185718485585996</td><td>0</td><td>311</td><td>311</td><td>0</td><td>0</td><td>179.66987727167816</td><td>-1.6574385652529624</td><td>-7.681228</td><td>-3.264253</td><td>2.0258374</td><td>14.280712</td><td>2015.5</td><td>5400.0</td><td>545</td><td>1</td><td>TGT</td><td>82.18579</td><td>-288.26108</td><td>0</td><td>1000</td><td>0.232311560519591</td><td>65535</td><td>99</td><td>8000</td><td>321006</td><td>1796m017</td><td>4172</td><td>PSF</td><td>168177040000000.0</td><td>740727440000000.0</td><td>0.027289713</td><td>10.051535</td><td>35.056255</td><td>83.256966</td><td>684.63086</td><td>257.76917</td><td>57.142536</td><td>0.92239374</td><td>0.94703734</td><td>0.9700204</td><td>1.8116782e-05</td><td>1.7769367e-05</td><td>2.4871695e-05</td><td>0.12890169</td><td>0.073827125</td><td>0.017526086</td><td>0.9999997</td><td>0.99999964</td><td>0.75029933</td><td>4</td><td>5</td><td>3</td><td>1706.1888</td><td>682.32404</td><td>106.09397</td><td>1119.082</td><td>458.38928</td><td>69.090546</td><td>45.279636</td><td>25.168295</td><td>-3.0709102</td><td>-47.548084</td><td>2.5921524</td><td>0.42923066</td><td>0.00072050566</td><td>1.0495133e-05</td><td>0.9953859</td><td>0.9971638</td><td>0.9993944</td><td>0.9997713</td><td>0</td><td>0</td><td>0</td><td>7.8127766</td><td>27.248247</td><td>64.71331</td><td>7.8127766</td><td>27.248247</td><td>64.71331</td><td>0</td><td>0</td><td>0</td><td>0.0</td><td>0.0</td><td>0.0</td><td>0.0</td><td>0.0</td><td>0.0</td><td>0.0</td><td>0.0</td><td>0.0</td><td>0.0</td><td>0.0</td><td>0.0</td><td>0.0</td><td>0.0</td><td>3602417082379287808</td><td>G2</td><td>18.712095</td><td>464.9532</td><td>19.628769</td><td>26.29529</td><td>17.708935</td><td>99.5623</td><td>1.3883798</td><td>0.35110453</td><td>False</td><td>0.629642</td><td>True</td><td>1.0867026</td><td>11.4330635</td><td>S</td><td>545</td><td>2463</td><td>1</td><td>25596</td><td>0.0</td><td>0.0</td><td>0.0</td><td>0.0</td><td>0</td><td>0</td><td>0</td></tr>\n",
       "<tr><td>35185724529574460</td><td>0</td><td>272</td><td>272</td><td>1</td><td>0</td><td>179.75523346985221</td><td>-1.599430718530176</td><td>0.0</td><td>0.0</td><td>0.0</td><td>0.0</td><td>2015.5</td><td>5400.0</td><td>72057594037928192</td><td>1</td><td>TGT</td><td>60.752766</td><td>-272.98505</td><td>0</td><td>5000</td><td>0.4936894968225848</td><td>65535</td><td>99</td><td>8000</td><td>322447</td><td>1798m015</td><td>572</td><td>DEV</td><td>1351837500000.0</td><td>5213159700000.0</td><td>0.027733779</td><td>18.261003</td><td>59.709057</td><td>115.76403</td><td>311.15115</td><td>145.66374</td><td>32.562695</td><td>0.92118204</td><td>0.9461991</td><td>0.96954006</td><td>0.0011055123</td><td>0.001216456</td><td>0.00082549226</td><td>0.00057909294</td><td>0.0007289197</td><td>0.00094134087</td><td>0.9999999</td><td>1.0</td><td>0.9999999</td><td>4</td><td>6</td><td>4</td><td>1760.4818</td><td>807.0957</td><td>151.27748</td><td>1135.8314</td><td>542.38245</td><td>91.126625</td><td>121.91888</td><td>83.405045</td><td>8.259784</td><td>-1721.2094</td><td>2.0095642</td><td>0.3361462</td><td>0.00051453465</td><td>7.5738963e-06</td><td>0.99531096</td><td>0.9971177</td><td>0.9993846</td><td>0.9997676</td><td>0</td><td>0</td><td>0</td><td>6.7462416</td><td>22.058575</td><td>42.76721</td><td>6.7462416</td><td>22.058575</td><td>42.76721</td><td>0</td><td>0</td><td>0</td><td>1.0</td><td>1.0</td><td>0.9517335</td><td>-0.14998986</td><td>0.061184045</td><td>208123.1</td><td>282579.34</td><td>184179.31</td><td>0.0</td><td>0.0</td><td>0.0</td><td>0.0</td><td>0.0</td><td>0.0</td><td>3602417597775391872</td><td>G2</td><td>19.795069</td><td>145.92671</td><td>19.295864</td><td>23.812325</td><td>17.724836</td><td>83.876434</td><td>4.028728</td><td>14.863903</td><td>True</td><td>6.773926</td><td>True</td><td>0.0</td><td>0.0</td><td>S</td><td>72057594037928192</td><td>2101</td><td>1</td><td>25596</td><td>0.0</td><td>0.0</td><td>0.0</td><td>0.0</td><td>0</td><td>0</td><td>0</td></tr>\n",
       "<tr><td>611646476832997568</td><td>0</td><td>252</td><td>252</td><td>2</td><td>0</td><td>179.87423554088286</td><td>-1.5872968767525204</td><td>0.0</td><td>0.0</td><td>0.0</td><td>0.0</td><td>0.0</td><td>5400.0</td><td>4294967296</td><td>4</td><td>SKY</td><td>31.178022</td><td>-269.65042</td><td>0</td><td>0</td><td>0.9471581813170956</td><td>63</td><td>0</td><td>8000</td><td>322447</td><td>1798m015</td><td>192</td><td></td><td>0.0</td><td>0.0</td><td>0.0</td><td>0.0</td><td>0.0</td><td>0.0</td><td>0.0</td><td>0.0</td><td>0.0</td><td>0.0</td><td>0.0</td><td>0.0</td><td>0.0</td><td>0.0</td><td>0.0</td><td>0.0</td><td>0.0</td><td>0.0</td><td>0.0</td><td>0.0</td><td>0.0</td><td>0</td><td>0</td><td>0</td><td>0.0</td><td>0.0</td><td>0.0</td><td>0.0</td><td>0.0</td><td>0.0</td><td>0.0</td><td>0.0</td><td>0.0</td><td>0.0</td><td>0.0</td><td>0.0</td><td>0.0</td><td>0.0</td><td>0.0</td><td>0.0</td><td>0.0</td><td>0.0</td><td>0</td><td>0</td><td>0</td><td>-0.024602182</td><td>0.0040085157</td><td>-0.076651245</td><td>0.0</td><td>0.0</td><td>0.0</td><td>0</td><td>0</td><td>0</td><td>0.0</td><td>0.0</td><td>0.0</td><td>0.0</td><td>0.0</td><td>0.0</td><td>0.0</td><td>0.0</td><td>0.0</td><td>0.0</td><td>0.0</td><td>0.0</td><td>0.0</td><td>0.0</td><td>0</td><td></td><td>0.0</td><td>0.0</td><td>0.0</td><td>0.0</td><td>0.0</td><td>0.0</td><td>0.0</td><td>0.0</td><td>False</td><td>0.0</td><td>False</td><td>0.0</td><td>0.0</td><td></td><td>0</td><td>0</td><td>-1</td><td>25596</td><td>32.733067</td><td>3637.111</td><td>2181.8962</td><td>325.44476</td><td>4294967296</td><td>0</td><td>0</td></tr>\n",
       "<tr><td>35185724533772486</td><td>0</td><td>156</td><td>156</td><td>3</td><td>0</td><td>180.00781237667314</td><td>-1.4051489170143208</td><td>0.0</td><td>0.0</td><td>0.0</td><td>0.0</td><td>0.0</td><td>5400.0</td><td>256</td><td>1</td><td>TGT</td><td>-1.9259347</td><td>-223.05644</td><td>0</td><td>1000</td><td>0.8397869792350174</td><td>65535</td><td>99</td><td>8000</td><td>322448</td><td>1801m015</td><td>4294</td><td>REX</td><td>1429448700000.0</td><td>1486914600000.0</td><td>0.02763495</td><td>3.3976417</td><td>13.028638</td><td>26.177986</td><td>701.16516</td><td>261.3714</td><td>59.960777</td><td>0.92145157</td><td>0.9463856</td><td>0.96964693</td><td>4.8684406e-06</td><td>1.3950904e-05</td><td>1.1415753e-05</td><td>0.0035671259</td><td>0.0044117263</td><td>0.005290423</td><td>0.99992377</td><td>0.9998421</td><td>0.99981403</td><td>3</td><td>4</td><td>3</td><td>1395.1136</td><td>532.57623</td><td>117.59695</td><td>854.89667</td><td>352.4409</td><td>66.38504</td><td>34.728115</td><td>26.358685</td><td>-55.75625</td><td>462.65256</td><td>2.4844465</td><td>0.41850975</td><td>0.00070294057</td><td>9.101923e-06</td><td>0.99532765</td><td>0.99712795</td><td>0.9993868</td><td>0.99976844</td><td>0</td><td>0</td><td>0</td><td>2.024883</td><td>7.764641</td><td>15.601221</td><td>2.024883</td><td>7.764641</td><td>15.601221</td><td>0</td><td>0</td><td>0</td><td>0.0</td><td>0.0</td><td>0.0</td><td>0.0</td><td>0.0</td><td>0.0</td><td>0.0</td><td>0.0</td><td>0.3776607</td><td>0.0</td><td>0.0</td><td>95618.516</td><td>0.0</td><td>0.0</td><td>0</td><td></td><td>0.0</td><td>0.0</td><td>0.0</td><td>0.0</td><td>0.0</td><td>0.0</td><td>0.0</td><td>0.0</td><td>False</td><td>0.0</td><td>False</td><td>0.0</td><td>0.0</td><td>S</td><td>256</td><td>2100</td><td>1</td><td>25596</td><td>0.0</td><td>0.0</td><td>0.0</td><td>0.0</td><td>0</td><td>0</td><td>0</td></tr>\n",
       "<tr><td>35185724533769973</td><td>0</td><td>198</td><td>198</td><td>4</td><td>0</td><td>180.0782667944976</td><td>-1.5323988449214747</td><td>0.0</td><td>0.0</td><td>0.0</td><td>0.0</td><td>0.0</td><td>5400.0</td><td>9007199254742272</td><td>1</td><td>TGT</td><td>-19.364645</td><td>-255.49362</td><td>0</td><td>1000</td><td>0.9126590569721597</td><td>65535</td><td>99</td><td>8000</td><td>322448</td><td>1801m015</td><td>1781</td><td>DEV</td><td>365112800000.0</td><td>465282530000.0</td><td>0.0323122</td><td>1.3171586</td><td>7.5117135</td><td>26.362331</td><td>305.2606</td><td>195.78267</td><td>22.109882</td><td>0.9087814</td><td>0.9376001</td><td>0.9646016</td><td>0.022982003</td><td>0.006138146</td><td>0.027609935</td><td>0.017239962</td><td>0.05183052</td><td>0.021261131</td><td>0.70470124</td><td>0.9517653</td><td>0.66931385</td><td>2</td><td>4</td><td>2</td><td>853.07715</td><td>539.83844</td><td>89.37386</td><td>519.44116</td><td>356.3631</td><td>43.79306</td><td>78.47639</td><td>45.224667</td><td>-52.637035</td><td>-1431.8763</td><td>2.214298</td><td>0.36928418</td><td>0.0006652792</td><td>9.946781e-06</td><td>0.994539</td><td>0.9966427</td><td>0.999283</td><td>0.9997292</td><td>0</td><td>0</td><td>0</td><td>0.5457854</td><td>3.112597</td><td>10.923647</td><td>0.5457854</td><td>3.112597</td><td>10.923647</td><td>0</td><td>0</td><td>0</td><td>1.0</td><td>1.0</td><td>0.8770758</td><td>-0.20445928</td><td>0.24667762</td><td>13738.061</td><td>11146.475</td><td>12549.16</td><td>0.0</td><td>0.0</td><td>0.0</td><td>0.0</td><td>0.0</td><td>0.0</td><td>0</td><td></td><td>0.0</td><td>0.0</td><td>0.0</td><td>0.0</td><td>0.0</td><td>0.0</td><td>0.0</td><td>0.0</td><td>False</td><td>0.0</td><td>False</td><td>0.0</td><td>0.0</td><td>S</td><td>9007199254742272</td><td>3410</td><td>2</td><td>25596</td><td>0.0</td><td>0.0</td><td>0.0</td><td>0.0</td><td>0</td><td>0</td><td>0</td></tr>\n",
       "<tr><td>611646476832998132</td><td>0</td><td>204</td><td>204</td><td>5</td><td>0</td><td>179.84140198468324</td><td>-1.4714344717162104</td><td>0.0</td><td>0.0</td><td>0.0</td><td>0.0</td><td>0.0</td><td>5400.0</td><td>4294967296</td><td>4</td><td>SKY</td><td>39.16894</td><td>-239.9918</td><td>0</td><td>0</td><td>0.8662927604159237</td><td>63</td><td>0</td><td>8000</td><td>322447</td><td>1798m015</td><td>756</td><td></td><td>0.0</td><td>0.0</td><td>0.0</td><td>0.0</td><td>0.0</td><td>0.0</td><td>0.0</td><td>0.0</td><td>0.0</td><td>0.0</td><td>0.0</td><td>0.0</td><td>0.0</td><td>0.0</td><td>0.0</td><td>0.0</td><td>0.0</td><td>0.0</td><td>0.0</td><td>0.0</td><td>0.0</td><td>0</td><td>0</td><td>0</td><td>0.0</td><td>0.0</td><td>0.0</td><td>0.0</td><td>0.0</td><td>0.0</td><td>0.0</td><td>0.0</td><td>0.0</td><td>0.0</td><td>0.0</td><td>0.0</td><td>0.0</td><td>0.0</td><td>0.0</td><td>0.0</td><td>0.0</td><td>0.0</td><td>0</td><td>0</td><td>0</td><td>-0.0034844948</td><td>-0.00061631604</td><td>0.04300808</td><td>0.0</td><td>0.0</td><td>0.0</td><td>0</td><td>0</td><td>0</td><td>0.0</td><td>0.0</td><td>0.0</td><td>0.0</td><td>0.0</td><td>0.0</td><td>0.0</td><td>0.0</td><td>0.0</td><td>0.0</td><td>0.0</td><td>0.0</td><td>0.0</td><td>0.0</td><td>0</td><td></td><td>0.0</td><td>0.0</td><td>0.0</td><td>0.0</td><td>0.0</td><td>0.0</td><td>0.0</td><td>0.0</td><td>False</td><td>0.0</td><td>False</td><td>0.0</td><td>0.0</td><td></td><td>0</td><td>0</td><td>-1</td><td>25596</td><td>43.52797</td><td>1428.2708</td><td>1426.8564</td><td>187.52257</td><td>4294967296</td><td>0</td><td>0</td></tr>\n",
       "<tr><td>35185724529574968</td><td>0</td><td>233</td><td>233</td><td>6</td><td>0</td><td>179.94068231925493</td><td>-1.5731114855225734</td><td>0.0</td><td>0.0</td><td>0.0</td><td>0.0</td><td>0.0</td><td>5400.0</td><td>256</td><td>1</td><td>TGT</td><td>14.69404</td><td>-265.94</td><td>0</td><td>1000</td><td>0.8419365353885992</td><td>65535</td><td>99</td><td>8000</td><td>322447</td><td>1798m015</td><td>1080</td><td>REX</td><td>220274660000.0</td><td>229647350000.0</td><td>0.029276628</td><td>2.81272</td><td>6.6717763</td><td>10.455926</td><td>604.3904</td><td>245.1316</td><td>49.603165</td><td>0.91698444</td><td>0.9432926</td><td>0.96787304</td><td>0.006401624</td><td>0.021801624</td><td>0.017886385</td><td>0.0034799676</td><td>0.06738458</td><td>0.03129239</td><td>0.9993138</td><td>0.99843603</td><td>0.9987642</td><td>3</td><td>4</td><td>3</td><td>1511.9723</td><td>574.6703</td><td>119.13828</td><td>922.91296</td><td>372.31586</td><td>66.39891</td><td>12.909337</td><td>8.216353</td><td>152.57741</td><td>-260.96732</td><td>2.4510798</td><td>0.41597795</td><td>0.00074862846</td><td>1.0185621e-05</td><td>0.9950508</td><td>0.9969576</td><td>0.99935037</td><td>0.99975467</td><td>0</td><td>0</td><td>0</td><td>1.2980472</td><td>3.07897</td><td>4.8253236</td><td>1.29898</td><td>3.0812228</td><td>4.829382</td><td>0</td><td>0</td><td>0</td><td>0.0</td><td>0.0</td><td>0.0</td><td>0.0</td><td>0.0</td><td>0.0</td><td>0.0</td><td>0.0</td><td>0.583516</td><td>0.0</td><td>0.0</td><td>19575.48</td><td>0.0</td><td>0.0</td><td>0</td><td></td><td>0.0</td><td>0.0</td><td>0.0</td><td>0.0</td><td>0.0</td><td>0.0</td><td>0.0</td><td>0.0</td><td>False</td><td>0.0</td><td>False</td><td>0.0</td><td>0.0</td><td>S</td><td>256</td><td>2100</td><td>1</td><td>25596</td><td>0.0</td><td>0.0</td><td>0.0</td><td>0.0</td><td>0</td><td>0</td><td>0</td></tr>\n",
       "<tr><td>35185724529577802</td><td>0</td><td>172</td><td>172</td><td>7</td><td>0</td><td>179.91739987607514</td><td>-1.4173701454661203</td><td>0.0</td><td>0.0</td><td>0.0</td><td>0.0</td><td>0.0</td><td>5400.0</td><td>256</td><td>1</td><td>TGT</td><td>20.35848</td><td>-226.17818</td><td>0</td><td>1000</td><td>0.48293059867524424</td><td>65535</td><td>99</td><td>8000</td><td>322447</td><td>1798m015</td><td>3914</td><td>EXP</td><td>13473573000.0</td><td>20234920000.0</td><td>0.025857251</td><td>4.1495633</td><td>7.0988317</td><td>10.495121</td><td>132.09413</td><td>57.204117</td><td>11.917883</td><td>0.92631334</td><td>0.9497463</td><td>0.97157145</td><td>0.022847233</td><td>0.05648611</td><td>0.06607842</td><td>0.016005825</td><td>0.12831737</td><td>0.019998565</td><td>0.9940363</td><td>0.99253833</td><td>0.9927073</td><td>3</td><td>4</td><td>3</td><td>1363.054</td><td>431.87872</td><td>117.17803</td><td>842.7794</td><td>267.99042</td><td>65.90269</td><td>1.6909003</td><td>0.013386497</td><td>-65.41409</td><td>582.8264</td><td>1.747171</td><td>0.3140142</td><td>0.0005981618</td><td>8.9230525e-06</td><td>0.9956275</td><td>0.9973125</td><td>0.9994262</td><td>0.9997833</td><td>0</td><td>0</td><td>0</td><td>0.48927182</td><td>0.83701783</td><td>1.2374717</td><td>0.48927182</td><td>0.83701783</td><td>1.2374717</td><td>0</td><td>0</td><td>0</td><td>0.0</td><td>0.0</td><td>0.0</td><td>0.0</td><td>0.0</td><td>0.0</td><td>0.0</td><td>0.0</td><td>2.2501173</td><td>-0.13329099</td><td>0.048629705</td><td>1215.6635</td><td>8405.409</td><td>4244.0176</td><td>0</td><td></td><td>0.0</td><td>0.0</td><td>0.0</td><td>0.0</td><td>0.0</td><td>0.0</td><td>0.0</td><td>0.0</td><td>False</td><td>0.0</td><td>False</td><td>0.0</td><td>0.0</td><td>S</td><td>256</td><td>2100</td><td>1</td><td>25596</td><td>0.0</td><td>0.0</td><td>0.0</td><td>0.0</td><td>0</td><td>0</td><td>0</td></tr>\n",
       "<tr><td>35185718485585807</td><td>0</td><td>310</td><td>310</td><td>8</td><td>0</td><td>179.71925363717037</td><td>-1.6614527220399882</td><td>0.0</td><td>0.0</td><td>0.0</td><td>0.0</td><td>0.0</td><td>5400.0</td><td>256</td><td>1</td><td>TGT</td><td>69.86843</td><td>-289.15833</td><td>0</td><td>1000</td><td>0.9127711750624516</td><td>65535</td><td>99</td><td>8000</td><td>321006</td><td>1796m017</td><td>3983</td><td>DEV</td><td>469787200000.0</td><td>488083650000.0</td><td>0.029089052</td><td>2.6787407</td><td>10.389816</td><td>21.556038</td><td>510.99792</td><td>239.94876</td><td>44.183422</td><td>0.91749376</td><td>0.94364554</td><td>0.9680756</td><td>0.0031604348</td><td>0.0034640986</td><td>0.002626883</td><td>0.0068298127</td><td>0.0068369536</td><td>0.011701761</td><td>0.9981176</td><td>0.99806446</td><td>0.9976367</td><td>4</td><td>6</td><td>4</td><td>1706.3417</td><td>809.9659</td><td>150.15228</td><td>1112.5228</td><td>542.48456</td><td>91.41249</td><td>24.923437</td><td>14.626975</td><td>16.202255</td><td>-229.5687</td><td>2.0761528</td><td>0.36222878</td><td>0.0005827793</td><td>8.999674e-06</td><td>0.9950824</td><td>0.9969771</td><td>0.99935454</td><td>0.9997562</td><td>0</td><td>0</td><td>0</td><td>0.9832967</td><td>3.813834</td><td>7.912666</td><td>0.98354304</td><td>3.814499</td><td>7.913914</td><td>0</td><td>0</td><td>0</td><td>1.0</td><td>1.0</td><td>0.85426146</td><td>-0.0047469796</td><td>-0.030274786</td><td>13706.422</td><td>5825.0054</td><td>15023.128</td><td>0.0</td><td>0.0</td><td>0.0</td><td>0.0</td><td>0.0</td><td>0.0</td><td>0</td><td></td><td>0.0</td><td>0.0</td><td>0.0</td><td>0.0</td><td>0.0</td><td>0.0</td><td>0.0</td><td>0.0</td><td>False</td><td>0.0</td><td>False</td><td>0.0</td><td>0.0</td><td>S</td><td>256</td><td>2100</td><td>1</td><td>25596</td><td>0.0</td><td>0.0</td><td>0.0</td><td>0.0</td><td>0</td><td>0</td><td>0</td></tr>\n",
       "<tr><td>35185718489780368</td><td>0</td><td>290</td><td>290</td><td>9</td><td>0</td><td>179.7842141408591</td><td>-1.6358644987815552</td><td>0.0</td><td>0.0</td><td>0.0</td><td>0.0</td><td>0.0</td><td>5400.0</td><td>9007199254742272</td><td>1</td><td>TGT</td><td>53.61996</td><td>-282.35403</td><td>0</td><td>1000</td><td>0.6063749805970389</td><td>65535</td><td>99</td><td>8000</td><td>321007</td><td>1798m017</td><td>4240</td><td>DEV</td><td>240430550000.0</td><td>254507630000.0</td><td>0.02960266</td><td>1.4500697</td><td>8.130972</td><td>24.366333</td><td>383.8884</td><td>183.55017</td><td>29.266123</td><td>0.91609985</td><td>0.9426796</td><td>0.96752113</td><td>0.0018751002</td><td>0.0014301396</td><td>0.0011476615</td><td>0.0264221</td><td>0.028035708</td><td>0.04562069</td><td>0.9998564</td><td>0.9998309</td><td>0.9998211</td><td>3</td><td>5</td><td>3</td><td>1470.6538</td><td>679.35144</td><td>109.345146</td><td>944.7239</td><td>454.4874</td><td>69.47762</td><td>57.255993</td><td>31.277874</td><td>-15.888501</td><td>-142.0575</td><td>1.8942921</td><td>0.32304418</td><td>0.0006007484</td><td>8.833911e-06</td><td>0.9949958</td><td>0.9969238</td><td>0.99934316</td><td>0.9997519</td><td>0</td><td>0</td><td>0</td><td>0.47139823</td><td>2.6432703</td><td>7.921169</td><td>0.47139823</td><td>2.6432703</td><td>7.921169</td><td>0</td><td>0</td><td>0</td><td>1.0</td><td>1.0</td><td>1.1183566</td><td>-0.04894639</td><td>0.09098079</td><td>5481.982</td><td>4923.3433</td><td>8365.224</td><td>0.0</td><td>0.0</td><td>0.0</td><td>0.0</td><td>0.0</td><td>0.0</td><td>0</td><td></td><td>0.0</td><td>0.0</td><td>0.0</td><td>0.0</td><td>0.0</td><td>0.0</td><td>0.0</td><td>0.0</td><td>False</td><td>0.0</td><td>False</td><td>0.0</td><td>0.0</td><td>S</td><td>9007199254742272</td><td>3410</td><td>2</td><td>25596</td><td>0.0</td><td>0.0</td><td>0.0</td><td>0.0</td><td>0</td><td>0</td><td>0</td></tr>\n",
       "</table>"
      ],
      "text/plain": [
       "<Table length=10>\n",
       "     TARGETID      PETAL_LOC DEVICE_LOC ... DESI_TARGET BGS_TARGET MWS_TARGET\n",
       "      int64          int16     int32    ...    int64      int64      int64   \n",
       "------------------ --------- ---------- ... ----------- ---------- ----------\n",
       " 35185718485585996         0        311 ...           0          0          0\n",
       " 35185724529574460         0        272 ...           0          0          0\n",
       "611646476832997568         0        252 ...  4294967296          0          0\n",
       " 35185724533772486         0        156 ...           0          0          0\n",
       " 35185724533769973         0        198 ...           0          0          0\n",
       "611646476832998132         0        204 ...  4294967296          0          0\n",
       " 35185724529574968         0        233 ...           0          0          0\n",
       " 35185724529577802         0        172 ...           0          0          0\n",
       " 35185718485585807         0        310 ...           0          0          0\n",
       " 35185718489780368         0        290 ...           0          0          0"
      ]
     },
     "execution_count": 22,
     "metadata": {},
     "output_type": "execute_result"
    }
   ],
   "source": [
    "Table(fas['00052112'])[:10]"
   ]
  },
  {
   "cell_type": "code",
   "execution_count": 23,
   "metadata": {},
   "outputs": [],
   "source": [
    "# Good fiber across exposures.\n",
    "tids   = []\n",
    "\n",
    "for _ in fp.keys():\n",
    "    tids += list(fp[_]['TARGETID'])"
   ]
  },
  {
   "cell_type": "code",
   "execution_count": 24,
   "metadata": {},
   "outputs": [],
   "source": [
    "tids   = np.unique(tids)\n",
    "isgood = np.ones_like(tids)"
   ]
  },
  {
   "cell_type": "code",
   "execution_count": 25,
   "metadata": {},
   "outputs": [],
   "source": [
    "for _ in fp.keys():\n",
    "  # End of positioning sequence, look for largest FLAGS_EXP_N.  2 in this case.\n",
    "  isgood = isgood & (fp[_]['FLAGS_EXP_2'] == 4)"
   ]
  },
  {
   "cell_type": "markdown",
   "metadata": {},
   "source": [
    "##  NUMBER OF FIBER REACH ERRORS FOR ALL TARGETS ON PLATE"
   ]
  },
  {
   "cell_type": "code",
   "execution_count": 26,
   "metadata": {},
   "outputs": [
    {
     "data": {
      "text/plain": [
       "(3873, 5000)"
      ]
     },
     "execution_count": 26,
     "metadata": {},
     "output_type": "execute_result"
    }
   ],
   "source": [
    "np.count_nonzero(isgood), len(tids)"
   ]
  },
  {
   "cell_type": "markdown",
   "metadata": {},
   "source": [
    "##   GET COADDED EXPOSURES AND ZBEST FILES"
   ]
  },
  {
   "cell_type": "code",
   "execution_count": 27,
   "metadata": {},
   "outputs": [],
   "source": [
    "coadds        = {}\n",
    "zbests        = {}\n",
    "\n",
    "coadds_wave   = {}\n",
    "coadds_flux   = {}\n",
    "coadds_res    = {}\n",
    "coadds_ivar   = {}\n",
    "coadds_mask   = {}\n",
    "\n",
    "coadds_scores = {}\n",
    "\n",
    "coadds_bsnr   = {}\n",
    "coadds_rsnr   = {}\n",
    "coadds_zsnr   = {}\n",
    "coadds_tsnr   = {}"
   ]
  },
  {
   "cell_type": "raw",
   "metadata": {},
   "source": [
    "# Filename: /global/cfs/cdirs/desi/spectro/redux/daily/tiles/70502/20200225/coadd-0-70502-20200225.fits\n",
    "#\n",
    "# No.    Name      Ver    Type      Cards   Dimensions   Format\n",
    "#\n",
    "#  0  PRIMARY       1 PrimaryHDU      34   ()      \n",
    "#  1  FIBERMAP      1 BinTableHDU    283   500R x 136C      \n",
    "#  2  BRZ_WAVELENGTH    1 ImageHDU        10   (7781,)   float64   \n",
    "#  3  BRZ_FLUX      1 ImageHDU        11   (7781, 500)   float32   \n",
    "#  4  BRZ_IVAR      1 ImageHDU        11   (7781, 500)   float32   \n",
    "#  5  BRZ_MASK      1 ImageHDU        12   (7781, 500)   int32 (rescales to uint32)   \n",
    "#  6  BRZ_RESOLUTION    1 ImageHDU        11   (7781, 11, 500)   float32   "
   ]
  },
  {
   "cell_type": "code",
   "execution_count": 28,
   "metadata": {},
   "outputs": [],
   "source": [
    "# XTENSION= 'IMAGE   '           / Image extension                                \n",
    "# BITPIX  =                  -32 / array data type                                \n",
    "# NAXIS   =                    2 / number of array dimensions                     \n",
    "# NAXIS1  =                 7781                                                  \n",
    "# NAXIS2  =                  500                                                  \n",
    "# PCOUNT  =                    0 / number of parameters                           \n",
    "# GCOUNT  =                    1 / number of groups                               \n",
    "# EXTNAME = 'BRZ_FLUX'           / extension name                                 \n",
    "# BUNIT   = '10**-17 erg/(s cm2 Angstrom)'                                        \n",
    "# CHECKSUM= '1gAq4f6n1fAn1f3n'   / HDU checksum updated 2020-02-26T06:51:09       \n",
    "# DATASUM = '1442897442'         / data unit checksum updated 2020-02-26T06:51:09 "
   ]
  },
  {
   "cell_type": "code",
   "execution_count": 29,
   "metadata": {},
   "outputs": [],
   "source": [
    "# XTENSION= 'IMAGE   '           / Image extension                                \n",
    "# BITPIX  =                  -32 / array data type                                \n",
    "# NAXIS   =                    2 / number of array dimensions                     \n",
    "# NAXIS1  =                 7781                                                  \n",
    "# NAXIS2  =                  500                                                  \n",
    "# PCOUNT  =                    0 / number of parameters                           \n",
    "# GCOUNT  =                    1 / number of groups                               \n",
    "# EXTNAME = 'BRZ_IVAR'           / extension name                                 \n",
    "# BUNIT   = '10**+34 (s2 cm4 Angstrom2) / erg2'                                   \n",
    "# CHECKSUM= '4aSk6XPj4aPj4WPj'   / HDU checksum updated 2020-02-26T06:51:09       \n",
    "# DATASUM = '966772586'          / data unit checksum updated 2020-02-26T06:51:09 "
   ]
  },
  {
   "cell_type": "code",
   "execution_count": 126,
   "metadata": {},
   "outputs": [
    {
     "name": "stdout",
     "output_type": "stream",
     "text": [
      "\n",
      "\n",
      "Solving for petal: 0 (/global/cfs/cdirs/desi/spectro/redux/daily/tiles/70502/20200225/coadd-0-70502-20200225.fits).\n",
      "\n",
      "\n",
      "Solving for petal: 3 (/global/cfs/cdirs/desi/spectro/redux/daily/tiles/70502/20200225/coadd-3-70502-20200225.fits).\n",
      "\n",
      "\n",
      "Solving for petal: 6 (/global/cfs/cdirs/desi/spectro/redux/daily/tiles/70502/20200225/coadd-6-70502-20200225.fits).\n",
      "\n",
      "\n",
      "Solving for petal: 7 (/global/cfs/cdirs/desi/spectro/redux/daily/tiles/70502/20200225/coadd-7-70502-20200225.fits).\n",
      "\n",
      "\n",
      "Solving for petal: 9 (/global/cfs/cdirs/desi/spectro/redux/daily/tiles/70502/20200225/coadd-9-70502-20200225.fits).\n"
     ]
    }
   ],
   "source": [
    "bandpasses              = {\"b\": [4000, 5800], \"r\": [5800, 7600], \"z\": [7600, 9800]}\n",
    "petals                  = [0, 3, 6, 7, 9]\n",
    "\n",
    "wave                    = fitsio.read(root + 'coadd-{}-70502-20200225.fits'.format(0), ext=2)\n",
    "\n",
    "for petal in petals:\n",
    "    fpath                = root + 'coadd-{}-70502-20200225.fits'.format(petal)\n",
    "\n",
    "    print('\\n\\nSolving for petal: {} ({}).'.format(petal, fpath))\n",
    "    \n",
    "    ##  FIRST EXT: FIBER MAPS\n",
    "    coadds[petal]        = fitsio.read(root + 'coadd-{}-70502-20200225.fits'.format(petal))    \n",
    "    zbests[petal]        = fitsio.read(root + 'zbest-{}-70502-20200225.fits'.format(petal))\n",
    "    \n",
    "    coadds_wave[petal]   = fitsio.read(root + 'coadd-{}-70502-20200225.fits'.format(petal), ext=2)\n",
    "    coadds_flux[petal]   = fitsio.read(root + 'coadd-{}-70502-20200225.fits'.format(petal), ext=3) \n",
    "    coadds_ivar[petal]   = fitsio.read(root + 'coadd-{}-70502-20200225.fits'.format(petal), ext=4)\n",
    "    coadds_mask[petal]   = fitsio.read(root + 'coadd-{}-70502-20200225.fits'.format(petal), ext=5)\n",
    "    coadds_res[petal]    = fitsio.read(root + 'coadd-{}-70502-20200225.fits'.format(petal), ext=6) \n",
    "    \n",
    "    _                    = read_spectra(root + 'coadd-{}-70502-20200225.fits'.format(petal))        \n",
    "    \n",
    "    # fitsio.read(root + 'coadd-{}-70502-20200225.fits'.format(petal), ext=7) \n",
    "    coadds_scores[petal] = compute_coadd_scores(_)[0]   \n",
    "    \n",
    "    _                    = pd.DataFrame(coadds_scores[petal], columns=coadds_scores[petal].keys())\n",
    "\n",
    "    del coadds_scores[petal]\n",
    "    \n",
    "    coadds_scores[petal] = _\n",
    "    \n",
    "    assert  np.all(wave == coadds_wave[petal])\n",
    "    \n",
    "    mask                = np.clip(coadds_mask[petal].astype(np.float), a_max=1.0, a_min=0.0).astype(bool)\n",
    "    \n",
    "    dwave               = np.gradient(wave)\n",
    "    \n",
    "    bwave               = ((wave < bandpasses['b'][0]) | (wave > bandpasses['b'][1])) \n",
    "    bwave               = np.repeat(bwave[:, np.newaxis], 500, axis=1).T\n",
    "\n",
    "    rwave               = ((wave < bandpasses['r'][0]) | (wave > bandpasses['r'][1])) \n",
    "    rwave               = np.repeat(rwave[:, np.newaxis], 500, axis=1).T\n",
    "    \n",
    "    zwave               = ((wave < bandpasses['z'][0]) | (wave > bandpasses['z'][1])) \n",
    "    zwave               = np.repeat(zwave[:, np.newaxis], 500, axis=1).T\n",
    "    \n",
    "    bmask               = mask | bwave\n",
    "    rmask               = mask | rwave\n",
    "    zmask               = mask | zwave\n",
    "    \n",
    "    dwave               = np.repeat(dwave[:, np.newaxis], 500, axis=1).T\n",
    "    \n",
    "    # https://github.com/desihub/desispec/blob/c544749a8ab4b982a054b91247f056c2ce4bd8ce/py/desispec/specscore.py#L148    \n",
    "    # coadds_snr          = coadds_flux[petal] * np.sqrt(coadds_ivar[petal]) / np.sqrt(dwave)\n",
    "    \n",
    "    # coadds_bsnr[petal]  = np.sum(coadds_snr * (1. - bmask.astype(np.float)), axis=-1)\n",
    "    # coadds_rsnr[petal]  = np.sum(coadds_snr * (1. - rmask.astype(np.float)), axis=-1)\n",
    "    # coadds_zsnr[petal]  = np.sum(coadds_snr * (1. - zmask.astype(np.float)), axis=-1)\n",
    "    \n",
    "    # coadds_tsnr[petal]  = np.sqrt(coadds_bsnr[petal]**2. + coadds_rsnr[petal]**2. + coadds_zsnr[petal]**2.)"
   ]
  },
  {
   "cell_type": "code",
   "execution_count": 127,
   "metadata": {},
   "outputs": [],
   "source": [
    "##  Assumes similar across exposures. \n",
    "wave           = coadds_wave[0]\n",
    "\n",
    "##  Stack across petals. \n",
    "acoadds_flux   = np.vstack((coadds_flux[0], coadds_flux[3], coadds_flux[6], coadds_flux[7], coadds_flux[9]))\n",
    "acoadds_mask   = np.vstack((coadds_mask[0], coadds_mask[3], coadds_mask[6], coadds_mask[7], coadds_mask[9]))\n",
    "\n",
    "# acoadds_bsnr = np.hstack((coadds_bsnr[0], coadds_bsnr[3], coadds_bsnr[6], coadds_bsnr[7], coadds_bsnr[9]))\n",
    "# acoadds_rsnr = np.hstack((coadds_rsnr[0], coadds_rsnr[3], coadds_rsnr[6], coadds_rsnr[7], coadds_rsnr[9]))\n",
    "# acoadds_zsnr = np.hstack((coadds_zsnr[0], coadds_zsnr[3], coadds_zsnr[6], coadds_zsnr[7], coadds_zsnr[9]))\n",
    "# acoadds_tsnr = np.hstack((coadds_tsnr[0], coadds_tsnr[3], coadds_tsnr[6], coadds_tsnr[7], coadds_tsnr[9]))\n",
    "\n",
    "acoadds_res    = np.vstack((coadds_res[0], coadds_res[3], coadds_res[6], coadds_res[7], coadds_res[9]))\n",
    "\n",
    "acoadds        = np.hstack((coadds[0], coadds[3], coadds[6], coadds[7], coadds[9]))\n",
    "azbests        = np.hstack((zbests[0], zbests[3], zbests[6], zbests[7], zbests[9]))\n",
    "\n",
    "names          = coadds_scores[0].columns\n",
    "ascores        = np.vstack((coadds_scores[0].to_numpy(), coadds_scores[3].to_numpy(), coadds_scores[6].to_numpy(), coadds_scores[7].to_numpy(), coadds_scores[9].to_numpy()))\n",
    "ascores        = pd.DataFrame(ascores, columns=names)"
   ]
  },
  {
   "cell_type": "code",
   "execution_count": 129,
   "metadata": {},
   "outputs": [
    {
     "data": {
      "text/html": [
       "<div>\n",
       "<style scoped>\n",
       "    .dataframe tbody tr th:only-of-type {\n",
       "        vertical-align: middle;\n",
       "    }\n",
       "\n",
       "    .dataframe tbody tr th {\n",
       "        vertical-align: top;\n",
       "    }\n",
       "\n",
       "    .dataframe thead th {\n",
       "        text-align: right;\n",
       "    }\n",
       "</style>\n",
       "<table border=\"1\" class=\"dataframe\">\n",
       "  <thead>\n",
       "    <tr style=\"text-align: right;\">\n",
       "      <th></th>\n",
       "      <th>INTEG_COADD_FLUX_B</th>\n",
       "      <th>MEDIAN_COADD_FLUX_B</th>\n",
       "      <th>MEDIAN_COADD_SNR_B</th>\n",
       "      <th>INTEG_COADD_FLUX_R</th>\n",
       "      <th>MEDIAN_COADD_FLUX_R</th>\n",
       "      <th>MEDIAN_COADD_SNR_R</th>\n",
       "      <th>INTEG_COADD_FLUX_Z</th>\n",
       "      <th>MEDIAN_COADD_FLUX_Z</th>\n",
       "      <th>MEDIAN_COADD_SNR_Z</th>\n",
       "    </tr>\n",
       "  </thead>\n",
       "  <tbody>\n",
       "    <tr>\n",
       "      <th>0</th>\n",
       "      <td>63245.573888</td>\n",
       "      <td>35.593666</td>\n",
       "      <td>23.481717</td>\n",
       "      <td>54582.752899</td>\n",
       "      <td>30.320358</td>\n",
       "      <td>37.362873</td>\n",
       "      <td>40059.545613</td>\n",
       "      <td>18.020700</td>\n",
       "      <td>36.177996</td>\n",
       "    </tr>\n",
       "    <tr>\n",
       "      <th>1</th>\n",
       "      <td>59.592747</td>\n",
       "      <td>0.051621</td>\n",
       "      <td>0.053899</td>\n",
       "      <td>-193.442356</td>\n",
       "      <td>-0.094147</td>\n",
       "      <td>-0.226977</td>\n",
       "      <td>81.497804</td>\n",
       "      <td>0.040732</td>\n",
       "      <td>0.139463</td>\n",
       "    </tr>\n",
       "    <tr>\n",
       "      <th>2</th>\n",
       "      <td>-69.496764</td>\n",
       "      <td>-0.025950</td>\n",
       "      <td>-0.024823</td>\n",
       "      <td>-22.225460</td>\n",
       "      <td>-0.010948</td>\n",
       "      <td>-0.020016</td>\n",
       "      <td>-30.531030</td>\n",
       "      <td>-0.020095</td>\n",
       "      <td>-0.066944</td>\n",
       "    </tr>\n",
       "    <tr>\n",
       "      <th>3</th>\n",
       "      <td>5496.852738</td>\n",
       "      <td>3.047041</td>\n",
       "      <td>2.994275</td>\n",
       "      <td>12677.037909</td>\n",
       "      <td>7.008467</td>\n",
       "      <td>14.019584</td>\n",
       "      <td>19235.417278</td>\n",
       "      <td>8.772165</td>\n",
       "      <td>22.221361</td>\n",
       "    </tr>\n",
       "    <tr>\n",
       "      <th>4</th>\n",
       "      <td>16621.289906</td>\n",
       "      <td>9.336838</td>\n",
       "      <td>8.105087</td>\n",
       "      <td>14610.418085</td>\n",
       "      <td>8.023841</td>\n",
       "      <td>15.487834</td>\n",
       "      <td>11318.961664</td>\n",
       "      <td>5.098507</td>\n",
       "      <td>15.064162</td>\n",
       "    </tr>\n",
       "    <tr>\n",
       "      <th>5</th>\n",
       "      <td>33541.828788</td>\n",
       "      <td>17.864481</td>\n",
       "      <td>12.940865</td>\n",
       "      <td>15965.504240</td>\n",
       "      <td>8.462581</td>\n",
       "      <td>15.174072</td>\n",
       "      <td>8534.432187</td>\n",
       "      <td>3.810760</td>\n",
       "      <td>10.902867</td>\n",
       "    </tr>\n",
       "    <tr>\n",
       "      <th>6</th>\n",
       "      <td>9613.349474</td>\n",
       "      <td>5.271325</td>\n",
       "      <td>4.701248</td>\n",
       "      <td>21015.124845</td>\n",
       "      <td>11.579488</td>\n",
       "      <td>19.502854</td>\n",
       "      <td>28655.092898</td>\n",
       "      <td>13.069710</td>\n",
       "      <td>28.227429</td>\n",
       "    </tr>\n",
       "    <tr>\n",
       "      <th>7</th>\n",
       "      <td>1621.298113</td>\n",
       "      <td>0.907540</td>\n",
       "      <td>0.851106</td>\n",
       "      <td>1785.633001</td>\n",
       "      <td>0.962221</td>\n",
       "      <td>2.182679</td>\n",
       "      <td>1658.340363</td>\n",
       "      <td>0.718255</td>\n",
       "      <td>2.374906</td>\n",
       "    </tr>\n",
       "    <tr>\n",
       "      <th>8</th>\n",
       "      <td>13894.629522</td>\n",
       "      <td>8.153145</td>\n",
       "      <td>7.284753</td>\n",
       "      <td>19784.755090</td>\n",
       "      <td>10.990123</td>\n",
       "      <td>19.343675</td>\n",
       "      <td>20634.713578</td>\n",
       "      <td>9.413108</td>\n",
       "      <td>22.883878</td>\n",
       "    </tr>\n",
       "    <tr>\n",
       "      <th>9</th>\n",
       "      <td>36540.045932</td>\n",
       "      <td>20.113847</td>\n",
       "      <td>15.069788</td>\n",
       "      <td>24760.901531</td>\n",
       "      <td>13.615603</td>\n",
       "      <td>22.383617</td>\n",
       "      <td>16257.973115</td>\n",
       "      <td>7.349540</td>\n",
       "      <td>19.650574</td>\n",
       "    </tr>\n",
       "    <tr>\n",
       "      <th>10</th>\n",
       "      <td>1018.660202</td>\n",
       "      <td>0.568110</td>\n",
       "      <td>0.551310</td>\n",
       "      <td>746.856177</td>\n",
       "      <td>0.404322</td>\n",
       "      <td>0.925138</td>\n",
       "      <td>663.804063</td>\n",
       "      <td>0.309922</td>\n",
       "      <td>1.051745</td>\n",
       "    </tr>\n",
       "    <tr>\n",
       "      <th>11</th>\n",
       "      <td>293.672371</td>\n",
       "      <td>0.146591</td>\n",
       "      <td>0.147382</td>\n",
       "      <td>-246.290865</td>\n",
       "      <td>-0.118159</td>\n",
       "      <td>-0.280059</td>\n",
       "      <td>-251.514421</td>\n",
       "      <td>-0.093787</td>\n",
       "      <td>-0.335918</td>\n",
       "    </tr>\n",
       "    <tr>\n",
       "      <th>12</th>\n",
       "      <td>7574.303699</td>\n",
       "      <td>4.199519</td>\n",
       "      <td>3.826141</td>\n",
       "      <td>12975.344693</td>\n",
       "      <td>7.240022</td>\n",
       "      <td>13.719470</td>\n",
       "      <td>14529.853511</td>\n",
       "      <td>6.543692</td>\n",
       "      <td>17.466621</td>\n",
       "    </tr>\n",
       "    <tr>\n",
       "      <th>13</th>\n",
       "      <td>2395.257170</td>\n",
       "      <td>1.401727</td>\n",
       "      <td>1.287933</td>\n",
       "      <td>5263.876498</td>\n",
       "      <td>2.954484</td>\n",
       "      <td>6.154702</td>\n",
       "      <td>6078.967831</td>\n",
       "      <td>2.757894</td>\n",
       "      <td>8.217298</td>\n",
       "    </tr>\n",
       "    <tr>\n",
       "      <th>14</th>\n",
       "      <td>1554.305940</td>\n",
       "      <td>0.873322</td>\n",
       "      <td>0.826901</td>\n",
       "      <td>3829.922318</td>\n",
       "      <td>2.147850</td>\n",
       "      <td>4.779249</td>\n",
       "      <td>4626.091989</td>\n",
       "      <td>2.104149</td>\n",
       "      <td>6.661273</td>\n",
       "    </tr>\n",
       "    <tr>\n",
       "      <th>15</th>\n",
       "      <td>1814.895894</td>\n",
       "      <td>0.969790</td>\n",
       "      <td>0.953367</td>\n",
       "      <td>2764.789395</td>\n",
       "      <td>1.552374</td>\n",
       "      <td>3.581810</td>\n",
       "      <td>3522.350731</td>\n",
       "      <td>1.609499</td>\n",
       "      <td>5.086758</td>\n",
       "    </tr>\n",
       "    <tr>\n",
       "      <th>16</th>\n",
       "      <td>603.850873</td>\n",
       "      <td>0.364014</td>\n",
       "      <td>0.350697</td>\n",
       "      <td>1021.834016</td>\n",
       "      <td>0.570077</td>\n",
       "      <td>1.341412</td>\n",
       "      <td>1172.303005</td>\n",
       "      <td>0.526603</td>\n",
       "      <td>1.767568</td>\n",
       "    </tr>\n",
       "    <tr>\n",
       "      <th>17</th>\n",
       "      <td>2175.869487</td>\n",
       "      <td>1.245370</td>\n",
       "      <td>1.090259</td>\n",
       "      <td>6330.524388</td>\n",
       "      <td>3.536714</td>\n",
       "      <td>6.982431</td>\n",
       "      <td>7964.669122</td>\n",
       "      <td>3.505790</td>\n",
       "      <td>9.820319</td>\n",
       "    </tr>\n",
       "    <tr>\n",
       "      <th>18</th>\n",
       "      <td>25477.559373</td>\n",
       "      <td>14.185129</td>\n",
       "      <td>11.647576</td>\n",
       "      <td>20231.942492</td>\n",
       "      <td>11.161562</td>\n",
       "      <td>19.663184</td>\n",
       "      <td>14240.735824</td>\n",
       "      <td>6.412009</td>\n",
       "      <td>17.965587</td>\n",
       "    </tr>\n",
       "    <tr>\n",
       "      <th>19</th>\n",
       "      <td>4033.072672</td>\n",
       "      <td>2.222496</td>\n",
       "      <td>2.116706</td>\n",
       "      <td>4348.821929</td>\n",
       "      <td>2.352163</td>\n",
       "      <td>5.259142</td>\n",
       "      <td>3905.416547</td>\n",
       "      <td>1.712796</td>\n",
       "      <td>5.518335</td>\n",
       "    </tr>\n",
       "    <tr>\n",
       "      <th>20</th>\n",
       "      <td>14337.900952</td>\n",
       "      <td>7.972750</td>\n",
       "      <td>6.882815</td>\n",
       "      <td>10578.048942</td>\n",
       "      <td>5.794044</td>\n",
       "      <td>11.512396</td>\n",
       "      <td>7546.070675</td>\n",
       "      <td>3.397546</td>\n",
       "      <td>10.344080</td>\n",
       "    </tr>\n",
       "    <tr>\n",
       "      <th>21</th>\n",
       "      <td>9888.608355</td>\n",
       "      <td>5.830597</td>\n",
       "      <td>5.322981</td>\n",
       "      <td>13672.136212</td>\n",
       "      <td>7.593183</td>\n",
       "      <td>14.259483</td>\n",
       "      <td>15416.589981</td>\n",
       "      <td>7.016101</td>\n",
       "      <td>17.968743</td>\n",
       "    </tr>\n",
       "    <tr>\n",
       "      <th>22</th>\n",
       "      <td>3278.031999</td>\n",
       "      <td>1.837031</td>\n",
       "      <td>1.762617</td>\n",
       "      <td>7207.508659</td>\n",
       "      <td>4.033592</td>\n",
       "      <td>8.432660</td>\n",
       "      <td>8507.498031</td>\n",
       "      <td>3.884909</td>\n",
       "      <td>11.341165</td>\n",
       "    </tr>\n",
       "    <tr>\n",
       "      <th>23</th>\n",
       "      <td>26294.655121</td>\n",
       "      <td>15.005546</td>\n",
       "      <td>12.650231</td>\n",
       "      <td>40302.553181</td>\n",
       "      <td>22.564843</td>\n",
       "      <td>32.499082</td>\n",
       "      <td>40872.838276</td>\n",
       "      <td>18.559444</td>\n",
       "      <td>37.582296</td>\n",
       "    </tr>\n",
       "    <tr>\n",
       "      <th>24</th>\n",
       "      <td>3410.383494</td>\n",
       "      <td>1.948962</td>\n",
       "      <td>1.880788</td>\n",
       "      <td>3018.883405</td>\n",
       "      <td>1.647092</td>\n",
       "      <td>3.747431</td>\n",
       "      <td>2443.232396</td>\n",
       "      <td>1.120667</td>\n",
       "      <td>3.618110</td>\n",
       "    </tr>\n",
       "    <tr>\n",
       "      <th>25</th>\n",
       "      <td>10444.765208</td>\n",
       "      <td>5.822721</td>\n",
       "      <td>5.414432</td>\n",
       "      <td>16994.012081</td>\n",
       "      <td>9.534388</td>\n",
       "      <td>17.465938</td>\n",
       "      <td>18612.438753</td>\n",
       "      <td>8.461260</td>\n",
       "      <td>21.232016</td>\n",
       "    </tr>\n",
       "    <tr>\n",
       "      <th>26</th>\n",
       "      <td>2894.263442</td>\n",
       "      <td>1.649167</td>\n",
       "      <td>1.581248</td>\n",
       "      <td>3340.375274</td>\n",
       "      <td>1.840320</td>\n",
       "      <td>4.231302</td>\n",
       "      <td>3140.751938</td>\n",
       "      <td>1.413670</td>\n",
       "      <td>4.653699</td>\n",
       "    </tr>\n",
       "    <tr>\n",
       "      <th>27</th>\n",
       "      <td>15493.618057</td>\n",
       "      <td>8.722468</td>\n",
       "      <td>7.739020</td>\n",
       "      <td>13102.474615</td>\n",
       "      <td>7.238672</td>\n",
       "      <td>13.759530</td>\n",
       "      <td>9834.874979</td>\n",
       "      <td>4.423957</td>\n",
       "      <td>12.929713</td>\n",
       "    </tr>\n",
       "    <tr>\n",
       "      <th>28</th>\n",
       "      <td>18739.035856</td>\n",
       "      <td>10.664771</td>\n",
       "      <td>9.427923</td>\n",
       "      <td>17194.155334</td>\n",
       "      <td>9.499624</td>\n",
       "      <td>17.366929</td>\n",
       "      <td>13573.440502</td>\n",
       "      <td>6.112017</td>\n",
       "      <td>17.226218</td>\n",
       "    </tr>\n",
       "    <tr>\n",
       "      <th>29</th>\n",
       "      <td>2730.230994</td>\n",
       "      <td>1.503243</td>\n",
       "      <td>1.476791</td>\n",
       "      <td>2671.864724</td>\n",
       "      <td>1.469779</td>\n",
       "      <td>3.418997</td>\n",
       "      <td>2545.991342</td>\n",
       "      <td>1.149494</td>\n",
       "      <td>3.847855</td>\n",
       "    </tr>\n",
       "    <tr>\n",
       "      <th>...</th>\n",
       "      <td>...</td>\n",
       "      <td>...</td>\n",
       "      <td>...</td>\n",
       "      <td>...</td>\n",
       "      <td>...</td>\n",
       "      <td>...</td>\n",
       "      <td>...</td>\n",
       "      <td>...</td>\n",
       "      <td>...</td>\n",
       "    </tr>\n",
       "    <tr>\n",
       "      <th>2470</th>\n",
       "      <td>-27.454978</td>\n",
       "      <td>-0.020728</td>\n",
       "      <td>-0.022843</td>\n",
       "      <td>-72.883535</td>\n",
       "      <td>-0.034803</td>\n",
       "      <td>-0.079934</td>\n",
       "      <td>168.730645</td>\n",
       "      <td>0.020096</td>\n",
       "      <td>0.070290</td>\n",
       "    </tr>\n",
       "    <tr>\n",
       "      <th>2471</th>\n",
       "      <td>-694.523540</td>\n",
       "      <td>-0.319913</td>\n",
       "      <td>-0.349535</td>\n",
       "      <td>-51.868740</td>\n",
       "      <td>-0.023938</td>\n",
       "      <td>-0.055401</td>\n",
       "      <td>-227.317836</td>\n",
       "      <td>-0.082581</td>\n",
       "      <td>-0.270685</td>\n",
       "    </tr>\n",
       "    <tr>\n",
       "      <th>2472</th>\n",
       "      <td>-462.829687</td>\n",
       "      <td>-0.237206</td>\n",
       "      <td>-0.261696</td>\n",
       "      <td>-163.390934</td>\n",
       "      <td>-0.102928</td>\n",
       "      <td>-0.225099</td>\n",
       "      <td>89.348052</td>\n",
       "      <td>0.031355</td>\n",
       "      <td>0.098592</td>\n",
       "    </tr>\n",
       "    <tr>\n",
       "      <th>2473</th>\n",
       "      <td>777.447366</td>\n",
       "      <td>0.421761</td>\n",
       "      <td>0.543517</td>\n",
       "      <td>159.781383</td>\n",
       "      <td>0.094017</td>\n",
       "      <td>0.235038</td>\n",
       "      <td>466.995851</td>\n",
       "      <td>0.175472</td>\n",
       "      <td>0.716023</td>\n",
       "    </tr>\n",
       "    <tr>\n",
       "      <th>2474</th>\n",
       "      <td>360.121233</td>\n",
       "      <td>0.183990</td>\n",
       "      <td>0.231875</td>\n",
       "      <td>80.900428</td>\n",
       "      <td>0.033943</td>\n",
       "      <td>0.079170</td>\n",
       "      <td>314.964422</td>\n",
       "      <td>0.103616</td>\n",
       "      <td>0.369099</td>\n",
       "    </tr>\n",
       "    <tr>\n",
       "      <th>2475</th>\n",
       "      <td>255.485560</td>\n",
       "      <td>0.112646</td>\n",
       "      <td>0.148306</td>\n",
       "      <td>89.029758</td>\n",
       "      <td>0.047591</td>\n",
       "      <td>0.123334</td>\n",
       "      <td>-13.578901</td>\n",
       "      <td>-0.004749</td>\n",
       "      <td>-0.018452</td>\n",
       "    </tr>\n",
       "    <tr>\n",
       "      <th>2476</th>\n",
       "      <td>272.471990</td>\n",
       "      <td>0.181289</td>\n",
       "      <td>0.204966</td>\n",
       "      <td>298.669323</td>\n",
       "      <td>0.158073</td>\n",
       "      <td>0.378438</td>\n",
       "      <td>157.347279</td>\n",
       "      <td>0.096975</td>\n",
       "      <td>0.369399</td>\n",
       "    </tr>\n",
       "    <tr>\n",
       "      <th>2477</th>\n",
       "      <td>195.990947</td>\n",
       "      <td>0.148653</td>\n",
       "      <td>0.167413</td>\n",
       "      <td>303.623937</td>\n",
       "      <td>0.160923</td>\n",
       "      <td>0.370076</td>\n",
       "      <td>64.863831</td>\n",
       "      <td>0.065602</td>\n",
       "      <td>0.259329</td>\n",
       "    </tr>\n",
       "    <tr>\n",
       "      <th>2478</th>\n",
       "      <td>-110.864293</td>\n",
       "      <td>-0.043902</td>\n",
       "      <td>-0.054669</td>\n",
       "      <td>216.950735</td>\n",
       "      <td>0.110422</td>\n",
       "      <td>0.252053</td>\n",
       "      <td>100.150868</td>\n",
       "      <td>0.052865</td>\n",
       "      <td>0.199319</td>\n",
       "    </tr>\n",
       "    <tr>\n",
       "      <th>2479</th>\n",
       "      <td>329.351315</td>\n",
       "      <td>0.144564</td>\n",
       "      <td>0.203063</td>\n",
       "      <td>168.539004</td>\n",
       "      <td>0.098104</td>\n",
       "      <td>0.258182</td>\n",
       "      <td>126.758957</td>\n",
       "      <td>0.039284</td>\n",
       "      <td>0.155654</td>\n",
       "    </tr>\n",
       "    <tr>\n",
       "      <th>2480</th>\n",
       "      <td>184.531850</td>\n",
       "      <td>0.116825</td>\n",
       "      <td>0.133596</td>\n",
       "      <td>179.578106</td>\n",
       "      <td>0.090900</td>\n",
       "      <td>0.212797</td>\n",
       "      <td>-14.159028</td>\n",
       "      <td>-0.022657</td>\n",
       "      <td>-0.084838</td>\n",
       "    </tr>\n",
       "    <tr>\n",
       "      <th>2481</th>\n",
       "      <td>27.692535</td>\n",
       "      <td>0.021391</td>\n",
       "      <td>0.029124</td>\n",
       "      <td>126.277387</td>\n",
       "      <td>0.085987</td>\n",
       "      <td>0.213871</td>\n",
       "      <td>223.940018</td>\n",
       "      <td>0.085139</td>\n",
       "      <td>0.333751</td>\n",
       "    </tr>\n",
       "    <tr>\n",
       "      <th>2482</th>\n",
       "      <td>89.049304</td>\n",
       "      <td>0.097912</td>\n",
       "      <td>0.118450</td>\n",
       "      <td>195.664344</td>\n",
       "      <td>0.103818</td>\n",
       "      <td>0.277028</td>\n",
       "      <td>-150.634311</td>\n",
       "      <td>-0.053160</td>\n",
       "      <td>-0.201548</td>\n",
       "    </tr>\n",
       "    <tr>\n",
       "      <th>2483</th>\n",
       "      <td>90.373812</td>\n",
       "      <td>0.059093</td>\n",
       "      <td>0.073781</td>\n",
       "      <td>137.405801</td>\n",
       "      <td>0.083624</td>\n",
       "      <td>0.211329</td>\n",
       "      <td>-325.475717</td>\n",
       "      <td>-0.118412</td>\n",
       "      <td>-0.460110</td>\n",
       "    </tr>\n",
       "    <tr>\n",
       "      <th>2484</th>\n",
       "      <td>167.417516</td>\n",
       "      <td>0.065980</td>\n",
       "      <td>0.075974</td>\n",
       "      <td>127.350477</td>\n",
       "      <td>0.067517</td>\n",
       "      <td>0.177107</td>\n",
       "      <td>-121.592831</td>\n",
       "      <td>-0.058596</td>\n",
       "      <td>-0.220845</td>\n",
       "    </tr>\n",
       "    <tr>\n",
       "      <th>2485</th>\n",
       "      <td>135.354632</td>\n",
       "      <td>0.043181</td>\n",
       "      <td>0.052333</td>\n",
       "      <td>336.610442</td>\n",
       "      <td>0.160286</td>\n",
       "      <td>0.427747</td>\n",
       "      <td>61.150057</td>\n",
       "      <td>-0.010691</td>\n",
       "      <td>-0.039917</td>\n",
       "    </tr>\n",
       "    <tr>\n",
       "      <th>2486</th>\n",
       "      <td>48.161885</td>\n",
       "      <td>0.042922</td>\n",
       "      <td>0.054061</td>\n",
       "      <td>-155.336669</td>\n",
       "      <td>-0.087324</td>\n",
       "      <td>-0.210126</td>\n",
       "      <td>67.368526</td>\n",
       "      <td>0.010251</td>\n",
       "      <td>0.037808</td>\n",
       "    </tr>\n",
       "    <tr>\n",
       "      <th>2487</th>\n",
       "      <td>368.229414</td>\n",
       "      <td>0.204181</td>\n",
       "      <td>0.240473</td>\n",
       "      <td>144.340982</td>\n",
       "      <td>0.067548</td>\n",
       "      <td>0.177481</td>\n",
       "      <td>-199.258569</td>\n",
       "      <td>-0.054875</td>\n",
       "      <td>-0.203535</td>\n",
       "    </tr>\n",
       "    <tr>\n",
       "      <th>2488</th>\n",
       "      <td>638.782319</td>\n",
       "      <td>0.311691</td>\n",
       "      <td>0.378425</td>\n",
       "      <td>249.343166</td>\n",
       "      <td>0.129352</td>\n",
       "      <td>0.305113</td>\n",
       "      <td>40.913259</td>\n",
       "      <td>0.031631</td>\n",
       "      <td>0.115931</td>\n",
       "    </tr>\n",
       "    <tr>\n",
       "      <th>2489</th>\n",
       "      <td>-689.288537</td>\n",
       "      <td>-0.305968</td>\n",
       "      <td>-0.381369</td>\n",
       "      <td>-43.051355</td>\n",
       "      <td>-0.023688</td>\n",
       "      <td>-0.057968</td>\n",
       "      <td>-205.446279</td>\n",
       "      <td>-0.095284</td>\n",
       "      <td>-0.348802</td>\n",
       "    </tr>\n",
       "    <tr>\n",
       "      <th>2490</th>\n",
       "      <td>424.265976</td>\n",
       "      <td>0.243482</td>\n",
       "      <td>0.334222</td>\n",
       "      <td>-45.371007</td>\n",
       "      <td>-0.011981</td>\n",
       "      <td>-0.031673</td>\n",
       "      <td>17.823158</td>\n",
       "      <td>0.018967</td>\n",
       "      <td>0.074157</td>\n",
       "    </tr>\n",
       "    <tr>\n",
       "      <th>2491</th>\n",
       "      <td>168.261834</td>\n",
       "      <td>0.119807</td>\n",
       "      <td>0.142891</td>\n",
       "      <td>238.030662</td>\n",
       "      <td>0.111777</td>\n",
       "      <td>0.277886</td>\n",
       "      <td>92.092431</td>\n",
       "      <td>0.042585</td>\n",
       "      <td>0.162443</td>\n",
       "    </tr>\n",
       "    <tr>\n",
       "      <th>2492</th>\n",
       "      <td>-7.754313</td>\n",
       "      <td>0.007075</td>\n",
       "      <td>0.008550</td>\n",
       "      <td>160.841160</td>\n",
       "      <td>0.089122</td>\n",
       "      <td>0.215348</td>\n",
       "      <td>232.810438</td>\n",
       "      <td>0.120109</td>\n",
       "      <td>0.437450</td>\n",
       "    </tr>\n",
       "    <tr>\n",
       "      <th>2493</th>\n",
       "      <td>-72.817336</td>\n",
       "      <td>-0.038356</td>\n",
       "      <td>-0.048695</td>\n",
       "      <td>191.547240</td>\n",
       "      <td>0.081131</td>\n",
       "      <td>0.198942</td>\n",
       "      <td>69.237856</td>\n",
       "      <td>0.034893</td>\n",
       "      <td>0.127805</td>\n",
       "    </tr>\n",
       "    <tr>\n",
       "      <th>2494</th>\n",
       "      <td>270.216229</td>\n",
       "      <td>0.127029</td>\n",
       "      <td>0.165396</td>\n",
       "      <td>227.740355</td>\n",
       "      <td>0.122361</td>\n",
       "      <td>0.302926</td>\n",
       "      <td>369.486074</td>\n",
       "      <td>0.131362</td>\n",
       "      <td>0.511556</td>\n",
       "    </tr>\n",
       "    <tr>\n",
       "      <th>2495</th>\n",
       "      <td>335.192348</td>\n",
       "      <td>0.153179</td>\n",
       "      <td>0.178572</td>\n",
       "      <td>148.186739</td>\n",
       "      <td>0.074741</td>\n",
       "      <td>0.193221</td>\n",
       "      <td>-78.055121</td>\n",
       "      <td>-0.044654</td>\n",
       "      <td>-0.176168</td>\n",
       "    </tr>\n",
       "    <tr>\n",
       "      <th>2496</th>\n",
       "      <td>572.770975</td>\n",
       "      <td>0.318859</td>\n",
       "      <td>0.427548</td>\n",
       "      <td>172.501520</td>\n",
       "      <td>0.099206</td>\n",
       "      <td>0.268187</td>\n",
       "      <td>202.884261</td>\n",
       "      <td>0.057692</td>\n",
       "      <td>0.235382</td>\n",
       "    </tr>\n",
       "    <tr>\n",
       "      <th>2497</th>\n",
       "      <td>589.462064</td>\n",
       "      <td>0.306627</td>\n",
       "      <td>0.403285</td>\n",
       "      <td>92.990160</td>\n",
       "      <td>0.058093</td>\n",
       "      <td>0.145237</td>\n",
       "      <td>220.285218</td>\n",
       "      <td>0.088697</td>\n",
       "      <td>0.344677</td>\n",
       "    </tr>\n",
       "    <tr>\n",
       "      <th>2498</th>\n",
       "      <td>273.204882</td>\n",
       "      <td>0.135909</td>\n",
       "      <td>0.157155</td>\n",
       "      <td>175.117380</td>\n",
       "      <td>0.087719</td>\n",
       "      <td>0.228263</td>\n",
       "      <td>81.652895</td>\n",
       "      <td>0.026771</td>\n",
       "      <td>0.097848</td>\n",
       "    </tr>\n",
       "    <tr>\n",
       "      <th>2499</th>\n",
       "      <td>283.591648</td>\n",
       "      <td>0.158341</td>\n",
       "      <td>0.192632</td>\n",
       "      <td>188.694929</td>\n",
       "      <td>0.098754</td>\n",
       "      <td>0.243915</td>\n",
       "      <td>-39.534160</td>\n",
       "      <td>-0.036396</td>\n",
       "      <td>-0.151722</td>\n",
       "    </tr>\n",
       "  </tbody>\n",
       "</table>\n",
       "<p>2500 rows × 9 columns</p>\n",
       "</div>"
      ],
      "text/plain": [
       "      INTEG_COADD_FLUX_B  MEDIAN_COADD_FLUX_B  MEDIAN_COADD_SNR_B  \\\n",
       "0           63245.573888            35.593666           23.481717   \n",
       "1              59.592747             0.051621            0.053899   \n",
       "2             -69.496764            -0.025950           -0.024823   \n",
       "3            5496.852738             3.047041            2.994275   \n",
       "4           16621.289906             9.336838            8.105087   \n",
       "...                  ...                  ...                 ...   \n",
       "2495          335.192348             0.153179            0.178572   \n",
       "2496          572.770975             0.318859            0.427548   \n",
       "2497          589.462064             0.306627            0.403285   \n",
       "2498          273.204882             0.135909            0.157155   \n",
       "2499          283.591648             0.158341            0.192632   \n",
       "\n",
       "      INTEG_COADD_FLUX_R  MEDIAN_COADD_FLUX_R  MEDIAN_COADD_SNR_R  \\\n",
       "0           54582.752899            30.320358           37.362873   \n",
       "1            -193.442356            -0.094147           -0.226977   \n",
       "2             -22.225460            -0.010948           -0.020016   \n",
       "3           12677.037909             7.008467           14.019584   \n",
       "4           14610.418085             8.023841           15.487834   \n",
       "...                  ...                  ...                 ...   \n",
       "2495          148.186739             0.074741            0.193221   \n",
       "2496          172.501520             0.099206            0.268187   \n",
       "2497           92.990160             0.058093            0.145237   \n",
       "2498          175.117380             0.087719            0.228263   \n",
       "2499          188.694929             0.098754            0.243915   \n",
       "\n",
       "      INTEG_COADD_FLUX_Z  MEDIAN_COADD_FLUX_Z  MEDIAN_COADD_SNR_Z  \n",
       "0           40059.545613            18.020700           36.177996  \n",
       "1              81.497804             0.040732            0.139463  \n",
       "2             -30.531030            -0.020095           -0.066944  \n",
       "3           19235.417278             8.772165           22.221361  \n",
       "4           11318.961664             5.098507           15.064162  \n",
       "...                  ...                  ...                 ...  \n",
       "2495          -78.055121            -0.044654           -0.176168  \n",
       "2496          202.884261             0.057692            0.235382  \n",
       "2497          220.285218             0.088697            0.344677  \n",
       "2498           81.652895             0.026771            0.097848  \n",
       "2499          -39.534160            -0.036396           -0.151722  \n",
       "\n",
       "[2500 rows x 9 columns]"
      ]
     },
     "execution_count": 129,
     "metadata": {},
     "output_type": "execute_result"
    }
   ],
   "source": [
    "ascores"
   ]
  },
  {
   "cell_type": "markdown",
   "metadata": {},
   "source": [
    "##  Sort COADDS by TARGETID and keep those with NO FIBER REACH ERROR."
   ]
  },
  {
   "cell_type": "code",
   "execution_count": 130,
   "metadata": {},
   "outputs": [],
   "source": [
    "inds             = np.argsort(acoadds['TARGETID'])"
   ]
  },
  {
   "cell_type": "code",
   "execution_count": 131,
   "metadata": {},
   "outputs": [],
   "source": [
    "acoadds          = acoadds[inds]\n",
    "azbests          = azbests[inds]\n",
    "\n",
    "acoadds_flux     = acoadds_flux[inds]\n",
    "acoadds_mask     = acoadds_mask[inds]\n",
    "\n",
    "ascores          = pd.DataFrame(ascores.to_numpy()[inds,:], columns=names)\n",
    "\n",
    "# acoadds_bsnr   = acoadds_bsnr[inds]\n",
    "# acoadds_rsnr   = acoadds_rsnr[inds]\n",
    "# acoadds_zsnr   = acoadds_zsnr[inds]\n",
    "# acoadds_tsnr   = acoadds_tsnr[inds]"
   ]
  },
  {
   "cell_type": "code",
   "execution_count": 132,
   "metadata": {},
   "outputs": [],
   "source": [
    "assert  len(acoadds) == len(azbests)"
   ]
  },
  {
   "cell_type": "code",
   "execution_count": 133,
   "metadata": {},
   "outputs": [
    {
     "data": {
      "text/plain": [
       "2500"
      ]
     },
     "execution_count": 133,
     "metadata": {},
     "output_type": "execute_result"
    }
   ],
   "source": [
    "len(acoadds['TARGETID'])"
   ]
  },
  {
   "cell_type": "code",
   "execution_count": 134,
   "metadata": {},
   "outputs": [],
   "source": [
    "# tids is the list of target ids assigned (not all reduced given scattered light on some petals). \n",
    "in_coadd       = [x in acoadds['TARGETID'] for x in tids]"
   ]
  },
  {
   "cell_type": "code",
   "execution_count": 135,
   "metadata": {},
   "outputs": [
    {
     "data": {
      "text/plain": [
       "(2500, 2126)"
      ]
     },
     "execution_count": 135,
     "metadata": {},
     "output_type": "execute_result"
    }
   ],
   "source": [
    "np.count_nonzero(in_coadd), np.count_nonzero(isgood[in_coadd])"
   ]
  },
  {
   "cell_type": "code",
   "execution_count": 136,
   "metadata": {},
   "outputs": [],
   "source": [
    "tids           =   tids[in_coadd]\n",
    "isgood         = isgood[in_coadd]"
   ]
  },
  {
   "cell_type": "code",
   "execution_count": 137,
   "metadata": {},
   "outputs": [
    {
     "data": {
      "text/plain": [
       "(2500, 2500, 2500, 2126)"
      ]
     },
     "execution_count": 137,
     "metadata": {},
     "output_type": "execute_result"
    }
   ],
   "source": [
    "len(tids), len(azbests), len(acoadds), np.count_nonzero(isgood)"
   ]
  },
  {
   "cell_type": "code",
   "execution_count": 138,
   "metadata": {},
   "outputs": [],
   "source": [
    "assert  np.all(tids == acoadds['TARGETID'])"
   ]
  },
  {
   "cell_type": "markdown",
   "metadata": {},
   "source": [
    "##  Get sky fibers"
   ]
  },
  {
   "cell_type": "code",
   "execution_count": 139,
   "metadata": {},
   "outputs": [
    {
     "data": {
      "text/plain": [
       "478"
      ]
     },
     "execution_count": 139,
     "metadata": {},
     "output_type": "execute_result"
    }
   ],
   "source": [
    "SKIES          = (acoadds['DESI_TARGET'] & targetmask.desi_mask.mask('SKY')) != 0\n",
    "np.count_nonzero(SKIES)"
   ]
  },
  {
   "cell_type": "code",
   "execution_count": 140,
   "metadata": {},
   "outputs": [
    {
     "data": {
      "text/plain": [
       "(478, 7781)"
      ]
     },
     "execution_count": 140,
     "metadata": {},
     "output_type": "execute_result"
    }
   ],
   "source": [
    "skies_acoadds_flux = acoadds_flux[SKIES]\n",
    "skies_acoadds_flux.shape"
   ]
  },
  {
   "cell_type": "raw",
   "metadata": {},
   "source": [
    "plt.rcParams['figure.figsize'] = [20, 10]\n",
    "\n",
    "pl.semilogy(wave, np.abs(np.mean(skies_acoadds_flux, axis=0)), lw=0.2, c='k')\n",
    "pl.xlabel('Angstroms', fontsize=14)\n",
    "pl.title('Mean coadded sky', fontsize=18)\n",
    "pl.ylim(bottom=1.e-3)"
   ]
  },
  {
   "cell_type": "markdown",
   "metadata": {},
   "source": [
    "##  Keep BGS targets only, distinguishing between MAIN_BRIGHT and SV0 "
   ]
  },
  {
   "cell_type": "code",
   "execution_count": 141,
   "metadata": {},
   "outputs": [],
   "source": [
    "IS_MSV_BRIGHT  = (acoadds['CMX_TARGET'] & cmx_targetmask.cmx_mask.mask('MINI_SV_BGS_BRIGHT')) != 0\n",
    "IS_SV0         = (acoadds['CMX_TARGET'] & cmx_targetmask.cmx_mask.mask('SV0_BGS')) != 0\n",
    "\n",
    "IS_BGS         = IS_MSV_BRIGHT | IS_SV0 \n",
    "IS_GOOD_BGS    = IS_BGS & isgood\n",
    "\n",
    "IS_GOOD_BGS    = IS_GOOD_BGS.astype(bool)\n",
    "IS_ZGOOD_BGS   = IS_GOOD_BGS & (azbests['ZWARN'] == 0) & (azbests['SPECTYPE'] == b'GALAXY') & (azbests['ZERR'] < 0.0005 * (1. + azbests['Z']))\n",
    "\n",
    "IS_BGS_STAR    = IS_GOOD_BGS & (azbests['ZWARN'] == 0) & (azbests['SPECTYPE'] == b'STAR')\n",
    "\n",
    "IS_MSV_BRIGHT  = IS_MSV_BRIGHT[IS_ZGOOD_BGS]\n",
    "IS_SV0         =        IS_SV0[IS_ZGOOD_BGS]"
   ]
  },
  {
   "cell_type": "markdown",
   "metadata": {},
   "source": [
    "##  N BGS TARGETS, WITH NO FIBER ERROR, AND GOOD Z, OF TYPE MAIN BRIGHT, OF TYPE SV0"
   ]
  },
  {
   "cell_type": "code",
   "execution_count": 142,
   "metadata": {},
   "outputs": [
    {
     "data": {
      "text/plain": [
       "(1484, 1273, 1242, 736, 1242, 11)"
      ]
     },
     "execution_count": 142,
     "metadata": {},
     "output_type": "execute_result"
    }
   ],
   "source": [
    "np.count_nonzero(IS_BGS), np.count_nonzero(IS_GOOD_BGS), np.count_nonzero(IS_ZGOOD_BGS), np.count_nonzero(IS_MSV_BRIGHT), np.count_nonzero(IS_SV0), np.count_nonzero(IS_BGS_STAR)"
   ]
  },
  {
   "cell_type": "code",
   "execution_count": 185,
   "metadata": {},
   "outputs": [
    {
     "data": {
      "text/plain": [
       "(1261, 2500)"
      ]
     },
     "execution_count": 185,
     "metadata": {},
     "output_type": "execute_result"
    }
   ],
   "source": [
    "np.count_nonzero(IS_GOOD_BGS & (azbests['ZWARN'] == 0)), len(IS_GOOD_BGS)"
   ]
  },
  {
   "cell_type": "code",
   "execution_count": 152,
   "metadata": {},
   "outputs": [],
   "source": [
    "bgs_ascores      =      ascores[IS_ZGOOD_BGS]\n",
    "bgs_acoadds      =      acoadds[IS_ZGOOD_BGS]\n",
    "bgs_azbests      =      azbests[IS_ZGOOD_BGS]\n",
    "bgs_acoadds_res  =  acoadds_res[IS_ZGOOD_BGS]\n",
    "bgs_acoadds_flux = acoadds_flux[IS_ZGOOD_BGS]\n",
    "bgs_acoadds_mask = acoadds_mask[IS_ZGOOD_BGS]\n",
    "\n",
    "# bgs_acoadds_bsnr = acoadds_bsnr[IS_ZGOOD_BGS]\n",
    "# bgs_acoadds_rsnr = acoadds_rsnr[IS_ZGOOD_BGS]\n",
    "# bgs_acoadds_zsnr = acoadds_zsnr[IS_ZGOOD_BGS]\n",
    "# bgs_acoadds_tsnr = acoadds_tsnr[IS_ZGOOD_BGS]"
   ]
  },
  {
   "cell_type": "raw",
   "metadata": {},
   "source": [
    "get_dr7cutout(bgs_acoadds['TARGET_RA'][0:15], bgs_acoadds['TARGET_DEC'][0:15])"
   ]
  },
  {
   "cell_type": "code",
   "execution_count": 144,
   "metadata": {},
   "outputs": [],
   "source": [
    "# len(bgs_acoadds), len(bgs_azbests)"
   ]
  },
  {
   "cell_type": "code",
   "execution_count": 145,
   "metadata": {},
   "outputs": [],
   "source": [
    "bgs_azbests                    = Table(bgs_azbests)\n",
    "\n",
    "bgs_azbests['IS_SV0']          = IS_SV0\n",
    "bgs_azbests['IS_MSV_BRIGHT']   = IS_MSV_BRIGHT"
   ]
  },
  {
   "cell_type": "code",
   "execution_count": 146,
   "metadata": {},
   "outputs": [],
   "source": [
    "# len(bgs_azbests), np.count_nonzero(bgs_azbests['ZWARN'] > 0)"
   ]
  },
  {
   "cell_type": "code",
   "execution_count": 147,
   "metadata": {},
   "outputs": [],
   "source": [
    "bgs_acoadds                    = Table(bgs_acoadds)\n",
    "\n",
    "bgs_acoadds['IS_SV0']          = IS_SV0\n",
    "bgs_acoadds['IS_MSV_BRIGHT']   = IS_MSV_BRIGHT"
   ]
  },
  {
   "cell_type": "code",
   "execution_count": 148,
   "metadata": {},
   "outputs": [
    {
     "data": {
      "text/plain": [
       "<matplotlib.legend.Legend at 0x2aab55423a58>"
      ]
     },
     "execution_count": 148,
     "metadata": {},
     "output_type": "execute_result"
    },
    {
     "data": {
      "image/png": "[encoded data removed]",
      "text/plain": [
       "<matplotlib.figure.Figure at 0x2aab839cfac8>"
      ]
     },
     "metadata": {
      "needs_background": "light"
     },
     "output_type": "display_data"
    }
   ],
   "source": [
    "plt.rcParams['figure.figsize'] = [10, 10]\n",
    "\n",
    "pl.plot(bgs_acoadds['TARGET_RA'][IS_SV0],        bgs_acoadds['TARGET_DEC'][IS_SV0], '.', c='gold', label='SV0')\n",
    "pl.plot(bgs_acoadds['TARGET_RA'][IS_MSV_BRIGHT], bgs_acoadds['TARGET_DEC'][IS_MSV_BRIGHT], '.', c='r', label='Main Bright')\n",
    "\n",
    "pl.legend(loc=2, frameon=False, fontsize=16)"
   ]
  },
  {
   "cell_type": "code",
   "execution_count": 182,
   "metadata": {},
   "outputs": [
    {
     "data": {
      "image/png": "[encoded data removed]",
      "text/plain": [
       "<matplotlib.figure.Figure at 0x2aab59197780>"
      ]
     },
     "metadata": {
      "needs_background": "light"
     },
     "output_type": "display_data"
    }
   ],
   "source": [
    "plt.rcParams['figure.figsize'] = [7, 7]\n",
    "\n",
    "_ = pl.hist(bgs_azbests['Z'], bins=np.arange(0.0, 2.0, 0.025))\n",
    "\n",
    "pl.xlabel(r'$z$', fontsize=12)\n",
    "pl.ylabel(r'$\\Delta N \\ for \\ \\Delta z = 0.025$', fontsize=12)\n",
    "\n",
    "pl.yscale('log')"
   ]
  },
  {
   "cell_type": "markdown",
   "metadata": {},
   "source": [
    "##  What determines redshift success?"
   ]
  },
  {
   "cell_type": "code",
   "execution_count": 172,
   "metadata": {},
   "outputs": [
    {
     "data": {
      "text/plain": [
       "Text(0,0.5,'$\\\\Delta \\\\chi^2$')"
      ]
     },
     "execution_count": 172,
     "metadata": {},
     "output_type": "execute_result"
    },
    {
     "data": {
      "image/png": "[encoded data removed]",
      "text/plain": [
       "<matplotlib.figure.Figure at 0x2aab5ebac160>"
      ]
     },
     "metadata": {
      "needs_background": "light"
     },
     "output_type": "display_data"
    }
   ],
   "source": [
    "fig, axes        = plt.subplots(1, 1, figsize=(7, 7)) \n",
    "\n",
    "bgs_acoadds_bsnr = bgs_ascores['MEDIAN_COADD_SNR_B']\n",
    "bgs_acoadds_rsnr = bgs_ascores['MEDIAN_COADD_SNR_R']\n",
    "bgs_acoadds_zsnr = bgs_ascores['MEDIAN_COADD_SNR_Z']\n",
    "\n",
    "for i, (b, c, band) in enumerate(zip([bgs_acoadds_zsnr, bgs_acoadds_rsnr, bgs_acoadds_bsnr], ['g', 'r', 'k'], ['z', 'r', 'b'])):\n",
    "  axes.semilogy(b, bgs_azbests['DELTACHI2'], marker='.', lw=0.0, markersize=2, c=c, alpha=0.5, label=band)\n",
    "\n",
    "axes.legend(frameon=False, fontsize=16, loc=4)\n",
    "\n",
    "axes.set_xlim(0., 60.)\n",
    "\n",
    "axes.set_xlabel(r'Median band SNR', fontsize=16)\n",
    "axes.set_ylabel(r'$\\Delta \\chi^2$', fontsize=16)"
   ]
  },
  {
   "cell_type": "markdown",
   "metadata": {},
   "source": [
    "##  Example of coadded flux"
   ]
  },
  {
   "cell_type": "code",
   "execution_count": null,
   "metadata": {},
   "outputs": [],
   "source": [
    "def bestfit_compare(i, ax, zbests, coadds_flux):\n",
    "    zbest    = Table(zbests)[i]\n",
    "\n",
    "    z        = zbest['Z']\n",
    "    zerr     = zbest['ZERR']\n",
    "    dchi2    = zbest['DELTACHI2']\n",
    "    zwarn    = zbest['ZWARN']\n",
    "    targetid = zbest['TARGETID']\n",
    "    spectype = zbest['SPECTYPE'].strip()\n",
    "    subtype  = zbest['SUBTYPE'].strip()\n",
    "\n",
    "    fulltype = (spectype, subtype)\n",
    "\n",
    "    ncoeff   = templates[fulltype].flux.shape[0]\n",
    "    coeff    = zbest['COEFF'][0:ncoeff]\n",
    "\n",
    "    tflux    = templates[fulltype].flux.T.dot(coeff)\n",
    "    twave    = templates[fulltype].wave * (1. + z)\n",
    "\n",
    "    # R      = Resolution(res)\n",
    "    # txflux = R.dot(resample_flux(wave, twave, tflux))\n",
    "    \n",
    "    ax.plot(wave, coadds_flux[i,:], lw=1.0, label='z: {} +- {} (ZWARN == {}, SPECTYPE={}, SUBTYPE={}, $\\Delta \\chi^2$ = {})'.format(z, zerr, zwarn, spectype, subtype, dchi2))\n",
    "    ax.plot(twave + 5.,            tflux, lw=1.0)\n",
    "    # ax.plot( wave,              txflux, lw=1.0)\n",
    "\n",
    "    ax.legend(loc=2, frameon=False)\n",
    "    \n",
    "    ax.set_xlim(3500., 10000.)\n",
    "    ax.set_ylim(bottom = -2.5)"
   ]
  },
  {
   "cell_type": "raw",
   "metadata": {},
   "source": [
    "nspec     = 5\n",
    "fig, axes = plt.subplots(nspec, figsize=(20, nspec * 5))\n",
    "\n",
    "best      = np.argsort(bgs_azbests['DELTACHI2'])[::-1]\n",
    "isin      = bgs_azbests['DELTACHI2'][best] < 100.\n",
    "\n",
    "for i in range(nspec):\n",
    "  #  [best][isin]\n",
    "  bestfit_compare(i, axes[i], bgs_azbests, bgs_acoadds_flux)\n",
    "\n",
    "for ax in fig.get_axes():\n",
    "    ax.label_outer()"
   ]
  },
  {
   "cell_type": "markdown",
   "metadata": {},
   "source": [
    "##  Match to G12"
   ]
  },
  {
   "cell_type": "code",
   "execution_count": null,
   "metadata": {},
   "outputs": [],
   "source": [
    "# Matching\n",
    "def matches(bgs_acoadds, spec, _RA='RA', _DEC='DEC'):\n",
    "  c              = SkyCoord(ra=bgs_acoadds['TARGET_RA']*u.degree, dec=bgs_acoadds['TARGET_DEC']*u.degree)\n",
    "  catalog        = SkyCoord(ra=spec[_RA]*u.degree, dec=spec[_DEC]*u.degree)\n",
    "\n",
    "  idx, d2d, d3d  = c.match_to_catalog_sky(catalog)\n",
    "\n",
    "  max_sep        = 1.0 * u.arcsec\n",
    "\n",
    "  sep_constraint = d2d < max_sep\n",
    "\n",
    "  c              = c[sep_constraint]\n",
    "\n",
    "  _matches       = catalog[idx[sep_constraint]]\n",
    "\n",
    "  coadd_matches  = bgs_acoadds[sep_constraint]\n",
    "  flux_matches   = bgs_acoadds_flux[sep_constraint]\n",
    "  mask_matches   = bgs_acoadds_mask[sep_constraint]\n",
    "  zbest_matches  = bgs_azbests[sep_constraint] \n",
    "  spec_matches   =     spec[idx[sep_constraint]]\n",
    "    \n",
    "  return  coadd_matches, zbest_matches, spec_matches, flux_matches, mask_matches"
   ]
  },
  {
   "cell_type": "code",
   "execution_count": null,
   "metadata": {},
   "outputs": [],
   "source": [
    "gcoadd_matches, gzbest_matches, gama_matches, gflux_matches, gmask_matches =  matches(bgs_acoadds, G12)"
   ]
  },
  {
   "cell_type": "code",
   "execution_count": null,
   "metadata": {},
   "outputs": [],
   "source": [
    "# Sanity check\n",
    "# dra, ddec      = c.spherical_offsets_to(_matches)"
   ]
  },
  {
   "cell_type": "code",
   "execution_count": null,
   "metadata": {},
   "outputs": [],
   "source": [
    "#dra.arcsec, ddec.arcsec"
   ]
  },
  {
   "cell_type": "code",
   "execution_count": null,
   "metadata": {},
   "outputs": [],
   "source": [
    "len(gama_matches)"
   ]
  },
  {
   "cell_type": "code",
   "execution_count": null,
   "metadata": {},
   "outputs": [],
   "source": [
    "plt.rcParams['figure.figsize'] = [10, 10]\n",
    "\n",
    "_ = np.arange(0.0, 1.0, 0.1)\n",
    "\n",
    "pl.plot(_, _, 'k-', lw=0.1)\n",
    "\n",
    "pl.plot(gama_matches['Z'][gzbest_matches['IS_SV0'] == True],        gzbest_matches['Z'][gzbest_matches['IS_SV0'] == True], '.', c='r', label='SV0')\n",
    "pl.plot(gama_matches['Z'][gzbest_matches['IS_MSV_BRIGHT'] == True], gzbest_matches['Z'][gzbest_matches['IS_MSV_BRIGHT'] == True], '.', c='g', label='BRIGHT')\n",
    "\n",
    "pl.legend(loc=1)\n",
    "\n",
    "pl.xlabel('G12 $z$', fontsize=12)\n",
    "pl.ylabel('rr $z$', fontsize=12) "
   ]
  },
  {
   "cell_type": "code",
   "execution_count": null,
   "metadata": {},
   "outputs": [],
   "source": [
    "list(gzbest_matches['TARGETID'][gzbest_matches['Z'] > 0.8])"
   ]
  },
  {
   "cell_type": "code",
   "execution_count": null,
   "metadata": {},
   "outputs": [],
   "source": [
    "list(gzbest_matches['TARGETID'][(gzbest_matches['Z'] > 0.2) & (gama_matches['Z'] < 0.1)])"
   ]
  },
  {
   "cell_type": "markdown",
   "metadata": {},
   "source": [
    "##  Match to SDSS"
   ]
  },
  {
   "cell_type": "code",
   "execution_count": null,
   "metadata": {},
   "outputs": [],
   "source": [
    "# Table(SDSS)"
   ]
  },
  {
   "cell_type": "code",
   "execution_count": null,
   "metadata": {},
   "outputs": [],
   "source": [
    "scoadd_matches, szbest_matches, sdss_matches, sflux_matches, smask_matches =  matches(bgs_acoadds, SDSS, _RA='PLUG_RA', _DEC='PLUG_DEC')"
   ]
  },
  {
   "cell_type": "code",
   "execution_count": null,
   "metadata": {},
   "outputs": [],
   "source": [
    "len(scoadd_matches)"
   ]
  },
  {
   "cell_type": "code",
   "execution_count": null,
   "metadata": {},
   "outputs": [],
   "source": [
    "plt.rcParams['figure.figsize'] = [10, 10]\n",
    "\n",
    "_              = np.arange(0.0, 1.0, 0.1)\n",
    "\n",
    "pl.plot(_, _, 'k-', lw=0.1)\n",
    "\n",
    "pl.plot(sdss_matches['Z'][szbest_matches['IS_SV0'] == True],        szbest_matches['Z'][szbest_matches['IS_SV0'] == True], '.', c='r', label='SV0')\n",
    "pl.plot(sdss_matches['Z'][szbest_matches['IS_MSV_BRIGHT'] == True], szbest_matches['Z'][szbest_matches['IS_MSV_BRIGHT'] == True], '.', c='g', label='BRIGHT')\n",
    "\n",
    "pl.legend(loc=1)\n",
    "\n",
    "pl.xlabel('SDSS $z$', fontsize=12)\n",
    "pl.ylabel('rr $z$', fontsize=12)"
   ]
  },
  {
   "cell_type": "code",
   "execution_count": null,
   "metadata": {},
   "outputs": [],
   "source": [
    "sample = szbest_matches[(sdss_matches['Z'] > 0.20) & (sdss_matches['Z'] < 2.2)]\n",
    "sample.sort('Z')\n",
    "sample"
   ]
  },
  {
   "cell_type": "raw",
   "metadata": {},
   "source": [
    "get_dr7cutout(scoadd_matches['TARGET_RA'][0:10], scoadd_matches['TARGET_DEC'][0:10])"
   ]
  },
  {
   "cell_type": "code",
   "execution_count": null,
   "metadata": {},
   "outputs": [],
   "source": [
    "##  len(sdss_matches)"
   ]
  },
  {
   "cell_type": "code",
   "execution_count": null,
   "metadata": {},
   "outputs": [],
   "source": [
    "##  os.system('http://legacysurvey.org/viewer/cutout.fits?ra=186.3882&dec=12.2592&layer=dr8&pixscale=1.00']"
   ]
  },
  {
   "cell_type": "code",
   "execution_count": null,
   "metadata": {},
   "outputs": [],
   "source": [
    "##  Table(sdss_matches)"
   ]
  },
  {
   "cell_type": "markdown",
   "metadata": {},
   "source": [
    "##  SDSS spectra for comparison (rr z > 1.0)"
   ]
  },
  {
   "cell_type": "code",
   "execution_count": null,
   "metadata": {},
   "outputs": [],
   "source": [
    "def get_sdss_spectra(sdss_matches):\n",
    "  waves  = []\n",
    "  bspecs = []\n",
    "  bmasks = []\n",
    "\n",
    "  for survey, plate, mjd, fiber in zip(sdss_matches['SURVEY'], sdss_matches['PLATE'], sdss_matches['MJD'], sdss_matches['FIBERID']):    \n",
    "    survey     = survey.decode('utf-8').strip()\n",
    "    exists     = False\n",
    " \n",
    "    wave       = None\n",
    "    bspec      = None\n",
    "    \n",
    "    # print('Finding {} {} {} {}'.format(survey, plate, mjd, fiber))\n",
    "\n",
    "    for _ in ['v5_10_0', '103', '104', '26']:\n",
    "      fpath    = '/project/projectdirs/cosmo/data/sdss/dr14/{}/spectro/redux/{}/spectra/{:04d}/spec-{:04d}-{}-{:04d}.fits'.format(survey, _, plate, plate, mjd,fiber)\n",
    "    \n",
    "      try:      \n",
    "        bspec  = fitsio.read(fpath)    \n",
    "        exists = True\n",
    "\n",
    "        wave   = 10. ** bspec['loglam']\n",
    "        bmask  = np.clip(bspec['and_mask'].astype(np.float), a_max=1.0, a_min=0.0)\n",
    "        bspec  = bspec['flux']\n",
    "            \n",
    "        waves.append(wave)\n",
    "        bspecs.append(bspec) \n",
    "        bmasks.append(bmask)\n",
    "        \n",
    "      except:            \n",
    "        continue\n",
    "    \n",
    "      # print('Found.')\n",
    "\n",
    "      break\n",
    "\n",
    "    if exists == False:\n",
    "      waves.append(None)\n",
    "      bspecs.append(None) \n",
    "      bmasks.append(None)\n",
    "        \n",
    "  return  waves, bspecs, bmasks"
   ]
  },
  {
   "cell_type": "code",
   "execution_count": null,
   "metadata": {},
   "outputs": [],
   "source": [
    "sdss_matches.shape"
   ]
  },
  {
   "cell_type": "code",
   "execution_count": null,
   "metadata": {},
   "outputs": [],
   "source": [
    "sdss_waves, sdss_bspecs, sdss_bmasks = get_sdss_spectra(sdss_matches)"
   ]
  },
  {
   "cell_type": "code",
   "execution_count": null,
   "metadata": {},
   "outputs": [],
   "source": [
    "len(sdss_waves)"
   ]
  },
  {
   "cell_type": "code",
   "execution_count": null,
   "metadata": {},
   "outputs": [],
   "source": [
    "# sdss_bmasks"
   ]
  },
  {
   "cell_type": "raw",
   "metadata": {},
   "source": [
    "plt.rcParams['figure.figsize'] = [20, 10]\n",
    "\n",
    "for i, w in enumerate(sdss_waves):\n",
    "  if w is not None:\n",
    "    pl.semilogy(w, sdss_bspecs[i])\n",
    "\n",
    "  if i > 1:\n",
    "    break\n",
    "    \n",
    "pl.title('SDSS SPECTRA OF BGS MATCHES')\n",
    "pl.ylim(bottom=1.)"
   ]
  },
  {
   "cell_type": "code",
   "execution_count": null,
   "metadata": {},
   "outputs": [],
   "source": [
    "len(sdss_waves), len(sdss_bspecs)"
   ]
  },
  {
   "cell_type": "code",
   "execution_count": null,
   "metadata": {},
   "outputs": [],
   "source": [
    "def sdss_compare(i, plotted, ax, zbests, coadds_flux, coadds, sdss_wave, sdss_flux, spec_matches, plot_sdss=True, plot_redrock=True, plot_desi=False, btids=[]):\n",
    "    zbest    = Table(zbests)[i]\n",
    "\n",
    "    z        = zbest['Z']\n",
    "    zerr     = zbest['ZERR']\n",
    "    dchi2    = zbest['DELTACHI2']\n",
    "    zwarn    = zbest['ZWARN']\n",
    "    targetid = zbest['TARGETID']\n",
    "    spectype = zbest['SPECTYPE'].strip()\n",
    "    subtype  = zbest['SUBTYPE'].strip()\n",
    "\n",
    "    fulltype = (spectype, subtype)\n",
    "\n",
    "    ncoeff   = templates[fulltype].flux.shape[0]\n",
    "    coeff    = zbest['COEFF'][0:ncoeff]\n",
    "\n",
    "    tflux    = templates[fulltype].flux.T.dot(coeff)\n",
    "    twave    = templates[fulltype].wave * (1. + z)\n",
    "\n",
    "    if (len(btids) > 0) & (targetid not in btids):\n",
    "      return  plotted\n",
    "        \n",
    "    if sdss_wave[i] is not None:\n",
    "      if plot_sdss:\n",
    "        ax.plot(sdss_wave[i], sdss_flux[i], label='SDSS: {}; z: {} +- {};  Petal {}; Device Loc. {}.'.format(zbests['TARGETID'][i], spec_matches['Z'][i], spec_matches['Z_ERR'][i], coadds['PETAL_LOC'][i], coadds['DEVICE_LOC'][i]))\n",
    "\n",
    "      if plot_desi:\n",
    "        if targetid in btids:\n",
    "          ax.plot(wave, coadds_flux[i,:], lw=1.0, label='{}, z: {} +- {} (ZWARN == {}, SPECTYPE={}, SUBTYPE={}, $\\Delta \\chi^2$ = {})'.format(zbests['TARGETID'][i], z, zerr, zwarn, spectype, subtype, dchi2), c='r')\n",
    "            \n",
    "        else:\n",
    "          ax.plot(wave, coadds_flux[i,:], lw=1.0, label='{}, z: {} +- {} (ZWARN == {}, SPECTYPE={}, SUBTYPE={}, $\\Delta \\chi^2$ = {})'.format(zbests['TARGETID'][i], z, zerr, zwarn, spectype, subtype, dchi2), c='k')\n",
    "    \n",
    "      if plot_redrock:\n",
    "        ax.plot(sdss_wave[i], resample_flux(sdss_wave[i], twave, tflux), lw=1.0, c='gold', label='redrock')\n",
    "\n",
    "      plotted += 1\n",
    "        \n",
    "      ax.legend(loc=2, frameon=False)\n",
    "    \n",
    "    return  plotted"
   ]
  },
  {
   "cell_type": "raw",
   "metadata": {},
   "source": [
    "nspec       = 129\n",
    "fig, axes   = plt.subplots(nspec, figsize=(20, 500))\n",
    "\n",
    "# best      = np.argsort(bgs_azbests['DELTACHI2'])[::-1]\n",
    "# isin      = bgs_azbests['DELTACHI2'][best] < 100.\n",
    "\n",
    "plotted     = 0\n",
    "\n",
    "for i in range(nspec):\n",
    "  #  [best][isin]\n",
    "  plotted = sdss_compare(i, plotted, axes[plotted], szbest_matches, sflux_matches, scoadd_matches, sdss_waves, sdss_bspecs, sdss_matches)  \n",
    "    \n",
    "for i, ax in enumerate(fig.get_axes()):\n",
    "    ax.set_xlim(3500., 9500.)\n",
    "    ax.set_ylim(-5., 40.)    \n",
    "    \n",
    "    ax.label_outer()\n",
    "    \n",
    "    if i >= plotted:\n",
    "        ax.remove()\n",
    "        \n",
    "plt.savefig('bgs_boss.png')"
   ]
  },
  {
   "cell_type": "raw",
   "metadata": {},
   "source": [
    "nspec       = 129\n",
    "fig, axes   = plt.subplots(nspec, figsize=(20, 500))\n",
    "\n",
    "plotted     = 0\n",
    "\n",
    "for i in range(nspec):\n",
    "  plotted   = sdss_compare(i, plotted, axes[plotted], szbest_matches, sflux_matches, scoadd_matches, sdss_waves, sdss_bspecs, sdss_matches,\\\n",
    "                           plot_redrock=True, plot_sdss=False, plot_desi=True, btids=[35185754749535144])  \n",
    "    \n",
    "for i, ax in enumerate(fig.get_axes()):\n",
    "    ax.set_xlim(3500., 9500.)\n",
    "    ax.set_ylim(-5., 40.)    \n",
    "    \n",
    "    ax.label_outer()\n",
    "    \n",
    "    if i >= plotted:\n",
    "        ax.remove()\n",
    "        \n",
    "plt.savefig('bgs_desi.png')"
   ]
  },
  {
   "cell_type": "raw",
   "metadata": {},
   "source": [
    "nspec       = 129\n",
    "fig, axes   = plt.subplots(nspec, figsize=(20, 500))\n",
    "\n",
    "plotted     = 0\n",
    "\n",
    "for i in range(nspec):\n",
    "  plotted   = sdss_compare(i, plotted, axes[plotted], szbest_matches, sflux_matches, scoadd_matches, sdss_waves, sdss_bspecs, sdss_matches,\\\n",
    "                           plot_redrock=False, plot_sdss=True, plot_desi=True)  \n",
    "    \n",
    "for i, ax in enumerate(fig.get_axes()):\n",
    "    ax.set_xlim(3500., 9500.)\n",
    "    ax.set_ylim(-5., 40.)    \n",
    "    \n",
    "    ax.label_outer()\n",
    "    \n",
    "    if i >= plotted:\n",
    "        ax.remove()\n",
    "        \n",
    "plt.savefig('bgs_sdss_desi.png')"
   ]
  },
  {
   "cell_type": "markdown",
   "metadata": {},
   "source": [
    "##  Bad SDSS target. "
   ]
  },
  {
   "cell_type": "code",
   "execution_count": null,
   "metadata": {},
   "outputs": [],
   "source": [
    "nspec       = 129\n",
    "fig, axes   = plt.subplots(nspec, figsize=(20, 5 * nspec))\n",
    "\n",
    "plotted     = 0\n",
    "\n",
    "btids       = [35185754749535144]\n",
    "\n",
    "for i in range(nspec):\n",
    "  tid       = szbest_matches['TARGETID'][i]\n",
    "\n",
    "  plotted   = sdss_compare(i, plotted, axes[plotted], szbest_matches, sflux_matches, scoadd_matches, sdss_waves, sdss_bspecs,sdss_matches, \\\n",
    "                           plot_redrock=True, plot_sdss=True, plot_desi=True, btids=btids)  \n",
    "    \n",
    "for i, ax in enumerate(fig.get_axes()):\n",
    "    ax.set_xlim(3500., 9500.)    \n",
    "    ax.set_ylim(0., 180.)\n",
    "    \n",
    "    if i >= plotted:\n",
    "        ax.remove()\n",
    "    \n",
    "plt.savefig('bad_sdssid.pdf')"
   ]
  },
  {
   "cell_type": "code",
   "execution_count": null,
   "metadata": {},
   "outputs": [],
   "source": [
    "def gama_compare(i, plotted, ax, zbests, coadds_flux, coadds, spec_matches, plot_redrock=True, plot_desi=False, btids=[], gmags=None, rmags=None, zmags=None):\n",
    "    zbest    = Table(zbests)[i]\n",
    "\n",
    "    z        = zbest['Z']\n",
    "    zerr     = zbest['ZERR']\n",
    "    dchi2    = zbest['DELTACHI2']\n",
    "    zwarn    = zbest['ZWARN']\n",
    "    targetid = zbest['TARGETID']\n",
    "    spectype = zbest['SPECTYPE'].strip()\n",
    "    subtype  = zbest['SUBTYPE'].strip()\n",
    "\n",
    "    fulltype = (spectype, subtype)\n",
    "\n",
    "    ncoeff   = templates[fulltype].flux.shape[0]\n",
    "    coeff    = zbest['COEFF'][0:ncoeff]\n",
    "\n",
    "    tflux    = templates[fulltype].flux.T.dot(coeff)\n",
    "    twave    = templates[fulltype].wave * (1. + z)\n",
    "\n",
    "    if (len(btids) > 0) & (targetid not in btids):\n",
    "      return  plotted\n",
    "\n",
    "    if plot_desi:  \n",
    "      ax.plot(wave, coadds_flux[i,:], lw=1.0, label='{}, z: {} +- {} (ZWARN == {}, SPECTYPE={}, SUBTYPE={}, $\\Delta \\chi^2$ = {}, $grz$:  {:.1f}, {:.1f}, {:.1f})'.format(zbests['TARGETID'][i], z, zerr, zwarn, spectype, subtype, dchi2, gmags[plotted], rmags[plotted], zmags[plotted]), c='r')\n",
    "            \n",
    "    if plot_redrock:\n",
    "      ax.plot(wave, resample_flux(wave, twave, tflux), lw=1.0, c='gold', label='redrock.')\n",
    "\n",
    "    ax.set_title('BAD GAMA Z: {}'.format(spec_matches['Z'][i]))\n",
    "    \n",
    "    plotted += 1\n",
    "        \n",
    "    ax.legend(loc=2, frameon=False)\n",
    "    \n",
    "    return  plotted"
   ]
  },
  {
   "cell_type": "markdown",
   "metadata": {},
   "source": [
    "##  BAD GAMA targets."
   ]
  },
  {
   "cell_type": "code",
   "execution_count": null,
   "metadata": {},
   "outputs": [],
   "source": [
    "btids          = [35185754749537153, 35185760747391658, 35185760747392924, 35185766787188134]\n",
    "\n",
    "isin           = [x in btids for x in gzbest_matches['TARGETID']]\n",
    "\n",
    "gzbest_matches =  gzbest_matches[isin]\n",
    "gflux_matches  =  gflux_matches[isin]\n",
    "gcoadd_matches =  gcoadd_matches[isin]"
   ]
  },
  {
   "cell_type": "code",
   "execution_count": null,
   "metadata": {},
   "outputs": [],
   "source": [
    "def flux2mag(flux) :\n",
    "    mag = -2.5*np.log10(flux*(flux>0) + 0.001*(flux<=0)) + 22.5\n",
    "    mag[(flux<=0)] = 0.\n",
    "    return mag"
   ]
  },
  {
   "cell_type": "code",
   "execution_count": null,
   "metadata": {},
   "outputs": [],
   "source": [
    "gcoadd_matches"
   ]
  },
  {
   "cell_type": "code",
   "execution_count": null,
   "metadata": {},
   "outputs": [],
   "source": [
    "nspec       = 4\n",
    "fig, axes   = plt.subplots(nspec, figsize=(20, 20))\n",
    "\n",
    "plotted     = 0\n",
    "\n",
    "gmags, rmags, zmags = flux2mag(gcoadd_matches['FLUX_G']), flux2mag(gcoadd_matches['FLUX_R']), flux2mag(gcoadd_matches['FLUX_Z'])\n",
    "\n",
    "for i in range(nspec):\n",
    "  tid       = gzbest_matches['TARGETID'][i]\n",
    "\n",
    "  plotted   = gama_compare(i, plotted, axes[plotted], gzbest_matches, gflux_matches, gcoadd_matches, gama_matches,\\\n",
    "                           plot_redrock=True, plot_desi=True, btids=btids, gmags=gmags, rmags=rmags, zmags=zmags)  \n",
    "    \n",
    "for i, ax in enumerate(fig.get_axes()):\n",
    "    ax.set_xlim(3500., 9500.)    \n",
    "    # ax.set_ylim(-20., 50.)\n",
    "    \n",
    "    if i >= plotted:\n",
    "        ax.remove()\n",
    "    \n",
    "plt.savefig('bad_gamaid.pdf')"
   ]
  },
  {
   "cell_type": "code",
   "execution_count": null,
   "metadata": {},
   "outputs": [],
   "source": [
    "def band_fluxes(wave, flux, dmask, wmin=3802., wmax=9212.):\n",
    "    dwave = np.gradient(wave)\n",
    "    \n",
    "    bmask = ((wave < bandpasses['b'][0]) | (wave > bandpasses['b'][1])) & dmask.astype(bool) & (wave < wmin) & (wave > wmax)\n",
    "    rmask = ((wave < bandpasses['r'][0]) | (wave > bandpasses['r'][1])) & dmask.astype(bool) & (wave < wmin) & (wave > wmax)\n",
    "    zmask = ((wave < bandpasses['z'][0]) | (wave > bandpasses['z'][1])) & dmask.astype(bool) & (wave < wmin) & (wave > wmax)\n",
    "    \n",
    "    # print(np.count_nonzero(bmask))\n",
    "        \n",
    "    return  np.sum(flux[~bmask] * dwave[~bmask]), np.sum(flux[~rmask] * dwave[~rmask]), np.sum(flux[~zmask] * dwave[~zmask])"
   ]
  },
  {
   "cell_type": "code",
   "execution_count": null,
   "metadata": {},
   "outputs": [],
   "source": [
    "sbandpass_fluxes = [] \n",
    "\n",
    "for i, _ in enumerate(sdss_waves):\n",
    "    if _ is not None:\n",
    "      b,r,z = band_fluxes(sdss_waves[i], sdss_bspecs[i], sdss_bmasks[i])\n",
    "    \n",
    "      sbandpass_fluxes.append([b, r, z])\n",
    "        \n",
    "    else:\n",
    "      sbandpass_fluxes.append([-99., -99., -99.])\n",
    "        \n",
    "sbandpass_fluxes = np.array(sbandpass_fluxes)"
   ]
  },
  {
   "cell_type": "code",
   "execution_count": null,
   "metadata": {},
   "outputs": [],
   "source": [
    "bandpass_fluxes = [] \n",
    "\n",
    "for i, _ in enumerate(sflux_matches):\n",
    "    if _ is not None:\n",
    "      b,r,z = band_fluxes(wave, sflux_matches[i], smask_matches[i])\n",
    "    \n",
    "      bandpass_fluxes.append([b, r, z])\n",
    "        \n",
    "    else:\n",
    "      bandpass_fluxes.append([-99., -99., -99.])\n",
    "        \n",
    "bandpass_fluxes = np.array(bandpass_fluxes)"
   ]
  },
  {
   "cell_type": "code",
   "execution_count": null,
   "metadata": {},
   "outputs": [],
   "source": [
    "# sdss_waves[0].min(), sdss_waves[0].max(), wave.min(), wave.max()"
   ]
  },
  {
   "cell_type": "code",
   "execution_count": null,
   "metadata": {},
   "outputs": [],
   "source": [
    "# bandpass_fluxes\n",
    "# sbandpass_fluxes"
   ]
  },
  {
   "cell_type": "code",
   "execution_count": null,
   "metadata": {},
   "outputs": [],
   "source": [
    "plt.rcParams['figure.figsize'] = [10, 10]\n",
    "\n",
    "_ = np.logspace(3, 6, 100)\n",
    "\n",
    "pl.loglog(_, _, c='k', alpha=0.3, lw=0.5)\n",
    "\n",
    "pl.loglog(sbandpass_fluxes[:,0], bandpass_fluxes[:,0], marker='.', lw=0, c='b', markersize=2, label='[4000, 5800]')\n",
    "pl.loglog(sbandpass_fluxes[:,1], bandpass_fluxes[:,1], marker='.', lw=0, c='r', markersize=2, label='[5800, 7600]')\n",
    "pl.loglog(sbandpass_fluxes[:,2], bandpass_fluxes[:,2], marker='.', lw=0, c='g', markersize=2, label='[7600, 9800]')\n",
    "\n",
    "pl.xlim(left=3.e3)\n",
    "pl.ylim(bottom=1.e4)\n",
    "\n",
    "pl.legend(loc=2, frameon=False, fontsize=14)\n",
    "\n",
    "pl.xlabel('SDSS integrated band flux', fontsize=14)\n",
    "pl.ylabel('DESI integrated band flux', fontsize=14)"
   ]
  },
  {
   "cell_type": "code",
   "execution_count": null,
   "metadata": {},
   "outputs": [],
   "source": [
    "def sdss_compare_lines(i, j, plotted, ax, line, name, zbests, coadds_flux, coadds, sdss_wave, sdss_flux, plot_sdss=True, plot_redrock=True, plot_desi=False, yscale=False):\n",
    "    zbest    = Table(zbests)[i]\n",
    "\n",
    "    z        = zbest['Z']\n",
    "    zerr     = zbest['ZERR']\n",
    "    dchi2    = zbest['DELTACHI2']\n",
    "    zwarn    = zbest['ZWARN']\n",
    "    targetid = zbest['TARGETID']\n",
    "    spectype = zbest['SPECTYPE'].strip()\n",
    "    subtype  = zbest['SUBTYPE'].strip()\n",
    "\n",
    "    fulltype = (spectype, subtype)\n",
    "\n",
    "    line    *= (1. + z)\n",
    "    \n",
    "    ncoeff   = templates[fulltype].flux.shape[0]\n",
    "    coeff    = zbest['COEFF'][0:ncoeff]\n",
    "\n",
    "    tflux    = templates[fulltype].flux.T.dot(coeff)\n",
    "    twave    = templates[fulltype].wave * (1. + z)\n",
    "    \n",
    "    if sdss_wave[i] is not None:\n",
    "      norm   = np.mean(resample_flux(sdss_wave[i], twave, tflux)[(sdss_wave[i] > 0.95 * line) & (sdss_wave[i] < 1.05 * line)] )\n",
    "  \n",
    "      if plot_sdss:\n",
    "        toplot = sdss_flux[i]\n",
    "        ax.plot(sdss_wave[i], toplot, label='{}; Petal {}; Device Loc. {}.'.format(zbests['TARGETID'][i], coadds['PETAL_LOC'][i], coadds['DEVICE_LOC'][i]))\n",
    "    \n",
    "      if plot_desi:\n",
    "        toplot = coadds_flux[i,:]\n",
    "        ax.plot(wave, toplot, lw=1.0, label='{}'.format(zbests['TARGETID'][i]), c='k')\n",
    "    \n",
    "      if plot_redrock:            \n",
    "        toplot = resample_flux(sdss_wave[i], twave, tflux)\n",
    "        ax.plot(sdss_wave[i], toplot, lw=1.0, c='gold', label='redrock')\n",
    "\n",
    "      if j == 0:\n",
    "        plotted += 1\n",
    "        \n",
    "      ax.legend(loc=2, frameon=False)\n",
    "    \n",
    "      # ax.axhline(y=norm, xmin=0., xmax=1., c='w', lw=4)\n",
    "\n",
    "      if yscale:\n",
    "        try:\n",
    "          ax.set_ylim(0.05 * norm, 2.50 * norm)\n",
    " \n",
    "        except:\n",
    "          print('Failed to scale to {}'.format(norm))\n",
    "        \n",
    "      ax.set_xlim(0.95 * line, 1.05 * line)\n",
    "      ax.set_title(name)\n",
    "    \n",
    "    return  plotted"
   ]
  },
  {
   "cell_type": "markdown",
   "metadata": {},
   "source": [
    "##  Emission lines "
   ]
  },
  {
   "cell_type": "raw",
   "metadata": {},
   "source": [
    "nlines      =   5\n",
    "nspec       = 129\n",
    "\n",
    "fig, axes   = plt.subplots(nspec, nlines, figsize=(20, nspec * 5))\n",
    "\n",
    "plotted     = 0\n",
    "\n",
    "for i in range(nspec):\n",
    "  # https://www.aanda.org/articles/aa/pdf/2016/06/aa27836-15.pdf\n",
    "  for j, (line, name) in enumerate(zip([3728.73, 4861.32, 5006.70, 6560.0, 6716.31], ['OII', r'H$\\beta$', 'OIII', r'H$\\alpha$', 'SII'])):    \n",
    "    plotted = sdss_compare_lines(i, j, plotted, axes[plotted][j], line, name, szbest_matches, sflux_matches, scoadd_matches, sdss_waves, sdss_bspecs,\\\n",
    "                           plot_redrock=True, plot_sdss=False, plot_desi=True)\n",
    "    \n",
    "for i in range(nspec):\n",
    "  for j in range(5):\n",
    "    axes[i][j].label_outer()\n",
    "    \n",
    "    if i >= plotted:\n",
    "        axes[i][j].remove()\n",
    "    \n",
    "plt.savefig('bgs_sdss_desi_em.png')"
   ]
  },
  {
   "cell_type": "markdown",
   "metadata": {},
   "source": [
    "##  Absorption lines"
   ]
  },
  {
   "cell_type": "raw",
   "metadata": {},
   "source": [
    "nlines      = 5\n",
    "nspec       = 129\n",
    "\n",
    "fig, axes   = plt.subplots(nspec, nlines, figsize=(20, nspec * 5))\n",
    "\n",
    "plotted     = 0\n",
    "\n",
    "for i in range(nspec):\n",
    "  # http://classic.sdss.org/dr6/algorithms/linestable.html\n",
    "  for j, (line, name) in enumerate(zip([3934.777, 3969.588, 5176.7, 5895.6, 8544.44], ['K', 'H', 'Mg', 'Na', 'CaII'])):    \n",
    "    plotted = sdss_compare_lines(i, j, plotted, axes[plotted][j], line, name, szbest_matches, sflux_matches, scoadd_matches, sdss_waves, sdss_bspecs,\\\n",
    "                           plot_redrock=True, plot_sdss=False, plot_desi=True, yscale=True)\n",
    "    \n",
    "for i in range(nspec):\n",
    "  for j in range(5):\n",
    "    axes[i][j].label_outer()\n",
    "    \n",
    "    if i >= plotted:\n",
    "        axes[i][j].remove()\n",
    "    \n",
    "plt.savefig('bgs_sdss_desi_abs.png')"
   ]
  },
  {
   "cell_type": "markdown",
   "metadata": {},
   "source": [
    "##  Done."
   ]
  }
 ],
 "metadata": {
  "kernelspec": {
   "display_name": "DESI master",
   "language": "python",
   "name": "desi-master"
  },
  "language_info": {
   "codemirror_mode": {
    "name": "ipython",
    "version": 3
   },
   "file_extension": ".py",
   "mimetype": "text/x-python",
   "name": "python",
   "nbconvert_exporter": "python",
   "pygments_lexer": "ipython3",
   "version": "3.6.6"
  }
 },
 "nbformat": 4,
 "nbformat_minor": 4
}
